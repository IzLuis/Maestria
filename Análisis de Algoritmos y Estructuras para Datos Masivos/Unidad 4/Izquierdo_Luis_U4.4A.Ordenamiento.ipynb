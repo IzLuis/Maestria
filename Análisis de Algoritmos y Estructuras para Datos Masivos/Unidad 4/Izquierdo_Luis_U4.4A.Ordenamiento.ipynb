{
 "cells": [
  {
   "cell_type": "markdown",
   "metadata": {},
   "source": [
    "# Unidad 4 - Actividad 1\n",
    "# Materia: **Análisis de Algoritmos y Estructuras para Datos Masivos**\n",
    "# Alumno: **Luis Fernando Izquierdo Berdugo**\n",
    "# Fecha: **4 de Septiembre de 2024**"
   ]
  },
  {
   "cell_type": "markdown",
   "metadata": {},
   "source": [
    "### Objetivo \n",
    "Esta actividad se enfoca en la implementación y explicación de cuatro algoritmos de ordenamiento fundamentales: bubble-sort, insertion-sort, merge-sort y quick-sort. Se requiere que cada algoritmo sea programado y detalladamente explicado en términos de su funcionamiento y lógica.\n",
    "\n",
    "### Implemente y explique los siguientes algoritmos:\n",
    "- Bubble-Sort\n",
    "- Insertion-Sort\n",
    "- Merge-Sort\n",
    "- Quick-Sort\n",
    "\n",
    "Cada explicación debe abordar cómo funciona el algoritmo y cuáles son sus características principales.\n",
    "\n",
    "### Experimentación con Datos Perturbados\n",
    "Utilice los archivos `unsorted-list-p=*.json`, basados en el archivo `listas-posteo-100.json` alterado en proporciones de $p=0.01,0.03,0.1,0.3$. Siga el procedimiento en el notebook `perturbar-listas.ipynb` para la perturbación. Puede usar sus propias listas de posteo perturbadas, siempre que sean comparables en tamaño.\n",
    "\n",
    "### Análisis de Resultados:\n",
    "\n",
    "- Realice experimentos ordenando las listas con cada algoritmo y para cada valor de p.\n",
    "- **Grafique el número de comparaciones necesarias por algoritmo**: Elabore un solo gráfico que compare el número de comparaciones realizadas por cada algoritmo. Analice los resultados en relación a la teoría, explicando si los resultados coinciden o discrepan de lo esperado y por qué.\n",
    "- **Grafique el tiempo en segundos requerido por algoritmo**: Prepare un solo gráfico que muestre el tiempo necesario para ordenar las listas por cada algoritmo. Realice un análisis detallado de estos tiempos, discutiendo si concuerdan o difieren de las expectativas teóricas y las posibles razones de estas diferencias.\n",
    "- **Presentación de Resultados**: Los resultados deben ser presentados en una tabla agregada para facilitar la comparación y el análisis.\n",
    "\n",
    "**Nota 1**: Recuerde copiar o cargar cada lista para evitar ordenar conjuntos completamente ordenados.\n",
    "\n",
    "**Nota 2**: Repita varias veces las operaciones de ordenamiento, esto es muy importante sobre para la estabilidad de los tiempos en segundos (vea Nota 1).\n",
    "\n",
    "**Nota 3**: En las implementaciones podrá usar cualquier comparación que le convenga, i.e., $<$, $\\le$, $cmp$ -> {-1, 0, 1}, etc.\n",
    "\n",
    "**Nota 4**: Tome en cuenta que varios lenguajes de programación (Python y Julia) hacen copias de los arreglos cuando se usa slicing, i.e., `arr[i:j]` creará un nuevo arreglo y eso implica costos adicionales innecesarios:\n",
    "\n",
    "- Para Python: use índices o arreglos de numpy. Adicionalmente, asegurese que los arreglos contienen datos nativos y no sean objetos."
   ]
  },
  {
   "cell_type": "markdown",
   "metadata": {},
   "source": [
    "## Inciso 1 - Implementación de los algoritmos de ordenamiento"
   ]
  },
  {
   "cell_type": "markdown",
   "metadata": {},
   "source": [
    "## Bubble Sort\n",
    "\n",
    "El algoritmo de ordenamiento conocido como \"Bubble Sort\" se basa en el ordenamiento de pares de  elementos adyacentes en una lista. Revisa los pares y, si están en el orden incorrecto, les intercambia de lugar, lo cual se repite hasta que la lista está correctamente ordenada.\n",
    "\n",
    "A pesar de que este algoritmo es el más sencillo de implementar, es ineficiente para listas de un tamaño mayor, teniendo una complejidad temporal de **$O(n^2)$**.\n",
    "\n",
    "En la función para el bubble sort, se tomará de entrada la lista que se desea ordenar y se guardará en una variable la longitud de la misma.\n",
    "\n",
    "Se hará un recorrido por todos los elementos de un arreglo y se declarará falso una variable que indica si se cambió de lugar el elemento a analizar.\n",
    "\n",
    "Dentro de este recorrido, por el arreglo de nuevo, esta vez siendo de 0 a la longitud de la lista, menos el valor i, menos 1. Esto debido a que el último elemento del valor i ya está en su lugar.\n",
    "Si el valor encontrado es mayor que el siguiente elemento, se cambia de lugar. En caso de que no se cambien de lugar, se rompe el loop más interno y se pasa al siguiente elemento de la lista, ya que el valor actual ya está en su lugar."
   ]
  },
  {
   "cell_type": "code",
   "execution_count": 2,
   "metadata": {},
   "outputs": [],
   "source": [
    "import copy\n",
    "def bubbleSort(lista):\n",
    "  ordenamiento = copy.deepcopy(lista)\n",
    "  n = len(ordenamiento)\n",
    "\n",
    "  # Se recorren todos los elementos de la lista\n",
    "  for i in range(n):\n",
    "    swapped = False\n",
    "\n",
    "    # El último elemento de i ya están en su lugar\n",
    "    for j in range(0, n-i-1):\n",
    "\n",
    "      # Se cambia si el elemento j es más grande que el siguiente elemento\n",
    "      \n",
    "      #print(f\"Comparando los elementos: {lista[j]} y {lista[j+1]}\")\n",
    "      if ordenamiento[j] > ordenamiento[j+1] :\n",
    "        ordenamiento[j], ordenamiento[j+1] = ordenamiento[j+1], ordenamiento[j]\n",
    "        swapped = True\n",
    "\n",
    "    # Si no hubo cambio, se rompe el loop interno\n",
    "    if swapped == False:\n",
    "      break\n",
    "    \n",
    "  return ordenamiento"
   ]
  },
  {
   "cell_type": "code",
   "execution_count": 3,
   "metadata": {},
   "outputs": [
    {
     "name": "stdout",
     "output_type": "stream",
     "text": [
      "Lista desordenada: [1, 2, 15, 6, 9, 4, 7, 5, 8, 12, 63, 87, 56, 73]\n",
      "Lista ordenada: [1, 2, 4, 5, 6, 7, 8, 9, 12, 15, 56, 63, 73, 87]\n"
     ]
    }
   ],
   "source": [
    "lista = [1,2,15,6,9,4,7,5,8,12,63,87,56,73]\n",
    "ordenada = bubbleSort(lista)\n",
    "print(\"Lista desordenada:\", lista)\n",
    "print(\"Lista ordenada:\", ordenada)"
   ]
  },
  {
   "cell_type": "markdown",
   "metadata": {},
   "source": [
    "## Insertion Sort\n",
    "\n",
    "El algoritmo de inserción compara los elementos con el inmediato anterior e intercambia sus lugares si el anterior es mayor (o se repite hasta que alcance el principio de la lista o encuentre uno mayor).\n",
    "\n",
    "Este algoritmo es simple de implementar y es eficiente para listas pequeñas o aquellas que estén casi ordenadas. Su complejidad temporal es cuadrática **$O(n^2$)**\n",
    "\n",
    "La función toma como parámetro la lista a ordenar. Lo primero que esta función hará será recorrer la lista desde el segundo elemento hasta el final (longitud de la lista), ya que se considera que el primer elemento ya está ubicado correctamente.\n",
    "\n",
    "Guarda en la variable `key`el valor actual que se insertará y compara el valor de `key` con los elementos a su izquierda, hasta que está en su posición correcta y lo inserta en la tabla."
   ]
  },
  {
   "cell_type": "code",
   "execution_count": 4,
   "metadata": {},
   "outputs": [],
   "source": [
    "def insertionSort(lista):\n",
    "  ordenamiento = copy.deepcopy(lista)\n",
    "  #Se recorre del segundo elemento de la lista hasta el final.\n",
    "  for i in range(1, len(ordenamiento)):\n",
    "    #Se guarda el valor actual a insertar\n",
    "    key = ordenamiento[i]\n",
    "    j = i-1\n",
    "    #Se compara el valor de key con los elementos a su izquierda \n",
    "    # hasta que encuentre su posición correcta y lo inserta.\n",
    "    while j >= 0 and key < ordenamiento[j]:\n",
    "        ordenamiento[j+1] = ordenamiento[j]\n",
    "        j -= 1\n",
    "    ordenamiento[j+1] = key\n",
    "  return ordenamiento"
   ]
  },
  {
   "cell_type": "code",
   "execution_count": 5,
   "metadata": {},
   "outputs": [
    {
     "name": "stdout",
     "output_type": "stream",
     "text": [
      "Lista desordenada: [73, 99, 6, 9, 4, 7, 5, 8, 12, 63, 87, 56]\n",
      "Lista ordenada: [4, 5, 6, 7, 8, 9, 12, 56, 63, 73, 87, 99]\n"
     ]
    }
   ],
   "source": [
    "lista = [73,99,6,9,4,7,5,8,12,63,87,56]\n",
    "ordenada = insertionSort(lista)\n",
    "print(\"Lista desordenada:\", lista)\n",
    "print(\"Lista ordenada:\", ordenada )"
   ]
  },
  {
   "cell_type": "markdown",
   "metadata": {},
   "source": [
    "## Merge-sort\n",
    "\n",
    "Como destacan varias bibliografías, el algoritmo merge-sort utiiza el método de \"divide y conquista\". En cada iteración ordena un arreglo `A[p:r]`, iniciando por el arreglo entero `A[1:n]` y volviéndolos arreglos cada vez más pequeños.\n",
    "\n",
    "Se divide el arreglo `A[p:r]` para que se ordene en dos arreglos adyacentes, cada uno con la mitad del tamaño, quedando los arreglos `A[p:q]` y `A[q+1:r]`. De ahí, ambos lados se ordenarán haciendo dividiendose de manera recursiva como se vio anteriormente. Finalmente se combinaran los dos arreglos `A[p:q]` y `A[q+1:r]` en `A[p:r]`, lo cual será nuestra respuesta final.\n",
    "\n",
    "Este algoritmo, a pesar de ser muy eficiente con complejidad temporal **$O(nlogn)$**, puede no ser muy eficiente por el espacio adicional que requiere al generar las nuevas listas cada que parte la lista principal a la mitad.\n",
    "\n",
    "En el caso de este algoritmo de ordenamiento, se crearon dos funciones. La primera es como tal el algoritmo merge-sort, que toma de entrada una lista.\n",
    "\n",
    "Lo primero que se evalúa es si la lista tiene un elemento o menos, en ese caso ya está ordenada y se devuelve la lista. Posteriormente se encuentra la mitad de la lista y se ivide en izquierda o derecha usando la misma función recursivamente. Finalmente se regresa la combinación de ambos lados por medio de la función `merge`.\n",
    "\n",
    "La función `merge` compara los elementos de las dos listas y los agrega a una lista de resultado"
   ]
  },
  {
   "cell_type": "code",
   "execution_count": 6,
   "metadata": {},
   "outputs": [],
   "source": [
    "def mergeSort(lista):\n",
    "    ordenamiento = copy.deepcopy(lista)\n",
    "    if len(ordenamiento) <= 1:\n",
    "        return ordenamiento\n",
    "\n",
    "    medio = len(ordenamiento) // 2\n",
    "    izquierda = mergeSort(ordenamiento[:medio])\n",
    "    derecha = mergeSort(ordenamiento[medio:])\n",
    "    return merge(izquierda, derecha)\n",
    "\n",
    "def merge(izquierda, derecha):\n",
    "    resultado = []\n",
    "    i = j = 0\n",
    "\n",
    "    while i < len(izquierda) and j < len(derecha):\n",
    "        if izquierda[i] <= derecha[j]:\n",
    "            resultado.append(izquierda[i])\n",
    "            i += 1\n",
    "        else:\n",
    "            resultado.append(derecha[j])\n",
    "            j += 1\n",
    "\n",
    "    # Agregar los elementos restantes (si los hay)\n",
    "    resultado.extend(izquierda[i:])\n",
    "    resultado.extend(derecha[j:])\n",
    "    return resultado"
   ]
  },
  {
   "cell_type": "code",
   "execution_count": 7,
   "metadata": {},
   "outputs": [
    {
     "name": "stdout",
     "output_type": "stream",
     "text": [
      "Lista desordenada: [73, 99, 6, 9, 4, 7, 5, 8, 12, 63, 87, 56]\n",
      "Lista ordenada: [4, 5, 6, 7, 8, 9, 12, 56, 63, 73, 87, 99]\n"
     ]
    }
   ],
   "source": [
    "lista = [73,99,6,9,4,7,5,8,12,63,87,56]\n",
    "lista_ordenada = mergeSort(lista)\n",
    "print(\"Lista desordenada:\", lista)\n",
    "print(\"Lista ordenada:\", lista_ordenada)"
   ]
  },
  {
   "cell_type": "markdown",
   "metadata": {},
   "source": [
    "## Quick Sort\n",
    "\n",
    "Este algoritmo toma un elemento \"pivote\" y crea dos arreglos, aquellos menores al elemento pivote y los mayores a este elemento, también ordena recursivamente estos arreglos.\n",
    "\n",
    "Este algoritmo es muy eficiente para listas grandes, teniendo una cumplejidad temporal de **$O(n log n)$**.\n",
    "\n",
    "La función creada para el algoritmo quick-sort toma de entrada la lista y revisa si ya está ordenada (cuando tiene un elemento o menos), en caso contrario declara el primer elemento de la lista como pivote y crea las dos lista de menores y mayores.\n",
    "\n",
    "Finalmente devuelve la lista como el arreglo de la función `quick_sort` para la lista de elementos menores al pivote, el pivote y la misma función para la lista de elementos mayores al pivote."
   ]
  },
  {
   "cell_type": "code",
   "execution_count": 54,
   "metadata": {},
   "outputs": [],
   "source": [
    "import random\n",
    "def quickSort(arr):\n",
    "    def partition(arr, low, high):\n",
    "        # Elige un pivote aleatorio para mejorar el balance\n",
    "        pivot = random.randint(low, high)\n",
    "        arr[pivot], arr[high] = arr[high], arr[pivot]\n",
    "        i = low - 1\n",
    "        for j in range(low, high):\n",
    "            if arr[j] <= arr[high]:\n",
    "                i += 1\n",
    "                arr[i], arr[j] = arr[j], arr[i]\n",
    "        arr[i + 1], arr[high] = arr[high], arr[i + 1]\n",
    "        return i + 1\n",
    "\n",
    "    def quick_sort_helper(arr, low, high):\n",
    "        if low < high:\n",
    "            pi = partition(arr, low, high)\n",
    "            quick_sort_helper(arr, low, pi - 1)\n",
    "            quick_sort_helper(arr, pi + 1, high)\n",
    "\n",
    "    quick_sort_helper(arr, 0, len(arr) - 1)\n",
    "    return arr"
   ]
  },
  {
   "cell_type": "code",
   "execution_count": 53,
   "metadata": {},
   "outputs": [
    {
     "name": "stdout",
     "output_type": "stream",
     "text": [
      "Lista desordenada: [73, 99, 6, 9, 4, 7, 5, 8, 12, 63, 87, 56]\n",
      "Lista ordenada: [4, 5, 6, 7, 8, 9, 12, 56, 63, 73, 87, 99]\n"
     ]
    }
   ],
   "source": [
    "lista = [73,99,6,9,4,7,5,8,12,63,87,56]\n",
    "lista_ordenada = quickSort(lista.copy())\n",
    "print(\"Lista desordenada:\", lista)\n",
    "print(\"Lista ordenada:\", lista_ordenada)"
   ]
  },
  {
   "cell_type": "markdown",
   "metadata": {},
   "source": [
    "## Inciso 2 - Experimentación con Datos Perturbados"
   ]
  },
  {
   "cell_type": "code",
   "execution_count": 10,
   "metadata": {},
   "outputs": [],
   "source": [
    "import json\n",
    "import numpy as np\n",
    "\n",
    "\n",
    "def openLists(route):\n",
    "    val = {}\n",
    "    with open(f'{route}') as file:\n",
    "        for line in file:\n",
    "            data = json.loads(line)\n",
    "            key, values = data\n",
    "            val[key] = np.array(values)\n",
    "        return val\n",
    "    \n",
    "p01 = openLists('unidad04/unsorted-list-p=0.01.json')\n",
    "p03 = openLists('unidad04/unsorted-list-p=0.03.json')\n",
    "p10 = openLists('unidad04/unsorted-list-p=0.10.json')\n",
    "p30 = openLists('unidad04/unsorted-list-p=0.30.json')\n"
   ]
  },
  {
   "cell_type": "code",
   "execution_count": 11,
   "metadata": {},
   "outputs": [],
   "source": [
    "import time\n",
    "\n",
    "def getTime(funcion_ordenamiento, lista):\n",
    "  itTimes = []\n",
    "  for lista in lista.values():\n",
    "    inicio = time.process_time()\n",
    "    ordenada = funcion_ordenamiento(lista)\n",
    "    fin = time.process_time()\n",
    "    total = fin - inicio\n",
    "    itTimes.append(total)\n",
    "  promedio = sum(itTimes)/len(itTimes)\n",
    "  return promedio, ordenada"
   ]
  },
  {
   "cell_type": "code",
   "execution_count": 58,
   "metadata": {},
   "outputs": [
    {
     "name": "stdout",
     "output_type": "stream",
     "text": [
      "Proporción p = 0.01\n",
      "Tiempo de ejecución promedio de Bubble Sort: 0.00068 segundos\n",
      "Tiempo de ejecución promedio de Insertion Sort: 0.00094 segundos\n",
      "Tiempo de ejecución promedio de Merge Sort: 0.01428 segundos\n",
      "Tiempo de ejecución promedio de Bubble Sort: 0.01678 segundos\n"
     ]
    }
   ],
   "source": [
    "print(\"Proporción p = 0.01\")\n",
    "tiempoB1, ordenada = getTime(bubbleSort, p01)\n",
    "print(f\"Tiempo de ejecución promedio de Bubble Sort: {tiempoB1:.5f} segundos\")\n",
    "tiempoI1, ordenada = getTime(insertionSort, p01)\n",
    "print(f\"Tiempo de ejecución promedio de Insertion Sort: {tiempoI1:.5f} segundos\")\n",
    "tiempoM1, ordenada = getTime(mergeSort, p01)\n",
    "print(f\"Tiempo de ejecución promedio de Merge Sort: {tiempoM1:.5f} segundos\")\n",
    "tiempoQ1, ordenada = getTime(quickSort, p01.copy())\n",
    "print(f\"Tiempo de ejecución promedio de Bubble Sort: {tiempoQ1:.5f} segundos\")"
   ]
  },
  {
   "cell_type": "code",
   "execution_count": 59,
   "metadata": {},
   "outputs": [
    {
     "name": "stdout",
     "output_type": "stream",
     "text": [
      "Proporción p = 0.03\n",
      "Tiempo de ejecución promedio de Bubble Sort: 0.00172 segundos\n",
      "Tiempo de ejecución promedio de Insertion Sort: 0.00101 segundos\n",
      "Tiempo de ejecución promedio de Merge Sort: 0.01541 segundos\n",
      "Tiempo de ejecución promedio de Bubble Sort: 0.01695 segundos\n"
     ]
    }
   ],
   "source": [
    "print(\"Proporción p = 0.03\")\n",
    "tiempoB2, ordenada = getTime(bubbleSort, p03)\n",
    "print(f\"Tiempo de ejecución promedio de Bubble Sort: {tiempoB2:.5f} segundos\")\n",
    "tiempoI2, ordenada = getTime(insertionSort, p03)\n",
    "print(f\"Tiempo de ejecución promedio de Insertion Sort: {tiempoI2:.5f} segundos\")\n",
    "tiempoM2, ordenada = getTime(mergeSort, p03)\n",
    "print(f\"Tiempo de ejecución promedio de Merge Sort: {tiempoM2:.5f} segundos\")\n",
    "tiempoQ2, ordenada = getTime(quickSort, p03.copy())\n",
    "print(f\"Tiempo de ejecución promedio de Bubble Sort: {tiempoQ2:.5f} segundos\")"
   ]
  },
  {
   "cell_type": "code",
   "execution_count": 60,
   "metadata": {},
   "outputs": [
    {
     "name": "stdout",
     "output_type": "stream",
     "text": [
      "Proporción p = 0.10\n",
      "Tiempo de ejecución promedio de Bubble Sort: 0.00202 segundos\n",
      "Tiempo de ejecución promedio de Insertion Sort: 0.00102 segundos\n",
      "Tiempo de ejecución promedio de Merge Sort: 0.01523 segundos\n",
      "Tiempo de ejecución promedio de Bubble Sort: 0.01758 segundos\n"
     ]
    }
   ],
   "source": [
    "print(\"Proporción p = 0.10\")\n",
    "tiempoB3, ordenada = getTime(bubbleSort, p10)\n",
    "print(f\"Tiempo de ejecución promedio de Bubble Sort: {tiempoB3:.5f} segundos\")\n",
    "tiempoI3, ordenada = getTime(insertionSort, p10)\n",
    "print(f\"Tiempo de ejecución promedio de Insertion Sort: {tiempoI3:.5f} segundos\")\n",
    "tiempoM3, ordenada = getTime(mergeSort, p10)\n",
    "print(f\"Tiempo de ejecución promedio de Merge Sort: {tiempoM3:.5f} segundos\")\n",
    "tiempoQ3, ordenada = getTime(quickSort, p10.copy())\n",
    "print(f\"Tiempo de ejecución promedio de Bubble Sort: {tiempoQ3:.5f} segundos\")"
   ]
  },
  {
   "cell_type": "code",
   "execution_count": 61,
   "metadata": {},
   "outputs": [
    {
     "name": "stdout",
     "output_type": "stream",
     "text": [
      "Proporción p = 0.30\n",
      "Tiempo de ejecución promedio de Bubble Sort: 0.00297 segundos\n",
      "Tiempo de ejecución promedio de Insertion Sort: 0.00119 segundos\n",
      "Tiempo de ejecución promedio de Merge Sort: 0.01546 segundos\n",
      "Tiempo de ejecución promedio de Bubble Sort: 0.01856 segundos\n"
     ]
    }
   ],
   "source": [
    "print(\"Proporción p = 0.30\")\n",
    "tiempoB4, ordenada = getTime(bubbleSort, p30)\n",
    "print(f\"Tiempo de ejecución promedio de Bubble Sort: {tiempoB4:.5f} segundos\")\n",
    "tiempoI4, ordenada = getTime(insertionSort, p30)\n",
    "print(f\"Tiempo de ejecución promedio de Insertion Sort: {tiempoI4:.5f} segundos\")\n",
    "tiempoM4, ordenada = getTime(mergeSort, p30)\n",
    "print(f\"Tiempo de ejecución promedio de Merge Sort: {tiempoM4:.5f} segundos\")\n",
    "tiempoQ4, ordenada = getTime(quickSort, p30.copy())\n",
    "print(f\"Tiempo de ejecución promedio de Bubble Sort: {tiempoQ4:.5f} segundos\")"
   ]
  }
 ],
 "metadata": {
  "kernelspec": {
   "display_name": "Python 3",
   "language": "python",
   "name": "python3"
  },
  "language_info": {
   "codemirror_mode": {
    "name": "ipython",
    "version": 3
   },
   "file_extension": ".py",
   "mimetype": "text/x-python",
   "name": "python",
   "nbconvert_exporter": "python",
   "pygments_lexer": "ipython3",
   "version": "3.12.1"
  }
 },
 "nbformat": 4,
 "nbformat_minor": 2
}
