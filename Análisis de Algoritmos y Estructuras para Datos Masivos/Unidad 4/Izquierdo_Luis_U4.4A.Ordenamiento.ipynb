{
 "cells": [
  {
   "cell_type": "markdown",
   "metadata": {},
   "source": [
    "# Unidad 4 - Actividad 1\n",
    "# Materia: **Análisis de Algoritmos y Estructuras para Datos Masivos**\n",
    "# Alumno: **Luis Fernando Izquierdo Berdugo**\n",
    "# Fecha: **4 de Septiembre de 2024**"
   ]
  },
  {
   "cell_type": "markdown",
   "metadata": {},
   "source": [
    "### Objetivo \n",
    "Esta actividad se enfoca en la implementación y explicación de cuatro algoritmos de ordenamiento fundamentales: bubble-sort, insertion-sort, merge-sort y quick-sort. Se requiere que cada algoritmo sea programado y detalladamente explicado en términos de su funcionamiento y lógica.\n",
    "\n",
    "### Implemente y explique los siguientes algoritmos:\n",
    "- Bubble-Sort\n",
    "- Insertion-Sort\n",
    "- Merge-Sort\n",
    "- Quick-Sort\n",
    "\n",
    "Cada explicación debe abordar cómo funciona el algoritmo y cuáles son sus características principales.\n",
    "\n",
    "### Experimentación con Datos Perturbados\n",
    "Utilice los archivos `unsorted-list-p=*.json`, basados en el archivo `listas-posteo-100.json` alterado en proporciones de $p=0.01,0.03,0.1,0.3$. Siga el procedimiento en el notebook `perturbar-listas.ipynb` para la perturbación. Puede usar sus propias listas de posteo perturbadas, siempre que sean comparables en tamaño.\n",
    "\n",
    "### Análisis de Resultados:\n",
    "\n",
    "- Realice experimentos ordenando las listas con cada algoritmo y para cada valor de p.\n",
    "- **Grafique el número de comparaciones necesarias por algoritmo**: Elabore un solo gráfico que compare el número de comparaciones realizadas por cada algoritmo. Analice los resultados en relación a la teoría, explicando si los resultados coinciden o discrepan de lo esperado y por qué.\n",
    "- **Grafique el tiempo en segundos requerido por algoritmo**: Prepare un solo gráfico que muestre el tiempo necesario para ordenar las listas por cada algoritmo. Realice un análisis detallado de estos tiempos, discutiendo si concuerdan o difieren de las expectativas teóricas y las posibles razones de estas diferencias.\n",
    "- **Presentación de Resultados**: Los resultados deben ser presentados en una tabla agregada para facilitar la comparación y el análisis.\n",
    "\n",
    "**Nota 1**: Recuerde copiar o cargar cada lista para evitar ordenar conjuntos completamente ordenados.\n",
    "\n",
    "**Nota 2**: Repita varias veces las operaciones de ordenamiento, esto es muy importante sobre para la estabilidad de los tiempos en segundos (vea Nota 1).\n",
    "\n",
    "**Nota 3**: En las implementaciones podrá usar cualquier comparación que le convenga, i.e., $<$, $\\le$, $cmp$ -> {-1, 0, 1}, etc.\n",
    "\n",
    "**Nota 4**: Tome en cuenta que varios lenguajes de programación (Python y Julia) hacen copias de los arreglos cuando se usa slicing, i.e., `arr[i:j]` creará un nuevo arreglo y eso implica costos adicionales innecesarios:\n",
    "\n",
    "- Para Python: use índices o arreglos de numpy. Adicionalmente, asegurese que los arreglos contienen datos nativos y no sean objetos."
   ]
  },
  {
   "cell_type": "markdown",
   "metadata": {},
   "source": [
    "## Inciso 1 - Implementación de los algoritmos de ordenamiento"
   ]
  },
  {
   "cell_type": "markdown",
   "metadata": {},
   "source": [
    "## Bubble Sort\n",
    "\n",
    "El algoritmo de ordenamiento conocido como \"Bubble Sort\" se basa en el ordenamiento de pares de  elementos adyacentes en una lista. Revisa los pares y, si están en el orden incorrecto, les intercambia de lugar, lo cual se repite hasta que la lista está correctamente ordenada.\n",
    "\n",
    "A pesar de que este algoritmo es el más sencillo de implementar, es ineficiente para listas de un tamaño mayor, teniendo una complejidad temporal de **$O(n^2)$**.\n",
    "\n",
    "En la función para el bubble sort, se tomará de entrada la lista que se desea ordenar y se guardará en una variable la longitud de la misma.\n",
    "\n",
    "Se hará un recorrido por todos los elementos de un arreglo y se declarará falso una variable que indica si se cambió de lugar el elemento a analizar.\n",
    "\n",
    "Dentro de este recorrido, por el arreglo de nuevo, esta vez siendo de 0 a la longitud de la lista, menos el valor i, menos 1. Esto debido a que el último elemento del valor i ya está en su lugar.\n",
    "Si el valor encontrado es mayor que el siguiente elemento, se cambia de lugar. En caso de que no se cambien de lugar, se rompe el loop más interno y se pasa al siguiente elemento de la lista, ya que el valor actual ya está en su lugar."
   ]
  },
  {
   "cell_type": "code",
   "execution_count": 52,
   "metadata": {},
   "outputs": [],
   "source": [
    "import copy\n",
    "def bubbleSort(lista):\n",
    "  ordenamiento = copy.deepcopy(lista)\n",
    "  n = len(ordenamiento)\n",
    "  comparaciones = 0\n",
    "\n",
    "  # Se recorren todos los elementos de la lista\n",
    "  for i in range(n):\n",
    "    swapped = False\n",
    "\n",
    "    # El último elemento de i ya están en su lugar\n",
    "    for j in range(0, n-i-1):\n",
    "\n",
    "      # Se cambia si el elemento j es más grande que el siguiente elemento\n",
    "      comparaciones += 1\n",
    "      if ordenamiento[j] > ordenamiento[j+1] :\n",
    "        ordenamiento[j], ordenamiento[j+1] = ordenamiento[j+1], ordenamiento[j]\n",
    "        swapped = True\n",
    "\n",
    "    # Si no hubo cambio, se rompe el loop interno\n",
    "    if swapped == False:\n",
    "      break\n",
    "    \n",
    "  return ordenamiento, comparaciones"
   ]
  },
  {
   "cell_type": "code",
   "execution_count": 53,
   "metadata": {},
   "outputs": [
    {
     "name": "stdout",
     "output_type": "stream",
     "text": [
      "Lista desordenada: [1, 2, 15, 6, 9, 4, 7, 5, 8, 12, 63, 87, 56, 73]\n",
      "Lista ordenada: [1, 2, 4, 5, 6, 7, 8, 9, 12, 15, 56, 63, 73, 87]\n",
      "Comparaciones: 55\n"
     ]
    }
   ],
   "source": [
    "lista = [1,2,15,6,9,4,7,5,8,12,63,87,56,73]\n",
    "bs, bsc = bubbleSort(lista)\n",
    "print(\"Lista desordenada:\", lista)\n",
    "print(\"Lista ordenada:\", bs)\n",
    "print(\"Comparaciones:\", bsc)"
   ]
  },
  {
   "cell_type": "markdown",
   "metadata": {},
   "source": [
    "## Insertion Sort\n",
    "\n",
    "El algoritmo de inserción compara los elementos con el inmediato anterior e intercambia sus lugares si el anterior es mayor (o se repite hasta que alcance el principio de la lista o encuentre uno mayor).\n",
    "\n",
    "Este algoritmo es simple de implementar y es eficiente para listas pequeñas o aquellas que estén casi ordenadas. Su complejidad temporal es cuadrática **$O(n^2$)**\n",
    "\n",
    "La función toma como parámetro la lista a ordenar. Lo primero que esta función hará será recorrer la lista desde el segundo elemento hasta el final (longitud de la lista), ya que se considera que el primer elemento ya está ubicado correctamente.\n",
    "\n",
    "Guarda en la variable `key`el valor actual que se insertará y compara el valor de `key` con los elementos a su izquierda, hasta que está en su posición correcta y lo inserta en la tabla."
   ]
  },
  {
   "cell_type": "code",
   "execution_count": 54,
   "metadata": {},
   "outputs": [],
   "source": [
    "def insertionSort(lista):\n",
    "  ordenamiento = copy.deepcopy(lista)\n",
    "  comparaciones = 0\n",
    "  #Se recorre del segundo elemento de la lista hasta el final.\n",
    "  for i in range(1, len(ordenamiento)):\n",
    "    #Se guarda el valor actual a insertar\n",
    "    key = ordenamiento[i]\n",
    "    j = i-1\n",
    "    #Se compara el valor de key con los elementos a su izquierda \n",
    "    # hasta que encuentre su posición correcta y lo inserta.\n",
    "    while j >= 0 and key < ordenamiento[j]:\n",
    "      ordenamiento[j+1] = ordenamiento[j]\n",
    "      j -= 1\n",
    "      comparaciones += 1\n",
    "    ordenamiento[j+1] = key\n",
    "  return ordenamiento, comparaciones"
   ]
  },
  {
   "cell_type": "code",
   "execution_count": 55,
   "metadata": {},
   "outputs": [
    {
     "name": "stdout",
     "output_type": "stream",
     "text": [
      "Lista desordenada: [73, 99, 6, 9, 4, 7, 5, 8, 12, 63, 87, 56]\n",
      "Lista ordenada: [4, 5, 6, 7, 8, 9, 12, 56, 63, 73, 87, 99]\n",
      "Comparaciones: 28\n"
     ]
    }
   ],
   "source": [
    "lista = [73,99,6,9,4,7,5,8,12,63,87,56]\n",
    "isort, isc = insertionSort(lista.copy())\n",
    "print(\"Lista desordenada:\", lista)\n",
    "print(\"Lista ordenada:\", isort )\n",
    "print(\"Comparaciones:\", isc)"
   ]
  },
  {
   "cell_type": "markdown",
   "metadata": {},
   "source": [
    "## Merge-sort\n",
    "\n",
    "Como destacan varias bibliografías, el algoritmo merge-sort utiiza el método de \"divide y conquista\". En cada iteración ordena un arreglo `A[p:r]`, iniciando por el arreglo entero `A[1:n]` y volviéndolos arreglos cada vez más pequeños.\n",
    "\n",
    "Se divide el arreglo `A[p:r]` para que se ordene en dos arreglos adyacentes, cada uno con la mitad del tamaño, quedando los arreglos `A[p:q]` y `A[q+1:r]`. De ahí, ambos lados se ordenarán haciendo dividiendose de manera recursiva como se vio anteriormente. Finalmente se combinaran los dos arreglos `A[p:q]` y `A[q+1:r]` en `A[p:r]`, lo cual será nuestra respuesta final.\n",
    "\n",
    "Este algoritmo, a pesar de ser muy eficiente con complejidad temporal **$O(nlogn)$**, puede no ser muy eficiente por el espacio adicional que requiere al generar las nuevas listas cada que parte la lista principal a la mitad.\n",
    "\n",
    "En el caso de este algoritmo de ordenamiento, se crearon dos funciones. La primera es como tal el algoritmo merge-sort, que toma de entrada una lista.\n",
    "\n",
    "Lo primero que se evalúa es si la lista tiene un elemento o menos, en ese caso ya está ordenada y se devuelve la lista. Posteriormente se encuentra la mitad de la lista y se ivide en izquierda o derecha usando la misma función recursivamente. Finalmente se regresa la combinación de ambos lados por medio de la función `merge`.\n",
    "\n",
    "La función `merge` compara los elementos de las dos listas y los agrega a una lista de resultado"
   ]
  },
  {
   "cell_type": "code",
   "execution_count": 56,
   "metadata": {},
   "outputs": [],
   "source": [
    "def mergeSort(lista):\n",
    "    ordenamiento = lista\n",
    "    if len(ordenamiento) <= 1:\n",
    "        return ordenamiento, 0\n",
    "\n",
    "    medio = len(ordenamiento) // 2\n",
    "    izquierda, compIzq = mergeSort(ordenamiento[:medio])\n",
    "    derecha, compDer = mergeSort(ordenamiento[medio:])\n",
    "    resultado, compRes = merge(izquierda, derecha)\n",
    "    return resultado, compIzq + compDer + compRes\n",
    "\n",
    "def merge(izquierda, derecha):\n",
    "    resultado = []\n",
    "    i = j = 0\n",
    "    comparaciones = 0\n",
    "\n",
    "    while i < len(izquierda) and j < len(derecha):\n",
    "        comparaciones += 1\n",
    "        if izquierda[i] <= derecha[j]:\n",
    "            resultado.append(izquierda[i])\n",
    "            i += 1\n",
    "        else:\n",
    "            resultado.append(derecha[j])\n",
    "            j += 1\n",
    "\n",
    "    # Agregar los elementos restantes (si los hay)\n",
    "    resultado.extend(izquierda[i:])\n",
    "    resultado.extend(derecha[j:])\n",
    "    return resultado, comparaciones"
   ]
  },
  {
   "cell_type": "code",
   "execution_count": 57,
   "metadata": {},
   "outputs": [
    {
     "name": "stdout",
     "output_type": "stream",
     "text": [
      "Lista desordenada: [73, 99, 6, 9, 4, 7, 5, 8, 12, 63, 87, 56]\n",
      "Lista ordenada: [4, 5, 6, 7, 8, 9, 12, 56, 63, 73, 87, 99]\n",
      "Comparaciones: 29\n"
     ]
    }
   ],
   "source": [
    "lista = [73,99,6,9,4,7,5,8,12,63,87,56]\n",
    "ms, msc = mergeSort(lista)\n",
    "print(\"Lista desordenada:\", lista.copy())\n",
    "print(\"Lista ordenada:\", ms)\n",
    "print(\"Comparaciones:\", msc)"
   ]
  },
  {
   "cell_type": "markdown",
   "metadata": {},
   "source": [
    "## Quick Sort\n",
    "\n",
    "Este algoritmo toma un elemento \"pivote\" y crea dos arreglos, aquellos menores al elemento pivote y los mayores a este elemento, también ordena recursivamente estos arreglos.\n",
    "\n",
    "Este algoritmo es muy eficiente para listas grandes, teniendo una cumplejidad temporal de **$O(n log n)$**.\n",
    "\n",
    "La función creada para el algoritmo quick-sort toma de entrada la lista y revisa si ya está ordenada (cuando tiene un elemento o menos), en caso contrario declara el primer elemento de la lista como pivote y crea las dos lista de menores y mayores.\n",
    "\n",
    "Finalmente devuelve la lista como el arreglo de la función `quick_sort` para la lista de elementos menores al pivote, el pivote y la misma función para la lista de elementos mayores al pivote."
   ]
  },
  {
   "cell_type": "code",
   "execution_count": 58,
   "metadata": {},
   "outputs": [],
   "source": [
    "import random\n",
    "def quickSort(arr):\n",
    "    def partition(arr, low, high):\n",
    "        # Elige un pivote aleatorio para mejorar el balance\n",
    "        pivot = random.randint(low, high)\n",
    "        arr[pivot], arr[high] = arr[high], arr[pivot]\n",
    "        i = low - 1\n",
    "        comparaciones = 0\n",
    "        for j in range(low, high):\n",
    "            comparaciones += 1\n",
    "            if arr[j] <= arr[high]:\n",
    "                i += 1\n",
    "                arr[i], arr[j] = arr[j], arr[i]\n",
    "        arr[i + 1], arr[high] = arr[high], arr[i + 1]\n",
    "        return i + 1, comparaciones\n",
    "\n",
    "    def quick_sort_helper(arr, low, high):\n",
    "        if low < high:\n",
    "            pi, comparaciones = partition(arr, low, high)\n",
    "            izqComp = quick_sort_helper(arr, low, pi - 1)\n",
    "            derComp = quick_sort_helper(arr, pi + 1, high)\n",
    "            return comparaciones + izqComp + derComp    \n",
    "        return 0\n",
    "\n",
    "    comparaciones = quick_sort_helper(arr, 0, len(arr) - 1)\n",
    "    return arr, comparaciones"
   ]
  },
  {
   "cell_type": "code",
   "execution_count": 59,
   "metadata": {},
   "outputs": [
    {
     "name": "stdout",
     "output_type": "stream",
     "text": [
      "Lista desordenada: [73, 99, 6, 9, 4, 7, 5, 8, 12, 63, 87, 56]\n",
      "Lista ordenada: [4, 5, 6, 7, 8, 9, 12, 56, 63, 73, 87, 99]\n",
      "Comparaciones: 46\n"
     ]
    }
   ],
   "source": [
    "lista = [73,99,6,9,4,7,5,8,12,63,87,56]\n",
    "qs, qsc = quickSort(lista.copy())\n",
    "print(\"Lista desordenada:\", lista)\n",
    "print(\"Lista ordenada:\", qs)\n",
    "print(\"Comparaciones:\", qsc)"
   ]
  },
  {
   "cell_type": "markdown",
   "metadata": {},
   "source": [
    "## Inciso 2 - Experimentación con Datos Perturbados"
   ]
  },
  {
   "cell_type": "code",
   "execution_count": 60,
   "metadata": {},
   "outputs": [],
   "source": [
    "import json\n",
    "import numpy as np\n",
    "\n",
    "\n",
    "def openLists(route):\n",
    "    val = {}\n",
    "    with open(f'{route}') as file:\n",
    "        for line in file:\n",
    "            data = json.loads(line)\n",
    "            key, values = data\n",
    "            val[key] = np.array(values)\n",
    "        return val\n",
    "    \n",
    "p01 = openLists('unidad04/unsorted-list-p=0.01.json')\n",
    "p03 = openLists('unidad04/unsorted-list-p=0.03.json')\n",
    "p10 = openLists('unidad04/unsorted-list-p=0.10.json')\n",
    "p30 = openLists('unidad04/unsorted-list-p=0.30.json')\n"
   ]
  },
  {
   "cell_type": "code",
   "execution_count": 61,
   "metadata": {},
   "outputs": [],
   "source": [
    "import time\n",
    "def getTime(funcion_ordenamiento, lista):\n",
    "  itTimes = []\n",
    "  comparaciones = []\n",
    "  for arreglo in lista.values():\n",
    "    inicio = time.process_time()\n",
    "    ordenada, comp = funcion_ordenamiento(arreglo)\n",
    "    fin = time.process_time()\n",
    "    comparaciones.append(comp)\n",
    "    total = fin - inicio\n",
    "    itTimes.append(total)\n",
    "  promedio = sum(itTimes)/len(itTimes)\n",
    "  return promedio, ordenada, comparaciones"
   ]
  },
  {
   "cell_type": "code",
   "execution_count": 62,
   "metadata": {},
   "outputs": [
    {
     "name": "stdout",
     "output_type": "stream",
     "text": [
      "Proporción p = 0.01\n",
      "Tiempo de ejecución promedio de Bubble Sort: 0.00184 segundos\n",
      "Tiempo de ejecución promedio de Insertion Sort: 0.00152 segundos\n",
      "Tiempo de ejecución promedio de Merge Sort: 0.01318 segundos\n",
      "Tiempo de ejecución promedio de Quick Sort: 0.02323 segundos\n",
      "Comparaciones:\n",
      "Bubble Sort: [123978, 42867, 44136, 13545, 8757, 11949, 7829, 7217, 6761, 6401, 6215, 6157, 5785, 4561, 4441, 3987, 3765, 3645, 2963, 2885, 2771, 4008, 2615, 3882, 2537, 2355, 2271, 2259, 2221, 2129, 2111, 2097, 2085, 2063, 2051, 2049, 2039, 1957, 1917, 1915, 1839, 1795, 1765, 1743, 1725, 1719, 1717, 1681, 1663, 1645, 1613, 1551, 1523, 1495, 1491, 1467, 1461, 1453, 1449, 1419, 1417, 1383, 1381, 1381, 1363, 1359, 1357, 1343, 1333, 1317, 1299, 1275, 1269, 1263, 1263, 1259, 1257, 1247, 1237, 1227, 1219, 1207, 1191, 1187, 1185, 1163, 1151, 1147, 1113, 1107, 1099, 1099, 1097, 1095, 1085, 1079, 1057, 1057, 1055, 1037]\n",
      "Insertion Sort: [413, 214, 147, 67, 43, 39, 39, 36, 33, 32, 31, 30, 28, 22, 22, 19, 16, 18, 14, 14, 13, 13, 13, 12, 12, 11, 11, 11, 11, 10, 10, 10, 10, 10, 10, 10, 10, 9, 9, 9, 9, 8, 8, 8, 8, 8, 8, 8, 8, 8, 8, 7, 7, 7, 7, 7, 7, 7, 7, 7, 7, 6, 6, 6, 6, 4, 6, 6, 6, 6, 6, 6, 4, 6, 6, 6, 6, 6, 6, 6, 6, 6, 5, 5, 5, 5, 5, 5, 5, 5, 5, 5, 5, 5, 5, 5, 5, 5, 5, 5]\n",
      "Merge Sort: [309680, 150033, 100062, 42004, 25993, 23623, 23082, 20889, 19270, 18140, 17591, 17456, 16099, 12405, 12063, 10835, 10043, 9659, 7558, 7308, 6967, 6687, 6533, 6472, 6333, 5815, 5612, 5573, 5484, 5272, 5239, 5206, 5186, 5146, 5131, 5129, 5098, 4798, 4675, 4668, 4421, 4301, 4206, 4135, 4087, 4063, 4058, 3955, 3910, 3856, 3766, 3618, 3546, 3454, 3442, 3370, 3354, 3330, 3316, 3237, 3228, 3134, 3130, 3126, 3078, 3065, 3064, 3030, 3005, 2965, 2921, 2875, 2856, 2837, 2835, 2824, 2817, 2790, 2761, 2736, 2717, 2689, 2648, 2638, 2635, 2587, 2566, 2555, 2471, 2460, 2442, 2441, 2438, 2434, 2420, 2403, 2361, 2359, 2357, 2327]\n",
      "Quick Sort: [856014, 365463, 247805, 101855, 59849, 54222, 55285, 49140, 44300, 45999, 41543, 39545, 36556, 26849, 26414, 23639, 22988, 21427, 16890, 17384, 15241, 14010, 15666, 14290, 13814, 12974, 12859, 12830, 11748, 11741, 12222, 10998, 11630, 12421, 11211, 11523, 11590, 10394, 10202, 10719, 10674, 9824, 8999, 8805, 9181, 9598, 8668, 8564, 9695, 9976, 9242, 7784, 7443, 7710, 7313, 7484, 7085, 7766, 7750, 6760, 6700, 7035, 7712, 7150, 7040, 7492, 7596, 7057, 6959, 6572, 7872, 6263, 7075, 6221, 6464, 7269, 6377, 5731, 6265, 6359, 6033, 5456, 5765, 6356, 5873, 5622, 5521, 5839, 5648, 5230, 5210, 5587, 5341, 5515, 5568, 5180, 5074, 4953, 4826, 4656]\n"
     ]
    }
   ],
   "source": [
    "print(\"Proporción p = 0.01\")\n",
    "tiempoB1, ordenada, cB1 = getTime(bubbleSort, p01)\n",
    "print(f\"Tiempo de ejecución promedio de Bubble Sort: {tiempoB1:.5f} segundos\")\n",
    "tiempoI1, ordenada, cI1 = getTime(insertionSort, p01)\n",
    "print(f\"Tiempo de ejecución promedio de Insertion Sort: {tiempoI1:.5f} segundos\")\n",
    "tiempoM1, ordenada, cM1 = getTime(mergeSort, copy.deepcopy(p01))\n",
    "print(f\"Tiempo de ejecución promedio de Merge Sort: {tiempoM1:.5f} segundos\")\n",
    "tiempoQ1, ordenada, cQ1 = getTime(quickSort, copy.deepcopy(p01))\n",
    "print(f\"Tiempo de ejecución promedio de Quick Sort: {tiempoQ1:.5f} segundos\")\n",
    "\n",
    "print(f\"Comparaciones:\\nBubble Sort: {cB1}\\nInsertion Sort: {cI1}\\nMerge Sort: {cM1}\\nQuick Sort: {cQ1}\")"
   ]
  },
  {
   "cell_type": "code",
   "execution_count": 63,
   "metadata": {},
   "outputs": [
    {
     "name": "stdout",
     "output_type": "stream",
     "text": [
      "Proporción p = 0.03\n",
      "Tiempo de ejecución promedio de Bubble Sort: 0.00208 segundos\n",
      "Tiempo de ejecución promedio de Insertion Sort: 0.00111 segundos\n",
      "Tiempo de ejecución promedio de Merge Sort: 0.01011 segundos\n",
      "Tiempo de ejecución promedio de Quick Sort: 0.02167 segundos\n",
      "Comparaciones:\n",
      "Bubble Sort: [123978, 64299, 44136, 20316, 13134, 11949, 11742, 10824, 10140, 9600, 9321, 9234, 8676, 4561, 4441, 5979, 5646, 5466, 4443, 2885, 2771, 4008, 3921, 2589, 2537, 2355, 2271, 2259, 3330, 3192, 3165, 3144, 3126, 2063, 2051, 3072, 2039, 1957, 2874, 2871, 1839, 1795, 1765, 1743, 1725, 1719, 1717, 1681, 1663, 1645, 2418, 1551, 2283, 1495, 1491, 2199, 1461, 1453, 1449, 1419, 1417, 1383, 2070, 1381, 2043, 1359, 1357, 2013, 1998, 1317, 1299, 1275, 1269, 1263, 1263, 1259, 1257, 1247, 1237, 1227, 1827, 1207, 1191, 1187, 1776, 1163, 1151, 1719, 1113, 1107, 1099, 1099, 1097, 1095, 1626, 1079, 1057, 1057, 1055, 1037]\n",
      "Insertion Sort: [1197, 625, 427, 197, 123, 115, 113, 102, 97, 92, 93, 86, 80, 68, 64, 59, 52, 52, 44, 39, 39, 40, 39, 36, 36, 35, 34, 29, 29, 31, 31, 31, 31, 28, 30, 30, 28, 29, 28, 28, 25, 26, 26, 26, 25, 23, 25, 25, 24, 22, 24, 23, 22, 22, 22, 22, 21, 21, 21, 19, 17, 20, 20, 18, 18, 20, 20, 20, 20, 17, 17, 19, 15, 18, 18, 18, 18, 18, 18, 18, 18, 18, 15, 17, 17, 17, 17, 17, 14, 16, 16, 16, 16, 16, 16, 16, 13, 15, 15, 15]\n",
      "Merge Sort: [310189, 150289, 100198, 42083, 26040, 23663, 23119, 20929, 19315, 18172, 17636, 17497, 16138, 12420, 12090, 10853, 10064, 9688, 7578, 7322, 6983, 6703, 6545, 6482, 6346, 5831, 5620, 5583, 5492, 5287, 5249, 5221, 5200, 5161, 5134, 5136, 5106, 4808, 4688, 4678, 4430, 4312, 4219, 4146, 4093, 4070, 4069, 3959, 3925, 3865, 3782, 3633, 3553, 3462, 3451, 3381, 3361, 3338, 3330, 3239, 3237, 3143, 3133, 3134, 3086, 3071, 3070, 3040, 3011, 2970, 2929, 2883, 2861, 2845, 2843, 2828, 2826, 2803, 2771, 2745, 2728, 2697, 2655, 2642, 2639, 2589, 2576, 2565, 2474, 2468, 2445, 2448, 2440, 2438, 2424, 2409, 2367, 2368, 2360, 2331]\n",
      "Quick Sort: [770457, 355278, 230097, 96510, 66391, 53514, 52123, 44616, 43507, 40358, 43883, 40058, 37231, 30397, 27514, 24824, 22909, 21951, 18594, 17943, 15299, 14092, 16088, 13682, 13517, 12904, 12634, 12919, 12242, 11188, 12155, 12035, 11623, 11929, 11023, 11385, 11788, 10441, 9858, 11531, 10558, 10044, 9782, 9343, 8964, 9262, 9832, 8766, 9244, 7755, 8074, 7393, 7585, 8018, 8368, 7657, 7639, 7375, 7511, 7719, 7152, 7045, 7078, 7366, 6683, 6470, 6671, 7246, 6825, 6886, 6328, 6975, 6006, 6602, 6065, 6794, 6199, 6853, 6012, 6261, 6148, 6218, 5761, 5809, 6555, 5752, 5405, 5480, 5540, 5667, 5444, 5165, 5504, 4842, 5023, 4761, 4717, 4863, 5252, 4816]\n"
     ]
    }
   ],
   "source": [
    "print(\"Proporción p = 0.03\")\n",
    "tiempoB2, ordenada, cB2 = getTime(bubbleSort, p03)\n",
    "print(f\"Tiempo de ejecución promedio de Bubble Sort: {tiempoB2:.5f} segundos\")\n",
    "tiempoI2, ordenada, cI2 = getTime(insertionSort, p03)\n",
    "print(f\"Tiempo de ejecución promedio de Insertion Sort: {tiempoI2:.5f} segundos\")\n",
    "tiempoM2, ordenada, cM2 = getTime(mergeSort, copy.deepcopy(p03))\n",
    "print(f\"Tiempo de ejecución promedio de Merge Sort: {tiempoM2:.5f} segundos\")\n",
    "tiempoQ2, ordenada, cQ2 = getTime(quickSort, copy.deepcopy(p03))\n",
    "print(f\"Tiempo de ejecución promedio de Quick Sort: {tiempoQ2:.5f} segundos\")\n",
    "\n",
    "print(f\"Comparaciones:\\nBubble Sort: {cB2}\\nInsertion Sort: {cI2}\\nMerge Sort: {cM2}\\nQuick Sort: {cQ2}\")"
   ]
  },
  {
   "cell_type": "code",
   "execution_count": 64,
   "metadata": {},
   "outputs": [
    {
     "name": "stdout",
     "output_type": "stream",
     "text": [
      "Proporción p = 0.10\n",
      "Tiempo de ejecución promedio de Bubble Sort: 0.00281 segundos\n",
      "Tiempo de ejecución promedio de Insertion Sort: 0.00145 segundos\n",
      "Tiempo de ejecución promedio de Merge Sort: 0.01086 segundos\n",
      "Tiempo de ejecución promedio de Quick Sort: 0.02400 segundos\n",
      "Comparaciones:\n",
      "Bubble Sort: [165302, 85730, 58846, 27086, 17510, 11949, 11742, 14430, 13518, 9600, 9321, 9234, 8676, 6840, 6660, 5979, 5646, 5466, 4443, 4326, 4155, 4008, 3921, 3882, 5070, 3531, 4538, 3387, 3330, 3192, 3165, 3144, 3126, 4122, 3075, 4094, 3057, 2934, 2874, 2871, 2757, 2691, 2646, 2613, 2586, 2577, 2574, 2520, 2493, 3286, 2418, 2325, 2283, 2241, 2235, 2199, 2190, 2178, 2172, 2127, 2124, 2073, 2070, 2070, 2043, 2037, 2034, 2013, 1998, 1974, 1947, 1911, 1902, 2522, 1893, 1887, 1884, 1869, 2470, 1839, 1827, 1809, 1785, 1779, 1776, 1743, 1725, 1719, 1668, 1659, 2194, 1647, 1097, 1641, 1626, 1617, 1584, 1584, 1581, 1554]\n",
      "Insertion Sort: [3788, 1983, 1341, 627, 394, 364, 357, 329, 312, 286, 284, 282, 273, 214, 202, 181, 168, 156, 138, 130, 124, 121, 118, 121, 113, 107, 113, 101, 97, 98, 95, 97, 94, 87, 88, 94, 84, 86, 86, 91, 78, 77, 84, 79, 70, 80, 74, 78, 71, 72, 74, 71, 72, 68, 66, 61, 67, 66, 68, 63, 65, 57, 59, 59, 60, 58, 62, 63, 62, 64, 61, 57, 61, 59, 59, 57, 61, 58, 52, 57, 57, 54, 55, 51, 55, 54, 49, 51, 49, 51, 55, 51, 45, 44, 50, 48, 49, 45, 52, 44]\n",
      "Merge Sort: [310189, 150289, 100198, 42083, 26040, 23663, 23119, 20929, 19315, 18172, 17636, 17497, 16138, 12420, 12090, 10853, 10064, 9688, 7578, 7322, 6983, 6703, 6545, 6482, 6346, 5831, 5620, 5583, 5492, 5287, 5249, 5221, 5200, 5161, 5134, 5136, 5106, 4808, 4688, 4678, 4430, 4312, 4219, 4146, 4093, 4070, 4069, 3959, 3925, 3865, 3782, 3633, 3553, 3462, 3451, 3381, 3361, 3338, 3330, 3239, 3237, 3143, 3133, 3134, 3086, 3071, 3070, 3040, 3011, 2970, 2929, 2883, 2861, 2845, 2843, 2828, 2826, 2803, 2771, 2745, 2728, 2697, 2655, 2642, 2639, 2589, 2576, 2565, 2474, 2468, 2445, 2448, 2440, 2438, 2424, 2409, 2367, 2368, 2360, 2331]\n",
      "Quick Sort: [758160, 348418, 240401, 98807, 60049, 52602, 61140, 47064, 48367, 43615, 41721, 39656, 36491, 28660, 28643, 23569, 21626, 23546, 16154, 16446, 15844, 15249, 14379, 14059, 14801, 13481, 13376, 12554, 13001, 11407, 12573, 11328, 11135, 11233, 10635, 10687, 12915, 10466, 9906, 10248, 10096, 9616, 9359, 9262, 9160, 8846, 9828, 8263, 8419, 8284, 8460, 7820, 8130, 8503, 8762, 7736, 7490, 7092, 7810, 6572, 6941, 6984, 6893, 6816, 7068, 7421, 6973, 6537, 7193, 6946, 7734, 6376, 5904, 5981, 6101, 6814, 6491, 6550, 7382, 6070, 5730, 6056, 5994, 6337, 5964, 6096, 5551, 5744, 5558, 5587, 5208, 4762, 5358, 5121, 5043, 5583, 4679, 4943, 5210, 5164]\n"
     ]
    }
   ],
   "source": [
    "print(\"Proporción p = 0.10\")\n",
    "tiempoB3, ordenada, cB3 = getTime(bubbleSort, p10)\n",
    "print(f\"Tiempo de ejecución promedio de Bubble Sort: {tiempoB3:.5f} segundos\")\n",
    "tiempoI3, ordenada, cI3 = getTime(insertionSort, p10)\n",
    "print(f\"Tiempo de ejecución promedio de Insertion Sort: {tiempoI3:.5f} segundos\")\n",
    "tiempoM3, ordenada, cM3 = getTime(mergeSort, copy.deepcopy(p10))\n",
    "print(f\"Tiempo de ejecución promedio de Merge Sort: {tiempoM3:.5f} segundos\")\n",
    "tiempoQ3, ordenada, cQ3 = getTime(quickSort, copy.deepcopy(p10))\n",
    "print(f\"Tiempo de ejecución promedio de Quick Sort: {tiempoQ3:.5f} segundos\")\n",
    "\n",
    "print(f\"Comparaciones:\\nBubble Sort: {cB3}\\nInsertion Sort: {cI3}\\nMerge Sort: {cM2}\\nQuick Sort: {cQ3}\")"
   ]
  },
  {
   "cell_type": "code",
   "execution_count": 65,
   "metadata": {},
   "outputs": [
    {
     "name": "stdout",
     "output_type": "stream",
     "text": [
      "Proporción p = 0.30\n",
      "Tiempo de ejecución promedio de Bubble Sort: 0.00460 segundos\n",
      "Tiempo de ejecución promedio de Insertion Sort: 0.00180 segundos\n",
      "Tiempo de ejecución promedio de Merge Sort: 0.01236 segundos\n",
      "Tiempo de ejecución promedio de Quick Sort: 0.02471 segundos\n",
      "Comparaciones:\n",
      "Bubble Sort: [206625, 107160, 73555, 27086, 21885, 23889, 19565, 18035, 13518, 15995, 12426, 15385, 11566, 9118, 8878, 7970, 7526, 9105, 5922, 5766, 5538, 5342, 5226, 5174, 5070, 4706, 4538, 5640, 5545, 4254, 4218, 4190, 4166, 4122, 4098, 4094, 4074, 3910, 4785, 3826, 3674, 3586, 3526, 4350, 3446, 3434, 3430, 3358, 3322, 3286, 3222, 3870, 3042, 2986, 2978, 2930, 3645, 2902, 3615, 2834, 2830, 2073, 2758, 2758, 2722, 2037, 2710, 2013, 1998, 1974, 2594, 1911, 2534, 2522, 1893, 2514, 2510, 2490, 3085, 2450, 2434, 2410, 2378, 2370, 2366, 2322, 2298, 1719, 2222, 2210, 1647, 2194, 2190, 2186, 2166, 2154, 2110, 3159, 2106, 2070]\n",
      "Insertion Sort: [9700, 5082, 3502, 1594, 1062, 941, 940, 851, 838, 750, 718, 742, 662, 558, 538, 448, 427, 433, 360, 351, 346, 325, 300, 310, 281, 275, 245, 265, 269, 263, 255, 239, 235, 221, 240, 241, 234, 226, 234, 209, 230, 217, 217, 197, 209, 208, 210, 204, 181, 187, 198, 195, 178, 176, 162, 180, 167, 176, 183, 167, 163, 141, 163, 187, 176, 158, 164, 161, 150, 154, 155, 149, 148, 145, 139, 133, 143, 157, 142, 148, 135, 145, 145, 134, 144, 140, 133, 134, 125, 128, 127, 129, 131, 128, 123, 128, 119, 131, 130, 134]\n",
      "Merge Sort: [315433, 153104, 102004, 42927, 26594, 24127, 23548, 21374, 19750, 18587, 18045, 17921, 16500, 12701, 12339, 11050, 10273, 9885, 7778, 7533, 7169, 6888, 6731, 6643, 6513, 5963, 5744, 5709, 5623, 5409, 5363, 5320, 5292, 5259, 5249, 5248, 5221, 4906, 4792, 4777, 4533, 4421, 4328, 4241, 4218, 4185, 4179, 4082, 4014, 3965, 3879, 3739, 3662, 3565, 3539, 3483, 3456, 3441, 3431, 3338, 3336, 3213, 3229, 3241, 3189, 3159, 3171, 3128, 3086, 3061, 3014, 2967, 2940, 2913, 2925, 2901, 2902, 2889, 2846, 2823, 2794, 2769, 2732, 2720, 2720, 2669, 2640, 2635, 2536, 2526, 2501, 2505, 2511, 2507, 2495, 2472, 2426, 2420, 2428, 2392]\n",
      "Quick Sort: [743038, 386156, 239946, 99437, 56955, 55044, 53372, 46764, 43148, 41931, 37921, 42415, 38770, 28688, 31272, 23392, 21906, 22554, 18229, 18775, 16052, 15388, 14279, 14530, 15248, 13779, 12609, 12852, 11969, 11610, 10880, 12141, 11725, 10375, 11888, 10882, 10884, 10950, 11731, 10335, 10510, 9257, 9969, 8879, 8744, 9680, 8653, 8817, 8955, 9174, 9554, 7263, 8659, 7937, 7726, 7628, 7455, 7701, 7316, 7094, 7371, 7214, 7346, 6501, 7336, 7214, 6677, 6681, 6962, 6551, 7124, 6456, 6380, 7640, 5991, 5781, 6617, 5739, 6536, 5772, 5776, 6428, 6657, 5645, 5731, 5513, 6031, 5685, 5398, 4806, 5409, 5447, 5930, 5226, 5254, 4883, 5117, 4884, 5283, 4732]\n"
     ]
    }
   ],
   "source": [
    "print(\"Proporción p = 0.30\")\n",
    "tiempoB4, ordenada,cB4 = getTime(bubbleSort, p30)\n",
    "print(f\"Tiempo de ejecución promedio de Bubble Sort: {tiempoB4:.5f} segundos\")\n",
    "tiempoI4, ordenada, cI4 = getTime(insertionSort, p30)\n",
    "print(f\"Tiempo de ejecución promedio de Insertion Sort: {tiempoI4:.5f} segundos\")\n",
    "tiempoM4, ordenada, cM4 = getTime(mergeSort, copy.deepcopy(p30))\n",
    "print(f\"Tiempo de ejecución promedio de Merge Sort: {tiempoM4:.5f} segundos\")\n",
    "tiempoQ4, ordenada, cQ4 = getTime(quickSort, copy.deepcopy(p30))\n",
    "print(f\"Tiempo de ejecución promedio de Quick Sort: {tiempoQ4:.5f} segundos\")\n",
    "\n",
    "print(f\"Comparaciones:\\nBubble Sort: {cB4}\\nInsertion Sort: {cI4}\\nMerge Sort: {cM4}\\nQuick Sort: {cQ4}\")"
   ]
  }
 ],
 "metadata": {
  "kernelspec": {
   "display_name": "Python 3",
   "language": "python",
   "name": "python3"
  },
  "language_info": {
   "codemirror_mode": {
    "name": "ipython",
    "version": 3
   },
   "file_extension": ".py",
   "mimetype": "text/x-python",
   "name": "python",
   "nbconvert_exporter": "python",
   "pygments_lexer": "ipython3",
   "version": "3.12.1"
  }
 },
 "nbformat": 4,
 "nbformat_minor": 2
}
