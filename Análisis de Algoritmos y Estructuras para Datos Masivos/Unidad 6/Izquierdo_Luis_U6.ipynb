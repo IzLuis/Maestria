{
 "cells": [
  {
   "cell_type": "code",
   "execution_count": 74,
   "metadata": {},
   "outputs": [],
   "source": [
    "import numpy as np\n",
    "import json\n",
    "\n",
    "def openLists(route):\n",
    "    val = {}\n",
    "    with open(f'{route}') as file:\n",
    "        for line in file:\n",
    "            data = json.loads(line)\n",
    "            key, values = data\n",
    "            val[key] = np.array(values)\n",
    "        return val\n",
    "    \n",
    "\n",
    "archivo = openLists('listas-posteo-100.json')"
   ]
  },
  {
   "cell_type": "code",
   "execution_count": 75,
   "metadata": {},
   "outputs": [],
   "source": [
    "import random\n",
    "import itertools\n",
    "listas = list(archivo.values())\n",
    "# Generamos todas las posibles combinaciones de 3 listas\n",
    "def generar_combinaciones(listas, n):\n",
    "    return itertools.combinations(listas, n)\n",
    "\n",
    "# Seleccionamos aleatoriamente 1000 combinaciones\n",
    "combinaciones = generar_combinaciones(listas, 2)\n",
    "A = random.sample(list(combinaciones), 1000)\n",
    "combinaciones = generar_combinaciones(listas, 3)\n",
    "B = random.sample(list(combinaciones), 1000)\n",
    "combinaciones = generar_combinaciones(listas, 4)\n",
    "C = random.sample(list(combinaciones), 1000)\n",
    "\n",
    "#print(B)  # Imprime las 1000 combinaciones seleccionadas"
   ]
  },
  {
   "cell_type": "code",
   "execution_count": 76,
   "metadata": {},
   "outputs": [],
   "source": [
    "def adaptive_binary_search(arr, x, last_found_index=0):\n",
    "  low = max(0, last_found_index - 1)  # Iniciar la búsqueda desde el último elemento encontrado o el inicio del arreglo\n",
    "  high = len(arr) - 1\n",
    "\n",
    "  while low <= high:\n",
    "    mid = (low + high) // 2\n",
    "\n",
    "    if arr[mid] == x:\n",
    "      return mid\n",
    "    elif arr[mid] < x:\n",
    "      low = mid + 1\n",
    "    else:\n",
    "      high = mid - 1\n",
    "\n",
    "  return -1"
   ]
  },
  {
   "cell_type": "code",
   "execution_count": 77,
   "metadata": {},
   "outputs": [],
   "source": [
    "def total_binary_search(arr, x):\n",
    "  low = 0\n",
    "  high = len(arr) - 1\n",
    "\n",
    "  while low <= high:\n",
    "    mid = (low + high) // 2\n",
    "    if arr[mid] == x:\n",
    "      return mid\n",
    "    elif arr[mid] < x:\n",
    "      low = mid + 1\n",
    "    else:\n",
    "      high = mid - 1\n",
    "\n",
    "  return -1"
   ]
  },
  {
   "cell_type": "code",
   "execution_count": 78,
   "metadata": {},
   "outputs": [],
   "source": [
    "def rounded_binary_search(arr, x, last_found_index=0):\n",
    "  low = max(0, last_found_index - 1)  # Iniciar la búsqueda desde el último elemento encontrado o el inicio del arreglo\n",
    "  high = len(arr) - 1\n",
    "\n",
    "  while low <= high:\n",
    "    mid = (low + high) // 2\n",
    "\n",
    "    if arr[mid] == x:\n",
    "      return mid\n",
    "    elif arr[mid] < x:\n",
    "      # Si el elemento buscado es mayor, ajustar el límite inferior\n",
    "      # Considerar ajustar el límite inferior más hacia la derecha si las comparaciones anteriores\n",
    "      # indican que el elemento está más cerca de la parte superior del arreglo\n",
    "      low = mid + 1\n",
    "    else:\n",
    "      # Si el elemento buscado es menor, ajustar el límite superior\n",
    "      # Considerar ajustar el límite superior más hacia la izquierda si las comparaciones anteriores\n",
    "      # indican que el elemento está más cerca de la parte inferior del arreglo\n",
    "      high = mid - 1\n",
    "\n",
    "  return -1"
   ]
  },
  {
   "cell_type": "code",
   "execution_count": 79,
   "metadata": {},
   "outputs": [
    {
     "name": "stdout",
     "output_type": "stream",
     "text": [
      "[3, 4]\n",
      "12\n",
      "4.7000000023444954e-05\n"
     ]
    }
   ],
   "source": [
    "import time\n",
    "\n",
    "def SvS(sets, k, fbusq):\n",
    "  start_time = time.process_time()\n",
    "  comparisons = 0\n",
    "\n",
    "  # 1. Ordenar los conjuntos por tamaño\n",
    "  sets.sort(key=len)\n",
    "\n",
    "  # 2. El conjunto más pequeño es el candidato inicial\n",
    "  candidate_set = sets[0].copy()\n",
    "\n",
    "  # 3. Inicializar índices\n",
    "  indices = [0] * k\n",
    "\n",
    "  # 4. Iterar sobre los conjuntos\n",
    "  for i, S in enumerate(sets):\n",
    "    for e in list(candidate_set):\n",
    "      # 6. Búsqueda binaria redondeada\n",
    "      index = fbusq(S[indices[i]:], e)\n",
    "      comparisons += 1\n",
    "      if index != -1:\n",
    "        indices[i] += index + 1\n",
    "      else:\n",
    "        # 8-10. Eliminar e del conjunto candidato\n",
    "        candidate_set.remove(e)\n",
    "  end_time = time.process_time()\n",
    "  elapsed_time = end_time - start_time\n",
    "\n",
    "\n",
    "  return candidate_set, comparisons, elapsed_time\n",
    "\n",
    "# Ejemplo de uso:\n",
    "sets = [[1, 2, 3, 4], [3, 4, 9, 10], [3, 4, 5, 6, 7], [3, 4, 11, 12]]\n",
    "k = len(sets)\n",
    "result, comparaciones, tiempo = SvS(sets, k, total_binary_search)\n",
    "print(result)  # Output: {3, 4}\n",
    "print(comparaciones)\n",
    "print(tiempo)"
   ]
  },
  {
   "cell_type": "code",
   "execution_count": 80,
   "metadata": {},
   "outputs": [],
   "source": [
    "def starter(listas, busqueda, interseccion, combs):\n",
    "    flist = []\n",
    "    ftime = []\n",
    "    fcomp = []\n",
    "    for element in listas:\n",
    "        if combs == 2:\n",
    "            lista1 = element[0].tolist()\n",
    "            lista2 = element[1].tolist()\n",
    "            listafinal = [lista1, lista2,]\n",
    "        if combs == 3:\n",
    "            lista1 = element[0].tolist()\n",
    "            lista2 = element[1].tolist()\n",
    "            lista3 = element[2].tolist()\n",
    "            listafinal = [lista1, lista2, lista3]\n",
    "        if combs == 4:\n",
    "            lista1 = element[0].tolist()\n",
    "            lista2 = element[1].tolist()\n",
    "            lista3 = element[2].tolist()\n",
    "            lista4 = element[3].tolist()\n",
    "            listafinal = [lista1, lista2, lista3, lista4]\n",
    "        k = len(listafinal)\n",
    "        result, comparaciones, tiempo = interseccion(listafinal, k, busqueda)\n",
    "        flist.append(result)\n",
    "        flist = [sublist for sublist in flist if sublist] #Eliminamos las listas vacías\n",
    "        ftime.append(tiempo)\n",
    "        fcomp.append(comparaciones)\n",
    "        64808\n",
    "    return flist, ftime, fcomp\n"
   ]
  },
  {
   "cell_type": "code",
   "execution_count": 81,
   "metadata": {},
   "outputs": [],
   "source": [
    "listABS_A, timeABS_A, compABS_A = starter(A, adaptive_binary_search, SvS, 2)\n",
    "listABS_B, timeABS_B, compABS_B = starter(B, adaptive_binary_search, SvS, 3)\n",
    "listABS_C, timeABS_C, compABS_C = starter(C, adaptive_binary_search, SvS, 4)"
   ]
  },
  {
   "cell_type": "code",
   "execution_count": 82,
   "metadata": {},
   "outputs": [
    {
     "data": {
      "image/png": "[encoded data removed]",
      "text/plain": [
       "<Figure size 640x480 with 1 Axes>"
      ]
     },
     "metadata": {},
     "output_type": "display_data"
    }
   ],
   "source": [
    "import matplotlib.pyplot as plt\n",
    "import seaborn as sns\n",
    "\n",
    "data = [timeABS_A, timeABS_B, timeABS_C]\n",
    "\n",
    "sns.boxplot(data=data)\n",
    "plt.xticks([0, 1, 2], ['A', 'B', 'C'])\n",
    "plt.title('Comparación de tiempos')\n",
    "plt.xlabel('Grupos')\n",
    "plt.ylabel('Tiempo')\n",
    "plt.show()"
   ]
  }
 ],
 "metadata": {
  "kernelspec": {
   "display_name": "Python 3",
   "language": "python",
   "name": "python3"
  },
  "language_info": {
   "codemirror_mode": {
    "name": "ipython",
    "version": 3
   },
   "file_extension": ".py",
   "mimetype": "text/x-python",
   "name": "python",
   "nbconvert_exporter": "python",
   "pygments_lexer": "ipython3",
   "version": "3.12.1"
  }
 },
 "nbformat": 4,
 "nbformat_minor": 2
}
