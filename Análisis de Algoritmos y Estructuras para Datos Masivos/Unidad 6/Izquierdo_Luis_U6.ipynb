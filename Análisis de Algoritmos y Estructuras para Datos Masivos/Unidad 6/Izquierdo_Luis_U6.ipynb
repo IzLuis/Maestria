{
 "cells": [
  {
   "cell_type": "code",
   "execution_count": 1,
   "metadata": {},
   "outputs": [],
   "source": [
    "import numpy as np\n",
    "import json\n",
    "\n",
    "def openLists(route):\n",
    "    val = {}\n",
    "    with open(f'{route}') as file:\n",
    "        for line in file:\n",
    "            data = json.loads(line)\n",
    "            key, values = data\n",
    "            val[key] = np.array(values)\n",
    "        return val\n",
    "    \n",
    "\n",
    "archivo = openLists('listas-posteo-100.json')"
   ]
  },
  {
   "cell_type": "code",
   "execution_count": 2,
   "metadata": {},
   "outputs": [],
   "source": [
    "import random\n",
    "import itertools\n",
    "listas = list(archivo.values())\n",
    "# Generamos todas las posibles combinaciones de 3 listas\n",
    "def generar_combinaciones(listas, n):\n",
    "    return itertools.combinations(listas, n)\n",
    "\n",
    "# Seleccionamos aleatoriamente 1000 combinaciones\n",
    "combinaciones = generar_combinaciones(listas, 2)\n",
    "A = random.sample(list(combinaciones), 1000)\n",
    "combinaciones = generar_combinaciones(listas, 3)\n",
    "B = random.sample(list(combinaciones), 1000)\n",
    "combinaciones = generar_combinaciones(listas, 4)\n",
    "C = random.sample(list(combinaciones), 1000)\n",
    "\n",
    "#print(B)  # Imprime las 1000 combinaciones seleccionadas"
   ]
  },
  {
   "cell_type": "code",
   "execution_count": 3,
   "metadata": {},
   "outputs": [],
   "source": [
    "def binary_search(arr, x):\n",
    "  low = 0\n",
    "  high = len(arr) - 1\n",
    "\n",
    "  while low <= high:\n",
    "    mid = (low + high) // 2\n",
    "    if arr[mid] == x:\n",
    "      return mid\n",
    "    elif arr[mid] < x:\n",
    "      low = mid + 1\n",
    "    else:\n",
    "      high = mid - 1\n",
    "\n",
    "  return -1"
   ]
  },
  {
   "cell_type": "code",
   "execution_count": 4,
   "metadata": {},
   "outputs": [
    {
     "name": "stdout",
     "output_type": "stream",
     "text": [
      "[3, 4]\n",
      "12\n",
      "5.600000000027805e-05\n"
     ]
    }
   ],
   "source": [
    "import time\n",
    "\n",
    "def SvS(sets, k, fbusq):\n",
    "  start_time = time.process_time()\n",
    "  comparisons = 0\n",
    "\n",
    "  # 1. Ordenar los conjuntos por tamaño\n",
    "  sets.sort(key=len)\n",
    "\n",
    "  # 2. El conjunto más pequeño es el candidato inicial\n",
    "  candidate_set = sets[0].copy()\n",
    "\n",
    "  # 3. Inicializar índices\n",
    "  indices = [0] * k\n",
    "\n",
    "  # 4. Iterar sobre los conjuntos\n",
    "  for i, S in enumerate(sets):\n",
    "    for e in list(candidate_set):\n",
    "      # 6. Búsqueda binaria redondeada\n",
    "      index = fbusq(S[indices[i]:], e)\n",
    "      comparisons += 1\n",
    "      if index != -1:\n",
    "        indices[i] += index + 1\n",
    "      else:\n",
    "        # 8-10. Eliminar e del conjunto candidato\n",
    "        candidate_set.remove(e)\n",
    "  end_time = time.process_time()\n",
    "  elapsed_time = end_time - start_time\n",
    "\n",
    "\n",
    "  return candidate_set, comparisons, elapsed_time\n",
    "\n",
    "# Ejemplo de uso:\n",
    "sets = [[1, 2, 3, 4], [3, 4, 9, 10], [3, 4, 5, 6, 7], [3, 4, 11, 12]]\n",
    "k = len(sets)\n",
    "result, comparaciones, tiempo = SvS(sets, k, binary_search)\n",
    "print(result)  # Output: {3, 4}\n",
    "print(comparaciones)\n",
    "print(tiempo)"
   ]
  },
  {
   "cell_type": "code",
   "execution_count": 5,
   "metadata": {},
   "outputs": [],
   "source": [
    "def starter(listas, busqueda, interseccion, combs):\n",
    "    flist = []\n",
    "    ftime = []\n",
    "    fcomp = []\n",
    "    for element in listas:\n",
    "        if combs == 2:\n",
    "            lista1 = element[0].tolist()\n",
    "            lista2 = element[1].tolist()\n",
    "            listafinal = [lista1, lista2,]\n",
    "        if combs == 3:\n",
    "            lista1 = element[0].tolist()\n",
    "            lista2 = element[1].tolist()\n",
    "            lista3 = element[2].tolist()\n",
    "            listafinal = [lista1, lista2, lista3]\n",
    "        if combs == 4:\n",
    "            lista1 = element[0].tolist()\n",
    "            lista2 = element[1].tolist()\n",
    "            lista3 = element[2].tolist()\n",
    "            lista4 = element[3].tolist()\n",
    "            listafinal = [lista1, lista2, lista3, lista4]\n",
    "        k = len(listafinal)\n",
    "        result, comparaciones, tiempo = interseccion(listafinal, k, busqueda)\n",
    "        flist.append(result)\n",
    "        flist = [sublist for sublist in flist if sublist] #Eliminamos las listas vacías\n",
    "        ftime.append(tiempo)\n",
    "        fcomp.append(comparaciones)\n",
    "        64808\n",
    "    return flist, ftime, fcomp\n"
   ]
  },
  {
   "cell_type": "code",
   "execution_count": 6,
   "metadata": {},
   "outputs": [],
   "source": [
    "listABS_A, timeABS_A, compABS_A = starter(A, binary_search, SvS, 2)\n",
    "listABS_B, timeABS_B, compABS_B = starter(B, binary_search, SvS, 3)\n",
    "listABS_C, timeABS_C, compABS_C = starter(C, binary_search, SvS, 4)"
   ]
  },
  {
   "cell_type": "code",
   "execution_count": 7,
   "metadata": {},
   "outputs": [
    {
     "data": {
      "image/png": "[encoded data removed]",
      "text/plain": [
       "<Figure size 640x480 with 1 Axes>"
      ]
     },
     "metadata": {},
     "output_type": "display_data"
    }
   ],
   "source": [
    "import matplotlib.pyplot as plt\n",
    "import seaborn as sns\n",
    "\n",
    "data = [timeABS_A, timeABS_B, timeABS_C]\n",
    "\n",
    "sns.boxplot(data=data)\n",
    "plt.xticks([0, 1, 2], ['A', 'B', 'C'])\n",
    "plt.title('Comparación de tiempos')\n",
    "plt.xlabel('Grupos')\n",
    "plt.ylabel('Tiempo')\n",
    "plt.show()"
   ]
  },
  {
   "cell_type": "code",
   "execution_count": 8,
   "metadata": {},
   "outputs": [
    {
     "name": "stdout",
     "output_type": "stream",
     "text": [
      "[3, 4]\n",
      "6\n",
      "2.6999999999333113e-05\n"
     ]
    }
   ],
   "source": [
    "def SmallAdaptive(sets, k, fbusq):\n",
    "  start_time = time.process_time()\n",
    "  comparisons = 0\n",
    "  answer = []\n",
    "\n",
    "  # Mientras haya algún conjunto no vacío\n",
    "  while any(sets):\n",
    "    # 2. Ordenar los conjuntos por tamaño creciente\n",
    "    sets.sort(key=len)\n",
    "    # 3. Seleccionar el primer elemento del conjunto más pequeño como eliminador\n",
    "    if sets[0]:\n",
    "        eliminator = sets[0].pop(0)\n",
    "    else:\n",
    "        # Si el conjunto está vacío, pasamos al siguiente conjunto\n",
    "        break\n",
    "\n",
    "    # 4. Inicializar el índice del conjunto a 1\n",
    "    elimset = 1\n",
    "\n",
    "    # 5. Iterar mientras no se hayan revisado todos los conjuntos o se encuentre el eliminador k veces\n",
    "    while elimset < k and eliminator in sets[elimset]:\n",
    "      # 6. Búsqueda binaria adaptada para encontrar el eliminador en el conjunto actual\n",
    "      index = fbusq(sets[elimset], eliminator)\n",
    "      comparisons += 1\n",
    "      if index != -1:\n",
    "        # Eliminar el elemento encontrado y desplazar los elementos restantes\n",
    "        sets[elimset].pop(index)\n",
    "      elimset += 1\n",
    "\n",
    "    # 9. Si se encontró el eliminador en k conjuntos, agregarlo al conjunto de respuestas\n",
    "    if elimset == k:\n",
    "      answer.append(eliminator)\n",
    "\n",
    "  end_time = time.process_time()\n",
    "  elapsed_time = end_time - start_time\n",
    "\n",
    "  return answer, comparisons, elapsed_time\n",
    "\n",
    "\n",
    "sets = [[1, 2, 3, 4], [3, 4, 9, 10], [3, 4, 5, 6, 7], [3, 4, 11, 12]]\n",
    "k = len(sets)\n",
    "result, comparaciones, tiempo = SmallAdaptive(sets, k, binary_search)\n",
    "print(result)  # Output: {3, 4}\n",
    "print(comparaciones)\n",
    "print(tiempo)"
   ]
  },
  {
   "cell_type": "code",
   "execution_count": 9,
   "metadata": {},
   "outputs": [
    {
     "name": "stdout",
     "output_type": "stream",
     "text": [
      "True\n"
     ]
    }
   ],
   "source": [
    "listABS_A, timeABS_A, compABS_A = starter(A, binary_search, SvS, 2)\n",
    "listABS_A1, timeABS_A1, compABS_A1 = starter(A, binary_search, SmallAdaptive, 2)\n",
    "if listABS_A == listABS_A1:\n",
    "    print(\"True\")\n"
   ]
  },
  {
   "cell_type": "code",
   "execution_count": 10,
   "metadata": {},
   "outputs": [
    {
     "ename": "KeyboardInterrupt",
     "evalue": "",
     "output_type": "error",
     "traceback": [
      "\u001b[0;31m---------------------------------------------------------------------------\u001b[0m",
      "\u001b[0;31mKeyboardInterrupt\u001b[0m                         Traceback (most recent call last)",
      "Cell \u001b[0;32mIn[10], line 50\u001b[0m\n\u001b[1;32m     48\u001b[0m sets \u001b[38;5;241m=\u001b[39m [[\u001b[38;5;241m1\u001b[39m, \u001b[38;5;241m2\u001b[39m, \u001b[38;5;241m3\u001b[39m, \u001b[38;5;241m4\u001b[39m], [\u001b[38;5;241m3\u001b[39m, \u001b[38;5;241m4\u001b[39m, \u001b[38;5;241m9\u001b[39m, \u001b[38;5;241m10\u001b[39m], [\u001b[38;5;241m3\u001b[39m, \u001b[38;5;241m4\u001b[39m, \u001b[38;5;241m5\u001b[39m, \u001b[38;5;241m6\u001b[39m, \u001b[38;5;241m7\u001b[39m], [\u001b[38;5;241m3\u001b[39m, \u001b[38;5;241m4\u001b[39m, \u001b[38;5;241m11\u001b[39m, \u001b[38;5;241m12\u001b[39m]]\n\u001b[1;32m     49\u001b[0m k \u001b[38;5;241m=\u001b[39m \u001b[38;5;28mlen\u001b[39m(sets)\n\u001b[0;32m---> 50\u001b[0m result, comparaciones, tiempo \u001b[38;5;241m=\u001b[39m \u001b[43mSequential\u001b[49m\u001b[43m(\u001b[49m\u001b[43msets\u001b[49m\u001b[43m,\u001b[49m\u001b[43m \u001b[49m\u001b[43mk\u001b[49m\u001b[43m,\u001b[49m\u001b[43m \u001b[49m\u001b[43mbinary_search\u001b[49m\u001b[43m)\u001b[49m\n\u001b[1;32m     51\u001b[0m \u001b[38;5;28mprint\u001b[39m(result)  \u001b[38;5;66;03m# Output: {3, 4}\u001b[39;00m\n\u001b[1;32m     52\u001b[0m \u001b[38;5;28mprint\u001b[39m(comparaciones)\n",
      "Cell \u001b[0;32mIn[10], line 25\u001b[0m, in \u001b[0;36mSequential\u001b[0;34m(sets, k, fbusq)\u001b[0m\n\u001b[1;32m     22\u001b[0m occurrence_counter \u001b[38;5;241m=\u001b[39m \u001b[38;5;241m0\u001b[39m\n\u001b[1;32m     24\u001b[0m \u001b[38;5;66;03m# 3. Buscar el eliminador en el conjunto actual\u001b[39;00m\n\u001b[0;32m---> 25\u001b[0m index \u001b[38;5;241m=\u001b[39m \u001b[43mfbusq\u001b[49m\u001b[43m(\u001b[49m\u001b[43msets\u001b[49m\u001b[43m[\u001b[49m\u001b[43melimset\u001b[49m\u001b[43m]\u001b[49m\u001b[43m,\u001b[49m\u001b[43m \u001b[49m\u001b[43meliminator\u001b[49m\u001b[43m)\u001b[49m\n\u001b[1;32m     26\u001b[0m comparisons \u001b[38;5;241m+\u001b[39m\u001b[38;5;241m=\u001b[39m \u001b[38;5;241m1\u001b[39m\n\u001b[1;32m     28\u001b[0m \u001b[38;5;66;03m# 4. Si se encuentra el eliminador, incrementar el contador de ocurrencias\u001b[39;00m\n",
      "Cell \u001b[0;32mIn[3], line 5\u001b[0m, in \u001b[0;36mbinary_search\u001b[0;34m(arr, x)\u001b[0m\n\u001b[1;32m      2\u001b[0m low \u001b[38;5;241m=\u001b[39m \u001b[38;5;241m0\u001b[39m\n\u001b[1;32m      3\u001b[0m high \u001b[38;5;241m=\u001b[39m \u001b[38;5;28mlen\u001b[39m(arr) \u001b[38;5;241m-\u001b[39m \u001b[38;5;241m1\u001b[39m\n\u001b[0;32m----> 5\u001b[0m \u001b[38;5;28;01mwhile\u001b[39;00m low \u001b[38;5;241m<\u001b[39m\u001b[38;5;241m=\u001b[39m high:\n\u001b[1;32m      6\u001b[0m   mid \u001b[38;5;241m=\u001b[39m (low \u001b[38;5;241m+\u001b[39m high) \u001b[38;5;241m/\u001b[39m\u001b[38;5;241m/\u001b[39m \u001b[38;5;241m2\u001b[39m\n\u001b[1;32m      7\u001b[0m   \u001b[38;5;28;01mif\u001b[39;00m arr[mid] \u001b[38;5;241m==\u001b[39m x:\n",
      "\u001b[0;31mKeyboardInterrupt\u001b[0m: "
     ]
    }
   ],
   "source": [
    "from bisect import bisect_right\n",
    "\n",
    "def succ(arr, element):\n",
    "\n",
    "    index = bisect_right(arr, element)\n",
    "    if index < len(arr):\n",
    "        return arr[index]\n",
    "    else:\n",
    "        return None\n",
    "\n",
    "def Sequential(sets, k, fbusq):\n",
    "    start_time = time.process_time()\n",
    "    comparisons = 0\n",
    "    answer = []\n",
    "\n",
    "    # 1. Elegir un eliminador inicial y el conjunto inicial\n",
    "    eliminator = sets[0][0]\n",
    "    elimset = 0\n",
    "\n",
    "    # 2. Iterar mientras el eliminador no sea un valor especial (e.g., None)\n",
    "    while eliminator is not None:\n",
    "        occurrence_counter = 0\n",
    "\n",
    "        # 3. Buscar el eliminador en el conjunto actual\n",
    "        index = fbusq(sets[elimset], eliminator)\n",
    "        comparisons += 1\n",
    "\n",
    "        # 4. Si se encuentra el eliminador, incrementar el contador de ocurrencias\n",
    "        if index != -1:\n",
    "            occurrence_counter += 1\n",
    "\n",
    "            # 5. Si el contador de ocurrencias es igual a k, agregar el eliminador a la respuesta\n",
    "            if occurrence_counter == k:\n",
    "                answer.append(eliminator)\n",
    "\n",
    "        # 6. Actualizar eliminador al siguiente elemento o a None si no se encuentra\n",
    "        if index == -1 or occurrence_counter == k:\n",
    "            eliminator = succ(sets[elimset], eliminator)\n",
    "\n",
    "        # 7. Pasar al siguiente conjunto en orden cíclico\n",
    "        elimset = (elimset + 1) % k\n",
    "\n",
    "    end_time = time.process_time()\n",
    "    elapsed_time = end_time - start_time\n",
    "\n",
    "    return answer, comparisons, elapsed_time\n",
    "\n",
    "sets = [[1, 2, 3, 4], [3, 4, 9, 10], [3, 4, 5, 6, 7], [3, 4, 11, 12]]\n",
    "k = len(sets)\n",
    "result, comparaciones, tiempo = Sequential(sets, k, binary_search)\n",
    "print(result)  # Output: {3, 4}\n",
    "print(comparaciones)\n",
    "print(tiempo)"
   ]
  }
 ],
 "metadata": {
  "kernelspec": {
   "display_name": "Python 3",
   "language": "python",
   "name": "python3"
  },
  "language_info": {
   "codemirror_mode": {
    "name": "ipython",
    "version": 3
   },
   "file_extension": ".py",
   "mimetype": "text/x-python",
   "name": "python",
   "nbconvert_exporter": "python",
   "pygments_lexer": "ipython3",
   "version": "3.12.1"
  }
 },
 "nbformat": 4,
 "nbformat_minor": 2
}
