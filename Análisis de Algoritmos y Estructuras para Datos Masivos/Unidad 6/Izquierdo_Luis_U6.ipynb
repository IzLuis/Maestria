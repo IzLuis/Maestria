{
 "cells": [
  {
   "cell_type": "code",
   "execution_count": 27,
   "metadata": {},
   "outputs": [],
   "source": [
    "import numpy as np\n",
    "import json\n",
    "\n",
    "def openLists(route):\n",
    "    val = {}\n",
    "    with open(f'{route}') as file:\n",
    "        for line in file:\n",
    "            data = json.loads(line)\n",
    "            key, values = data\n",
    "            val[key] = np.array(values)\n",
    "        return val\n",
    "    \n",
    "\n",
    "archivo = openLists('listas-posteo-100.json')"
   ]
  },
  {
   "cell_type": "code",
   "execution_count": 73,
   "metadata": {},
   "outputs": [
    {
     "name": "stdout",
     "output_type": "stream",
     "text": [
      "[([0, 4, 5], [6, 7, 8]), ([0, 4, 5], [1, 2, 3, 4, 5]), ([1, 2, 3, 4, 5], [6, 7, 8])]\n"
     ]
    }
   ],
   "source": [
    "import random\n",
    "import itertools\n",
    "listas = list(archivo.values())\n",
    "test = [[0,4,5],[1,2,3,4,5],[6,7,8]]\n",
    "# Generamos todas las posibles combinaciones de 3 listas\n",
    "def generar_combinaciones(listas, n):\n",
    "    return itertools.combinations(listas, n)\n",
    "\n",
    "# Seleccionamos aleatoriamente 1000 combinaciones\n",
    "combinaciones = generar_combinaciones(listas, 2)\n",
    "A = random.sample(list(combinaciones), 1000)\n",
    "combinaciones = generar_combinaciones(listas, 3)\n",
    "B = random.sample(list(combinaciones), 1000)\n",
    "combinaciones = generar_combinaciones(listas, 4)\n",
    "C = random.sample(list(combinaciones), 1000)\n",
    "\n",
    "combinaciones = generar_combinaciones(test, 2)\n",
    "At = random.sample(list(combinaciones), 3)\n",
    "print(At)\n",
    "#print(B)  # Imprime las 1000 combinaciones seleccionadas"
   ]
  },
  {
   "cell_type": "code",
   "execution_count": 29,
   "metadata": {},
   "outputs": [],
   "source": [
    "def adaptive_binary_search(arr, x, last_found_index=0):\n",
    "  \"\"\"\n",
    "  Realiza una búsqueda binaria adaptativa en un arreglo ordenado.\n",
    "\n",
    "  Args:\n",
    "    arr: El arreglo ordenado donde se realizará la búsqueda.\n",
    "    x: El elemento a buscar.\n",
    "    last_found_index: El índice del último elemento encontrado en búsquedas previas.\n",
    "\n",
    "  Returns:\n",
    "    El índice del elemento si se encuentra, -1 en caso contrario.\n",
    "  \"\"\"\n",
    "\n",
    "  low = max(0, last_found_index - 1)  # Iniciar la búsqueda desde el último elemento encontrado o el inicio del arreglo\n",
    "  high = len(arr) - 1\n",
    "\n",
    "  while low <= high:\n",
    "    mid = (low + high) // 2\n",
    "\n",
    "    if arr[mid] == x:\n",
    "      return mid\n",
    "    elif arr[mid] < x:\n",
    "      low = mid + 1\n",
    "    else:\n",
    "      high = mid - 1\n",
    "\n",
    "  return -1"
   ]
  },
  {
   "cell_type": "code",
   "execution_count": 110,
   "metadata": {},
   "outputs": [],
   "source": [
    "def total_binary_search(arr, x):\n",
    "  \"\"\"\n",
    "  Realiza una búsqueda binaria total en un arreglo ordenado.\n",
    "\n",
    "  Args:\n",
    "    arr: El arreglo ordenado donde se realizará la búsqueda.\n",
    "    x: El elemento a buscar.\n",
    "\n",
    "  Returns:\n",
    "    El índice del elemento si se encuentra, -1 en caso contrario.\n",
    "  \"\"\"\n",
    "\n",
    "  low = 0\n",
    "  high = len(arr) - 1\n",
    "\n",
    "  while low <= high:\n",
    "    mid = (low + high) // 2\n",
    "    if arr[mid] == x:\n",
    "      return mid\n",
    "    elif arr[mid] < x:\n",
    "      low = mid + 1\n",
    "    else:\n",
    "      high = mid - 1\n",
    "\n",
    "  return -1"
   ]
  },
  {
   "cell_type": "code",
   "execution_count": 31,
   "metadata": {},
   "outputs": [],
   "source": [
    "def rounded_binary_search(arr, x, last_found_index=0):\n",
    "  \"\"\"\n",
    "  Realiza una búsqueda binaria redondeada en un arreglo ordenado.\n",
    "\n",
    "  Args:\n",
    "    arr: El arreglo ordenado donde se realizará la búsqueda.\n",
    "    x: El elemento a buscar.\n",
    "    last_found_index: El índice del último elemento encontrado en búsquedas previas.\n",
    "\n",
    "  Returns:\n",
    "    El índice del elemento si se encuentra, -1 en caso contrario.\n",
    "  \"\"\"\n",
    "\n",
    "  low = max(0, last_found_index - 1)  # Iniciar la búsqueda desde el último elemento encontrado o el inicio del arreglo\n",
    "  high = len(arr) - 1\n",
    "\n",
    "  while low <= high:\n",
    "    mid = (low + high) // 2\n",
    "\n",
    "    if arr[mid] == x:\n",
    "      return mid\n",
    "    elif arr[mid] < x:\n",
    "      # Si el elemento buscado es mayor, ajustar el límite inferior\n",
    "      # Considerar ajustar el límite inferior más hacia la derecha si las comparaciones anteriores\n",
    "      # indican que el elemento está más cerca de la parte superior del arreglo\n",
    "      low = mid + 1\n",
    "    else:\n",
    "      # Si el elemento buscado es menor, ajustar el límite superior\n",
    "      # Considerar ajustar el límite superior más hacia la izquierda si las comparaciones anteriores\n",
    "      # indican que el elemento está más cerca de la parte inferior del arreglo\n",
    "      high = mid - 1\n",
    "\n",
    "  return -1"
   ]
  },
  {
   "cell_type": "code",
   "execution_count": 115,
   "metadata": {},
   "outputs": [
    {
     "name": "stdout",
     "output_type": "stream",
     "text": [
      "[3]\n"
     ]
    }
   ],
   "source": [
    "def SvS(sets, k):\n",
    "\n",
    "  # 1. Ordenar los conjuntos por tamaño\n",
    "  sets.sort(key=len)\n",
    "\n",
    "  # 2. El conjunto más pequeño es el candidato inicial\n",
    "  candidate_set = sets[0].copy()\n",
    "\n",
    "  # 3. Inicializar índices\n",
    "  indices = [0] * k\n",
    "\n",
    "  # 4. Iterar sobre los conjuntos\n",
    "  for i, S in enumerate(sets):\n",
    "    for e in list(candidate_set):\n",
    "      # 6. Búsqueda binaria redondeada\n",
    "      index = adaptive_binary_search(S[indices[i]:], e)\n",
    "      \n",
    "      if index != -1:\n",
    "        indices[i] += index + 1\n",
    "      else:\n",
    "        # 8-10. Eliminar e del conjunto candidato\n",
    "        candidate_set.remove(e)\n",
    "\n",
    "  return candidate_set\n",
    "\n",
    "# Ejemplo de uso:\n",
    "sets = [[1, 2, 3, 4], [3, 4, 9, 10], [3, 4, 5, 6, 7], [3, 11, 12]]\n",
    "k = len(sets)\n",
    "result = SvS(sets, k)\n",
    "print(result)  # Output: {3}"
   ]
  }
 ],
 "metadata": {
  "kernelspec": {
   "display_name": "Python 3",
   "language": "python",
   "name": "python3"
  },
  "language_info": {
   "codemirror_mode": {
    "name": "ipython",
    "version": 3
   },
   "file_extension": ".py",
   "mimetype": "text/x-python",
   "name": "python",
   "nbconvert_exporter": "python",
   "pygments_lexer": "ipython3",
   "version": "3.12.1"
  }
 },
 "nbformat": 4,
 "nbformat_minor": 2
}
