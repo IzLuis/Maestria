{
 "cells": [
  {
   "cell_type": "markdown",
   "metadata": {},
   "source": [
    "## Introducción"
   ]
  },
  {
   "cell_type": "markdown",
   "metadata": {},
   "source": [
    "## Planteamiento del Problema"
   ]
  },
  {
   "cell_type": "markdown",
   "metadata": {},
   "source": [
    "## Solución"
   ]
  },
  {
   "cell_type": "markdown",
   "metadata": {},
   "source": [
    "## Código"
   ]
  },
  {
   "cell_type": "markdown",
   "metadata": {},
   "source": [
    "## Análisis de los Experimentos"
   ]
  },
  {
   "cell_type": "markdown",
   "metadata": {},
   "source": [
    "## Conclusiones"
   ]
  },
  {
   "cell_type": "markdown",
   "metadata": {},
   "source": [
    "## Referencias Bibliográficas"
   ]
  },
  {
   "cell_type": "markdown",
   "metadata": {},
   "source": [
    "Instrucciones previo a crear el proyecto final:\n",
    "\n",
    "1. En un notebook de Jupyter construye un índice invertido.\n",
    "2. Se utilizará el corpus de texto: pcovid2020.json: tweets sobre COVID19.\n",
    "3. Lee los archivos, cada linea es un diccionario en formato JSON con una llave \"text\" que contienen los mensajes de interés\n",
    "4. Se creará un índice invertido simple, i.e., listas de posteo representadas por listas ordenadas de enteros, y cada lista asociada a una palabra valida. \n",
    "5. Diseña un algoritmo para resolver consultas conjuntivas utilizando el algoritmo de intersección de su elección (recuerde que debe explicar porque eligió ese algoritmo en particular). La idea general es que reutilice una de las implementaciones que se realizaron durante el curso (Sequential con busqueda binaria, Sequential con busqueda galloping, Baeza-Yates con busqueda binaria, Baeza-Yates con busqueda galloping)\n",
    "    - Se sugiere remover palabras comunes (stopwords), puntuaciones y acentos\n",
    "    - Cada mensaje se debe tokenizar separando palabras por espacios\n",
    "    - A cada palabra se le asigna un número, se sugiere usar la función hash disponible en Python\n",
    "    - Se deben generar las listas de posteo (listas de enteros ordenadas), se pueden ver los ejemplos que se dieron en las unidades\n",
    "    - Mediante algoritmos de intersección resolver las consultas conjuntivas.\n",
    "6. Crea una celda en el notebook donde se construya el índice invertido (no importa que se definan las funciones necesarias en otras celdas).\n",
    "7. Cree una celda para especificar las consultas y otra mostrar los resultados\n",
    "\n",
    "Nota: Una consulta conjuntiva se resuelve recuperando documentos que contengan todos los términos especificados por una consulta; esto limita la aplicación de la técnica, pero simplifica los algoritmos."
   ]
  }
 ],
 "metadata": {
  "language_info": {
   "name": "python"
  }
 },
 "nbformat": 4,
 "nbformat_minor": 2
}
