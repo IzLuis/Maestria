{
 "cells": [
  {
   "cell_type": "markdown",
   "metadata": {},
   "source": [
    "# Importar Bibliotecas Necesarias\n",
    "Importar las bibliotecas necesarias, incluyendo json, re, y collections."
   ]
  },
  {
   "cell_type": "code",
   "execution_count": 1,
   "metadata": {},
   "outputs": [],
   "source": [
    "# Importar las bibliotecas necesarias\n",
    "import json\n",
    "import re\n",
    "from collections import defaultdict"
   ]
  },
  {
   "cell_type": "markdown",
   "metadata": {},
   "source": [
    "# Leer y Procesar el Corpus de Texto\n",
    "Leer el archivo pcovid2020.json y procesar cada línea para extraer el texto de los tweets."
   ]
  },
  {
   "cell_type": "code",
   "execution_count": 2,
   "metadata": {},
   "outputs": [
    {
     "ename": "FileNotFoundError",
     "evalue": "[Errno 2] No such file or directory: 'pcovid2020.json'",
     "output_type": "error",
     "traceback": [
      "\u001b[0;31m---------------------------------------------------------------------------\u001b[0m",
      "\u001b[0;31mFileNotFoundError\u001b[0m                         Traceback (most recent call last)",
      "Cell \u001b[0;32mIn[2], line 21\u001b[0m\n\u001b[1;32m     19\u001b[0m \u001b[38;5;66;03m# Leer el archivo y procesar cada línea\u001b[39;00m\n\u001b[1;32m     20\u001b[0m archivo \u001b[38;5;241m=\u001b[39m \u001b[38;5;124m'\u001b[39m\u001b[38;5;124mpcovid2020.json\u001b[39m\u001b[38;5;124m'\u001b[39m\n\u001b[0;32m---> 21\u001b[0m corpus \u001b[38;5;241m=\u001b[39m \u001b[43mleer_corpus\u001b[49m\u001b[43m(\u001b[49m\u001b[43marchivo\u001b[49m\u001b[43m)\u001b[49m\n\u001b[1;32m     22\u001b[0m corpus_procesado \u001b[38;5;241m=\u001b[39m [procesar_texto(texto) \u001b[38;5;28;01mfor\u001b[39;00m texto \u001b[38;5;129;01min\u001b[39;00m corpus]\n\u001b[1;32m     24\u001b[0m \u001b[38;5;66;03m# Mostrar un ejemplo del corpus procesado\u001b[39;00m\n",
      "Cell \u001b[0;32mIn[2], line 5\u001b[0m, in \u001b[0;36mleer_corpus\u001b[0;34m(archivo)\u001b[0m\n\u001b[1;32m      4\u001b[0m \u001b[38;5;28;01mdef\u001b[39;00m \u001b[38;5;21mleer_corpus\u001b[39m(archivo):\n\u001b[0;32m----> 5\u001b[0m     \u001b[38;5;28;01mwith\u001b[39;00m \u001b[38;5;28;43mopen\u001b[39;49m\u001b[43m(\u001b[49m\u001b[43marchivo\u001b[49m\u001b[43m,\u001b[49m\u001b[43m \u001b[49m\u001b[38;5;124;43m'\u001b[39;49m\u001b[38;5;124;43mr\u001b[39;49m\u001b[38;5;124;43m'\u001b[39;49m\u001b[43m,\u001b[49m\u001b[43m \u001b[49m\u001b[43mencoding\u001b[49m\u001b[38;5;241;43m=\u001b[39;49m\u001b[38;5;124;43m'\u001b[39;49m\u001b[38;5;124;43mutf-8\u001b[39;49m\u001b[38;5;124;43m'\u001b[39;49m\u001b[43m)\u001b[49m \u001b[38;5;28;01mas\u001b[39;00m f:\n\u001b[1;32m      6\u001b[0m         corpus \u001b[38;5;241m=\u001b[39m [json\u001b[38;5;241m.\u001b[39mloads(line)[\u001b[38;5;124m'\u001b[39m\u001b[38;5;124mtext\u001b[39m\u001b[38;5;124m'\u001b[39m] \u001b[38;5;28;01mfor\u001b[39;00m line \u001b[38;5;129;01min\u001b[39;00m f]\n\u001b[1;32m      7\u001b[0m     \u001b[38;5;28;01mreturn\u001b[39;00m corpus\n",
      "File \u001b[0;32m~/Library/Python/3.12/lib/python/site-packages/IPython/core/interactiveshell.py:324\u001b[0m, in \u001b[0;36m_modified_open\u001b[0;34m(file, *args, **kwargs)\u001b[0m\n\u001b[1;32m    317\u001b[0m \u001b[38;5;28;01mif\u001b[39;00m file \u001b[38;5;129;01min\u001b[39;00m {\u001b[38;5;241m0\u001b[39m, \u001b[38;5;241m1\u001b[39m, \u001b[38;5;241m2\u001b[39m}:\n\u001b[1;32m    318\u001b[0m     \u001b[38;5;28;01mraise\u001b[39;00m \u001b[38;5;167;01mValueError\u001b[39;00m(\n\u001b[1;32m    319\u001b[0m         \u001b[38;5;124mf\u001b[39m\u001b[38;5;124m\"\u001b[39m\u001b[38;5;124mIPython won\u001b[39m\u001b[38;5;124m'\u001b[39m\u001b[38;5;124mt let you open fd=\u001b[39m\u001b[38;5;132;01m{\u001b[39;00mfile\u001b[38;5;132;01m}\u001b[39;00m\u001b[38;5;124m by default \u001b[39m\u001b[38;5;124m\"\u001b[39m\n\u001b[1;32m    320\u001b[0m         \u001b[38;5;124m\"\u001b[39m\u001b[38;5;124mas it is likely to crash IPython. If you know what you are doing, \u001b[39m\u001b[38;5;124m\"\u001b[39m\n\u001b[1;32m    321\u001b[0m         \u001b[38;5;124m\"\u001b[39m\u001b[38;5;124myou can use builtins\u001b[39m\u001b[38;5;124m'\u001b[39m\u001b[38;5;124m open.\u001b[39m\u001b[38;5;124m\"\u001b[39m\n\u001b[1;32m    322\u001b[0m     )\n\u001b[0;32m--> 324\u001b[0m \u001b[38;5;28;01mreturn\u001b[39;00m \u001b[43mio_open\u001b[49m\u001b[43m(\u001b[49m\u001b[43mfile\u001b[49m\u001b[43m,\u001b[49m\u001b[43m \u001b[49m\u001b[38;5;241;43m*\u001b[39;49m\u001b[43margs\u001b[49m\u001b[43m,\u001b[49m\u001b[43m \u001b[49m\u001b[38;5;241;43m*\u001b[39;49m\u001b[38;5;241;43m*\u001b[39;49m\u001b[43mkwargs\u001b[49m\u001b[43m)\u001b[49m\n",
      "\u001b[0;31mFileNotFoundError\u001b[0m: [Errno 2] No such file or directory: 'pcovid2020.json'"
     ]
    }
   ],
   "source": [
    "# Leer y Procesar el Corpus de Texto\n",
    "\n",
    "# Definir la función para leer y procesar el archivo JSON\n",
    "def leer_corpus(archivo):\n",
    "    with open(archivo, 'r', encoding='utf-8') as f:\n",
    "        corpus = [json.loads(line)['text'] for line in f]\n",
    "    return corpus\n",
    "\n",
    "# Procesar el texto de los tweets\n",
    "def procesar_texto(texto):\n",
    "    # Convertir a minúsculas\n",
    "    texto = texto.lower()\n",
    "    # Remover puntuaciones y acentos\n",
    "    texto = re.sub(r'[^\\w\\s]', '', texto)\n",
    "    # Tokenizar el texto\n",
    "    palabras = texto.split()\n",
    "    return palabras\n",
    "\n",
    "# Leer el archivo y procesar cada línea\n",
    "archivo = 'pcovid2020.json'\n",
    "corpus = leer_corpus(archivo)\n",
    "corpus_procesado = [procesar_texto(texto) for texto in corpus]\n",
    "\n",
    "# Mostrar un ejemplo del corpus procesado\n",
    "print(corpus_procesado[:1])"
   ]
  },
  {
   "cell_type": "markdown",
   "metadata": {},
   "source": [
    "# Construir el Índice Invertido\n",
    "Construir un índice invertido simple con listas de posteo representadas por listas ordenadas de enteros, asociadas a palabras válidas."
   ]
  },
  {
   "cell_type": "code",
   "execution_count": null,
   "metadata": {},
   "outputs": [],
   "source": [
    "# Construir el Índice Invertido\n",
    "\n",
    "# Crear el índice invertido\n",
    "indice_invertido = defaultdict(list)\n",
    "\n",
    "# Asignar un número a cada palabra usando la función hash\n",
    "for doc_id, texto in enumerate(corpus_procesado):\n",
    "    for palabra in texto:\n",
    "        palabra_hash = hash(palabra)\n",
    "        if doc_id not in indice_invertido[palabra_hash]:\n",
    "            indice_invertido[palabra_hash].append(doc_id)\n",
    "\n",
    "# Ordenar las listas de posteo\n",
    "for palabra_hash in indice_invertido:\n",
    "    indice_invertido[palabra_hash].sort()\n",
    "\n",
    "# Mostrar un ejemplo del índice invertido\n",
    "print(dict(list(indice_invertido.items())[:5]))"
   ]
  },
  {
   "cell_type": "markdown",
   "metadata": {},
   "source": [
    "# Definir Funciones para Consultas Conjuntivas\n",
    "Definir funciones para resolver consultas conjuntivas utilizando algoritmos de intersección, como búsqueda binaria y búsqueda galloping."
   ]
  },
  {
   "cell_type": "code",
   "execution_count": null,
   "metadata": {},
   "outputs": [],
   "source": [
    "# Definir Funciones para Consultas Conjuntivas\n",
    "\n",
    "# Función para realizar búsqueda binaria\n",
    "def busqueda_binaria(lista, elemento):\n",
    "    izquierda, derecha = 0, len(lista) - 1\n",
    "    while izquierda <= derecha:\n",
    "        medio = (izquierda + derecha) // 2\n",
    "        if lista[medio] == elemento:\n",
    "            return medio\n",
    "        elif lista[medio] < elemento:\n",
    "            izquierda = medio + 1\n",
    "        else:\n",
    "            derecha = medio - 1\n",
    "    return -1\n",
    "\n",
    "# Función para realizar búsqueda galloping\n",
    "def busqueda_galloping(lista, elemento):\n",
    "    if not lista:\n",
    "        return -1\n",
    "    if lista[0] == elemento:\n",
    "        return 0\n",
    "    i = 1\n",
    "    while i < len(lista) and lista[i] < elemento:\n",
    "        i *= 2\n",
    "    izquierda, derecha = i // 2, min(i, len(lista))\n",
    "    return busqueda_binaria(lista[izquierda:derecha], elemento)\n",
    "\n",
    "# Función para intersección de listas usando búsqueda binaria\n",
    "def interseccion_binaria(lista1, lista2):\n",
    "    resultado = []\n",
    "    for elemento in lista1:\n",
    "        if busqueda_binaria(lista2, elemento) != -1:\n",
    "            resultado.append(elemento)\n",
    "    return resultado\n",
    "\n",
    "# Función para intersección de listas usando búsqueda galloping\n",
    "def interseccion_galloping(lista1, lista2):\n",
    "    resultado = []\n",
    "    for elemento in lista1:\n",
    "        if busqueda_galloping(lista2, elemento) != -1:\n",
    "            resultado.append(elemento)\n",
    "    return resultado\n",
    "\n",
    "# Función para resolver consultas conjuntivas\n",
    "def resolver_consulta(consulta, metodo='binaria'):\n",
    "    palabras = procesar_texto(consulta)\n",
    "    listas_posteo = [indice_invertido[hash(palabra)] for palabra in palabras if hash(palabra) in indice_invertido]\n",
    "    \n",
    "    if not listas_posteo:\n",
    "        return []\n",
    "    \n",
    "    listas_posteo.sort(key=len)\n",
    "    resultado = listas_posteo[0]\n",
    "    \n",
    "    for lista in listas_posteo[1:]:\n",
    "        if metodo == 'binaria':\n",
    "            resultado = interseccion_binaria(resultado, lista)\n",
    "        elif metodo == 'galloping':\n",
    "            resultado = interseccion_galloping(resultado, lista)\n",
    "    \n",
    "    return resultado\n",
    "\n",
    "# Ejemplo de uso de la función resolver_consulta\n",
    "consulta = \"vacuna covid\"\n",
    "resultados = resolver_consulta(consulta, metodo='binaria')\n",
    "print(resultados)"
   ]
  },
  {
   "cell_type": "markdown",
   "metadata": {},
   "source": [
    "# Construir el Índice Invertido en una Celda\n",
    "Crear una celda en el notebook donde se construya el índice invertido utilizando las funciones definidas."
   ]
  },
  {
   "cell_type": "code",
   "execution_count": null,
   "metadata": {},
   "outputs": [],
   "source": [
    "# Construir el Índice Invertido en una Celda\n",
    "\n",
    "# Crear el índice invertido\n",
    "indice_invertido = defaultdict(list)\n",
    "\n",
    "# Asignar un número a cada palabra usando la función hash\n",
    "for doc_id, texto in enumerate(corpus_procesado):\n",
    "    for palabra in texto:\n",
    "        palabra_hash = hash(palabra)\n",
    "        if doc_id not in indice_invertido[palabra_hash]:\n",
    "            indice_invertido[palabra_hash].append(doc_id)\n",
    "\n",
    "# Ordenar las listas de posteo\n",
    "for palabra_hash in indice_invertido:\n",
    "    indice_invertido[palabra_hash].sort()\n",
    "\n",
    "# Mostrar un ejemplo del índice invertido\n",
    "print(dict(list(indice_invertido.items())[:5]))"
   ]
  },
  {
   "cell_type": "markdown",
   "metadata": {},
   "source": [
    "# Especificar Consultas\n",
    "Crear una celda para especificar las consultas conjuntivas que se desean resolver."
   ]
  },
  {
   "cell_type": "code",
   "execution_count": null,
   "metadata": {},
   "outputs": [],
   "source": [
    "# Especificar Consultas\n",
    "\n",
    "# Crear una celda para especificar las consultas conjuntivas que se desean resolver\n",
    "consultas = [\n",
    "    \"vacuna covid\",\n",
    "    \"mascarilla prevención\",\n",
    "    \"síntomas fiebre\",\n",
    "    \"distanciamiento social\",\n",
    "    \"tratamiento hospital\"\n",
    "]\n",
    "\n",
    "# Resolver cada consulta y mostrar los resultados\n",
    "for consulta in consultas:\n",
    "    resultados = resolver_consulta(consulta, metodo='binaria')\n",
    "    print(f\"Consulta: '{consulta}' -> Resultados: {resultados}\")"
   ]
  },
  {
   "cell_type": "markdown",
   "metadata": {},
   "source": [
    "# Mostrar Resultados de las Consultas\n",
    "Crear una celda para mostrar los resultados de las consultas conjuntivas resueltas."
   ]
  },
  {
   "cell_type": "code",
   "execution_count": null,
   "metadata": {},
   "outputs": [],
   "source": [
    "# Mostrar Resultados de las Consultas\n",
    "\n",
    "# Crear una celda para mostrar los resultados de las consultas conjuntivas resueltas\n",
    "for consulta in consultas:\n",
    "    resultados = resolver_consulta(consulta, metodo='binaria')\n",
    "    print(f\"Consulta: '{consulta}' -> Resultados: {resultados}\")"
   ]
  }
 ],
 "metadata": {
  "kernelspec": {
   "display_name": "Python 3",
   "language": "python",
   "name": "python3"
  },
  "language_info": {
   "codemirror_mode": {
    "name": "ipython",
    "version": 3
   },
   "file_extension": ".py",
   "mimetype": "text/x-python",
   "name": "python",
   "nbconvert_exporter": "python",
   "pygments_lexer": "ipython3",
   "version": "3.12.1"
  }
 },
 "nbformat": 4,
 "nbformat_minor": 2
}
