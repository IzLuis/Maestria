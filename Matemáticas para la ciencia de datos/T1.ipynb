{
 "cells": [
  {
   "cell_type": "markdown",
   "metadata": {},
   "source": [
    "# Tarea 1\n",
    "Durante los últimos 65 años, la población en México ha crecido poco más de cuatro veces. En 1950 había 25.8 millones de personas y en 2015 la población llegó a 119.5 millones.\n",
    "La tabla siguiente muestra la población de nuestro país en el período de 1950 a 2015 de acuerdo al Instituto Nacional de Estadística y Geografía (INEGI).\n",
    "\n",
    "|1950|1960|1970|1980|1990|2000|2010|2015|\n",
    "|----|----|----|----|----|----|----|----|\n",
    "|25.8|34.9|48.2|66.8|81.2|97.5|112.3|119.5|\n",
    "\n",
    "### Actividades a realizar\n",
    "1. Establecer un modelo de crecimiento poblacional basado en el Modelo Logístico utilizando los datos de 3 distintos años de la tabla.\n",
    "2. Crear una tabla para comparar la población real con los valores pronosticados por el modelo.\n",
    "3. Calcular del porcentaje de error para cada par de datos.\n",
    "4. Dar una conclusión acerca del modelo propuesto y su efectividad.\n"
   ]
  },
  {
   "cell_type": "markdown",
   "metadata": {},
   "source": [
    "Modelo logístico:\n",
    "\n",
    "$\\frac{dP}{dt} = kP(1-\\frac{P}{K})$\n",
    "\n",
    "- `P(t)` representa la cantidad de población o la variable de interés en el tiempo t,\n",
    "- `K` se le conoce como la barrera poblacional o capacidad de carga, es decir, es la máxima población sostenida por el ambiente,\n",
    "- `k` es la tasa de crecimiento y representa la tasa intrínseca de crecimiento de la población cuando la población es pequeña y no hay limitaciones de recursos.\n",
    "\n",
    "Integrando por fracciones parciales, obtenemos:\n",
    "\n",
    "$P(t) = \\frac{K}{1+Ce^{-kt}}$"
   ]
  },
  {
   "cell_type": "markdown",
   "metadata": {},
   "source": [
    "Para $t = 1950$ sabemos que $P = 25.8$, por lo tanto:\n",
    "$25.8 = \\frac{K}{1+Ce^{-1950k}}$\n",
    "\n",
    "Para $t = 1960$ sabemos que $P = 34.9$, por lo tanto:\n",
    "$34.9 = \\frac{K}{1+Ce^{-1960k}}$\n",
    "\n",
    "Despejando ambas ecuaciones para K:\n",
    "\n",
    "$K = (25.8)(1+Ce^{-1950k})$\n",
    "\n",
    "$K = (34.9)(1+Ce^{-1960k})$\n",
    "\n",
    "$(25.8)(1+Ce^{-1950k}) = (34.9)(1+Ce^{-1960k})$"
   ]
  },
  {
   "cell_type": "markdown",
   "metadata": {},
   "source": [
    "$25.8+25.8e^{-1950k}C = 34.9 + 34.9e^{-1960k}C$\n",
    "\n",
    "$25.8e^{-1950k}C = 9.1 + 34.9e^{-1960k}C$\n",
    "\n",
    "$25.8e^{-1950k} = \\frac{9.1}{C} + 34.9e^{-1960k}$\n",
    "\n",
    "$(ln25.8)(-1950k) = ln\\frac{9.1}{C} + (ln34.9)(-1960k)$\n",
    "\n",
    "$(-6338.23k) = ln\\frac{9.1}{C} + (-6962.87k)$\n",
    "\n",
    "$-6338.23k + 6962.87k = ln\\frac{9.1}{C}$\n",
    "\n",
    "$623.36k = ln\\frac{9.1}{C}$\n",
    "\n",
    "$623.36k = ln9.1 - lnC$\n",
    "\n",
    "$623.36k = 2.2 - lnC$\n",
    "\n",
    "$k = \\frac{2.2}{623.36} - \\frac {lnC}{623.36}$\n",
    "\n",
    "$k = 0.00354 - \\frac {lnC}{623.36}$"
   ]
  },
  {
   "cell_type": "markdown",
   "metadata": {},
   "source": [
    "$K = (25.8)(1+Ce^{-1950(0.00354 - \\frac {lnC}{623.36})})$\n",
    "\n",
    "$C = \\frac{K-P_0}{P_0}$\n",
    "\n",
    "$C = \\frac{(25.8)(1+Ce^{-1950(0.00354 - \\frac {lnC}{623.36})})-25.8}{25.8}$\n",
    "\n",
    "$25.8C = (25.8)(1+Ce^{-1950(0.00354 - \\frac {lnC}{623.36})})-25.8$\n",
    "\n",
    "$25.8C = (25.8Ce^{-1950(0.00354 - \\frac {lnC}{623.36})})$\n",
    "\n",
    "$25.8C = (25.8C)(e^{-1950(0.00354 - \\frac {lnC}{623.36})})$\n",
    "\n",
    "$1 = e^{-1950(0.00354 - \\frac {lnC}{623.36})}$\n",
    "\n",
    "$0 = -1950(0.00354 - \\frac {lnC}{623.36})$\n",
    "\n",
    "$0 = 6.903 + (1950)(\\frac {lnC}{623.36})$\n",
    "\n",
    "$0 = 6.903 + (\\frac {1950lnC}{623.36})$\n",
    "\n",
    "$0 = 4303.05 + 1950 lnC$\n",
    "\n",
    "$lnC = - \\frac{4303.05}{1950}$\n",
    "\n",
    "$lnC = -2.207$\n",
    "\n",
    "$C = \\frac{1}{e^{2.207}}$\n",
    "\n",
    "$K = (25.8)(1+\\frac{1}{e^{2.207}}e^{-1950(0.00354 - \\frac {ln\\frac{1}{e^{2.207}}}{623.36})})$\n",
    "\n",
    "$K = 25.8+\\frac{25.8}{e^{2.207}}e^{-1950(0.00354 - \\frac {ln\\frac{1}{e^{2.207}}}{623.36})}$\n",
    "\n",
    "$K = 25.8+2.8387e^{-1950(0.00354 - \\frac {ln\\frac{1}{e^{2.207}}}{623.36})}$\n",
    "\n",
    "$K = 25.8+2.8387e^{-1950(0.00354 - \\frac {-2.207}{623.36})}$\n",
    "\n",
    "$K = 25.8+2.8387e^{-1950(0.00354 + 0.00354)}$\n",
    "\n",
    "$K = 25.8+2.8387e^{-1950(0.00708)}$\n",
    "\n",
    "$K = 25.8+2.8387e^{-13.806}$\n",
    "\n",
    "$K = 25.80000287$\n"
   ]
  },
  {
   "cell_type": "markdown",
   "metadata": {},
   "source": [
    "$k = 0.00354 - \\frac {-2.207}{623.36}$\n",
    "\n",
    "$k = 0.00708049$"
   ]
  },
  {
   "cell_type": "markdown",
   "metadata": {},
   "source": [
    "$P(t) = \\frac{K}{1+Ce^{-kt}}$\n",
    "\n",
    "$P(1950) = \\frac{25.80000287}{1+(\\frac{1}{e^{-2.207}})e^{-(0.00708049)(1950)}}$"
   ]
  },
  {
   "cell_type": "code",
   "execution_count": 13,
   "metadata": {},
   "outputs": [
    {
     "data": {
      "text/html": [
       "<div>\n",
       "<style scoped>\n",
       "    .dataframe tbody tr th:only-of-type {\n",
       "        vertical-align: middle;\n",
       "    }\n",
       "\n",
       "    .dataframe tbody tr th {\n",
       "        vertical-align: top;\n",
       "    }\n",
       "\n",
       "    .dataframe thead th {\n",
       "        text-align: right;\n",
       "    }\n",
       "</style>\n",
       "<table border=\"1\" class=\"dataframe\">\n",
       "  <thead>\n",
       "    <tr style=\"text-align: right;\">\n",
       "      <th></th>\n",
       "      <th>year</th>\n",
       "      <th>population</th>\n",
       "    </tr>\n",
       "  </thead>\n",
       "  <tbody>\n",
       "    <tr>\n",
       "      <th>0</th>\n",
       "      <td>1950</td>\n",
       "      <td>25.8</td>\n",
       "    </tr>\n",
       "    <tr>\n",
       "      <th>1</th>\n",
       "      <td>1980</td>\n",
       "      <td>66.8</td>\n",
       "    </tr>\n",
       "    <tr>\n",
       "      <th>2</th>\n",
       "      <td>2015</td>\n",
       "      <td>119.5</td>\n",
       "    </tr>\n",
       "  </tbody>\n",
       "</table>\n",
       "</div>"
      ],
      "text/plain": [
       "   year  population\n",
       "0  1950        25.8\n",
       "1  1980        66.8\n",
       "2  2015       119.5"
      ]
     },
     "execution_count": 13,
     "metadata": {},
     "output_type": "execute_result"
    }
   ],
   "source": [
    "import numpy as np\n",
    "import pandas as pd\n",
    "import matplotlib.pyplot as plt\n",
    "from scipy.optimize import curve_fit\n",
    "\n",
    "# Sample data (replace with your actual data)\n",
    "data = {'year': [1950, 1980, 2015],\n",
    "        'population': [25.8, 66.8, 119.5]}  # Population in millions\n",
    "\n",
    "df = pd.DataFrame(data)\n",
    "df"
   ]
  },
  {
   "cell_type": "code",
   "execution_count": 14,
   "metadata": {},
   "outputs": [
    {
     "name": "stderr",
     "output_type": "stream",
     "text": [
      "/var/folders/v3/6n107fw10yb9ryc5t5mmqw5c0000gp/T/ipykernel_1813/1181419068.py:32: OptimizeWarning: Covariance of the parameters could not be estimated\n",
      "  popt, pcov = curve_fit(logistic_function, xdata, ydata, p0=p0)\n"
     ]
    }
   ],
   "source": [
    "def logistic_function(t, K, r, P0):\n",
    "  \"\"\"\n",
    "  Logistic function for population growth.\n",
    "\n",
    "  Args:\n",
    "    t: Time (years)\n",
    "    K: Carrying capacity\n",
    "    r: Growth rate\n",
    "    P0: Initial population\n",
    "\n",
    "  Returns:\n",
    "    Population at time t\n",
    "  \"\"\"\n",
    "  return K / (1 + np.exp(-r * (t - P0)))\n",
    "\n",
    "def fit_logistic_model(df):\n",
    "  \"\"\"\n",
    "  Fits a logistic model to the population data.\n",
    "\n",
    "  Args:\n",
    "    df: DataFrame with 'year' and 'population' columns\n",
    "\n",
    "  Returns:\n",
    "    Fitted parameters (K, r, P0)\n",
    "  \"\"\"\n",
    "  xdata = df['year']\n",
    "  ydata = df['population']\n",
    "\n",
    "  # Initial parameter guesses\n",
    "  p0 = [150, 0.03, 1950]  # Adjust initial guesses as needed\n",
    "\n",
    "  popt, pcov = curve_fit(logistic_function, xdata, ydata, p0=p0)\n",
    "\n",
    "  return popt\n",
    "\n",
    "# Fit the model\n",
    "params = fit_logistic_model(df)\n",
    "K, r, P0 = params\n"
   ]
  },
  {
   "cell_type": "code",
   "execution_count": 15,
   "metadata": {},
   "outputs": [
    {
     "data": {
      "image/png": "[encoded data removed]",
      "text/plain": [
       "<Figure size 640x480 with 1 Axes>"
      ]
     },
     "metadata": {},
     "output_type": "display_data"
    }
   ],
   "source": [
    "def plot_logistic_model(df, params):\n",
    "  \"\"\"\n",
    "  Plots the population data and the fitted logistic curve.\n",
    "\n",
    "  Args:\n",
    "    df: DataFrame with 'year' and 'population' columns\n",
    "    params: Fitted parameters (K, r, P0)\n",
    "  \"\"\"\n",
    "  xdata = df['year']\n",
    "  ydata = df['population']\n",
    "\n",
    "  t = np.linspace(xdata.min(), xdata.max(), 100)\n",
    "  y_pred = logistic_function(t, *params)\n",
    "\n",
    "  plt.plot(xdata, ydata, 'o', label='Data')\n",
    "  plt.plot(t, y_pred, '-', label='Logistic Model')\n",
    "  plt.xlabel('Year')\n",
    "  plt.ylabel('Population (millions)')\n",
    "  plt.legend()\n",
    "  plt.show()\n",
    "\n",
    "# Plot the results\n",
    "plot_logistic_model(df, params)\n"
   ]
  }
 ],
 "metadata": {
  "kernelspec": {
   "display_name": "Python 3",
   "language": "python",
   "name": "python3"
  },
  "language_info": {
   "codemirror_mode": {
    "name": "ipython",
    "version": 3
   },
   "file_extension": ".py",
   "mimetype": "text/x-python",
   "name": "python",
   "nbconvert_exporter": "python",
   "pygments_lexer": "ipython3",
   "version": "3.12.1"
  }
 },
 "nbformat": 4,
 "nbformat_minor": 2
}
