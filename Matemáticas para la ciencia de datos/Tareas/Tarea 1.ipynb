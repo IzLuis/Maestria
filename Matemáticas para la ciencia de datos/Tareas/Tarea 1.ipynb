{
 "cells": [
  {
   "cell_type": "markdown",
   "metadata": {},
   "source": [
    "# Tarea 1\n",
    "Durante los últimos 65 años, la población en México ha crecido poco más de cuatro veces. En 1950 había 25.8 millones de personas y en 2015 la población llegó a 119.5 millones.\n",
    "La tabla siguiente muestra la población de nuestro país en el período de 1950 a 2015 de acuerdo al Instituto Nacional de Estadística y Geografía (INEGI).\n",
    "\n",
    "|1950|1960|1970|1980|1990|2000|2010|2015|\n",
    "|----|----|----|----|----|----|----|----|\n",
    "|25.8|34.9|48.2|66.8|81.2|97.5|112.3|119.5|\n",
    "\n",
    "### Actividades a realizar\n",
    "1. Establecer un modelo de crecimiento poblacional basado en el Modelo Logístico utilizando los datos de 3 distintos años de la tabla.\n",
    "2. Crear una tabla para comparar la población real con los valores pronosticados por el modelo.\n",
    "3. Calcular del porcentaje de error para cada par de datos.\n",
    "4. Dar una conclusión acerca del modelo propuesto y su efectividad.\n"
   ]
  },
  {
   "cell_type": "markdown",
   "metadata": {},
   "source": [
    "Modelo logístico:\n",
    "\n",
    "### $\\frac{dP}{dt} = kP(1-\\frac{P}{K})$\n",
    "\n",
    "- `P(t)` representa la cantidad de población o la variable de interés en el tiempo t,\n",
    "- `K` se le conoce como la barrera poblacional o capacidad de carga, es decir, es la máxima población sostenida por el ambiente,\n",
    "- `k` es la tasa de crecimiento y representa la tasa intrínseca de crecimiento de la población cuando la población es pequeña y no hay limitaciones de recursos.\n",
    "\n",
    "Integrando por fracciones parciales, obtenemos:\n",
    "\n",
    "### $P(t) = \\frac{K}{1+Ce^{-kt}}$"
   ]
  },
  {
   "cell_type": "markdown",
   "metadata": {},
   "source": [
    "Para ejecutar este modelo en Python, primero vamos a importar datos, para crear el modelo de crecimiento, se escogieron los datos de los años 1950, 1970 y 2010"
   ]
  },
  {
   "cell_type": "code",
   "execution_count": 1,
   "metadata": {},
   "outputs": [
    {
     "data": {
      "text/html": [
       "<div>\n",
       "<style scoped>\n",
       "    .dataframe tbody tr th:only-of-type {\n",
       "        vertical-align: middle;\n",
       "    }\n",
       "\n",
       "    .dataframe tbody tr th {\n",
       "        vertical-align: top;\n",
       "    }\n",
       "\n",
       "    .dataframe thead th {\n",
       "        text-align: right;\n",
       "    }\n",
       "</style>\n",
       "<table border=\"1\" class=\"dataframe\">\n",
       "  <thead>\n",
       "    <tr style=\"text-align: right;\">\n",
       "      <th></th>\n",
       "      <th>fecha</th>\n",
       "      <th>poblacion</th>\n",
       "    </tr>\n",
       "  </thead>\n",
       "  <tbody>\n",
       "    <tr>\n",
       "      <th>0</th>\n",
       "      <td>1950</td>\n",
       "      <td>25.8</td>\n",
       "    </tr>\n",
       "    <tr>\n",
       "      <th>1</th>\n",
       "      <td>1970</td>\n",
       "      <td>48.2</td>\n",
       "    </tr>\n",
       "    <tr>\n",
       "      <th>2</th>\n",
       "      <td>2010</td>\n",
       "      <td>112.3</td>\n",
       "    </tr>\n",
       "  </tbody>\n",
       "</table>\n",
       "</div>"
      ],
      "text/plain": [
       "   fecha  poblacion\n",
       "0   1950       25.8\n",
       "1   1970       48.2\n",
       "2   2010      112.3"
      ]
     },
     "execution_count": 1,
     "metadata": {},
     "output_type": "execute_result"
    }
   ],
   "source": [
    "import numpy as np\n",
    "import pandas as pd\n",
    "import matplotlib.pyplot as plt\n",
    "from scipy.optimize import curve_fit\n",
    "\n",
    "data = {'fecha': [1950, 1970, 2010],\n",
    "        'poblacion': [25.8, 48.2, 112.3]}\n",
    "\n",
    "df = pd.DataFrame(data)\n",
    "df"
   ]
  },
  {
   "cell_type": "markdown",
   "metadata": {},
   "source": [
    "A continuación, se hará la definición de la función logística, cambiaremos la variable k (minúscula) por la variable r, para ejecutar correctamente el código. De igual manera, usaremos\n",
    "\n",
    "### $P(t) = \\frac{K}{1 + Ae^{-rt}}$\n",
    "\n",
    "Se evalúa una condición inicial y despejamos A\n",
    "\n",
    "### $P(0) = P0 = \\frac{K}{1 + A}$\n",
    "\n",
    "### $A = \\frac{K}{P_0}-1$\n",
    "\n",
    "Sustituimos en la ecuación logística\n",
    "### $P(t) = \\frac{K}{1 + (\\frac{K}{P0} - 1)e^{-rt}}$\n",
    "\n",
    "Despejando obtenemos\n",
    "\n",
    "### $P(t) = \\frac{K}{1+e^{-r(t-P_0)}}$\n",
    "\n",
    "Esta ecuación será la que utilicemos dentro del modelo de Python"
   ]
  },
  {
   "cell_type": "code",
   "execution_count": 2,
   "metadata": {},
   "outputs": [],
   "source": [
    "def funcion_logistica(t, K, r, P0):\n",
    "  \"\"\"\n",
    "  Args:\n",
    "    t: tiempo (años)\n",
    "    K: capacidad de cargar\n",
    "    r: tasa de crecimiento\n",
    "    P0: población inicial\n",
    "  \"\"\"\n",
    "  return K / (1 + np.exp(-r * (t - P0)))"
   ]
  },
  {
   "cell_type": "markdown",
   "metadata": {},
   "source": [
    "Lo siguiente será crear una función para encontrar los valores óptimos de los parámetros del modelo ($K$, $r$ y $P_0$).\n",
    "\n",
    "Esta función tomará de entrada el dataframe creado con los datos y los dividirá en fecha y población en xdata e ydata respectivamente.\n",
    "\n",
    "Lo siguiente sería establecer valores iniciales de $K$, $r$ y $P_0$ como una estimación inicial, para posteriormente usar la función curve_fit de scipy que realiza el ajuste no lineal, esta función compara las predicciones del modelo logístico con los datos reales y ajusta los parámetros para que se minimice el error. Esto devolvera los parametros optimizados."
   ]
  },
  {
   "cell_type": "code",
   "execution_count": 17,
   "metadata": {},
   "outputs": [
    {
     "name": "stdout",
     "output_type": "stream",
     "text": [
      "170.82067130358314\n",
      "0.039638260255862166\n",
      "1993.5564474803411\n"
     ]
    },
    {
     "name": "stderr",
     "output_type": "stream",
     "text": [
      "/var/folders/v3/6n107fw10yb9ryc5t5mmqw5c0000gp/T/ipykernel_5683/1159382986.py:8: OptimizeWarning: Covariance of the parameters could not be estimated\n",
      "  p_opt, pcov = curve_fit(funcion_logistica, xdata, ydata, p0=p0)\n"
     ]
    }
   ],
   "source": [
    "def optimizar_valores(df):\n",
    "\n",
    "  xdata = df['fecha']\n",
    "  ydata = df['poblacion']\n",
    "\n",
    "  p0 = [150, 0.03, 1950]\n",
    "\n",
    "  p_opt, pcov = curve_fit(funcion_logistica, xdata, ydata, p0=p0)\n",
    "\n",
    "  return p_opt\n",
    "\n",
    "# Fit the model\n",
    "params = optimizar_valores(df)\n",
    "K, r, P0 = params\n",
    "print(K)\n",
    "print(r)\n",
    "print(P0)"
   ]
  },
  {
   "cell_type": "markdown",
   "metadata": {},
   "source": [
    "Sustituyendo los datos obtenidos en el modelo inicial, queda:\n",
    "\n",
    "### $P(t) = \\frac{170.82}{1+e^{-0.0396(t-1993.55)}}$\n",
    "\n",
    "Si evaluamos para varios casos, obtenemos:"
   ]
  },
  {
   "cell_type": "code",
   "execution_count": 26,
   "metadata": {},
   "outputs": [
    {
     "name": "stdout",
     "output_type": "stream",
     "text": [
      "Poblacion en 1950: 25.800000000000043\n",
      "Poblacion en 1990: 79.40007890581573\n",
      "Poblacion en 2010: 112.30000000000007\n",
      "Poblacion en 2015: 119.67081620783293\n"
     ]
    }
   ],
   "source": [
    "test = funcion_logistica(1950, *params)\n",
    "print(\"Poblacion en 1950: %s\" % test)\n",
    "\n",
    "test = funcion_logistica(1990, *params)\n",
    "print(\"Poblacion en 1990: %s\" % test)\n",
    "\n",
    "test = funcion_logistica(2010, *params)\n",
    "print(\"Poblacion en 2010: %s\" % test)\n",
    "\n",
    "test = funcion_logistica(2015, *params)\n",
    "print(\"Poblacion en 2015: %s\" % test)"
   ]
  },
  {
   "cell_type": "code",
   "execution_count": 27,
   "metadata": {},
   "outputs": [
    {
     "data": {
      "image/png": "[encoded data removed]",
      "text/plain": [
       "<Figure size 640x480 with 1 Axes>"
      ]
     },
     "metadata": {},
     "output_type": "display_data"
    }
   ],
   "source": [
    "def graficar_modelo(df, params):\n",
    "\n",
    "  xdata = df['fecha']\n",
    "  ydata = df['poblacion']\n",
    "\n",
    "  t = np.linspace(xdata.min(), xdata.max(), 100)\n",
    "  y_pred = funcion_logistica(t, *params)\n",
    "\n",
    "  plt.plot(xdata, ydata, 'o', label='Datos')\n",
    "  plt.plot(t, y_pred, '-', label='Modelo logístico')\n",
    "  plt.xlabel('Año')\n",
    "  plt.ylabel('Poblacion (millones)')\n",
    "  plt.legend()\n",
    "  plt.show()\n",
    "\n",
    "# Plot the results\n",
    "graficar_modelo(df, params)\n"
   ]
  }
 ],
 "metadata": {
  "kernelspec": {
   "display_name": "Python 3",
   "language": "python",
   "name": "python3"
  },
  "language_info": {
   "codemirror_mode": {
    "name": "ipython",
    "version": 3
   },
   "file_extension": ".py",
   "mimetype": "text/x-python",
   "name": "python",
   "nbconvert_exporter": "python",
   "pygments_lexer": "ipython3",
   "version": "3.12.1"
  }
 },
 "nbformat": 4,
 "nbformat_minor": 2
}
