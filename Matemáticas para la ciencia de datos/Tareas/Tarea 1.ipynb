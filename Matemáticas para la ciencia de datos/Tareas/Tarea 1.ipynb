{
 "cells": [
  {
   "cell_type": "markdown",
   "metadata": {},
   "source": [
    "# Tarea 1\n",
    "Alumno: **Luis Fernando Izquierdo Berdugo**\n",
    "\n",
    "Materia: **Matemáticas para la Ciencia de Datos**\n",
    "\n",
    "Profesora: **Briceyda B. Delgado**\n",
    "\n",
    "Durante los últimos 65 años, la población en México ha crecido poco más de cuatro veces. En 1950 había 25.8 millones de personas y en 2015 la población llegó a 119.5 millones.\n",
    "La tabla siguiente muestra la población de nuestro país en el período de 1950 a 2015 de acuerdo al Instituto Nacional de Estadística y Geografía (INEGI).\n",
    "\n",
    "|Año|1950|1960|1970|1980|1990|2000|2010|2015|\n",
    "|---|----|----|----|----|----|----|----|----|\n",
    "|Poblacion|25.8|34.9|48.2|66.8|81.2|97.5|112.3|119.5|\n",
    "\n",
    "### Actividades a realizar\n",
    "1. Establecer un modelo de crecimiento poblacional basado en el Modelo Logístico utilizando los datos de 3 distintos años de la tabla.\n",
    "2. Crear una tabla para comparar la población real con los valores pronosticados por el modelo.\n",
    "3. Calcular el porcentaje de error para cada par de datos.\n",
    "4. Dar una conclusión acerca del modelo propuesto y su efectividad.\n"
   ]
  },
  {
   "cell_type": "markdown",
   "metadata": {},
   "source": [
    "## Inciso 1 - Establecer un modelo de crecimiento poblacional basado en el Modelo Logístico utilizando los datos de 3 distintos años de la tabla.\n",
    "Primero se analizará el modelo logístico visto en clase:\n",
    "\n",
    "### $\\frac{dP}{dt} = kP(1-\\frac{P}{K})$\n",
    "\n",
    "- `P(t)` representa la cantidad de población o la variable de interés en el tiempo t,\n",
    "- `K` se le conoce como la barrera poblacional o capacidad de carga, es decir, es la máxima población sostenida por el ambiente,\n",
    "- `k` es la tasa de crecimiento y representa la tasa intrínseca de crecimiento de la población cuando la población es pequeña y no hay limitaciones de recursos.\n",
    "\n",
    "Integrando por fracciones parciales, obtenemos:\n",
    "\n",
    "### $P(t) = \\frac{K}{1+Ce^{-kt}}$"
   ]
  },
  {
   "cell_type": "markdown",
   "metadata": {},
   "source": [
    "Para ejecutar este modelo en Python, primero vamos a importar datos, para crear el modelo de crecimiento, se escogieron los datos de los años 1950, 1970 y 2010, sin embargo, se usarán los datos con relación a nuestra fecha inicial, por lo que se le restará 1950 quedando 0, 20 y 60 respectivamente.\n",
    "|Año|1950|1960|1970|1980|1990|2000|2010|2015|\n",
    "|---|----|----|----|----|----|----|----|----|\n",
    "|Año|0|10|20|30|40|50|60|65|\n",
    "|Poblacion|25.8|34.9|48.2|66.8|81.2|97.5|112.3|119.5|"
   ]
  },
  {
   "cell_type": "code",
   "execution_count": 24,
   "metadata": {},
   "outputs": [
    {
     "data": {
      "text/html": [
       "<div>\n",
       "<style scoped>\n",
       "    .dataframe tbody tr th:only-of-type {\n",
       "        vertical-align: middle;\n",
       "    }\n",
       "\n",
       "    .dataframe tbody tr th {\n",
       "        vertical-align: top;\n",
       "    }\n",
       "\n",
       "    .dataframe thead th {\n",
       "        text-align: right;\n",
       "    }\n",
       "</style>\n",
       "<table border=\"1\" class=\"dataframe\">\n",
       "  <thead>\n",
       "    <tr style=\"text-align: right;\">\n",
       "      <th></th>\n",
       "      <th>fecha</th>\n",
       "      <th>poblacion</th>\n",
       "    </tr>\n",
       "  </thead>\n",
       "  <tbody>\n",
       "    <tr>\n",
       "      <th>0</th>\n",
       "      <td>0</td>\n",
       "      <td>25.8</td>\n",
       "    </tr>\n",
       "    <tr>\n",
       "      <th>1</th>\n",
       "      <td>20</td>\n",
       "      <td>48.2</td>\n",
       "    </tr>\n",
       "    <tr>\n",
       "      <th>2</th>\n",
       "      <td>60</td>\n",
       "      <td>112.3</td>\n",
       "    </tr>\n",
       "  </tbody>\n",
       "</table>\n",
       "</div>"
      ],
      "text/plain": [
       "   fecha  poblacion\n",
       "0      0       25.8\n",
       "1     20       48.2\n",
       "2     60      112.3"
      ]
     },
     "execution_count": 24,
     "metadata": {},
     "output_type": "execute_result"
    }
   ],
   "source": [
    "import numpy as np\n",
    "import pandas as pd\n",
    "import matplotlib.pyplot as plt\n",
    "from scipy.optimize import curve_fit\n",
    "\n",
    "data = {'fecha': [0, 20, 60], #Se usa la fecha en relación a nuestra inicial, siendo 1950 el valor que se les restará\n",
    "        'poblacion': [25.8, 48.2, 112.3]}\n",
    "\n",
    "df = pd.DataFrame(data)\n",
    "df"
   ]
  },
  {
   "cell_type": "markdown",
   "metadata": {},
   "source": [
    "A continuación, se hará la definición de la función logística, cambiaremos la variable k (minúscula) por la variable r, esta tendrá la misma función y solamente se cambiará la representación para evitar problemas al ejecutar correctamente el código.\n",
    "\n",
    "### $P(t) = \\frac{K}{1 + Ce^{-rt}}$\n",
    "\n",
    "\n"
   ]
  },
  {
   "cell_type": "code",
   "execution_count": 25,
   "metadata": {},
   "outputs": [],
   "source": [
    "def funcion_logistica(t, K, r, C):\n",
    "  \"\"\"\n",
    "  Parametros:\n",
    "    t: tiempo (años)\n",
    "    K: barrera poblacional\n",
    "    r: tasa de crecimiento\n",
    "    C = Constante\n",
    "  \"\"\"\n",
    "  return K / ( 1 + C * (np.exp(-(r*t))) )"
   ]
  },
  {
   "cell_type": "markdown",
   "metadata": {},
   "source": [
    "Lo siguiente será crear una función para encontrar los valores óptimos de los parámetros del modelo ($K$, $r$ y $C$).\n",
    "\n",
    "Esta función tomará de entrada el dataframe creado con los datos y los dividirá en fecha y población en xdata e ydata respectivamente.\n",
    "\n",
    "Lo siguiente sería establecer valores iniciales de $K$, $r$ y $C$ como una estimación inicial, para posteriormente usar la función curve_fit de scipy que realiza el ajuste no lineal, esta función compara las predicciones del modelo logístico con los datos reales y ajusta los parámetros para que se minimice el error. Esto devolvera los parametros optimizados."
   ]
  },
  {
   "cell_type": "code",
   "execution_count": 28,
   "metadata": {},
   "outputs": [
    {
     "name": "stdout",
     "output_type": "stream",
     "text": [
      "170.82067130358317\n",
      "0.039638260255862166\n",
      "5.6209562520768666\n"
     ]
    },
    {
     "name": "stderr",
     "output_type": "stream",
     "text": [
      "/var/folders/v3/6n107fw10yb9ryc5t5mmqw5c0000gp/T/ipykernel_980/3263534148.py:8: OptimizeWarning: Covariance of the parameters could not be estimated\n",
      "  p_opt, pcov = curve_fit(funcion_logistica, xdata, ydata, p0=p0)\n"
     ]
    }
   ],
   "source": [
    "def optimizar_valores(df):\n",
    "\n",
    "  xdata = df['fecha']\n",
    "  ydata = df['poblacion']\n",
    "\n",
    "  p0 = [148, 0.5, 15] #Estimación inicial\n",
    "\n",
    "  p_opt, pcov = curve_fit(funcion_logistica, xdata, ydata, p0=p0)\n",
    "\n",
    "  return p_opt\n",
    "\n",
    "# Fit the model\n",
    "params = optimizar_valores(df)\n",
    "K, r, C = params\n",
    "print(K)\n",
    "print(r)\n",
    "print(C)"
   ]
  },
  {
   "cell_type": "markdown",
   "metadata": {},
   "source": [
    "Sustituyendo los datos obtenidos en el modelo inicial, queda:\n",
    "\n",
    "### $P(t) = \\frac{170.82}{1 + 5.62e^{-0.0396t}}$\n",
    "\n",
    "Si evaluamos para varios casos, obtenemos:"
   ]
  },
  {
   "cell_type": "code",
   "execution_count": 31,
   "metadata": {},
   "outputs": [
    {
     "name": "stdout",
     "output_type": "stream",
     "text": [
      "Poblacion en 1950: 25.8\n",
      "Poblacion en 1990: 79.40007890581565\n",
      "Poblacion en 2010: 112.30000000000003\n",
      "Poblacion en 2015: 119.6708162078329\n"
     ]
    }
   ],
   "source": [
    "test = funcion_logistica(0, *params)\n",
    "print(\"Poblacion en 1950: %s\" % test)\n",
    "\n",
    "test = funcion_logistica(40, *params)\n",
    "print(\"Poblacion en 1990: %s\" % test)\n",
    "\n",
    "test = funcion_logistica(60, *params)\n",
    "print(\"Poblacion en 2010: %s\" % test)\n",
    "\n",
    "test = funcion_logistica(65, *params)\n",
    "print(\"Poblacion en 2015: %s\" % test)\n",
    "\n"
   ]
  },
  {
   "cell_type": "markdown",
   "metadata": {},
   "source": [
    "Se grafica el modelo:"
   ]
  },
  {
   "cell_type": "code",
   "execution_count": 34,
   "metadata": {},
   "outputs": [
    {
     "data": {
      "image/png": "[encoded data removed]",
      "text/plain": [
       "<Figure size 640x480 with 1 Axes>"
      ]
     },
     "metadata": {},
     "output_type": "display_data"
    }
   ],
   "source": [
    "def graficar_modelo(df, params):\n",
    "\n",
    "  xdata = df['fecha']\n",
    "  ydata = df['poblacion']\n",
    "\n",
    "  t = np.linspace(xdata.min(), (200), 100)\n",
    "  y_pred = funcion_logistica(t, *params)\n",
    "\n",
    "  plt.plot(xdata, ydata, 'o', label='Datos')\n",
    "  plt.plot(t, y_pred, '-', label='Modelo logístico')\n",
    "  plt.xlabel('Año')\n",
    "  plt.ylabel('Poblacion (millones)')\n",
    "  plt.legend()\n",
    "  plt.show()\n",
    "\n",
    "graficar_modelo(df, params)\n"
   ]
  },
  {
   "cell_type": "markdown",
   "metadata": {},
   "source": [
    "## Inciso 2 - Crear una tabla para comparar la población real con los valores pronosticados por el modelo.\n",
    "\n",
    "Primero se crearan los datos y se crearan en un nuevo Dataframe de pandas."
   ]
  },
  {
   "cell_type": "code",
   "execution_count": 35,
   "metadata": {},
   "outputs": [
    {
     "data": {
      "text/html": [
       "<div>\n",
       "<style scoped>\n",
       "    .dataframe tbody tr th:only-of-type {\n",
       "        vertical-align: middle;\n",
       "    }\n",
       "\n",
       "    .dataframe tbody tr th {\n",
       "        vertical-align: top;\n",
       "    }\n",
       "\n",
       "    .dataframe thead th {\n",
       "        text-align: right;\n",
       "    }\n",
       "</style>\n",
       "<table border=\"1\" class=\"dataframe\">\n",
       "  <thead>\n",
       "    <tr style=\"text-align: right;\">\n",
       "      <th></th>\n",
       "      <th>fecha</th>\n",
       "      <th>poblacion</th>\n",
       "    </tr>\n",
       "  </thead>\n",
       "  <tbody>\n",
       "    <tr>\n",
       "      <th>0</th>\n",
       "      <td>0</td>\n",
       "      <td>25.800000</td>\n",
       "    </tr>\n",
       "    <tr>\n",
       "      <th>1</th>\n",
       "      <td>10</td>\n",
       "      <td>35.725375</td>\n",
       "    </tr>\n",
       "    <tr>\n",
       "      <th>2</th>\n",
       "      <td>20</td>\n",
       "      <td>48.200000</td>\n",
       "    </tr>\n",
       "    <tr>\n",
       "      <th>3</th>\n",
       "      <td>30</td>\n",
       "      <td>62.999232</td>\n",
       "    </tr>\n",
       "    <tr>\n",
       "      <th>4</th>\n",
       "      <td>40</td>\n",
       "      <td>79.400079</td>\n",
       "    </tr>\n",
       "    <tr>\n",
       "      <th>5</th>\n",
       "      <td>50</td>\n",
       "      <td>96.258803</td>\n",
       "    </tr>\n",
       "    <tr>\n",
       "      <th>6</th>\n",
       "      <td>60</td>\n",
       "      <td>112.300000</td>\n",
       "    </tr>\n",
       "    <tr>\n",
       "      <th>7</th>\n",
       "      <td>65</td>\n",
       "      <td>119.670816</td>\n",
       "    </tr>\n",
       "  </tbody>\n",
       "</table>\n",
       "</div>"
      ],
      "text/plain": [
       "   fecha   poblacion\n",
       "0      0   25.800000\n",
       "1     10   35.725375\n",
       "2     20   48.200000\n",
       "3     30   62.999232\n",
       "4     40   79.400079\n",
       "5     50   96.258803\n",
       "6     60  112.300000\n",
       "7     65  119.670816"
      ]
     },
     "execution_count": 35,
     "metadata": {},
     "output_type": "execute_result"
    }
   ],
   "source": [
    "data_modelo = {'fecha': [0,10,20,30,40,50,60,65],\n",
    "        'poblacion': [funcion_logistica(0, *params),funcion_logistica(10, *params),funcion_logistica(20, *params),\n",
    "                      funcion_logistica(30, *params),funcion_logistica(40, *params),funcion_logistica(50, *params),\n",
    "                      funcion_logistica(60, *params),funcion_logistica(65, *params)]}\n",
    "\n",
    "df_modelo = pd.DataFrame(data_modelo)\n",
    "df_modelo"
   ]
  },
  {
   "cell_type": "markdown",
   "metadata": {},
   "source": [
    "Con esta información ya podemos hacer la comparación entre los datos obtenidos y los reales.\n",
    "|Año|1950|1960|1970|1980|1990|2000|2010|2015|\n",
    "|---|----|----|----|----|----|----|----|----|\n",
    "|Poblacion real|25.8|34.9|48.2|66.8|81.2|97.5|112.3|119.5|\n",
    "|Poblacion modelo|25.8|35.7253|48.2|62.9992|79.4|96.2588|112.3|119.6708|"
   ]
  },
  {
   "cell_type": "markdown",
   "metadata": {},
   "source": [
    "### Inciso 3 - Calcular el porcentaje de error para cada par de datos.\n",
    "\n",
    "Para calcular el porcentaje, se usará la siguiente fórmula:\n",
    "\n",
    "### $Error = |\\frac{V_{real} - V_{predicho}}{V_{real}}|*100$\n",
    "\n",
    "Entonces, para cada par de datos tenemos:\n",
    "\n",
    "|Año|1950|1960|1970|1980|1990|2000|2010|2015|\n",
    "|---|----|----|----|----|----|----|----|----|\n",
    "|Poblacion real|25.8|34.9|48.2|66.8|81.2|97.5|112.3|119.5|\n",
    "|Poblacion modelo|25.8|35.7253|48.2|62.9992|79.4|96.2588|112.3|119.6708|\n",
    "|Porcentaje de Error|0%|2.36%|0%|5.69%|2.21%|1.27%|0%|0.1429%|"
   ]
  },
  {
   "cell_type": "markdown",
   "metadata": {},
   "source": [
    "## Inciso 4 - Dar una conclusión acerca del modelo propuesto y su efectividad.\n",
    "\n",
    "### $P(t) = \\frac{170.82}{1 + 5.62e^{-0.0396t}}$\n",
    "\n",
    "De manera general, el modelo logístico propuesto funciona satisfactoriamente con un error promedio de 1.46%, teniendo su máximo en 1980 con 5.69%, que podría causarse por los datos que se tomaron de manera inicial. Ya que al optimizar los datos calculados de $K$, $k$ y $P_0$\n",
    "\n",
    "Como se observó en la gráfica del modelo (final del inciso 1), se puede ver que el modelo está optimizado para los datos iniciales, pasando correctamente por estos tres puntos, sin embargo, analizando la gráfica podemos ver que podría ser más preciso en los distintos años que tenemos de información real.\n",
    "\n",
    "Se esperaría que conforme se alimente el modelo con más datos para calcular la barrera poblacional y la tasa de crecimiento, el modelo se vuelva más preciso y se acerquen mucho más los datos a los reales, siendo el error mínimo.\n",
    "\n",
    "Sería de interés elaborar un modelo que pueda tener en cuentas diferentes factores externos que podrían suceder, como desastres naturales, enfermedades, etc."
   ]
  }
 ],
 "metadata": {
  "kernelspec": {
   "display_name": "Python 3",
   "language": "python",
   "name": "python3"
  },
  "language_info": {
   "codemirror_mode": {
    "name": "ipython",
    "version": 3
   },
   "file_extension": ".py",
   "mimetype": "text/x-python",
   "name": "python",
   "nbconvert_exporter": "python",
   "pygments_lexer": "ipython3",
   "version": "3.12.1"
  }
 },
 "nbformat": 4,
 "nbformat_minor": 2
}
