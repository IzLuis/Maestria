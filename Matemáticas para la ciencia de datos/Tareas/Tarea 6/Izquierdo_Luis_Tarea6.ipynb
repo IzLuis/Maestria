{
 "cells": [
  {
   "cell_type": "markdown",
   "metadata": {},
   "source": [
    "# Tarea 6\n",
    "## Matemáticas para la Ciencia de Datos\n",
    "## Docente: **Briceyda B. Delgado**\n",
    "## Alumno: **Luis Fernando Izquierdo Berdugo**\n",
    "## Fecha: **21 de Octubre de 2024**"
   ]
  },
  {
   "cell_type": "markdown",
   "metadata": {},
   "source": [
    "Los siguientes ejercicios se resuelven aplicando el Teorema de Bayes. **Sugerencia**: Defina los eventos y realice un diagrama que muestre las diferentes\n",
    "casos.\n",
    "1. Un análisis de sangre de laboratorio es efectivo en un 99% en la detección de una determinada enfermedad cuando, de hecho, está presente. Sin embargo, el análisis también da un resultado de falso positivo para el 1% de las personas sanas analizadas. Si el 0.5% de la población padece realmente la enfermedad, ¿cuál es la probabilidad de que una persona la padezca si el resultado de la prueba es positivo?\n",
    "\n",
    "2. El cáncer de próstata es el más frecuente entre los varones. Como indicador de si un varón padece cáncer de próstata, los médicos suelen realizar una prueba que mide el nivel de la proteína PSA (antígeno prostático específico) que sólo produce la glándula prostática. Aunque unos niveles más altos de PSA son indicativos de cáncer, la prueba es muy poco fiable. De hecho, la probabilidad de que un hombre no canceroso tenga un nivel elevado de PSA es de aproximadamente 0,135, probabilidad que aumenta a aproximadamente 0,268 si el hombre tiene cáncer. Si, basándose en otros factores, un médico está seguro en un 70% de que un varón tiene cáncer de próstata, ¿cuál es la probabilidad condicional de que tenga cáncer si\n",
    "\n",
    "- la prueba indica un nivel elevado de PSA?,\n",
    "- la prueba no indica un nivel elevado de PSA?\n",
    "\n",
    "Repita lo anterior, esta vez suponiendo que el médico cree inicialmente que existe hay un 30% de probabilidades de que el hombre tenga cáncer de próstata."
   ]
  },
  {
   "cell_type": "markdown",
   "metadata": {},
   "source": [
    "## Inciso 1"
   ]
  },
  {
   "cell_type": "markdown",
   "metadata": {},
   "source": [
    "Lo primero será definir los eventos, siendo los siguientes:\n",
    "- Evento A: Una persona tiene la enfermedad.\n",
    "- Evento B: El análisis de sangre de una persona sea positivo.\n",
    "\n",
    "De igual manera, se establecen las probabilidades que brinda el ejercicio:\n",
    "- Probabilidad de que el análisis de sangre sea positivo dado que la persona tiene la enfermedad $P(B|A) = 0.99$\n",
    "- Probabilidad de que el análisis sea positivo dado que la persona **no** tiene la enfermedad $P(B|A^C) = 0.01$\n",
    "- Probabilidad de que una persona esté enferma $P(A) = 0.005$\n",
    "\n",
    "Lo que se quiere obtener es la probabilidad de que una persona esté enferma dado que el análisis fue positivo $P(A|B)$.\n",
    "\n",
    "Por el teorema de Bayes se sabe lo siguiente:\n",
    "\n",
    "$P(A|B) = \\frac{P(B|A)P(A)}{P(B)}$\n",
    "\n",
    "Usando la ley de la probabilidad total, se puede obtener $P(B)$:\n",
    "\n",
    "$P(B) = (P(B|A) * P(A)) + (P(B|A^C) * P(A^C))$\n",
    "\n",
    "Reescribiendo el teorema de Bayes, se obtiene:\n",
    "\n",
    "$P(A|B) = \\frac{P(B|A)P(A)}{(P(B|A) * P(A)) + (P(B|A^C) * P(A^C))}$\n",
    "\n",
    "Sustituyendo:\n",
    "\n",
    "$P(A|B) = \\frac{0.99 * 0.005}{(0.99 * 0.005) + (0.01 * 0.995)}$\n",
    "\n",
    "$P(A|B) = \\frac{0.00495}{0.0149}$\n",
    "\n",
    "$P(A|B) = 0.3322$\n",
    "\n",
    "Entonces, la probabilidad de que una persona padezca la enfermedad si el resultado de la prueba es positivo es de **33.22%**"
   ]
  },
  {
   "cell_type": "markdown",
   "metadata": {},
   "source": [
    "## Inciso 2\n",
    "\n",
    "Lo primero será definir los eventos, siendo los siguientes:\n",
    "- Evento A: Un hombre tiene cáncer de próstata.\n",
    "- Evento B: La prueba PSA indica un nivel elevado.\n",
    "\n",
    "De igual manera, se establecen las probabilidades que brinda el ejercicio:\n",
    "- Probabilidad de que la prueba de un resultado positivo dado que no haya cáncer $P(B|A^C) = 0.135$\n",
    "- Probabilidad de que la prueba de un resultado positivo dado que si hay cáncer $P(B|A) = 0.268$\n",
    "\n",
    "### Caso 1\n",
    "Se desea calcular que con una probabilidad de 70% de Cáncer $P(A) = 0.7$, la prueba de un resultado positivo.\n",
    "\n",
    "Por el teorema de Bayes se sabe lo siguiente:\n",
    "\n",
    "$P(A|B) = \\frac{P(B|A)P(A)}{P(B)}$\n",
    "\n",
    "Usando la ley de la probabilidad total, se puede obtener $P(B)$:\n",
    "\n",
    "$P(B) = (P(B|A) * P(A)) + (P(B|A^C) * P(A^C))$\n",
    "\n",
    "Reescribiendo el teorema de Bayes, se obtiene:\n",
    "\n",
    "$P(A|B) = \\frac{P(B|A)P(A)}{(P(B|A) * P(A)) + (P(B|A^C) * P(A^C))}$\n",
    "\n",
    "Sustituyendo:\n",
    "\n",
    "$P(A|B) = \\frac{0.268 * 0.7}{(0.268 * 0.7) + (0.135 * 0.3)} = \\frac{0.1876}{0.2281}$\n",
    "\n",
    "$P(A|B) = 0.8224$\n",
    "\n",
    "Entonces, la probabilidad de que un hombre tenga cáncer de prostata dado un resultado elevado de la prueba PSA es de **$82.24$%**\n",
    "\n",
    "De igual manera, se desea calcular el caso de que un hombre tenga cáncer con un resultado de prueba negativo:\n",
    "\n",
    "$P(A|B^C) = \\frac{P(B^C|A)P(A)}{P(B^C)}$\n",
    "\n",
    "Sabiendo que: \n",
    "$P(B^C|A) = 1 - P(B|A) = 1 - 0.268 = 0.732$ \n",
    "\n",
    "$P(B^C) = 1 - P(B) = 1 - .2281 = 0.7719$\n",
    "\n",
    "Sustituyendo en el teorema de Bayes:\n",
    "\n",
    "$P(A|B^C) = \\frac{0.732*0.7}{0.7719} = 0.6638$\n",
    "\n",
    "Entonces, la probabilidad de que un hombre tenga cáncer de prostata dado un resultado **no elevado** de la prueba PSA es de **$66.38$%**\n"
   ]
  },
  {
   "cell_type": "markdown",
   "metadata": {},
   "source": [
    "### Caso 2\n",
    "Se quiere calcular lo mismo que el caso anterior, pero con la probabilidad inicial de cáncer de 30%. $P(A) = 0.3$\n",
    "\n",
    "Por el teorema de Bayes se sabe lo siguiente:\n",
    "\n",
    "$P(A|B) = \\frac{P(B|A)P(A)}{P(B)}$\n",
    "\n",
    "Usando la ley de la probabilidad total, se puede obtener $P(B)$:\n",
    "\n",
    "$P(B) = (P(B|A) * P(A)) + (P(B|A^C) * P(A^C))$\n",
    "\n",
    "Reescribiendo el teorema de Bayes, se obtiene:\n",
    "\n",
    "$P(A|B) = \\frac{P(B|A)P(A)}{(P(B|A) * P(A)) + (P(B|A^C) * P(A^C))}$\n",
    "\n",
    "Sustituyendo:\n",
    "\n",
    "$P(A|B) = \\frac{0.268 * 0.3}{(0.268 * 0.3) + (0.135 * 0.7)} = \\frac{0.0804}{0.1749}$\n",
    "\n",
    "$P(A|B) = 0.4596$\n",
    "\n",
    "Entonces, la prboabilidad de que un hombre tenga cáncer de prostata dado un resultado elevado de la prueba PSA es de **$45.96$%**\n",
    "\n",
    "De igual manera, se desea calcular el caso de que un hombre tenga cáncer con un resultado de prueba negativo:\n",
    "\n",
    "$P(A|B^C) = \\frac{P(B^C|A)P(A)}{P(B^C)}$\n",
    "\n",
    "Sabiendo que: \n",
    "$P(B^C|A) = 1 - P(B|A) = 1 - 0.268 = 0.732$ \n",
    "\n",
    "$P(B^C) = 1 - P(B) = 1 - .1749 = 0.8251$\n",
    "\n",
    "Sustituyendo en el teorema de Bayes:\n",
    "\n",
    "$P(A|B^C) = \\frac{0.732*0.3}{0.8251} = 0.2661$\n",
    "\n",
    "Entonces, la probabilidad de que un hombre tenga cáncer de prostata dado un resultado **no elevado** de la prueba PSA es de **$26.61$%**"
   ]
  },
  {
   "cell_type": "markdown",
   "metadata": {},
   "source": [
    "## Bibliografía\n",
    "\n",
    "- Delgado, B. (2024). Clase 6 - Unidad 6 :Introducción a la Probabilidad y Teorema de Bayes"
   ]
  }
 ],
 "metadata": {
  "language_info": {
   "name": "python"
  }
 },
 "nbformat": 4,
 "nbformat_minor": 2
}
