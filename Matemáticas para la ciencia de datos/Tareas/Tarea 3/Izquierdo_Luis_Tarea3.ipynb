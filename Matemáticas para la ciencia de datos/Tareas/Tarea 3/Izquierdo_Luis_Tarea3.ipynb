{
 "cells": [
  {
   "cell_type": "markdown",
   "metadata": {},
   "source": [
    "# Tarea 3\n",
    "## Matemáticas para la Ciencia de Datos\n",
    "## Docente: **Briceyda B. Delgado**\n",
    "## Alumno: **Luis Fernando Izquierdo Berdugo**\n",
    "## Fecha: **9 de Septiembre de 2024**\n",
    "\n",
    "#### $F' = (2-S)F$,  $F(0) = F_0$\n",
    "#### $S' = (1-F)S$,  $S(0) = S_0$\n",
    "\n",
    "Si hacemos el cociente de ambas ecuaciones, podemos escribir\n",
    "\n",
    "#### $\\frac{ds}{df} = \\frac{S(1-F)}{F(2-S)}$\n",
    "\n",
    "Por variables separables:\n",
    "\n",
    "#### $F(2-S)ds = S(1-F)df$\n",
    "\n",
    "#### $\\frac{(2-S)}{S}ds = \\frac{(1-F)}{F}df$\n",
    "\n",
    "Se integran ambos lados\n",
    "\n",
    "#### $2lnS - S = lnF - F + C$\n",
    "\n",
    "Sustituyendo las condiciones iniciales y despejando C\n",
    "\n",
    "$2lnS_0 - S_0 - lnF_0 + F_0 = C$\n",
    "\n",
    "#### $2lnS - S = lnF - F + 2lnS_0 - S_0 - lnF_0 + F_0$\n",
    "\n",
    "Simplificando\n",
    "\n",
    "#### $ln(\\frac{S^2}{F}) - S + F = 2lnS_0 - S_0 - lnF_0 + F_0$"
   ]
  },
  {
   "cell_type": "markdown",
   "metadata": {},
   "source": [
    "\n",
    "## Inciso 2\n",
    "Se introduce el paso de tiempo $\\Delta t > 0$ y se define $t_n = n\\Delta t$\n",
    "\n",
    "$F_n$ y $S_n$ serán las aproximaciones de $F(t_n)$ y $S(t_n)$ respectivamente, ya que:\n",
    "\n",
    "#### $\\frac{F(t_{n+1})-F(t_n)}{\\Delta t} \\approx F'(t_n)$\n",
    "\n",
    "#### $\\frac{S(t_{n+1})-S(t_n)}{\\Delta t} \\approx S'(t_n)$\n",
    "\n",
    "Entonces \n",
    "\n",
    "#### $\\frac{F_{n+1}-F_n}{\\Delta t} = (2-S_n)F_n$\n",
    "\n",
    "#### $\\frac{S_{n+1}-S_n}{\\Delta t} = (1-F_n)S_n$\n",
    "\n",
    "Despejando obtenemos"
   ]
  },
  {
   "cell_type": "markdown",
   "metadata": {},
   "source": [
    "$F_{n+1} = F_n + \\Delta t(2-S_n)F_n$\n",
    "\n",
    "$S_{n+1} = S_n + \\Delta t(1-F_n)S_n$"
   ]
  }
 ],
 "metadata": {
  "language_info": {
   "name": "python"
  }
 },
 "nbformat": 4,
 "nbformat_minor": 2
}
