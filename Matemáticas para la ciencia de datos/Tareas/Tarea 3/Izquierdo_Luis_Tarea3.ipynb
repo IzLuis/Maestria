{
 "cells": [
  {
   "cell_type": "markdown",
   "metadata": {},
   "source": [
    "# Tarea 3\n",
    "## Matemáticas para la Ciencia de Datos\n",
    "## Docente: **Briceyda B. Delgado**\n",
    "## Alumno: **Luis Fernando Izquierdo Berdugo**\n",
    "## Fecha: **9 de Septiembre de 2024**\n",
    "\n",
    "### Instrucciones\n",
    "Considere el siguiente sistema de ecuaciones diferenciales\n",
    "\n",
    "#### $F' = (2-S)F$,  $F(0) = F_0$\n",
    "#### $S' = (1-F)S$,  $S(0) = S_0$\n",
    "\n",
    "1. (20 puntos) Dar una solución analítica del sistema, en términos de las\n",
    "condiciones iniciales.\n",
    "2. (10 puntos) Verifique que el sistema (1) admite el esquema numérico\n",
    "### $F_{n+1} = F_n + \\Delta t(2-S_n)F_n$\n",
    "### $S_{n+1} = S_n + \\Delta t(1-F_n)S_n$\n",
    "Explique el procedimiento para llegar a la expresión anterior.\n",
    "\n",
    "3. Realice un programa que implemente el esquema anterior y que realice las siguientes funciones:\n",
    "    - (10 puntos) Acepte como entradas $S_0$, $F_0$ y $\\Delta t$\n",
    "    - (10 puntos) Calcule la solución numérica para t variando de 0 a 10. Indique la solución numérica cuando $S_0 = 0.1$, $F_0 = 1.9$ y $\\Delta t = 0.001$\n",
    "4. (20 puntos) Encuentre un segundo esquema numérico, usando Crank-Nicholson que represente al sistema de ecuaciones diferenciales.\n",
    "5. (20 puntos) Grafique la solución numérica como una función de $t$ y en el espacio de estados en el sistema coordenado F-S.\n",
    "6. (10 puntos) Explique alguna aplicación o fenómeno modelado a través de sistemas de ecuaciones diferenciales."
   ]
  },
  {
   "cell_type": "markdown",
   "metadata": {},
   "source": [
    "### Inciso 1\n",
    "\n",
    "Si se tiene el sistema de ecuaciones siguiente:\n",
    "\n",
    "#### $F' = (2-S)F$,  $F(0) = F_0$\n",
    "#### $S' = (1-F)S$,  $S(0) = S_0$\n",
    "\n",
    "Si se efectúa el cociente de ambas ecuaciones, podemos escribir\n",
    "\n",
    "#### $\\frac{ds}{df} = \\frac{S(1-F)}{F(2-S)}$\n",
    "\n",
    "Se resuelve por variables separables:\n",
    "\n",
    "#### $F(2-S)ds = S(1-F)df$\n",
    "\n",
    "#### $\\frac{(2-S)}{S}ds = \\frac{(1-F)}{F}df$\n",
    "\n",
    "Se integran ambos lados\n",
    "\n",
    "#### $2lnS - S = lnF - F + C$\n",
    "\n",
    "Sustituyendo las condiciones iniciales y despejando C\n",
    "\n",
    "$2lnS_0 - S_0 - lnF_0 + F_0 = C$\n",
    "\n",
    "#### $2lnS - S = lnF - F + 2lnS_0 - S_0 - lnF_0 + F_0$\n",
    "\n",
    "Simplificando\n",
    "\n",
    "#### $ln(\\frac{S^2}{F}) - S + F = 2lnS_0 - S_0 - lnF_0 + F_0$"
   ]
  },
  {
   "cell_type": "markdown",
   "metadata": {},
   "source": [
    "\n",
    "## Inciso 2\n",
    "Se introduce el paso de tiempo $\\Delta t > 0$ y se define $t_n = n\\Delta t$\n",
    "\n",
    "$F_n$ y $S_n$ serán las aproximaciones de $F(t_n)$ y $S(t_n)$ respectivamente, ya que:\n",
    "\n",
    "#### $\\frac{F(t_{n+1})-F(t_n)}{\\Delta t} \\approx F'(t_n)$\n",
    "#### $\\frac{S(t_{n+1})-S(t_n)}{\\Delta t} \\approx S'(t_n)$\n",
    "\n",
    "Entonces \n",
    "\n",
    "#### $\\frac{F_{n+1}-F_n}{\\Delta t} = (2-S_n)F_n$\n",
    "#### $\\frac{S_{n+1}-S_n}{\\Delta t} = (1-F_n)S_n$\n",
    "\n",
    "Despejando se obtiene:\n",
    "\n",
    "#### $F_{n+1} = F_n + \\Delta t(2-S_n)F_n$\n",
    "#### $S_{n+1} = S_n + \\Delta t(1-F_n)S_n$"
   ]
  },
  {
   "cell_type": "markdown",
   "metadata": {},
   "source": [
    "### Inciso 3"
   ]
  },
  {
   "cell_type": "code",
   "execution_count": 14,
   "metadata": {},
   "outputs": [],
   "source": [
    "import numpy as np\n",
    "\n",
    "def sistEq(s0, f0, dt):\n",
    "    t = np.arange(0, 10, dt)\n",
    "    S = np.zeros_like(t)\n",
    "    F = np.zeros_like(t)\n",
    "    S[0] = s0\n",
    "    F[0] = f0\n",
    "    \n",
    "    for i in range(1, len(t)):\n",
    "        F[i] = F[i-1] + (dt*(2-S[i-1])*F[i-1])\n",
    "        S[i] = S[i-1] + (dt*(1-F[i-1])*S[i-1])\n",
    "        \n",
    "    return F, S, t\n"
   ]
  },
  {
   "cell_type": "code",
   "execution_count": 15,
   "metadata": {},
   "outputs": [
    {
     "name": "stdout",
     "output_type": "stream",
     "text": [
      "F: [1.90000000e+00 1.90361000e+00 1.90722703e+00 ... 8.62814834e+08\n",
      " 8.64540464e+08 8.66269545e+08]\n",
      "S: [0.1        0.09991    0.09981972 ... 0.         0.         0.        ]\n",
      "t: [0.000e+00 1.000e-03 2.000e-03 ... 9.997e+00 9.998e+00 9.999e+00]\n"
     ]
    }
   ],
   "source": [
    "F,S,t = sistEq(0.1, 1.9, 0.001)\n",
    "print(f\"F: {F}\")\n",
    "print(f\"S: {S}\")\n",
    "print(f\"t: {t}\")"
   ]
  },
  {
   "cell_type": "markdown",
   "metadata": {},
   "source": [
    "### Iniciso 4\n",
    "La forma básica de Crank-Nicholson es:\n",
    "#### $\\frac{u_{n+1}-u_n}{\\Delta t} = \\frac{1}{2}(f(u_{n+1})+f(u_n))$\n",
    "\n",
    "Si se aplica a ambas ecuaciones, se obtiene:\n",
    "#### $\\frac{F_{n+1}-F_n}{\\Delta t} = \\frac{1}{2}[(2-S_n)F_n+(2-S_{n+1})F_{n+1}]$\n",
    "#### $\\frac{S_{n+1}-S_n}{\\Delta t} = \\frac{1}{2}[(1-F_n)S_n + (1-F_{n+1})S_{n+1}]$"
   ]
  },
  {
   "cell_type": "markdown",
   "metadata": {},
   "source": [
    "Reescribiendo el sistema\n",
    "\n",
    "#### $F_{n+1}-F_n = \\frac{\\Delta t}{2}[(2-S_n)F_n+(2-S_{n+1})F_{n+1}]$\n",
    "#### $S_{n+1}-S_n = \\frac{\\Delta t}{2}[(1-F_n)S_n + (1-F_{n+1})S_{n+1}]$"
   ]
  },
  {
   "cell_type": "markdown",
   "metadata": {},
   "source": [
    "#### $2F_{n+1} - 2F_n = 2 \\Delta t F_n - \\Delta t S_n F_n + 2\\Delta tF_{n+1} - \\Delta t S_{n+1}F_{n+1}$\n",
    "\n",
    "#### $2S_{n+1} - 2S_n = \\Delta t S_n - \\Delta t F_n S_n + \\Delta t S_{n+1} - \\Delta t F_{n+1} S_{n+1}$"
   ]
  },
  {
   "cell_type": "markdown",
   "metadata": {},
   "source": [
    "#### $2F_{n+1} - 2\\Delta t F_{n+1} - \\Delta t S_{n+1}F_{n+1} = 2 F_n + 2\\Delta t F_n - \\Delta t S_n F_n$\n",
    "\n",
    "#### $2S_{n+1} - \\Delta t S_{n+1} + \\Delta t F_{n+1} S_{n+1}= 2S_n + \\Delta t S_n - \\Delta t F_n S_n$"
   ]
  },
  {
   "cell_type": "markdown",
   "metadata": {},
   "source": [
    "Para cada n, se define un sistema de ecuaciones lineales 2x2, como se observa en la matriz $A$:\n",
    "```math\n",
    "\\begin{bmatrix}\n",
    "2-2\\Delta t - \\Delta t S_{n+1} & -\\Delta t F_{n+1} \\\\\n",
    "\\Delta t S_{n+1} & 2 - \\Delta t + \\Delta t F_{n+1} \n",
    "\\end{bmatrix}\n",
    "```\n",
    "\n",
    "y con el vector $b_n$\n",
    "```math\n",
    "\\begin{pmatrix}\n",
    "2 F_n + 2\\Delta t F_n - \\Delta t S_n F_n \\\\\n",
    "2S_n + \\Delta t S_n - \\Delta t F_n S_n \n",
    "\\end{pmatrix}  \n",
    "```\n",
    "\n",
    "Entonces, el sistema se puede reescribir como\n",
    "\n",
    "#### $Ax_{n+1} = b_n$\n",
    "\n",
    "Donde $x_{n+1}$ se define como el vector:\n",
    "```math\n",
    "\\begin{pmatrix}\n",
    "F_{n+1} \\\\\n",
    "S{n+1}\n",
    "\\end{pmatrix}  \n",
    "```"
   ]
  },
  {
   "cell_type": "markdown",
   "metadata": {},
   "source": [
    "Se obtiene el determinante de A:\n",
    "\n",
    "$det(A) = -2F_{n+1}\\Delta t^2 + S_{n+1}\\Delta t^2 + 2 \\Delta t^2 + 2F_{n+1}\\Delta t - 2S_{n+1}\\Delta t - 6\\Delta t + 4$\n",
    "\n",
    "y su matriz inversa dada por la multiplicación de\n",
    "\n",
    "#### $\\frac{1}{2\\Delta t^2 - 6\\Delta t - 2\\Delta t^2F_{n+1} + 2\\Delta tF_{n+1}+\\Delta t^2S_{n+1}-2\\Delta tS_{n+1} + 4}$\n",
    "\n",
    "Matriz Inversa\n",
    "\n",
    "```math\n",
    "\\begin{bmatrix}\n",
    " \\frac{2 - \\Delta t + \\Delta t F_{n+1}}{2\\Delta t^2 - 6\\Delta t - 2\\Delta t^2F_{n+1} + 2\\Delta tF_{n+1}+\\Delta t^2S_{n+1}-2\\Delta tS_{n+1} + 4} & \\frac{\\Delta t F_{n+1}}{2\\Delta t^2 - 6\\Delta t - 2\\Delta t^2F_{n+1} + 2\\Delta tF_{n+1}+\\Delta t^2S_{n+1}-2\\Delta tS_{n+1} + 4} \\\\\n",
    " \\frac{-\\Delta t S_{n+1}}{2\\Delta t^2 - 6\\Delta t - 2\\Delta t^2F_{n+1} + 2\\Delta tF_{n+1}+\\Delta t^2S_{n+1}-2\\Delta tS_{n+1} + 4} & \\frac{2-2\\Delta t - \\Delta t S_{n+1}}{2\\Delta t^2 - 6\\Delta t - 2\\Delta t^2F_{n+1} + 2\\Delta tF_{n+1}+\\Delta t^2S_{n+1}-2\\Delta tS_{n+1} + 4}\n",
    "\\end{bmatrix}\n",
    "```\n",
    "\n",
    "Vector\n",
    "```math\n",
    "\\begin{pmatrix}\n",
    "2 F_n + 2\\Delta t F_n - \\Delta t S_n F_n \\\\\n",
    "2S_n + \\Delta t S_n - \\Delta t F_n S_n \n",
    "\\end{pmatrix}  \n",
    "```"
   ]
  },
  {
   "cell_type": "markdown",
   "metadata": {},
   "source": [
    "$4F_$"
   ]
  },
  {
   "cell_type": "markdown",
   "metadata": {},
   "source": [
    "### Inciso 5"
   ]
  },
  {
   "cell_type": "code",
   "execution_count": 18,
   "metadata": {},
   "outputs": [
    {
     "data": {
      "image/png": "[encoded data removed]",
      "text/plain": [
       "<Figure size 640x480 with 1 Axes>"
      ]
     },
     "metadata": {},
     "output_type": "display_data"
    }
   ],
   "source": [
    "import matplotlib.pyplot as plt\n",
    "\n",
    "plt.plot(F, S)\n",
    "plt.xlabel('F')\n",
    "plt.ylabel('S')\n",
    "plt.title('Espacio de estados F-S')\n",
    "plt.show()"
   ]
  }
 ],
 "metadata": {
  "kernelspec": {
   "display_name": "Python 3",
   "language": "python",
   "name": "python3"
  },
  "language_info": {
   "codemirror_mode": {
    "name": "ipython",
    "version": 3
   },
   "file_extension": ".py",
   "mimetype": "text/x-python",
   "name": "python",
   "nbconvert_exporter": "python",
   "pygments_lexer": "ipython3",
   "version": "3.12.1"
  }
 },
 "nbformat": 4,
 "nbformat_minor": 2
}
