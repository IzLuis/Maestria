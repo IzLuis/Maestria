{
 "cells": [
  {
   "cell_type": "markdown",
   "metadata": {},
   "source": [
    "# Tarea 2\n",
    "## Matemáticas para la Ciencia de Datos\n",
    "## Docente: **Briceyda B. Delgado**\n",
    "## Alumno: **Luis Fernando Izquierdo Berdugo**\n",
    "## Fecha: **26 de Agosto de 2024**\n",
    "### Instrucciones\n",
    "\n",
    "**Problema 1** (60 puntos)\\\n",
    "Considere el problema con valor inicial\n",
    "\n",
    "$r'(t) = r(t) + 2t − t^2$\\\n",
    "$r(0) = 1$\\\n",
    "$t \\in [0, T ]$\n",
    "\n",
    "1. Encuentre la solución analítica de la ecuación diferencial.\n",
    "2. Derive una fórmula iterativa usando el `método de Euler hacia adelante`, siguiendo la notación del libro, cada iteración la denotamos por $y_n$ y suponemos que $y_0 = r(0) = 1$.\n",
    "3. Repita el inciso anterior, usando la notación $z_n$ para las iteraciones del `método de Euler hacia atrás (forward)`, encuentre la fórumla explícita.\n",
    "\n",
    "**Problema 2** (40 puntos)\n",
    "\n",
    "4. Tomando $\\Delta t = \\frac{1}{10}$ calcule $y_1$, $y_2$, $y_3$ y $z_1$, $z_2$, $z_3$.\\\n",
    "Compare estos valores obtenidos de la solución analítica del inciso `(1)`, $r(\\Delta t)$, $r(2\\Delta t)$, $r(3\\Delta t)$ y calcule los errores relativos en cada caso.\n",
    "\n",
    "5. Escriba un programa en Python que calcule ambos métodos de Euler.\n",
    "6. Realice una gráfica comparativa entre las soluciones numéricas obtenidas por ambos métodos de Euler y la solución analítica obtenida en el inciso `(1)`."
   ]
  },
  {
   "cell_type": "markdown",
   "metadata": {},
   "source": [
    "## Solución Analítica\n",
    "Si tenemos la ecuación:\n",
    "\n",
    "$r'(t) = r(t) + 2t − t^2$\n",
    "\n",
    "se puede observar que la solución a tener en cuenta es el método de `Factor Integrante`, siendo la forma para este caso:\n",
    "\n",
    "$y' + p(x)y = q(x)$\n",
    "\n",
    "Si se reescribe la ecuación original, se obtiene:\n",
    "\n",
    "$r'(t) - r(t) = 2t - t^2$\n",
    "\n",
    "Siendo:\n",
    "\n",
    "$p(t) = -1$\\\n",
    "$q(t) = 2t - t^2$"
   ]
  },
  {
   "cell_type": "markdown",
   "metadata": {},
   "source": [
    "Para encontrar el factor integrante $\\mu (t)$ se calcula con:\n",
    "\n",
    "$\\mu (t) = e^{\\int{p(t)dt}}$\\\n",
    "$\\mu (t) = e^{\\int{-1dt}}$\\\n",
    "$\\mu (t) = e^{-t}$\n",
    "\n",
    "El siguiente paso será usar la fórmula de factor integrante para resolver la ecuación, siendo esta:\n",
    "\n",
    "$y\\mu = \\int{q\\mu dx}$\\\n",
    "$r(t)e^{-t} = \\int{(2t-t^2)e^{-t}dt}$\n",
    "\n",
    "Se resuelve el lado derecho por integración por partes y se obtiene:\n",
    "\n",
    "$r(t)e^{-t} = t^2e^{-t} + C$\n",
    "\n",
    "Simplificando:\n",
    "\n",
    "$r(t) = t^2 + Ce^t$"
   ]
  },
  {
   "cell_type": "markdown",
   "metadata": {},
   "source": [
    "Sabiendo que $r_0 = 1$:\n",
    "\n",
    "$1 = 0^2 + Ce^0$\\\n",
    "$C = 1$\n",
    "\n",
    "entonces\n",
    "\n",
    "$r(t) = t^2 + e^t$"
   ]
  },
  {
   "cell_type": "markdown",
   "metadata": {},
   "source": [
    "## Método de Euler hacia adelante\n",
    "Usando la fórmula del libro, se puede obtener:\n",
    "\n",
    "### $\\frac{y_{n+1}-y_n}{\\Delta t} = y_n + 2t -t^2$\n",
    "\n",
    "Despejando\n",
    "\n",
    "### $y_{n+1} = y_n + (y_n + 2t -t^2)\\Delta t$\n",
    "\n",
    "Con esta fórmula ya se puede iterar sabiendo que $y_0 = 1$"
   ]
  },
  {
   "cell_type": "markdown",
   "metadata": {},
   "source": [
    "Si sabemos que $\\Delta t = \\frac{1}{10}$ podemos sustituir en la fórmula creada previamente\n",
    "\n",
    "$y_1 = 1 + (1 + 2(1) - (1)^2) = 1.2$\\\n",
    "$y_2 = 1.2 + (1.2 + 2(2) - (2)^2) = 1.32$\\\n",
    "$y_3 = 1.32 + (1.32 + 2(3) - (3)^2) = 1.152$\\\n",
    "$y_4 = 1.152 + (1.152 + 2(4) - (4)^2) = 0.4672$\\\n",
    "$y_5 = 0.4672 + (0.4672 + 2(5) - (5)^2) = -0.98608$\\\n",
    "$y_6 = -0.98608 + (-0.98608 + 2(6) - (6)^2) = -3.484688$\\\n",
    "$y_7 = -3.484688 + (-3.484688 + 2(7) - (7)^2) = -7.3331568$\\\n",
    "$y_8 = -7.3331568 + (-7.3331568 + 2(8) - (8)^2) = -12.86647248$\\\n",
    "$y_9 = -12.86647248 + (-12.86647248 + 2(9) - (9)^2) = -20.45311973$\\\n",
    "$y_{10} = -20.45311973 + (-20.45311973+ 2(10) - (10)^2) = -30.4984317$"
   ]
  },
  {
   "cell_type": "markdown",
   "metadata": {},
   "source": [
    "## Método de Euler hacia atrás\n",
    "Usando la fórmula del libro, se obtiene:\n",
    "### $\\frac{z_{n+1}-z_n}{\\Delta t} = z_{n+1} + 2t - t^2$\n",
    "Lo cual se puede simplificar a\n",
    "$z_{n+1} - z_n = \\Delta tz_{n+1} + \\Delta t2t - \\Delta t t^2$\\\n",
    "$z_{n+1} = \\Delta tz_{n+1} + \\Delta t2t - \\Delta t t^2 + z_n$\\\n",
    "$z_{n+1} - \\Delta tz_{n+1} = \\Delta t2t - \\Delta t t^2 + z_n$\\\n",
    "$(1 - \\Delta t)z_{n+1} = \\Delta t2t - \\Delta t t^2 + z_n$\\\n",
    "### $z_{n+1} = \\frac{\\Delta t2t - \\Delta t t^2 + z_n}{1-\\Delta t}$"
   ]
  }
 ],
 "metadata": {
  "language_info": {
   "name": "python"
  }
 },
 "nbformat": 4,
 "nbformat_minor": 2
}
