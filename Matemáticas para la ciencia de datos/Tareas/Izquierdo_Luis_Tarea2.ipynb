{
 "cells": [
  {
   "cell_type": "markdown",
   "metadata": {},
   "source": [
    "# Tarea 2\n",
    "## Matemáticas para la Ciencia de Datos\n",
    "## Docente: **Briceyda B. Delgado**\n",
    "## Alumno: **Luis Fernando Izquierdo Berdugo**\n",
    "## Fecha: **26 de Agosto de 2024**\n",
    "### Instrucciones\n",
    "\n",
    "**Problema 1** (60 puntos)\\\n",
    "Considere el problema con valor inicial\n",
    "\n",
    "$r'(t) = r(t) + 2t − t^2$\\\n",
    "$r(0) = 1$\\\n",
    "$t \\in [0, T ]$\n",
    "\n",
    "1. Encuentre la solución analítica de la ecuación diferencial.\n",
    "2. Derive una fórmula iterativa usando el `método de Euler hacia adelante (backward)`, siguiendo la notación del libro, cada iteración la denotamos por $y_n$ y suponemos que $y_0 = r(0) = 1$.\n",
    "3. Repita el inciso anterior, usando la notación $z_n$ para las iteraciones del `método de Euler hacia atrás (forward)`, encuentre la fórumla explícita.\n",
    "\n",
    "**Problema 2** (40 puntos)\n",
    "\n",
    "4. Tomando $\\Delta t = \\frac{1}{10}$ calcule $y_1$, $y_2$, $y_3$ y $z_1$, $z_2$, $z_3$.\\\n",
    "Compare estos valores obtenidos de la solución analítica del inciso `(1)`, $r(\\Delta t)$, $r(2\\Delta t)$, $r(3\\Delta t)$ y calcule los errores relativos en cada caso.\n",
    "\n",
    "5. Escriba un programa en Python que calcule ambos métodos de Euler.\n",
    "6. Realice una gráfica comparativa entre las soluciones numéricas obtenidas por ambos métodos de Euler y la solución analítica obtenida en el inciso `(1)`."
   ]
  },
  {
   "cell_type": "markdown",
   "metadata": {},
   "source": [
    "### Solución Analítica\n",
    "Si tenemos la ecuación:\n",
    "\n",
    "$r'(t) = r(t) + 2t − t^2$\\\n",
    "\n",
    "podemos ver de manera analítica que:\n",
    "\n",
    "$\\frac{dr}{dt} = r + 2t -t^2$\n",
    "\n",
    "ordenando vemos:\n",
    "\n",
    "$\\frac{1}{R}dr = (2t - t^2)dt$\n",
    "\n",
    "Lo cual nos lleva a la integral\n",
    "\n",
    "$\\int{\\frac{1}{r}dr} = \\int{(2t - t^2)dt}$\n",
    "\n",
    "resolviendo obtenemos\n",
    "\n",
    "$ln(r) = t^2 - \\frac{t^3}{3} + C$\n",
    "\n",
    "Usando el valor de $r_0 = 1$, se obtiene el valor de la Constante de Integración `C`:\n",
    "\n",
    "$ln(r) = 1^2 - \\frac{1^3}{3} + C$\n",
    "\n",
    "$ln(r) = 1 - \\frac{1}{3} + C$ \n",
    "\n",
    "$C = ln(r_0) -1 + \\frac{1}{3}$\n",
    "\n",
    "Volviendo a la ecuación:\n",
    "\n",
    "$ln(r) = t^2 - \\frac{t^3}{3} + ln(r_0) -1 + \\frac{1}{3}$\n",
    "\n",
    "$ln(r(t)) - ln(r_0) = t^2 - \\frac{t^3}{3} - 1 + \\frac{1}{3}$"
   ]
  },
  {
   "cell_type": "markdown",
   "metadata": {},
   "source": [
    "$ln(\\frac{r(t)}{r_0}) = t^2 - \\frac{t^3}{3} - 1 + \\frac{1}{3}$\n",
    "\n",
    "Simplificando:\n",
    "\n",
    "$r(t) = r_0 e^{t^2 -\\frac{t^3}{3} -\\frac{2}{3}}$"
   ]
  }
 ],
 "metadata": {
  "language_info": {
   "name": "python"
  }
 },
 "nbformat": 4,
 "nbformat_minor": 2
}
