{
 "cells": [
  {
   "cell_type": "markdown",
   "metadata": {},
   "source": [
    "# Tarea 2\n",
    "## Matemáticas para la Ciencia de Datos\n",
    "## Docente: **Briceyda B. Delgado**\n",
    "## Alumno: **Luis Fernando Izquierdo Berdugo**\n",
    "## Fecha: **26 de Agosto de 2024**\n",
    "### Instrucciones\n",
    "\n",
    "**Problema 1** (60 puntos)\\\n",
    "Considere el problema con valor inicial\n",
    "\n",
    "$r'(t) = r(t) + 2t − t^2$\\\n",
    "$r(0) = 1$\\\n",
    "$t \\in [0, T ]$\n",
    "\n",
    "1. Encuentre la solución analítica de la ecuación diferencial.\n",
    "2. Derive una fórmula iterativa usando el `método de Euler hacia adelante`, siguiendo la notación del libro, cada iteración la denotamos por $y_n$ y suponemos que $y_0 = r(0) = 1$.\n",
    "3. Repita el inciso anterior, usando la notación $z_n$ para las iteraciones del `método de Euler hacia atrás (forward)`, encuentre la fórumla explícita.\n",
    "\n",
    "**Problema 2** (40 puntos)\n",
    "\n",
    "4. Tomando $\\Delta t = \\frac{1}{10}$ calcule $y_1$, $y_2$, $y_3$ y $z_1$, $z_2$, $z_3$.\\\n",
    "Compare estos valores obtenidos de la solución analítica del inciso `(1)`, $r(\\Delta t)$, $r(2\\Delta t)$, $r(3\\Delta t)$ y calcule los errores relativos en cada caso.\n",
    "\n",
    "5. Escriba un programa en Python que calcule ambos métodos de Euler.\n",
    "6. Realice una gráfica comparativa entre las soluciones numéricas obtenidas por ambos métodos de Euler y la solución analítica obtenida en el inciso `(1)`."
   ]
  },
  {
   "cell_type": "markdown",
   "metadata": {},
   "source": [
    "## Solución Analítica\n",
    "Si tenemos la ecuación:\n",
    "\n",
    "$r'(t) = r(t) + 2t − t^2$\n",
    "\n",
    "se puede observar que la solución a tener en cuenta es el método de `Factor Integrante`, siendo la forma para este caso:\n",
    "\n",
    "$y' + p(x)y = q(x)$\n",
    "\n",
    "Si se reescribe la ecuación original, se obtiene:\n",
    "\n",
    "$r'(t) - r(t) = 2t - t^2$\n",
    "\n",
    "Siendo:\n",
    "\n",
    "$p(t) = -1$\\\n",
    "$q(t) = 2t - t^2$"
   ]
  },
  {
   "cell_type": "markdown",
   "metadata": {},
   "source": [
    "Para encontrar el factor integrante $\\mu (t)$ se calcula con:\n",
    "\n",
    "$\\mu (t) = e^{\\int{p(t)dt}}$\\\n",
    "$\\mu (t) = e^{\\int{-1dt}}$\\\n",
    "$\\mu (t) = e^{-t}$\n",
    "\n",
    "El siguiente paso será usar la fórmula de factor integrante para resolver la ecuación, siendo esta:\n",
    "\n",
    "$y\\mu = \\int{q\\mu dx}$\\\n",
    "$r(t)e^{-t} = \\int{(2t-t^2)e^{-t}dt}$\n",
    "\n",
    "Se resuelve el lado derecho por integración por partes y se obtiene:\n",
    "\n",
    "$r(t)e^{-t} = t^2e^{-t} + C$\n",
    "\n",
    "Simplificando:\n",
    "\n",
    "$r(t) = t^2 + Ce^t$"
   ]
  },
  {
   "cell_type": "markdown",
   "metadata": {},
   "source": [
    "Sabiendo que $r_0 = 1$:\n",
    "\n",
    "$1 = 0^2 + Ce^0$\\\n",
    "$C = 1$\n",
    "\n",
    "entonces\n",
    "\n",
    "$r(t) = t^2 + e^t$"
   ]
  },
  {
   "cell_type": "markdown",
   "metadata": {},
   "source": [
    "## Método de Euler hacia adelante\n",
    "Usando la fórmula del libro, se puede obtener:\n",
    "\n",
    "### $\\frac{y_{n+1}-y_n}{\\Delta t} = y_n + 2t -t^2$\n",
    "\n",
    "Despejando\n",
    "\n",
    "### $y_{n+1} = y_n + (y_n + 2t -t^2)\\Delta t$\n",
    "\n",
    "Con esta fórmula ya se puede iterar sabiendo que $y_0 = 1$"
   ]
  },
  {
   "cell_type": "markdown",
   "metadata": {},
   "source": [
    "Si sabemos que $\\Delta t = \\frac{1}{10}$ y asignamos arbitrariamente $T = 1$, sabiendo que:\n",
    "\n",
    "$N = \\frac{T}{h}$\n",
    "### $N = \\frac{1}{\\frac{1}{10}} = 10$\n",
    "\n",
    "| **$y_n$** | **Sustitución**                                     | **Resultado** |\n",
    "|-----------|-----------------------------------------------------|---------------|\n",
    "| $y_{0}$   |                                                     |           $1$ |\n",
    "| $y_{1}$   | $1 + (1 + 2(0) - (0)^2)0.1$                         |         $1.1$ |\n",
    "| $y_{2}$   | $1.1 + (1.1 + 2(0.1) - (0.1)^2)0.1$                 |       $1.229$ |\n",
    "| $y_{3}$   | $1.229 + (1.229 + 2(0.2) - (0.2)^2)0.1$             |      $1.3879$ |\n",
    "| $y_{4}$   | $1.3879 + (1.3879 + 2(0.3) - (0.3)^2)0.1$           |     $1.57769$ |\n",
    "| $y_{5}$   | $1.57769 + (1.57769 + 2(0.4) - (0.4)^2)0.1$         |    $1.799459$ |\n",
    "| $y_{6}$   | $1.799459 + (1.799459 + 2(0.5) - (0.5)^2)0.1$       |   $2.0544049$ |\n",
    "| $y_{7}$   | $2.0544049 + (2.0544049 + 2(0.6) - (0.6)^2)0.1$     |  $2.34384539$ |\n",
    "| $y_{8}$   | $2.34384539 + (2.34384539 + 2(0.7) - (0.7)^2)0.1$   | $2.669229929$ |\n",
    "| $y_{9}$   | $2.669229929 + (2.669229929 + 2(0.8) - (0.8)^2)0.1$ | $3.032152922$ |\n",
    "| $y_{10}$  | $3.032152922 + (3.032152922 + 2(0.9) - (0.9)^2)0.1$ | $3.434368214$ |\n"
   ]
  },
  {
   "cell_type": "markdown",
   "metadata": {},
   "source": [
    "## Método de Euler hacia atrás\n",
    "Usando la fórmula del libro, se obtiene:\n",
    "### $\\frac{z_{n+1}-z_n}{\\Delta t} = z_{n+1} + 2t - t^2$\n",
    "Lo cual se puede simplificar a\n",
    "$z_{n+1} - z_n = \\Delta tz_{n+1} + \\Delta t2t - \\Delta t t^2$\\\n",
    "$z_{n+1} = \\Delta tz_{n+1} + \\Delta t2t - \\Delta t t^2 + z_n$\\\n",
    "$z_{n+1} - \\Delta tz_{n+1} = \\Delta t2t - \\Delta t t^2 + z_n$\\\n",
    "$(1 - \\Delta t)z_{n+1} = \\Delta t2t - \\Delta t t^2 + z_n$\\\n",
    "### $z_{n+1} = \\frac{\\Delta t2t - \\Delta t t^2 + z_n}{1-\\Delta t}$\n",
    "\n",
    "Sabiendo que $\\Delta t = \\frac{1}{10}$, $N = 10$ y $T = 1$\n",
    "\n",
    "|**$z_{n}$**| **Sustitución**                                         |**Resultado**|\n",
    "|----------|----------------------------------------------------------|-------------|\n",
    "| $z_{0}$  |                                                          |           1 |\n",
    "| $z_{1}$  | $\\frac{(0.1)(2*0.1) - (0.1) (0.1^2) + 1}{0.9}$           | 1.132222222 |\n",
    "| $z_{2}$  | $\\frac{(0.1)(2*0.2) - (0.1) (0.2^2) + 1.132222222}{0.9}$ | 1.298024691 |\n",
    "| $z_{3}$  | $\\frac{(0.1)(2*0.3) - (0.1) (0.3^2) + 1.298024691}{0.9}$ | 1.498916324 |\n",
    "| $z_{4}$  | $\\frac{(0.1)(2*0.4) - (0.1) (0.4^2) + 1.498916324}{0.9}$ | 1.736573693 |\n",
    "| $z_{5}$  | $\\frac{(0.1)(2*0.5) - (0.1) (0.5^2) + 1.736573693}{0.9}$ | 2.012859659 |\n",
    "| $z_{6}$  | $\\frac{(0.1)(2*0.6) - (0.1) (0.6^2) + 2.012859659}{0.9}$ | 2.329844065 |\n",
    "| $z_{7}$  | $\\frac{(0.1)(2*0.7) - (0.1) (0.7^2) + 2.329844065}{0.9}$ | 2.689826739 |\n",
    "| $z_{8}$  | $\\frac{(0.1)(2*0.8) - (0.1) (0.8^2) + 2.689826739}{0.9}$ | 3.095363044 |\n",
    "| $z_{9}$  | $\\frac{(0.1)(2*0.9) - (0.1) (0.9^2) + 3.095363044}{0.9}$ | 3.549292271 |\n",
    "| $z_{10}$ | $\\frac{(0.1)(2*1) - (0.1) (1^2) + 3.549292271}{0.9}$     |  4.05476919 |"
   ]
  }
 ],
 "metadata": {
  "language_info": {
   "name": "python"
  }
 },
 "nbformat": 4,
 "nbformat_minor": 2
}
