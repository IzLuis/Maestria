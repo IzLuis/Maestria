{
  "cells": [
    {
      "cell_type": "markdown",
      "metadata": {
        "id": "VHMznnRXw0nl"
      },
      "source": [
        "# Tarea 4\n",
        "## Matemáticas para la Ciencia de Datos\n",
        "## Docente: **Briceyda B. Delgado**\n",
        "## Alumno: **Luis Fernando Izquierdo Berdugo**\n",
        "## Fecha: **23 de Septiembre de 2024**\n",
        "\n",
        "### Instrucciones\n",
        "1. Explique las semejanzas y difencias entre los método de Bisección, de Newton y de la Secante.\n",
        "2. Implementar y utilizar el método de Newton para encontrar una raíz de una función polinómica $f(x) = x^3 - 6x^2 + 11x -6$\n",
        "    - Implementa el método de Newton en Python para encontrar una raíz de la función $f(x)$.\n",
        "    - Usa una tolerancia de $10^{-6}$ para el criterio de convergencia.\n",
        "    - Prueba tu implementación con un valor inicial de $x_0 = 1.5$\n",
        "    - Grafica la función $f(x)$ y marca la raíz encontrada en la gráfica.\n",
        "    - Analiza y comenta sobre la convergencia del método con el valor inicial elegido.\n",
        "3. Consideremos la función $g(x) = (x+1)(x-1)(x-2)$.\n",
        "    - Implemente el método de Newton tomando como valor inicial $x_0 = 0.$\n",
        "    - ¿Hacia que valor converge el método?\n",
        "    - Explique qué fenómeno de convergencia o divergencia se ilustra con este ejemplo.\n",
        "    - Implementa algún otro método numérico (Bisección, Secante, Punto fijo) para encontrar una raíz de $g(x)$"
      ]
    }
  ],
  "metadata": {
    "colab": {
      "provenance": []
    },
    "kernelspec": {
      "display_name": "Python 3",
      "language": "python",
      "name": "python3"
    },
    "language_info": {
      "codemirror_mode": {
        "name": "ipython",
        "version": 3
      },
      "file_extension": ".py",
      "mimetype": "text/x-python",
      "name": "python",
      "nbconvert_exporter": "python",
      "pygments_lexer": "ipython3",
      "version": "3.12.1"
    }
  },
  "nbformat": 4,
  "nbformat_minor": 0
}
