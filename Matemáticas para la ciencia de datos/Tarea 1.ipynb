{
 "cells": [
  {
   "cell_type": "markdown",
   "metadata": {},
   "source": [
    "# Tarea 1\n",
    "Durante los últimos 65 años, la población en México ha crecido poco más de cuatro veces. En 1950 había 25.8 millones de personas y en 2015 la población llegó a 119.5 millones.\n",
    "La tabla siguiente muestra la población de nuestro país en el período de 1950 a 2015 de acuerdo al Instituto Nacional de Estadística y Geografía (INEGI).\n",
    "\n",
    "|1950|1960|1970|1980|1990|2000|2010|2015|\n",
    "|----|----|----|----|----|----|----|----|\n",
    "|25.8|34.9|48.2|66.8|81.2|97.5|112.3|199.5|\n",
    "\n",
    "### Actividades a realizar\n",
    "1. Establecer un modelo de crecimiento poblacional basado en el Modelo Logístico utilizando los datos de 3 distintos años de la tabla.\n",
    "2. Crear una tabla para comparar la población real con los valores pronosticados por el modelo.\n",
    "3. Calcular del porcentaje de error para cada par de datos.\n",
    "4. Dar una conclusión acerca del modelo propuesto y su efectividad.\n"
   ]
  },
  {
   "cell_type": "markdown",
   "metadata": {},
   "source": [
    "Modelo logístico:\n",
    "\n",
    "$\\frac{dP}{dt} = kP(1-\\frac{P}{K})$\n",
    "\n",
    "- `P(t)` representa la cantidad de población o la variable de interés en el tiempo t,\n",
    "- `K` se le conoce como la barrera poblacional o capacidad de carga, es decir, es la máxima población sostenida por el ambiente,\n",
    "- `k` es la tasa de crecimiento y representa la tasa intrínseca de crecimiento de la población cuando la población es pequeña y no hay limitaciones de recursos.\n",
    "\n",
    "Integrando por fracciones parciales, obtenemos:\n",
    "\n",
    "$P(t) = \\frac{K}{1+Ce^{-kt}}$"
   ]
  },
  {
   "cell_type": "markdown",
   "metadata": {},
   "source": [
    "Para $t = 1950$ sabemos que $P = 25.8$, por lo tanto:\n",
    "$25.8 = \\frac{K}{1+Ce^{-1950k}}$\n",
    "\n",
    "Para $t = 1960$ sabemos que $P = 34.9$, por lo tanto:\n",
    "$34.9 = \\frac{K}{1+Ce^{-1960k}}$\n",
    "\n",
    "Despejando ambas ecuaciones para K:\n",
    "\n",
    "$K = (25.8)(1+Ce^{-1950k})$\n",
    "\n",
    "$K = (34.9)(1+Ce^{-1960k})$\n",
    "\n",
    "$(25.8)(1+Ce^{-1950k}) = (34.9)(1+Ce^{-1960k})$"
   ]
  },
  {
   "cell_type": "markdown",
   "metadata": {},
   "source": [
    "$25.8+25.8e^{-1950k}C = 34.9 + 34.9e^{-1960k}C$\n",
    "\n",
    "$25.8e^{-1950k}C = 9.1 + 34.9e^{-1960k}C$\n",
    "\n",
    "$25.8e^{-1950k} = \\frac{9.1}{C} + 34.9e^{-1960k}$\n",
    "\n",
    "$(ln25.8)(-1950k) = ln\\frac{9.1}{C} + (ln34.9)(-1960k)$\n",
    "\n",
    "$(-6338.23k) = ln\\frac{9.1}{C} + (-6962.87k)$\n",
    "\n",
    "$-6338.23k + 6962.87k = ln\\frac{9.1}{C}$\n",
    "\n",
    "$623.36k = ln\\frac{9.1}{C}$\n",
    "\n",
    "$623.36k = ln9.1 - lnC$\n",
    "\n",
    "$623.36k = 2.2 - lnC$\n",
    "\n",
    "$k = \\frac{2.2}{623.36} - \\frac {lnC}{623.36}$\n",
    "\n",
    "$k = 0.00354 - \\frac {lnC}{623.36}$"
   ]
  },
  {
   "cell_type": "markdown",
   "metadata": {},
   "source": [
    "$K = (25.8)(1+Ce^{-1950(0.00354 - \\frac {lnC}{623.36})})$"
   ]
  }
 ],
 "metadata": {
  "kernelspec": {
   "display_name": "Python 3",
   "language": "python",
   "name": "python3"
  },
  "language_info": {
   "codemirror_mode": {
    "name": "ipython",
    "version": 3
   },
   "file_extension": ".py",
   "mimetype": "text/x-python",
   "name": "python",
   "nbconvert_exporter": "python",
   "pygments_lexer": "ipython3",
   "version": "3.12.1"
  }
 },
 "nbformat": 4,
 "nbformat_minor": 2
}
