{
 "cells": [
  {
   "cell_type": "markdown",
   "metadata": {},
   "source": [
    "# Cración de un índice invertido\n",
    "**Por: Diego Fernando Mulato Gómez. <diego.mulato.infotec@gmail.com>**\n",
    "\n",
    "\n",
    "\n",
    "## Introducción\n",
    "\n",
    "Un índice invertido es una estructura de búsqueda por contenido de texto u otros datos que pueden ser representados mediante símbolos. Será el centro de este curso crear los algoritmos necesarios para implementar un índice invertido.\n",
    "\n",
    "En la presente práctica relativa a búsqueda en arreglos ordenados utilizaremos la estructura interna (arreglos ordenados) generada por un índice invertido para una colección de texto. Para eso utilizaremos el índice invertido definido del paquete [TextSearch](https://github.com/sadit/TextSearch.jl).\n",
    "\n",
    "El código básico se encontrará a lo largo de este notebook.\n",
    "\n",
    "\n",
    "## Creando un índice invertido\n",
    "\n",
    "Crearemos un índice invertido usando 50'000 tweets públicos y reales, de contenido político. No hubo ningún tipo de censura en los textos, por lo cual se recomienda discreción. Los tweets fueron colectados durante epoca de la campaña presidencial 2018. Note que se puede usar cualquier conjunto de mensajes en el directorio _datos_ de este repositorio.\n",
    "\n",
    "El formato original de los datos son mensajes en formato [JSON](https://es.wikipedia.org/wiki/JSON), provenientes del stream público de Twitter. El archivo que se utilizará contiene un tweet por linea, es decir, cada linea es un JSON valido.\n",
    "\n",
    "La idea por el momento es crear únicamente lo necesario, con la menor cantidad de dependencias. \n",
    "\n",
    "\n",
    "## Primeros pasos\n",
    "\n",
    "Se inicializará el repositorio, así como también cargar los datos"
   ]
  },
  {
   "cell_type": "code",
   "execution_count": 1,
   "metadata": {},
   "outputs": [
    {
     "name": "stderr",
     "output_type": "stream",
     "text": [
      "\u001b[32m\u001b[1m  Activating\u001b[22m\u001b[39m project at `~/courses/CURSO-ALGO-IR/U3`\n",
      "\u001b[32m\u001b[1m    Updating\u001b[22m\u001b[39m registry at `~/.julia/registries/General.toml`\n",
      "\u001b[32m\u001b[1m   Resolving\u001b[22m\u001b[39m package versions...\n",
      "\u001b[32m\u001b[1m  No Changes\u001b[22m\u001b[39m to `~/courses/CURSO-ALGO-IR/U3/Project.toml`\n",
      "\u001b[32m\u001b[1m  No Changes\u001b[22m\u001b[39m to `~/courses/CURSO-ALGO-IR/U3/Manifest.toml`\n"
     ]
    }
   ],
   "source": [
    "using Pkg\n",
    "# Pkg.activate(temp=true)\n",
    "Pkg.activate(\".\")\n",
    "\n",
    "Pkg.add([\n",
    "        PackageSpec(name=\"SimilaritySearch\", version=\"0.8.8\"),\n",
    "        PackageSpec(name=\"TextSearch\", version=\"0.10.5\"),\n",
    "        PackageSpec(name=\"InvertedFiles\", version=\"0.1.6\"),\n",
    "        PackageSpec(name=\"Plots\", version=\"1.25\"),\n",
    "        PackageSpec(name=\"JSON\", version=\"0.21\")\n",
    "    ]\n",
    ")\n",
    "using SimilaritySearch, TextSearch, InvertedFiles, JSON"
   ]
  },
  {
   "cell_type": "markdown",
   "metadata": {},
   "source": [
    "## Preprocesamiento\n",
    "La base de datos se lee, un JSON por cada línea. Como segundo paso, debemos convertir el texto a simbolos, estos serán las palabras. Para este proceso, vamos a simplificar el texto y luego crear una bolsa de palabras (la cual es un `multiset`), y para eso se realizarán algunas normalizaciones y procesamientos simples:\n",
    "- bajar a minúsculas\n",
    "- se removerán símbolos de puntuación y otros no alfanuméricos\n",
    "- se removerán acentos\n",
    "- las urls se agruparan como un único símbolo\n",
    "- se removerán las palabras comunes (_stopwords_)\n",
    "\n",
    "Nota: No es el objeto de este curso el procesamiento de lenguaje natural, por lo que no se abordará más que lo esencial para tener la estructura deseada, sin embargo me gustaría investigarán otras funciones y de ser posible, las apliquen."
   ]
  },
  {
   "cell_type": "code",
   "execution_count": 2,
   "metadata": {},
   "outputs": [
    {
     "data": {
      "text/plain": [
       "Set{UInt64} with 87 elements:\n",
       "  0x0cc91e2aad79d671\n",
       "  0xf8ab34f91df3b7a2\n",
       "  0xab14369a687b3615\n",
       "  0xc9b306b26040efd7\n",
       "  0xfd95c8db832254c6\n",
       "  0x93017f16f1845e03\n",
       "  0xf24212015864febb\n",
       "  0x9bf445521ca64451\n",
       "  0xd3169c965c7173de\n",
       "  0xa07b936ebf658b14\n",
       "  0xa36b61cbc03e4f9a\n",
       "  0x7efa0130faf9e18f\n",
       "  0x778bd13d96bfe33e\n",
       "  0xf88aef1b5c42e41f\n",
       "  0xdd361b6be867a785\n",
       "  0xc20946388942eb93\n",
       "  0xd043064594cacd70\n",
       "  0x6d7d4abdefa369c6\n",
       "  0xacbccdc6833d1525\n",
       "  0x51c23470c6bd450f\n",
       "  0x02eb319735bca9ef\n",
       "  0xd646173f2698c30f\n",
       "  0x37b78e2ba20f5c3d\n",
       "  0x054d3f6b36e26ecb\n",
       "  0x16ae0f51150e68e2\n",
       "  ⋮ "
      ]
     },
     "execution_count": 2,
     "metadata": {},
     "output_type": "execute_result"
    }
   ],
   "source": [
    "const TOK = Tokenizer(\n",
    "    TextConfig(\n",
    "        del_diac=true,\n",
    "        del_dup=false,\n",
    "        del_punc=true,\n",
    "        group_num=true,\n",
    "        group_url=true,\n",
    "        group_usr=false,\n",
    "        group_emo=false,\n",
    "        lc=true,\n",
    "        nlist=[1],\n",
    "    )\n",
    ")\n",
    "\n",
    "const STOPWORDS = [\"de\", \"la\", \"el\", \"a\", \"y\", \"en\", \"que\",\"con\", \"los\", \"se\", \"del\", \"para\", \"no\", \"por\", \"las\", \"su\", \"un\", \"al\", \"es\",\n",
    "    \"lo\", \"como\", \"una\", \"mas\", \"le\", \"si\", \"ya\",\"esta\", \"pero\", \"sobre\", \"pais\",  \"entre\", \"sus\", \"asi\", \"tras\", \"este\", \"sera\", \"fue\", \"via\", \"son\", \"dice\", \"ser\",\n",
    "    \"me\", \"nuevo\", \"o\", \"tiene\", \"sin\", \"te\", \"todos\", \"todo\", \"ha\", \"nos\", \"ahora\", \"solo\", \"desde\", \"les\", \"hay\", \n",
    "    \"quien\", \"ni\", \"mi\", \"tambien\", \"hasta\", \"contra\", \"porque\", \"muy\", \"eso\", \"habra\", \"yo\",\n",
    "    \"cuando\", \"bien\", \"donde\", \"esto\", \"pide\", \"debe\", \"estos\", \"vamos\", \"ante\", \"e\",  \"tu\", \"hace\", \"hacer\", \n",
    "    \"despues\", \"nada\", \"quienes\", \"antes\", \"mejor\", \"parte\", \"ver\"]\n",
    "\n",
    "const STOPWORDS_HASH = Set(hash.(STOPWORDS))\n"
   ]
  },
  {
   "cell_type": "code",
   "execution_count": 3,
   "metadata": {},
   "outputs": [
    {
     "data": {
      "text/plain": [
       "create_invindex (generic function with 1 method)"
      ]
     },
     "execution_count": 3,
     "metadata": {},
     "output_type": "execute_result"
    }
   ],
   "source": [
    "function read_corpus(filename)\n",
    "    corpus = String[]\n",
    "    for line in eachline(filename)\n",
    "        d = JSON.parse(line)\n",
    "        push!(corpus, d[\"text\"])\n",
    "    end\n",
    "\n",
    "    corpus\n",
    "end\n",
    "\n",
    "function create_invindex(tok, corpus)\n",
    "    corpus_bow = compute_bow_corpus(tok, corpus)\n",
    "    for w in STOPWORDS_HASH\n",
    "        for bow in corpus_bow\n",
    "            delete!(bow, w)\n",
    "        end\n",
    "    end\n",
    "    \n",
    "    model = VectorModel(IdfWeighting(), TfWeighting(), corpus_bow)\n",
    "    index = append!(InvertedFile(), vectorize_corpus(tok, model, corpus)) \n",
    "    (tok=tok, model=model, index=index)\n",
    "end\n"
   ]
  },
  {
   "cell_type": "code",
   "execution_count": 4,
   "metadata": {},
   "outputs": [
    {
     "name": "stderr",
     "output_type": "stream",
     "text": [
      "┌ Info: voc-size: 41577, num-messages: 50000\n",
      "└ @ Main In[4]:8\n"
     ]
    }
   ],
   "source": [
    "filename = \"../datos/politicos.json\"\n",
    "#filename = \"../datos/quejas2020.json\"\n",
    "#filename = \"../datos/etiquetadofrontal2020.json\"\n",
    "#filename = \"../datos/pcovid2020.json\"\n",
    "corpus = read_corpus(filename)\n",
    "I = create_invindex(TOK, corpus)\n",
    "\n",
    "@info \"voc-size: $(length(I.index.lists)), num-messages: $(I.index.n)\"\n"
   ]
  },
  {
   "cell_type": "markdown",
   "metadata": {},
   "source": [
    "## Índice Invertido\n",
    "El índice permite realizar búsquedas"
   ]
  },
  {
   "cell_type": "code",
   "execution_count": 5,
   "metadata": {},
   "outputs": [
    {
     "data": {
      "text/plain": [
       "search_corpus (generic function with 2 methods)"
      ]
     },
     "execution_count": 5,
     "metadata": {},
     "output_type": "execute_result"
    }
   ],
   "source": [
    "function search_corpus(I, q, k=10)\n",
    "    println(\"consulta: $q\")\n",
    "    # res = search(I.index, vectorize(I.tok, I.model, compute_bow(I.config, q)), KnnResult(10))\n",
    "    res, _ = search(I.index, vectorize(I.tok, I.model, q), KnnResult(k))\n",
    "    @show :raw_result, res\n",
    "    for (i, (id, dist)) in enumerate(res)\n",
    "        println(i, \" - \", round(dist, digits=3), \" => \", corpus[id])\n",
    "    end\n",
    "end"
   ]
  },
  {
   "cell_type": "code",
   "execution_count": 6,
   "metadata": {},
   "outputs": [
    {
     "name": "stdout",
     "output_type": "stream",
     "text": [
      "consulta: gasto en encuestas\n",
      "(:raw_result, res) = (:raw_result, KnnResult(Int32[13793, 14522, 45390, 47398, 47399, 48238, 43432, 47040, 49556, 35954], Float32[0.2381163, 0.242869, 0.52251136, 0.52251136, 0.52251136, 0.5727747, 0.6792312, 0.6792312, 0.6851313, 0.689915], 10))\n",
      "1 - 0.238 => Ricardo Anaya fue el candidato que más gastó en encuestas https://t.co/Qiph5YrWSc\n",
      "2 - 0.243 => Ricardo Anaya fue el candidato que más gastó en encuestas https://t.co/4c1Q50W8yM https://t.co/WQqYxwk5uw\n",
      "3 - 0.523 => ¿Cuánto se gastó en las #Elecciones2018? https://t.co/wCm6xCB7ZE\n",
      "4 - 0.523 => ¿Cuánto se gastó en las #Elecciones2018? https://t.co/drokk1IcnG\n",
      "5 - 0.523 => ¿Cuánto se gastó en las #Elecciones2018? https://t.co/I5MMQ39sGz\n",
      "6 - 0.573 => #Elecciones2018 ¿Cuánto se gastó en las #Elecciones2018? https://t.co/cjvwj7YYBm\n",
      "7 - 0.679 => Es muy positivo que AMLO quiera recortar el gasto público, solo que los recortes que está anunciando no alcanzan para compensar el gasto que quiere aumentar\n",
      "https://t.co/lleVc4G8qM\n",
      "8 - 0.679 => Es muy positivo que AMLO quiera recortar el gasto público, solo que los recortes que está anunciando no alcanzan para compensar el gasto que quiere aumentar\n",
      "https://t.co/1ABazuJ1Qt\n",
      "9 - 0.685 => #EnVivo [ @lopezobrador_ ]:\n",
      "\n",
      "Se reduce 50% del gasto en publicidad\n",
      "https://t.co/XhkbPDuy0d\n",
      "10 - 0.69 => Más de 40mil millones d pesos gasto @FelipeCalderon en promover su imagen pública y la d su gobierno\n",
      "@EPN gasto más de 70 mil millones\n",
      "@lopezobrador_ debe decretar moratoria inmediata y total del criminal, obsceno, innecesario gasto en publicidad oficial\n",
      "Becarios si, sicarios no!\n"
     ]
    }
   ],
   "source": [
    "search_corpus(I, \"gasto en encuestas\")"
   ]
  },
  {
   "cell_type": "code",
   "execution_count": 7,
   "metadata": {},
   "outputs": [
    {
     "name": "stdout",
     "output_type": "stream",
     "text": [
      "consulta: trump\n",
      "(:raw_result, res) = (:raw_result, KnnResult(Int32[31041, 33839, 28190, 28766, 22838, 25457, 36283, 30287, 26097, 28196], Float32[0.35728276, 0.42026967, 0.42322582, 0.4273858, 0.4404372, 0.4404372, 0.449678, 0.4507581, 0.45519257, 0.47645253], 10))\n",
      "1 - 0.357 => Trump llama Juan Trump a AMLO https://t.co/lccxYbUQDe https://t.co/vYPM97xxle\n",
      "2 - 0.42 => ¿Donald Trump llama 'Juan Trump' a AMLO? https://t.co/S2si3JX4eP\n",
      "3 - 0.423 => Trump apoda Juan Trump a AMLO https://t.co/Dkwog61rm9\n",
      "4 - 0.427 => Apoda Trump a AMLO como 'Juan Trump'\n",
      "https://t.co/fVk7ImSNoT https://t.co/ELfaQXLR5T\n",
      "5 - 0.44 => ¿Cómo será la relación Trump - AMLO?\n",
      "\n",
      "https://t.co/8ZNkzu7JyO\n",
      "6 - 0.44 => ¿Cómo será la relación Trump - AMLO?\n",
      "\n",
      "https://t.co/8ZNkzupkXo\n",
      "7 - 0.45 => ¿Qué quiere Trump de AMLO? https://t.co/i68FwRlCUX\n",
      "8 - 0.451 => Ya le puso Trump apodo a AMLO: ‘Juan Trump’ https://t.co/oiZmtM79ch https://t.co/0kMzWrUYss\n",
      "9 - 0.455 => La relación Trump-AMLO https://t.co/9cSvjuaMTo https://t.co/mWajlVaFW3\n",
      "10 - 0.476 => Donald Trump apoda a AMLO  “Juan Trump” - https://t.co/vhT0NqAt7I https://t.co/YKfElpCZjZ\n"
     ]
    }
   ],
   "source": [
    "search_corpus(I, \"trump\")"
   ]
  },
  {
   "cell_type": "markdown",
   "metadata": {},
   "source": [
    "# Obtención de las listas de posteo para realizar la actividad\n",
    "Como ya se había comentado, un índice invertido es una tabla dispersa de apuntadores (índices) de ocurrencia de la forma $\\textsf{palabra} \\rightarrow \\textsf{lista de documentos}$.\n",
    "En particular, en la implementación que se uso también guarda un peso, el cual será ignorado en nuestra actividad."
   ]
  },
  {
   "cell_type": "code",
   "execution_count": 8,
   "metadata": {},
   "outputs": [
    {
     "data": {
      "text/plain": [
       "41577"
      ]
     },
     "execution_count": 8,
     "metadata": {},
     "output_type": "execute_result"
    }
   ],
   "source": [
    "L = length.(I.index.lists)\n",
    "sort!(L, rev=true)\n",
    "length(L)"
   ]
  },
  {
   "cell_type": "markdown",
   "metadata": {},
   "source": [
    "## Zipf law\n",
    "\n",
    "Como recordarán, la ley de Zipf aplicada a texto en un lenguaje natural sigue una ley de potencia: pocos términos ocurren muy frecuentemente y muchos ocurren poco. En esta colección es como sigue."
   ]
  },
  {
   "cell_type": "code",
   "execution_count": 9,
   "metadata": {},
   "outputs": [
    {
     "data": {
      "image/svg+xml": [
       "<?xml version=\"1.0\" encoding=\"utf-8\"?>\n",
       "<svg xmlns=\"http://www.w3.org/2000/svg\" xmlns:xlink=\"http://www.w3.org/1999/xlink\" width=\"600\" height=\"400\" viewBox=\"0 0 2400 1600\">\n",
       "<defs>\n",
       "  <clipPath id=\"clip130\">\n",
       "    <rect x=\"0\" y=\"0\" width=\"2400\" height=\"1600\"/>\n",
       "  </clipPath>\n",
       "</defs>\n",
       "<path clip-path=\"url(#clip130)\" d=\"\n",
       "M0 1600 L2400 1600 L2400 0 L0 0  Z\n",
       "  \" fill=\"#ffffff\" fill-rule=\"evenodd\" fill-opacity=\"1\"/>\n",
       "<defs>\n",
       "  <clipPath id=\"clip131\">\n",
       "    <rect x=\"480\" y=\"0\" width=\"1681\" height=\"1600\"/>\n",
       "  </clipPath>\n",
       "</defs>\n",
       "<path clip-path=\"url(#clip130)\" d=\"\n",
       "M277.431 1486.45 L2352.76 1486.45 L2352.76 47.2441 L277.431 47.2441  Z\n",
       "  \" fill=\"#ffffff\" fill-rule=\"evenodd\" fill-opacity=\"1\"/>\n",
       "<defs>\n",
       "  <clipPath id=\"clip132\">\n",
       "    <rect x=\"277\" y=\"47\" width=\"2076\" height=\"1440\"/>\n",
       "  </clipPath>\n",
       "</defs>\n",
       "<polyline clip-path=\"url(#clip132)\" style=\"stroke:#000000; stroke-linecap:butt; stroke-linejoin:round; stroke-width:2; stroke-opacity:0.1; fill:none\" points=\"\n",
       "  334.207,1486.45 334.207,47.2441 \n",
       "  \"/>\n",
       "<polyline clip-path=\"url(#clip132)\" style=\"stroke:#000000; stroke-linecap:butt; stroke-linejoin:round; stroke-width:2; stroke-opacity:0.1; fill:none\" points=\"\n",
       "  824.16,1486.45 824.16,47.2441 \n",
       "  \"/>\n",
       "<polyline clip-path=\"url(#clip132)\" style=\"stroke:#000000; stroke-linecap:butt; stroke-linejoin:round; stroke-width:2; stroke-opacity:0.1; fill:none\" points=\"\n",
       "  1314.11,1486.45 1314.11,47.2441 \n",
       "  \"/>\n",
       "<polyline clip-path=\"url(#clip132)\" style=\"stroke:#000000; stroke-linecap:butt; stroke-linejoin:round; stroke-width:2; stroke-opacity:0.1; fill:none\" points=\"\n",
       "  1804.07,1486.45 1804.07,47.2441 \n",
       "  \"/>\n",
       "<polyline clip-path=\"url(#clip132)\" style=\"stroke:#000000; stroke-linecap:butt; stroke-linejoin:round; stroke-width:2; stroke-opacity:0.1; fill:none\" points=\"\n",
       "  2294.02,1486.45 2294.02,47.2441 \n",
       "  \"/>\n",
       "<polyline clip-path=\"url(#clip130)\" style=\"stroke:#000000; stroke-linecap:butt; stroke-linejoin:round; stroke-width:4; stroke-opacity:1; fill:none\" points=\"\n",
       "  277.431,1486.45 2352.76,1486.45 \n",
       "  \"/>\n",
       "<polyline clip-path=\"url(#clip130)\" style=\"stroke:#000000; stroke-linecap:butt; stroke-linejoin:round; stroke-width:4; stroke-opacity:1; fill:none\" points=\"\n",
       "  334.207,1486.45 334.207,1467.55 \n",
       "  \"/>\n",
       "<polyline clip-path=\"url(#clip130)\" style=\"stroke:#000000; stroke-linecap:butt; stroke-linejoin:round; stroke-width:4; stroke-opacity:1; fill:none\" points=\"\n",
       "  824.16,1486.45 824.16,1467.55 \n",
       "  \"/>\n",
       "<polyline clip-path=\"url(#clip130)\" style=\"stroke:#000000; stroke-linecap:butt; stroke-linejoin:round; stroke-width:4; stroke-opacity:1; fill:none\" points=\"\n",
       "  1314.11,1486.45 1314.11,1467.55 \n",
       "  \"/>\n",
       "<polyline clip-path=\"url(#clip130)\" style=\"stroke:#000000; stroke-linecap:butt; stroke-linejoin:round; stroke-width:4; stroke-opacity:1; fill:none\" points=\"\n",
       "  1804.07,1486.45 1804.07,1467.55 \n",
       "  \"/>\n",
       "<polyline clip-path=\"url(#clip130)\" style=\"stroke:#000000; stroke-linecap:butt; stroke-linejoin:round; stroke-width:4; stroke-opacity:1; fill:none\" points=\"\n",
       "  2294.02,1486.45 2294.02,1467.55 \n",
       "  \"/>\n",
       "<path clip-path=\"url(#clip130)\" d=\"M334.207 1517.37 Q330.596 1517.37 328.767 1520.93 Q326.961 1524.47 326.961 1531.6 Q326.961 1538.71 328.767 1542.27 Q330.596 1545.82 334.207 1545.82 Q337.841 1545.82 339.647 1542.27 Q341.475 1538.71 341.475 1531.6 Q341.475 1524.47 339.647 1520.93 Q337.841 1517.37 334.207 1517.37 M334.207 1513.66 Q340.017 1513.66 343.072 1518.27 Q346.151 1522.85 346.151 1531.6 Q346.151 1540.33 343.072 1544.94 Q340.017 1549.52 334.207 1549.52 Q328.397 1549.52 325.318 1544.94 Q322.262 1540.33 322.262 1531.6 Q322.262 1522.85 325.318 1518.27 Q328.397 1513.66 334.207 1513.66 Z\" fill=\"#000000\" fill-rule=\"evenodd\" fill-opacity=\"1\" /><path clip-path=\"url(#clip130)\" d=\"M787.852 1544.91 L804.172 1544.91 L804.172 1548.85 L782.227 1548.85 L782.227 1544.91 Q784.889 1542.16 789.473 1537.53 Q794.079 1532.88 795.26 1531.53 Q797.505 1529.01 798.385 1527.27 Q799.288 1525.51 799.288 1523.82 Q799.288 1521.07 797.343 1519.33 Q795.422 1517.6 792.32 1517.6 Q790.121 1517.6 787.667 1518.36 Q785.237 1519.13 782.459 1520.68 L782.459 1515.95 Q785.283 1514.82 787.737 1514.24 Q790.19 1513.66 792.227 1513.66 Q797.598 1513.66 800.792 1516.35 Q803.987 1519.03 803.987 1523.52 Q803.987 1525.65 803.176 1527.57 Q802.389 1529.47 800.283 1532.07 Q799.704 1532.74 796.602 1535.95 Q793.501 1539.15 787.852 1544.91 Z\" fill=\"#000000\" fill-rule=\"evenodd\" fill-opacity=\"1\" /><path clip-path=\"url(#clip130)\" d=\"M814.033 1514.29 L832.389 1514.29 L832.389 1518.22 L818.315 1518.22 L818.315 1526.7 Q819.334 1526.35 820.352 1526.19 Q821.371 1526 822.389 1526 Q828.176 1526 831.556 1529.17 Q834.936 1532.34 834.936 1537.76 Q834.936 1543.34 831.463 1546.44 Q827.991 1549.52 821.672 1549.52 Q819.496 1549.52 817.227 1549.15 Q814.982 1548.78 812.575 1548.04 L812.575 1543.34 Q814.658 1544.47 816.88 1545.03 Q819.102 1545.58 821.579 1545.58 Q825.584 1545.58 827.922 1543.48 Q830.26 1541.37 830.26 1537.76 Q830.26 1534.15 827.922 1532.04 Q825.584 1529.94 821.579 1529.94 Q819.704 1529.94 817.829 1530.35 Q815.977 1530.77 814.033 1531.65 L814.033 1514.29 Z\" fill=\"#000000\" fill-rule=\"evenodd\" fill-opacity=\"1\" /><path clip-path=\"url(#clip130)\" d=\"M854.148 1517.37 Q850.537 1517.37 848.709 1520.93 Q846.903 1524.47 846.903 1531.6 Q846.903 1538.71 848.709 1542.27 Q850.537 1545.82 854.148 1545.82 Q857.783 1545.82 859.588 1542.27 Q861.417 1538.71 861.417 1531.6 Q861.417 1524.47 859.588 1520.93 Q857.783 1517.37 854.148 1517.37 M854.148 1513.66 Q859.959 1513.66 863.014 1518.27 Q866.093 1522.85 866.093 1531.6 Q866.093 1540.33 863.014 1544.94 Q859.959 1549.52 854.148 1549.52 Q848.338 1549.52 845.26 1544.94 Q842.204 1540.33 842.204 1531.6 Q842.204 1522.85 845.26 1518.27 Q848.338 1513.66 854.148 1513.66 Z\" fill=\"#000000\" fill-rule=\"evenodd\" fill-opacity=\"1\" /><path clip-path=\"url(#clip130)\" d=\"M1273.73 1514.29 L1292.09 1514.29 L1292.09 1518.22 L1278.01 1518.22 L1278.01 1526.7 Q1279.03 1526.35 1280.05 1526.19 Q1281.07 1526 1282.09 1526 Q1287.88 1526 1291.25 1529.17 Q1294.63 1532.34 1294.63 1537.76 Q1294.63 1543.34 1291.16 1546.44 Q1287.69 1549.52 1281.37 1549.52 Q1279.19 1549.52 1276.93 1549.15 Q1274.68 1548.78 1272.27 1548.04 L1272.27 1543.34 Q1274.36 1544.47 1276.58 1545.03 Q1278.8 1545.58 1281.28 1545.58 Q1285.28 1545.58 1287.62 1543.48 Q1289.96 1541.37 1289.96 1537.76 Q1289.96 1534.15 1287.62 1532.04 Q1285.28 1529.94 1281.28 1529.94 Q1279.4 1529.94 1277.53 1530.35 Q1275.68 1530.77 1273.73 1531.65 L1273.73 1514.29 Z\" fill=\"#000000\" fill-rule=\"evenodd\" fill-opacity=\"1\" /><path clip-path=\"url(#clip130)\" d=\"M1313.85 1517.37 Q1310.24 1517.37 1308.41 1520.93 Q1306.6 1524.47 1306.6 1531.6 Q1306.6 1538.71 1308.41 1542.27 Q1310.24 1545.82 1313.85 1545.82 Q1317.48 1545.82 1319.29 1542.27 Q1321.12 1538.71 1321.12 1531.6 Q1321.12 1524.47 1319.29 1520.93 Q1317.48 1517.37 1313.85 1517.37 M1313.85 1513.66 Q1319.66 1513.66 1322.71 1518.27 Q1325.79 1522.85 1325.79 1531.6 Q1325.79 1540.33 1322.71 1544.94 Q1319.66 1549.52 1313.85 1549.52 Q1308.04 1549.52 1304.96 1544.94 Q1301.9 1540.33 1301.9 1531.6 Q1301.9 1522.85 1304.96 1518.27 Q1308.04 1513.66 1313.85 1513.66 Z\" fill=\"#000000\" fill-rule=\"evenodd\" fill-opacity=\"1\" /><path clip-path=\"url(#clip130)\" d=\"M1344.01 1517.37 Q1340.4 1517.37 1338.57 1520.93 Q1336.76 1524.47 1336.76 1531.6 Q1336.76 1538.71 1338.57 1542.27 Q1340.4 1545.82 1344.01 1545.82 Q1347.64 1545.82 1349.45 1542.27 Q1351.28 1538.71 1351.28 1531.6 Q1351.28 1524.47 1349.45 1520.93 Q1347.64 1517.37 1344.01 1517.37 M1344.01 1513.66 Q1349.82 1513.66 1352.87 1518.27 Q1355.95 1522.85 1355.95 1531.6 Q1355.95 1540.33 1352.87 1544.94 Q1349.82 1549.52 1344.01 1549.52 Q1338.2 1549.52 1335.12 1544.94 Q1332.06 1540.33 1332.06 1531.6 Q1332.06 1522.85 1335.12 1518.27 Q1338.2 1513.66 1344.01 1513.66 Z\" fill=\"#000000\" fill-rule=\"evenodd\" fill-opacity=\"1\" /><path clip-path=\"url(#clip130)\" d=\"M1762.34 1514.29 L1784.56 1514.29 L1784.56 1516.28 L1772.02 1548.85 L1767.13 1548.85 L1778.94 1518.22 L1762.34 1518.22 L1762.34 1514.29 Z\" fill=\"#000000\" fill-rule=\"evenodd\" fill-opacity=\"1\" /><path clip-path=\"url(#clip130)\" d=\"M1793.73 1514.29 L1812.09 1514.29 L1812.09 1518.22 L1798.01 1518.22 L1798.01 1526.7 Q1799.03 1526.35 1800.05 1526.19 Q1801.07 1526 1802.09 1526 Q1807.87 1526 1811.25 1529.17 Q1814.63 1532.34 1814.63 1537.76 Q1814.63 1543.34 1811.16 1546.44 Q1807.69 1549.52 1801.37 1549.52 Q1799.19 1549.52 1796.93 1549.15 Q1794.68 1548.78 1792.27 1548.04 L1792.27 1543.34 Q1794.36 1544.47 1796.58 1545.03 Q1798.8 1545.58 1801.28 1545.58 Q1805.28 1545.58 1807.62 1543.48 Q1809.96 1541.37 1809.96 1537.76 Q1809.96 1534.15 1807.62 1532.04 Q1805.28 1529.94 1801.28 1529.94 Q1799.4 1529.94 1797.53 1530.35 Q1795.68 1530.77 1793.73 1531.65 L1793.73 1514.29 Z\" fill=\"#000000\" fill-rule=\"evenodd\" fill-opacity=\"1\" /><path clip-path=\"url(#clip130)\" d=\"M1833.85 1517.37 Q1830.24 1517.37 1828.41 1520.93 Q1826.6 1524.47 1826.6 1531.6 Q1826.6 1538.71 1828.41 1542.27 Q1830.24 1545.82 1833.85 1545.82 Q1837.48 1545.82 1839.29 1542.27 Q1841.12 1538.71 1841.12 1531.6 Q1841.12 1524.47 1839.29 1520.93 Q1837.48 1517.37 1833.85 1517.37 M1833.85 1513.66 Q1839.66 1513.66 1842.71 1518.27 Q1845.79 1522.85 1845.79 1531.6 Q1845.79 1540.33 1842.71 1544.94 Q1839.66 1549.52 1833.85 1549.52 Q1828.04 1549.52 1824.96 1544.94 Q1821.9 1540.33 1821.9 1531.6 Q1821.9 1522.85 1824.96 1518.27 Q1828.04 1513.66 1833.85 1513.66 Z\" fill=\"#000000\" fill-rule=\"evenodd\" fill-opacity=\"1\" /><path clip-path=\"url(#clip130)\" d=\"M2238.55 1544.91 L2246.18 1544.91 L2246.18 1518.55 L2237.87 1520.21 L2237.87 1515.95 L2246.14 1514.29 L2250.81 1514.29 L2250.81 1544.91 L2258.45 1544.91 L2258.45 1548.85 L2238.55 1548.85 L2238.55 1544.91 Z\" fill=\"#000000\" fill-rule=\"evenodd\" fill-opacity=\"1\" /><path clip-path=\"url(#clip130)\" d=\"M2277.9 1517.37 Q2274.29 1517.37 2272.46 1520.93 Q2270.65 1524.47 2270.65 1531.6 Q2270.65 1538.71 2272.46 1542.27 Q2274.29 1545.82 2277.9 1545.82 Q2281.53 1545.82 2283.34 1542.27 Q2285.17 1538.71 2285.17 1531.6 Q2285.17 1524.47 2283.34 1520.93 Q2281.53 1517.37 2277.9 1517.37 M2277.9 1513.66 Q2283.71 1513.66 2286.76 1518.27 Q2289.84 1522.85 2289.84 1531.6 Q2289.84 1540.33 2286.76 1544.94 Q2283.71 1549.52 2277.9 1549.52 Q2272.09 1549.52 2269.01 1544.94 Q2265.95 1540.33 2265.95 1531.6 Q2265.95 1522.85 2269.01 1518.27 Q2272.09 1513.66 2277.9 1513.66 Z\" fill=\"#000000\" fill-rule=\"evenodd\" fill-opacity=\"1\" /><path clip-path=\"url(#clip130)\" d=\"M2308.06 1517.37 Q2304.45 1517.37 2302.62 1520.93 Q2300.81 1524.47 2300.81 1531.6 Q2300.81 1538.71 2302.62 1542.27 Q2304.45 1545.82 2308.06 1545.82 Q2311.69 1545.82 2313.5 1542.27 Q2315.33 1538.71 2315.33 1531.6 Q2315.33 1524.47 2313.5 1520.93 Q2311.69 1517.37 2308.06 1517.37 M2308.06 1513.66 Q2313.87 1513.66 2316.93 1518.27 Q2320 1522.85 2320 1531.6 Q2320 1540.33 2316.93 1544.94 Q2313.87 1549.52 2308.06 1549.52 Q2302.25 1549.52 2299.17 1544.94 Q2296.12 1540.33 2296.12 1531.6 Q2296.12 1522.85 2299.17 1518.27 Q2302.25 1513.66 2308.06 1513.66 Z\" fill=\"#000000\" fill-rule=\"evenodd\" fill-opacity=\"1\" /><path clip-path=\"url(#clip130)\" d=\"M2338.22 1517.37 Q2334.61 1517.37 2332.78 1520.93 Q2330.98 1524.47 2330.98 1531.6 Q2330.98 1538.71 2332.78 1542.27 Q2334.61 1545.82 2338.22 1545.82 Q2341.86 1545.82 2343.66 1542.27 Q2345.49 1538.71 2345.49 1531.6 Q2345.49 1524.47 2343.66 1520.93 Q2341.86 1517.37 2338.22 1517.37 M2338.22 1513.66 Q2344.03 1513.66 2347.09 1518.27 Q2350.17 1522.85 2350.17 1531.6 Q2350.17 1540.33 2347.09 1544.94 Q2344.03 1549.52 2338.22 1549.52 Q2332.41 1549.52 2329.33 1544.94 Q2326.28 1540.33 2326.28 1531.6 Q2326.28 1522.85 2329.33 1518.27 Q2332.41 1513.66 2338.22 1513.66 Z\" fill=\"#000000\" fill-rule=\"evenodd\" fill-opacity=\"1\" /><polyline clip-path=\"url(#clip132)\" style=\"stroke:#000000; stroke-linecap:butt; stroke-linejoin:round; stroke-width:2; stroke-opacity:0.1; fill:none\" points=\"\n",
       "  277.431,1448.82 2352.76,1448.82 \n",
       "  \"/>\n",
       "<polyline clip-path=\"url(#clip132)\" style=\"stroke:#000000; stroke-linecap:butt; stroke-linejoin:round; stroke-width:2; stroke-opacity:0.1; fill:none\" points=\"\n",
       "  277.431,1115.06 2352.76,1115.06 \n",
       "  \"/>\n",
       "<polyline clip-path=\"url(#clip132)\" style=\"stroke:#000000; stroke-linecap:butt; stroke-linejoin:round; stroke-width:2; stroke-opacity:0.1; fill:none\" points=\"\n",
       "  277.431,781.298 2352.76,781.298 \n",
       "  \"/>\n",
       "<polyline clip-path=\"url(#clip132)\" style=\"stroke:#000000; stroke-linecap:butt; stroke-linejoin:round; stroke-width:2; stroke-opacity:0.1; fill:none\" points=\"\n",
       "  277.431,447.537 2352.76,447.537 \n",
       "  \"/>\n",
       "<polyline clip-path=\"url(#clip132)\" style=\"stroke:#000000; stroke-linecap:butt; stroke-linejoin:round; stroke-width:2; stroke-opacity:0.1; fill:none\" points=\"\n",
       "  277.431,113.776 2352.76,113.776 \n",
       "  \"/>\n",
       "<polyline clip-path=\"url(#clip130)\" style=\"stroke:#000000; stroke-linecap:butt; stroke-linejoin:round; stroke-width:4; stroke-opacity:1; fill:none\" points=\"\n",
       "  277.431,1486.45 277.431,47.2441 \n",
       "  \"/>\n",
       "<polyline clip-path=\"url(#clip130)\" style=\"stroke:#000000; stroke-linecap:butt; stroke-linejoin:round; stroke-width:4; stroke-opacity:1; fill:none\" points=\"\n",
       "  277.431,1448.82 296.329,1448.82 \n",
       "  \"/>\n",
       "<polyline clip-path=\"url(#clip130)\" style=\"stroke:#000000; stroke-linecap:butt; stroke-linejoin:round; stroke-width:4; stroke-opacity:1; fill:none\" points=\"\n",
       "  277.431,1115.06 296.329,1115.06 \n",
       "  \"/>\n",
       "<polyline clip-path=\"url(#clip130)\" style=\"stroke:#000000; stroke-linecap:butt; stroke-linejoin:round; stroke-width:4; stroke-opacity:1; fill:none\" points=\"\n",
       "  277.431,781.298 296.329,781.298 \n",
       "  \"/>\n",
       "<polyline clip-path=\"url(#clip130)\" style=\"stroke:#000000; stroke-linecap:butt; stroke-linejoin:round; stroke-width:4; stroke-opacity:1; fill:none\" points=\"\n",
       "  277.431,447.537 296.329,447.537 \n",
       "  \"/>\n",
       "<polyline clip-path=\"url(#clip130)\" style=\"stroke:#000000; stroke-linecap:butt; stroke-linejoin:round; stroke-width:4; stroke-opacity:1; fill:none\" points=\"\n",
       "  277.431,113.776 296.329,113.776 \n",
       "  \"/>\n",
       "<path clip-path=\"url(#clip130)\" d=\"M229.487 1434.62 Q225.875 1434.62 224.047 1438.18 Q222.241 1441.72 222.241 1448.85 Q222.241 1455.96 224.047 1459.53 Q225.875 1463.07 229.487 1463.07 Q233.121 1463.07 234.926 1459.53 Q236.755 1455.96 236.755 1448.85 Q236.755 1441.72 234.926 1438.18 Q233.121 1434.62 229.487 1434.62 M229.487 1430.91 Q235.297 1430.91 238.352 1435.52 Q241.431 1440.1 241.431 1448.85 Q241.431 1457.58 238.352 1462.19 Q235.297 1466.77 229.487 1466.77 Q223.676 1466.77 220.598 1462.19 Q217.542 1457.58 217.542 1448.85 Q217.542 1440.1 220.598 1435.52 Q223.676 1430.91 229.487 1430.91 Z\" fill=\"#000000\" fill-rule=\"evenodd\" fill-opacity=\"1\" /><path clip-path=\"url(#clip130)\" d=\"M54.5569 1134.85 L62.1958 1134.85 L62.1958 1108.49 L53.8856 1110.15 L53.8856 1105.89 L62.1495 1104.23 L66.8254 1104.23 L66.8254 1134.85 L74.4642 1134.85 L74.4642 1138.79 L54.5569 1138.79 L54.5569 1134.85 Z\" fill=\"#000000\" fill-rule=\"evenodd\" fill-opacity=\"1\" /><path clip-path=\"url(#clip130)\" d=\"M83.9086 1132.91 L88.7928 1132.91 L88.7928 1138.79 L83.9086 1138.79 L83.9086 1132.91 Z\" fill=\"#000000\" fill-rule=\"evenodd\" fill-opacity=\"1\" /><path clip-path=\"url(#clip130)\" d=\"M108.978 1107.31 Q105.367 1107.31 103.538 1110.87 Q101.733 1114.41 101.733 1121.54 Q101.733 1128.65 103.538 1132.21 Q105.367 1135.75 108.978 1135.75 Q112.612 1135.75 114.418 1132.21 Q116.246 1128.65 116.246 1121.54 Q116.246 1114.41 114.418 1110.87 Q112.612 1107.31 108.978 1107.31 M108.978 1103.6 Q114.788 1103.6 117.844 1108.21 Q120.922 1112.79 120.922 1121.54 Q120.922 1130.27 117.844 1134.87 Q114.788 1139.46 108.978 1139.46 Q103.168 1139.46 100.089 1134.87 Q97.0335 1130.27 97.0335 1121.54 Q97.0335 1112.79 100.089 1108.21 Q103.168 1103.6 108.978 1103.6 Z\" fill=\"#000000\" fill-rule=\"evenodd\" fill-opacity=\"1\" /><path clip-path=\"url(#clip130)\" d=\"M157.311 1113.32 L146.732 1123.95 L157.311 1134.53 L154.556 1137.33 L143.931 1126.7 L133.306 1137.33 L130.575 1134.53 L141.131 1123.95 L130.575 1113.32 L133.306 1110.52 L143.931 1121.15 L154.556 1110.52 L157.311 1113.32 Z\" fill=\"#000000\" fill-rule=\"evenodd\" fill-opacity=\"1\" /><path clip-path=\"url(#clip130)\" d=\"M169.672 1134.85 L177.311 1134.85 L177.311 1108.49 L169.001 1110.15 L169.001 1105.89 L177.265 1104.23 L181.94 1104.23 L181.94 1134.85 L189.579 1134.85 L189.579 1138.79 L169.672 1138.79 L169.672 1134.85 Z\" fill=\"#000000\" fill-rule=\"evenodd\" fill-opacity=\"1\" /><path clip-path=\"url(#clip130)\" d=\"M209.024 1107.31 Q205.413 1107.31 203.584 1110.87 Q201.778 1114.41 201.778 1121.54 Q201.778 1128.65 203.584 1132.21 Q205.413 1135.75 209.024 1135.75 Q212.658 1135.75 214.463 1132.21 Q216.292 1128.65 216.292 1121.54 Q216.292 1114.41 214.463 1110.87 Q212.658 1107.31 209.024 1107.31 M209.024 1103.6 Q214.834 1103.6 217.889 1108.21 Q220.968 1112.79 220.968 1121.54 Q220.968 1130.27 217.889 1134.87 Q214.834 1139.46 209.024 1139.46 Q203.214 1139.46 200.135 1134.87 Q197.079 1130.27 197.079 1121.54 Q197.079 1112.79 200.135 1108.21 Q203.214 1103.6 209.024 1103.6 Z\" fill=\"#000000\" fill-rule=\"evenodd\" fill-opacity=\"1\" /><path clip-path=\"url(#clip130)\" d=\"M233.645 1086.61 L224.053 1101.6 L233.645 1101.6 L233.645 1086.61 M232.648 1083.3 L237.425 1083.3 L237.425 1101.6 L241.431 1101.6 L241.431 1104.76 L237.425 1104.76 L237.425 1111.38 L233.645 1111.38 L233.645 1104.76 L220.968 1104.76 L220.968 1101.09 L232.648 1083.3 Z\" fill=\"#000000\" fill-rule=\"evenodd\" fill-opacity=\"1\" /><path clip-path=\"url(#clip130)\" d=\"M57.7745 801.09 L74.0939 801.09 L74.0939 805.025 L52.1495 805.025 L52.1495 801.09 Q54.8115 798.336 59.3949 793.706 Q64.0013 789.053 65.1819 787.711 Q67.4272 785.188 68.3068 783.451 Q69.2096 781.692 69.2096 780.002 Q69.2096 777.248 67.2652 775.512 Q65.3439 773.776 62.2421 773.776 Q60.043 773.776 57.5893 774.539 Q55.1588 775.303 52.381 776.854 L52.381 772.132 Q55.2051 770.998 57.6588 770.419 Q60.1124 769.84 62.1495 769.84 Q67.5198 769.84 70.7142 772.526 Q73.9087 775.211 73.9087 779.701 Q73.9087 781.831 73.0985 783.752 Q72.3115 785.651 70.205 788.243 Q69.6263 788.914 66.5245 792.132 Q63.4226 795.326 57.7745 801.09 Z\" fill=\"#000000\" fill-rule=\"evenodd\" fill-opacity=\"1\" /><path clip-path=\"url(#clip130)\" d=\"M83.9086 799.146 L88.7928 799.146 L88.7928 805.025 L83.9086 805.025 L83.9086 799.146 Z\" fill=\"#000000\" fill-rule=\"evenodd\" fill-opacity=\"1\" /><path clip-path=\"url(#clip130)\" d=\"M108.978 773.544 Q105.367 773.544 103.538 777.109 Q101.733 780.651 101.733 787.78 Q101.733 794.887 103.538 798.451 Q105.367 801.993 108.978 801.993 Q112.612 801.993 114.418 798.451 Q116.246 794.887 116.246 787.78 Q116.246 780.651 114.418 777.109 Q112.612 773.544 108.978 773.544 M108.978 769.84 Q114.788 769.84 117.844 774.447 Q120.922 779.03 120.922 787.78 Q120.922 796.507 117.844 801.113 Q114.788 805.697 108.978 805.697 Q103.168 805.697 100.089 801.113 Q97.0335 796.507 97.0335 787.78 Q97.0335 779.03 100.089 774.447 Q103.168 769.84 108.978 769.84 Z\" fill=\"#000000\" fill-rule=\"evenodd\" fill-opacity=\"1\" /><path clip-path=\"url(#clip130)\" d=\"M157.311 779.563 L146.732 790.188 L157.311 800.766 L154.556 803.567 L143.931 792.942 L133.306 803.567 L130.575 800.766 L141.131 790.188 L130.575 779.563 L133.306 776.762 L143.931 787.387 L154.556 776.762 L157.311 779.563 Z\" fill=\"#000000\" fill-rule=\"evenodd\" fill-opacity=\"1\" /><path clip-path=\"url(#clip130)\" d=\"M169.672 801.09 L177.311 801.09 L177.311 774.725 L169.001 776.391 L169.001 772.132 L177.265 770.465 L181.94 770.465 L181.94 801.09 L189.579 801.09 L189.579 805.025 L169.672 805.025 L169.672 801.09 Z\" fill=\"#000000\" fill-rule=\"evenodd\" fill-opacity=\"1\" /><path clip-path=\"url(#clip130)\" d=\"M209.024 773.544 Q205.413 773.544 203.584 777.109 Q201.778 780.651 201.778 787.78 Q201.778 794.887 203.584 798.451 Q205.413 801.993 209.024 801.993 Q212.658 801.993 214.463 798.451 Q216.292 794.887 216.292 787.78 Q216.292 780.651 214.463 777.109 Q212.658 773.544 209.024 773.544 M209.024 769.84 Q214.834 769.84 217.889 774.447 Q220.968 779.03 220.968 787.78 Q220.968 796.507 217.889 801.113 Q214.834 805.697 209.024 805.697 Q203.214 805.697 200.135 801.113 Q197.079 796.507 197.079 787.78 Q197.079 779.03 200.135 774.447 Q203.214 769.84 209.024 769.84 Z\" fill=\"#000000\" fill-rule=\"evenodd\" fill-opacity=\"1\" /><path clip-path=\"url(#clip130)\" d=\"M233.645 752.845 L224.053 767.835 L233.645 767.835 L233.645 752.845 M232.648 749.535 L237.425 749.535 L237.425 767.835 L241.431 767.835 L241.431 770.995 L237.425 770.995 L237.425 777.615 L233.645 777.615 L233.645 770.995 L220.968 770.995 L220.968 767.327 L232.648 749.535 Z\" fill=\"#000000\" fill-rule=\"evenodd\" fill-opacity=\"1\" /><path clip-path=\"url(#clip130)\" d=\"M67.9133 452.63 Q71.2698 453.348 73.1448 455.616 Q75.0429 457.885 75.0429 461.218 Q75.0429 466.334 71.5244 469.135 Q68.0059 471.936 61.5245 471.936 Q59.3486 471.936 57.0338 471.496 Q54.7421 471.079 52.2884 470.223 L52.2884 465.709 Q54.2328 466.843 56.5477 467.422 Q58.8625 468.001 61.3856 468.001 Q65.7837 468.001 68.0754 466.265 Q70.3902 464.528 70.3902 461.218 Q70.3902 458.163 68.2374 456.45 Q66.1078 454.714 62.2884 454.714 L58.2606 454.714 L58.2606 450.871 L62.4735 450.871 Q65.9226 450.871 67.7513 449.505 Q69.58 448.116 69.58 445.524 Q69.58 442.862 67.6819 441.45 Q65.8069 440.015 62.2884 440.015 Q60.3671 440.015 58.168 440.431 Q55.969 440.848 53.3301 441.728 L53.3301 437.561 Q55.9921 436.82 58.3069 436.45 Q60.6449 436.08 62.705 436.08 Q68.0291 436.08 71.1309 438.51 Q74.2327 440.917 74.2327 445.038 Q74.2327 447.908 72.5892 449.899 Q70.9457 451.866 67.9133 452.63 Z\" fill=\"#000000\" fill-rule=\"evenodd\" fill-opacity=\"1\" /><path clip-path=\"url(#clip130)\" d=\"M83.9086 465.385 L88.7928 465.385 L88.7928 471.265 L83.9086 471.265 L83.9086 465.385 Z\" fill=\"#000000\" fill-rule=\"evenodd\" fill-opacity=\"1\" /><path clip-path=\"url(#clip130)\" d=\"M108.978 439.783 Q105.367 439.783 103.538 443.348 Q101.733 446.89 101.733 454.019 Q101.733 461.126 103.538 464.69 Q105.367 468.232 108.978 468.232 Q112.612 468.232 114.418 464.69 Q116.246 461.126 116.246 454.019 Q116.246 446.89 114.418 443.348 Q112.612 439.783 108.978 439.783 M108.978 436.08 Q114.788 436.08 117.844 440.686 Q120.922 445.269 120.922 454.019 Q120.922 462.746 117.844 467.352 Q114.788 471.936 108.978 471.936 Q103.168 471.936 100.089 467.352 Q97.0335 462.746 97.0335 454.019 Q97.0335 445.269 100.089 440.686 Q103.168 436.08 108.978 436.08 Z\" fill=\"#000000\" fill-rule=\"evenodd\" fill-opacity=\"1\" /><path clip-path=\"url(#clip130)\" d=\"M157.311 445.802 L146.732 456.427 L157.311 467.005 L154.556 469.806 L143.931 459.181 L133.306 469.806 L130.575 467.005 L141.131 456.427 L130.575 445.802 L133.306 443.001 L143.931 453.626 L154.556 443.001 L157.311 445.802 Z\" fill=\"#000000\" fill-rule=\"evenodd\" fill-opacity=\"1\" /><path clip-path=\"url(#clip130)\" d=\"M169.672 467.329 L177.311 467.329 L177.311 440.964 L169.001 442.63 L169.001 438.371 L177.265 436.705 L181.94 436.705 L181.94 467.329 L189.579 467.329 L189.579 471.265 L169.672 471.265 L169.672 467.329 Z\" fill=\"#000000\" fill-rule=\"evenodd\" fill-opacity=\"1\" /><path clip-path=\"url(#clip130)\" d=\"M209.024 439.783 Q205.413 439.783 203.584 443.348 Q201.778 446.89 201.778 454.019 Q201.778 461.126 203.584 464.69 Q205.413 468.232 209.024 468.232 Q212.658 468.232 214.463 464.69 Q216.292 461.126 216.292 454.019 Q216.292 446.89 214.463 443.348 Q212.658 439.783 209.024 439.783 M209.024 436.08 Q214.834 436.08 217.889 440.686 Q220.968 445.269 220.968 454.019 Q220.968 462.746 217.889 467.352 Q214.834 471.936 209.024 471.936 Q203.214 471.936 200.135 467.352 Q197.079 462.746 197.079 454.019 Q197.079 445.269 200.135 440.686 Q203.214 436.08 209.024 436.08 Z\" fill=\"#000000\" fill-rule=\"evenodd\" fill-opacity=\"1\" /><path clip-path=\"url(#clip130)\" d=\"M233.645 419.084 L224.053 434.074 L233.645 434.074 L233.645 419.084 M232.648 415.774 L237.425 415.774 L237.425 434.074 L241.431 434.074 L241.431 437.234 L237.425 437.234 L237.425 443.854 L233.645 443.854 L233.645 437.234 L220.968 437.234 L220.968 433.566 L232.648 415.774 Z\" fill=\"#000000\" fill-rule=\"evenodd\" fill-opacity=\"1\" /><path clip-path=\"url(#clip130)\" d=\"M66.5939 107.018 L54.7884 125.467 L66.5939 125.467 L66.5939 107.018 M65.367 102.944 L71.2466 102.944 L71.2466 125.467 L76.1772 125.467 L76.1772 129.355 L71.2466 129.355 L71.2466 137.504 L66.5939 137.504 L66.5939 129.355 L50.9921 129.355 L50.9921 124.842 L65.367 102.944 Z\" fill=\"#000000\" fill-rule=\"evenodd\" fill-opacity=\"1\" /><path clip-path=\"url(#clip130)\" d=\"M83.9086 131.624 L88.7928 131.624 L88.7928 137.504 L83.9086 137.504 L83.9086 131.624 Z\" fill=\"#000000\" fill-rule=\"evenodd\" fill-opacity=\"1\" /><path clip-path=\"url(#clip130)\" d=\"M108.978 106.022 Q105.367 106.022 103.538 109.587 Q101.733 113.129 101.733 120.258 Q101.733 127.365 103.538 130.93 Q105.367 134.471 108.978 134.471 Q112.612 134.471 114.418 130.93 Q116.246 127.365 116.246 120.258 Q116.246 113.129 114.418 109.587 Q112.612 106.022 108.978 106.022 M108.978 102.319 Q114.788 102.319 117.844 106.925 Q120.922 111.508 120.922 120.258 Q120.922 128.985 117.844 133.592 Q114.788 138.175 108.978 138.175 Q103.168 138.175 100.089 133.592 Q97.0335 128.985 97.0335 120.258 Q97.0335 111.508 100.089 106.925 Q103.168 102.319 108.978 102.319 Z\" fill=\"#000000\" fill-rule=\"evenodd\" fill-opacity=\"1\" /><path clip-path=\"url(#clip130)\" d=\"M157.311 112.041 L146.732 122.666 L157.311 133.244 L154.556 136.045 L143.931 125.42 L133.306 136.045 L130.575 133.244 L141.131 122.666 L130.575 112.041 L133.306 109.24 L143.931 119.865 L154.556 109.24 L157.311 112.041 Z\" fill=\"#000000\" fill-rule=\"evenodd\" fill-opacity=\"1\" /><path clip-path=\"url(#clip130)\" d=\"M169.672 133.568 L177.311 133.568 L177.311 107.203 L169.001 108.869 L169.001 104.61 L177.265 102.944 L181.94 102.944 L181.94 133.568 L189.579 133.568 L189.579 137.504 L169.672 137.504 L169.672 133.568 Z\" fill=\"#000000\" fill-rule=\"evenodd\" fill-opacity=\"1\" /><path clip-path=\"url(#clip130)\" d=\"M209.024 106.022 Q205.413 106.022 203.584 109.587 Q201.778 113.129 201.778 120.258 Q201.778 127.365 203.584 130.93 Q205.413 134.471 209.024 134.471 Q212.658 134.471 214.463 130.93 Q216.292 127.365 216.292 120.258 Q216.292 113.129 214.463 109.587 Q212.658 106.022 209.024 106.022 M209.024 102.319 Q214.834 102.319 217.889 106.925 Q220.968 111.508 220.968 120.258 Q220.968 128.985 217.889 133.592 Q214.834 138.175 209.024 138.175 Q203.214 138.175 200.135 133.592 Q197.079 128.985 197.079 120.258 Q197.079 111.508 200.135 106.925 Q203.214 102.319 209.024 102.319 Z\" fill=\"#000000\" fill-rule=\"evenodd\" fill-opacity=\"1\" /><path clip-path=\"url(#clip130)\" d=\"M233.645 85.3234 L224.053 100.313 L233.645 100.313 L233.645 85.3234 M232.648 82.0132 L237.425 82.0132 L237.425 100.313 L241.431 100.313 L241.431 103.473 L237.425 103.473 L237.425 110.093 L233.645 110.093 L233.645 103.473 L220.968 103.473 L220.968 99.8053 L232.648 82.0132 Z\" fill=\"#000000\" fill-rule=\"evenodd\" fill-opacity=\"1\" /><polyline clip-path=\"url(#clip132)\" style=\"stroke:#009af9; stroke-linecap:butt; stroke-linejoin:round; stroke-width:4; stroke-opacity:1; fill:none\" points=\"\n",
       "  336.167,87.9763 338.126,726.962 340.086,958.792 342.046,1203.67 344.006,1303.93 345.966,1313.98 347.925,1317.65 349.885,1328.13 351.845,1336.58 353.805,1341.12 \n",
       "  355.765,1344.72 357.724,1345.49 359.684,1346.15 361.644,1351.7 363.604,1372.56 365.564,1374.22 367.524,1382.07 369.483,1385.61 371.443,1387.31 373.403,1398.89 \n",
       "  375.363,1400.62 377.323,1402.53 379.282,1403.03 381.242,1404.03 383.202,1404.9 385.162,1405.56 387.122,1406.13 389.081,1409.47 391.041,1410.67 393.001,1411.1 \n",
       "  394.961,1411.2 396.921,1411.57 398.881,1413.57 400.84,1413.98 402.8,1414.24 404.76,1414.34 406.72,1414.54 408.68,1414.68 410.639,1415.31 412.599,1415.88 \n",
       "  414.559,1415.88 416.519,1416.71 418.479,1416.91 420.439,1417.98 422.398,1418.65 424.358,1419.88 426.318,1420.15 428.278,1420.65 430.238,1421.18 432.197,1421.28 \n",
       "  434.157,1421.45 436.117,1422.39 438.077,1423.05 440.037,1423.15 441.996,1423.55 443.956,1423.89 445.916,1423.92 447.876,1424.22 449.836,1424.29 451.796,1424.39 \n",
       "  453.755,1424.49 455.715,1424.52 457.675,1424.52 459.635,1424.52 461.595,1425.09 463.554,1425.19 465.514,1425.62 467.474,1425.66 469.434,1425.69 471.394,1426.02 \n",
       "  473.353,1426.09 475.313,1426.39 477.273,1426.42 479.233,1426.49 481.193,1426.76 483.153,1426.89 485.112,1427.03 487.072,1427.13 489.032,1427.43 490.992,1427.46 \n",
       "  492.952,1427.73 494.911,1427.76 496.871,1427.83 498.831,1427.96 500.791,1427.96 502.751,1428.36 504.711,1428.49 506.67,1428.49 508.63,1428.63 510.59,1428.83 \n",
       "  512.55,1428.99 514.51,1429.43 516.469,1429.53 518.429,1430.3 520.389,1430.46 522.349,1430.5 524.309,1430.5 526.268,1430.53 528.228,1430.6 530.188,1431 \n",
       "  532.148,1431.06 534.108,1431.1 536.068,1431.1 538.027,1431.13 539.987,1431.13 541.947,1431.53 543.907,1431.56 545.867,1431.7 547.826,1431.73 549.786,1431.96 \n",
       "  551.746,1432.03 553.706,1432.13 555.666,1432.47 557.625,1432.5 559.585,1432.5 561.545,1432.53 563.505,1432.83 565.465,1432.83 567.425,1433 569.384,1433.13 \n",
       "  571.344,1433.13 573.304,1433.23 575.264,1433.27 577.224,1433.3 579.183,1433.43 581.143,1433.47 583.103,1433.5 585.063,1433.6 587.023,1434.27 588.982,1434.37 \n",
       "  590.942,1434.47 592.902,1434.5 594.862,1434.5 596.822,1434.57 598.782,1434.6 600.741,1434.67 602.701,1434.67 604.661,1434.73 606.621,1434.84 608.581,1434.84 \n",
       "  610.54,1434.9 612.5,1434.97 614.46,1435 616.42,1435.04 618.38,1435.14 620.34,1435.14 622.299,1435.17 624.259,1435.3 626.219,1435.4 628.179,1435.47 \n",
       "  630.139,1435.54 632.098,1435.54 634.058,1435.6 636.018,1435.6 637.978,1435.77 639.938,1435.84 641.897,1435.84 643.857,1435.94 645.817,1435.94 647.777,1435.94 \n",
       "  649.737,1435.97 651.697,1436 653.656,1436.07 655.616,1436.17 657.576,1436.2 659.536,1436.2 661.496,1436.2 663.455,1436.24 665.415,1436.27 667.375,1436.27 \n",
       "  669.335,1436.4 671.295,1436.57 673.254,1436.6 675.214,1436.6 677.174,1436.64 679.134,1436.67 681.094,1436.67 683.054,1436.7 685.013,1436.9 686.973,1436.9 \n",
       "  688.933,1436.97 690.893,1437.04 692.853,1437.04 694.812,1437.07 696.772,1437.17 698.732,1437.2 700.692,1437.27 702.652,1437.37 704.611,1437.47 706.571,1437.51 \n",
       "  708.531,1437.51 710.491,1437.54 712.451,1437.64 714.411,1437.64 716.37,1437.71 718.33,1437.74 720.29,1437.77 722.25,1437.81 724.21,1437.87 726.169,1437.87 \n",
       "  728.129,1437.87 730.089,1437.91 732.049,1437.91 734.009,1437.94 735.969,1437.94 737.928,1437.94 739.888,1437.97 741.848,1438.04 743.808,1438.07 745.768,1438.17 \n",
       "  747.727,1438.21 749.687,1438.21 751.647,1438.21 753.607,1438.21 755.567,1438.24 757.526,1438.31 759.486,1438.34 761.446,1438.37 763.406,1438.41 765.366,1438.41 \n",
       "  767.326,1438.47 769.285,1438.51 771.245,1438.51 773.205,1438.57 775.165,1438.61 777.125,1438.64 779.084,1438.67 781.044,1438.74 783.004,1438.74 784.964,1438.77 \n",
       "  786.924,1438.77 788.883,1438.81 790.843,1438.81 792.803,1438.81 794.763,1438.81 796.723,1438.81 798.683,1438.87 800.642,1438.91 802.602,1438.94 804.562,1438.94 \n",
       "  806.522,1438.97 808.482,1439.01 810.441,1439.04 812.401,1439.04 814.361,1439.07 816.321,1439.07 818.281,1439.07 820.24,1439.07 822.2,1439.11 824.16,1439.14 \n",
       "  826.12,1439.14 828.08,1439.17 830.04,1439.17 831.999,1439.21 833.959,1439.31 835.919,1439.31 837.879,1439.31 839.839,1439.34 841.798,1439.37 843.758,1439.41 \n",
       "  845.718,1439.41 847.678,1439.47 849.638,1439.51 851.598,1439.51 853.557,1439.51 855.517,1439.54 857.477,1439.61 859.437,1439.74 861.397,1439.77 863.356,1439.81 \n",
       "  865.316,1439.84 867.276,1439.91 869.236,1439.94 871.196,1439.98 873.155,1440.01 875.115,1440.01 877.075,1440.04 879.035,1440.04 880.995,1440.08 882.955,1440.08 \n",
       "  884.914,1440.08 886.874,1440.14 888.834,1440.18 890.794,1440.21 892.754,1440.24 894.713,1440.28 896.673,1440.31 898.633,1440.31 900.593,1440.34 902.553,1440.38 \n",
       "  904.512,1440.38 906.472,1440.38 908.432,1440.38 910.392,1440.41 912.352,1440.41 914.312,1440.44 916.271,1440.44 918.231,1440.44 920.191,1440.44 922.151,1440.44 \n",
       "  924.111,1440.48 926.07,1440.48 928.03,1440.48 929.99,1440.51 931.95,1440.51 933.91,1440.51 935.869,1440.54 937.829,1440.58 939.789,1440.61 941.749,1440.61 \n",
       "  943.709,1440.64 945.669,1440.68 947.628,1440.71 949.588,1440.74 951.548,1440.78 953.508,1440.78 955.468,1440.78 957.427,1440.78 959.387,1440.78 961.347,1440.78 \n",
       "  963.307,1440.78 965.267,1440.81 967.227,1440.81 969.186,1440.84 971.146,1440.84 973.106,1440.84 975.066,1440.88 977.026,1440.91 978.985,1440.91 980.945,1440.94 \n",
       "  982.905,1440.94 984.865,1440.98 986.825,1441.01 988.784,1441.04 990.744,1441.08 992.704,1441.08 994.664,1441.08 996.624,1441.08 998.584,1441.11 1000.54,1441.11 \n",
       "  1002.5,1441.14 1004.46,1441.14 1006.42,1441.14 1008.38,1441.14 1010.34,1441.18 1012.3,1441.18 1014.26,1441.18 1016.22,1441.18 1018.18,1441.18 1020.14,1441.21 \n",
       "  1022.1,1441.21 1024.06,1441.21 1026.02,1441.24 1027.98,1441.24 1029.94,1441.24 1031.9,1441.28 1033.86,1441.28 1035.82,1441.28 1037.78,1441.31 1039.74,1441.31 \n",
       "  1041.7,1441.31 1043.66,1441.34 1045.62,1441.34 1047.58,1441.34 1049.54,1441.41 1051.5,1441.41 1053.46,1441.41 1055.42,1441.41 1057.38,1441.44 1059.34,1441.51 \n",
       "  1061.3,1441.54 1063.26,1441.54 1065.22,1441.54 1067.18,1441.54 1069.14,1441.58 1071.1,1441.58 1073.06,1441.61 1075.02,1441.61 1076.98,1441.64 1078.94,1441.64 \n",
       "  1080.9,1441.64 1082.86,1441.64 1084.82,1441.64 1086.78,1441.68 1088.73,1441.68 1090.69,1441.68 1092.65,1441.71 1094.61,1441.71 1096.57,1441.71 1098.53,1441.74 \n",
       "  1100.49,1441.74 1102.45,1441.74 1104.41,1441.74 1106.37,1441.74 1108.33,1441.74 1110.29,1441.81 1112.25,1441.81 1114.21,1441.81 1116.17,1441.84 1118.13,1441.84 \n",
       "  1120.09,1441.84 1122.05,1441.88 1124.01,1441.91 1125.97,1441.94 1127.93,1441.94 1129.89,1441.94 1131.85,1441.94 1133.81,1441.98 1135.77,1441.98 1137.73,1441.98 \n",
       "  1139.69,1442.01 1141.65,1442.04 1143.61,1442.04 1145.57,1442.04 1147.53,1442.08 1149.49,1442.08 1151.45,1442.11 1153.41,1442.14 1155.37,1442.18 1157.33,1442.18 \n",
       "  1159.29,1442.18 1161.25,1442.21 1163.21,1442.24 1165.17,1442.24 1167.13,1442.31 1169.09,1442.31 1171.05,1442.31 1173.01,1442.34 1174.97,1442.34 1176.93,1442.34 \n",
       "  1178.89,1442.38 1180.85,1442.38 1182.81,1442.38 1184.77,1442.38 1186.73,1442.41 1188.69,1442.44 1190.65,1442.44 1192.61,1442.44 1194.56,1442.44 1196.52,1442.48 \n",
       "  1198.48,1442.48 1200.44,1442.48 1202.4,1442.51 1204.36,1442.51 1206.32,1442.51 1208.28,1442.51 1210.24,1442.51 1212.2,1442.51 1214.16,1442.51 1216.12,1442.51 \n",
       "  1218.08,1442.54 1220.04,1442.54 1222,1442.58 1223.96,1442.61 1225.92,1442.65 1227.88,1442.65 1229.84,1442.65 1231.8,1442.68 1233.76,1442.68 1235.72,1442.71 \n",
       "  1237.68,1442.71 1239.64,1442.71 1241.6,1442.75 1243.56,1442.75 1245.52,1442.78 1247.48,1442.78 1249.44,1442.78 1251.4,1442.78 1253.36,1442.78 1255.32,1442.81 \n",
       "  1257.28,1442.85 1259.24,1442.85 1261.2,1442.85 1263.16,1442.88 1265.12,1442.88 1267.08,1442.88 1269.04,1442.88 1271,1442.88 1272.96,1442.91 1274.92,1442.91 \n",
       "  1276.88,1442.91 1278.84,1442.91 1280.8,1442.95 1282.76,1442.95 1284.72,1442.98 1286.68,1443.01 1288.64,1443.01 1290.6,1443.01 1292.56,1443.05 1294.52,1443.05 \n",
       "  1296.48,1443.08 1298.43,1443.08 1300.39,1443.08 1302.35,1443.08 1304.31,1443.08 1306.27,1443.11 1308.23,1443.15 1310.19,1443.15 1312.15,1443.18 1314.11,1443.18 \n",
       "  1316.07,1443.18 1318.03,1443.18 1319.99,1443.18 1321.95,1443.25 1323.91,1443.28 1325.87,1443.28 1327.83,1443.31 1329.79,1443.31 1331.75,1443.31 1333.71,1443.31 \n",
       "  1335.67,1443.31 1337.63,1443.35 1339.59,1443.35 1341.55,1443.35 1343.51,1443.38 1345.47,1443.38 1347.43,1443.38 1349.39,1443.41 1351.35,1443.41 1353.31,1443.41 \n",
       "  1355.27,1443.45 1357.23,1443.45 1359.19,1443.45 1361.15,1443.45 1363.11,1443.48 1365.07,1443.48 1367.03,1443.51 1368.99,1443.55 1370.95,1443.55 1372.91,1443.55 \n",
       "  1374.87,1443.55 1376.83,1443.55 1378.79,1443.55 1380.75,1443.55 1382.71,1443.58 1384.67,1443.58 1386.63,1443.58 1388.59,1443.58 1390.55,1443.61 1392.51,1443.61 \n",
       "  1394.47,1443.61 1396.43,1443.65 1398.39,1443.65 1400.35,1443.65 1402.31,1443.65 1404.26,1443.65 1406.22,1443.68 1408.18,1443.68 1410.14,1443.68 1412.1,1443.68 \n",
       "  1414.06,1443.68 1416.02,1443.71 1417.98,1443.71 1419.94,1443.71 1421.9,1443.71 1423.86,1443.71 1425.82,1443.71 1427.78,1443.71 1429.74,1443.75 1431.7,1443.75 \n",
       "  1433.66,1443.75 1435.62,1443.75 1437.58,1443.75 1439.54,1443.75 1441.5,1443.78 1443.46,1443.78 1445.42,1443.78 1447.38,1443.81 1449.34,1443.81 1451.3,1443.81 \n",
       "  1453.26,1443.85 1455.22,1443.88 1457.18,1443.88 1459.14,1443.88 1461.1,1443.88 1463.06,1443.88 1465.02,1443.88 1466.98,1443.88 1468.94,1443.91 1470.9,1443.91 \n",
       "  1472.86,1443.91 1474.82,1443.91 1476.78,1443.95 1478.74,1443.95 1480.7,1443.95 1482.66,1443.95 1484.62,1443.98 1486.58,1443.98 1488.54,1443.98 1490.5,1443.98 \n",
       "  1492.46,1444.01 1494.42,1444.01 1496.38,1444.05 1498.34,1444.05 1500.3,1444.05 1502.26,1444.05 1504.22,1444.05 1506.18,1444.08 1508.14,1444.08 1510.09,1444.08 \n",
       "  1512.05,1444.08 1514.01,1444.08 1515.97,1444.08 1517.93,1444.08 1519.89,1444.11 1521.85,1444.11 1523.81,1444.15 1525.77,1444.15 1527.73,1444.15 1529.69,1444.15 \n",
       "  1531.65,1444.15 1533.61,1444.15 1535.57,1444.18 1537.53,1444.18 1539.49,1444.18 1541.45,1444.18 1543.41,1444.21 1545.37,1444.21 1547.33,1444.25 1549.29,1444.25 \n",
       "  1551.25,1444.25 1553.21,1444.25 1555.17,1444.25 1557.13,1444.25 1559.09,1444.25 1561.05,1444.25 1563.01,1444.25 1564.97,1444.28 1566.93,1444.28 1568.89,1444.28 \n",
       "  1570.85,1444.28 1572.81,1444.28 1574.77,1444.28 1576.73,1444.28 1578.69,1444.31 1580.65,1444.31 1582.61,1444.31 1584.57,1444.31 1586.53,1444.31 1588.49,1444.31 \n",
       "  1590.45,1444.31 1592.41,1444.31 1594.37,1444.35 1596.33,1444.35 1598.29,1444.35 1600.25,1444.35 1602.21,1444.35 1604.17,1444.38 1606.13,1444.38 1608.09,1444.38 \n",
       "  1610.05,1444.38 1612.01,1444.38 1613.96,1444.38 1615.92,1444.38 1617.88,1444.38 1619.84,1444.41 1621.8,1444.41 1623.76,1444.41 1625.72,1444.41 1627.68,1444.41 \n",
       "  1629.64,1444.41 1631.6,1444.41 1633.56,1444.45 1635.52,1444.45 1637.48,1444.45 1639.44,1444.45 1641.4,1444.45 1643.36,1444.45 1645.32,1444.45 1647.28,1444.48 \n",
       "  1649.24,1444.48 1651.2,1444.48 1653.16,1444.48 1655.12,1444.48 1657.08,1444.48 1659.04,1444.48 1661,1444.48 1662.96,1444.51 1664.92,1444.51 1666.88,1444.55 \n",
       "  1668.84,1444.55 1670.8,1444.55 1672.76,1444.55 1674.72,1444.55 1676.68,1444.58 1678.64,1444.58 1680.6,1444.58 1682.56,1444.58 1684.52,1444.58 1686.48,1444.61 \n",
       "  1688.44,1444.61 1690.4,1444.61 1692.36,1444.61 1694.32,1444.61 1696.28,1444.61 1698.24,1444.61 1700.2,1444.65 1702.16,1444.65 1704.12,1444.65 1706.08,1444.65 \n",
       "  1708.04,1444.65 1710,1444.65 1711.96,1444.68 1713.92,1444.68 1715.88,1444.68 1717.84,1444.68 1719.79,1444.68 1721.75,1444.68 1723.71,1444.71 1725.67,1444.71 \n",
       "  1727.63,1444.71 1729.59,1444.71 1731.55,1444.71 1733.51,1444.75 1735.47,1444.75 1737.43,1444.75 1739.39,1444.75 1741.35,1444.75 1743.31,1444.75 1745.27,1444.75 \n",
       "  1747.23,1444.78 1749.19,1444.78 1751.15,1444.78 1753.11,1444.78 1755.07,1444.78 1757.03,1444.78 1758.99,1444.81 1760.95,1444.81 1762.91,1444.81 1764.87,1444.81 \n",
       "  1766.83,1444.81 1768.79,1444.81 1770.75,1444.81 1772.71,1444.81 1774.67,1444.81 1776.63,1444.81 1778.59,1444.81 1780.55,1444.81 1782.51,1444.85 1784.47,1444.85 \n",
       "  1786.43,1444.85 1788.39,1444.85 1790.35,1444.85 1792.31,1444.85 1794.27,1444.85 1796.23,1444.88 1798.19,1444.88 1800.15,1444.88 1802.11,1444.88 1804.07,1444.88 \n",
       "  1806.03,1444.88 1807.99,1444.88 1809.95,1444.91 1811.91,1444.91 1813.87,1444.91 1815.83,1444.91 1817.79,1444.91 1819.75,1444.91 1821.71,1444.91 1823.67,1444.91 \n",
       "  1825.62,1444.91 1827.58,1444.95 1829.54,1444.95 1831.5,1444.95 1833.46,1444.95 1835.42,1444.95 1837.38,1444.98 1839.34,1444.98 1841.3,1444.98 1843.26,1444.98 \n",
       "  1845.22,1444.98 1847.18,1444.98 1849.14,1444.98 1851.1,1445.01 1853.06,1445.01 1855.02,1445.01 1856.98,1445.01 1858.94,1445.01 1860.9,1445.01 1862.86,1445.01 \n",
       "  1864.82,1445.01 1866.78,1445.01 1868.74,1445.01 1870.7,1445.01 1872.66,1445.01 1874.62,1445.01 1876.58,1445.05 1878.54,1445.05 1880.5,1445.05 1882.46,1445.05 \n",
       "  1884.42,1445.05 1886.38,1445.05 1888.34,1445.05 1890.3,1445.05 1892.26,1445.05 1894.22,1445.05 1896.18,1445.08 1898.14,1445.08 1900.1,1445.08 1902.06,1445.08 \n",
       "  1904.02,1445.08 1905.98,1445.11 1907.94,1445.11 1909.9,1445.11 1911.86,1445.11 1913.82,1445.11 1915.78,1445.11 1917.74,1445.11 1919.7,1445.11 1921.66,1445.11 \n",
       "  1923.62,1445.15 1925.58,1445.15 1927.54,1445.15 1929.49,1445.15 1931.45,1445.15 1933.41,1445.15 1935.37,1445.15 1937.33,1445.15 1939.29,1445.15 1941.25,1445.15 \n",
       "  1943.21,1445.18 1945.17,1445.18 1947.13,1445.18 1949.09,1445.18 1951.05,1445.18 1953.01,1445.18 1954.97,1445.22 1956.93,1445.22 1958.89,1445.22 1960.85,1445.22 \n",
       "  1962.81,1445.22 1964.77,1445.22 1966.73,1445.25 1968.69,1445.25 1970.65,1445.25 1972.61,1445.25 1974.57,1445.25 1976.53,1445.25 1978.49,1445.25 1980.45,1445.28 \n",
       "  1982.41,1445.28 1984.37,1445.28 1986.33,1445.28 1988.29,1445.28 1990.25,1445.28 1992.21,1445.28 1994.17,1445.32 1996.13,1445.32 1998.09,1445.32 2000.05,1445.32 \n",
       "  2002.01,1445.32 2003.97,1445.32 2005.93,1445.32 2007.89,1445.32 2009.85,1445.32 2011.81,1445.32 2013.77,1445.35 2015.73,1445.35 2017.69,1445.35 2019.65,1445.35 \n",
       "  2021.61,1445.35 2023.57,1445.35 2025.53,1445.35 2027.49,1445.35 2029.45,1445.35 2031.41,1445.35 2033.37,1445.35 2035.32,1445.38 2037.28,1445.38 2039.24,1445.38 \n",
       "  2041.2,1445.38 2043.16,1445.38 2045.12,1445.38 2047.08,1445.38 2049.04,1445.38 2051,1445.38 2052.96,1445.38 2054.92,1445.38 2056.88,1445.38 2058.84,1445.38 \n",
       "  2060.8,1445.38 2062.76,1445.38 2064.72,1445.42 2066.68,1445.42 2068.64,1445.42 2070.6,1445.42 2072.56,1445.42 2074.52,1445.42 2076.48,1445.42 2078.44,1445.42 \n",
       "  2080.4,1445.42 2082.36,1445.42 2084.32,1445.45 2086.28,1445.45 2088.24,1445.45 2090.2,1445.45 2092.16,1445.45 2094.12,1445.45 2096.08,1445.48 2098.04,1445.48 \n",
       "  2100,1445.48 2101.96,1445.52 2103.92,1445.52 2105.88,1445.52 2107.84,1445.52 2109.8,1445.52 2111.76,1445.52 2113.72,1445.52 2115.68,1445.52 2117.64,1445.52 \n",
       "  2119.6,1445.52 2121.56,1445.52 2123.52,1445.52 2125.48,1445.52 2127.44,1445.52 2129.4,1445.52 2131.36,1445.55 2133.32,1445.55 2135.28,1445.55 2137.24,1445.55 \n",
       "  2139.2,1445.55 2141.15,1445.55 2143.11,1445.55 2145.07,1445.55 2147.03,1445.55 2148.99,1445.55 2150.95,1445.55 2152.91,1445.58 2154.87,1445.58 2156.83,1445.58 \n",
       "  2158.79,1445.58 2160.75,1445.58 2162.71,1445.58 2164.67,1445.58 2166.63,1445.58 2168.59,1445.58 2170.55,1445.58 2172.51,1445.58 2174.47,1445.58 2176.43,1445.62 \n",
       "  2178.39,1445.62 2180.35,1445.62 2182.31,1445.62 2184.27,1445.62 2186.23,1445.62 2188.19,1445.62 2190.15,1445.62 2192.11,1445.62 2194.07,1445.62 2196.03,1445.62 \n",
       "  2197.99,1445.62 2199.95,1445.62 2201.91,1445.62 2203.87,1445.62 2205.83,1445.62 2207.79,1445.62 2209.75,1445.62 2211.71,1445.62 2213.67,1445.62 2215.63,1445.65 \n",
       "  2217.59,1445.65 2219.55,1445.65 2221.51,1445.65 2223.47,1445.65 2225.43,1445.65 2227.39,1445.65 2229.35,1445.65 2231.31,1445.65 2233.27,1445.65 2235.23,1445.65 \n",
       "  2237.19,1445.65 2239.15,1445.65 2241.11,1445.65 2243.07,1445.65 2245.02,1445.68 2246.98,1445.68 2248.94,1445.68 2250.9,1445.68 2252.86,1445.68 2254.82,1445.68 \n",
       "  2256.78,1445.68 2258.74,1445.68 2260.7,1445.68 2262.66,1445.68 2264.62,1445.68 2266.58,1445.68 2268.54,1445.72 2270.5,1445.72 2272.46,1445.72 2274.42,1445.72 \n",
       "  2276.38,1445.72 2278.34,1445.72 2280.3,1445.72 2282.26,1445.72 2284.22,1445.72 2286.18,1445.72 2288.14,1445.72 2290.1,1445.72 2292.06,1445.72 2294.02,1445.72 \n",
       "  \n",
       "  \"/>\n",
       "<path clip-path=\"url(#clip130)\" d=\"\n",
       "M1991.15 198.898 L2283.58 198.898 L2283.58 95.2176 L1991.15 95.2176  Z\n",
       "  \" fill=\"#ffffff\" fill-rule=\"evenodd\" fill-opacity=\"1\"/>\n",
       "<polyline clip-path=\"url(#clip130)\" style=\"stroke:#000000; stroke-linecap:butt; stroke-linejoin:round; stroke-width:4; stroke-opacity:1; fill:none\" points=\"\n",
       "  1991.15,198.898 2283.58,198.898 2283.58,95.2176 1991.15,95.2176 1991.15,198.898 \n",
       "  \"/>\n",
       "<polyline clip-path=\"url(#clip130)\" style=\"stroke:#009af9; stroke-linecap:butt; stroke-linejoin:round; stroke-width:4; stroke-opacity:1; fill:none\" points=\"\n",
       "  2015.15,147.058 2159.15,147.058 \n",
       "  \"/>\n",
       "<path clip-path=\"url(#clip130)\" d=\"M2196.99 166.745 Q2195.19 171.375 2193.47 172.787 Q2191.76 174.199 2188.89 174.199 L2185.49 174.199 L2185.49 170.634 L2187.99 170.634 Q2189.75 170.634 2190.72 169.8 Q2191.69 168.967 2192.87 165.865 L2193.63 163.921 L2183.15 138.412 L2187.66 138.412 L2195.76 158.689 L2203.87 138.412 L2208.38 138.412 L2196.99 166.745 Z\" fill=\"#000000\" fill-rule=\"evenodd\" fill-opacity=\"1\" /><path clip-path=\"url(#clip130)\" d=\"M2215.67 160.402 L2223.31 160.402 L2223.31 134.037 L2215 135.703 L2215 131.444 L2223.26 129.778 L2227.94 129.778 L2227.94 160.402 L2235.58 160.402 L2235.58 164.338 L2215.67 164.338 L2215.67 160.402 Z\" fill=\"#000000\" fill-rule=\"evenodd\" fill-opacity=\"1\" /></svg>\n"
      ]
     },
     "execution_count": 9,
     "metadata": {},
     "output_type": "execute_result"
    }
   ],
   "source": [
    "using Plots\n",
    "plot(view(L, 1:1000))"
   ]
  },
  {
   "cell_type": "markdown",
   "metadata": {},
   "source": [
    "## Partición de los datos para el experimento\n",
    "Solo se guardarán las 100 listas de posteo más pobladas, con la idea de ser utilizados para caracterizar los algoritmos. Es importante hacer notar que dado el procedimiento, las listas de posteo son generadas a través de un procedimiento real."
   ]
  },
  {
   "cell_type": "code",
   "execution_count": null,
   "metadata": {},
   "outputs": [],
   "source": []
  },
  {
   "cell_type": "code",
   "execution_count": 10,
   "metadata": {},
   "outputs": [
    {
     "name": "stdout",
     "output_type": "stream",
     "text": [
      "\"_url\" => 40773 \"amlo\" => 21628 \"@lopezobrador\" => 14682 \"0\" => 7345 \"presidente\" => 4341 \"mexico\" => 4040 \"#elecciones0\" => 3930 \"pena\" => 3616 \"#amlo\" => 3363 \"|\" => 3227 \"gobierno\" => 3119 \"@epn\" => 3096 \"reunion\" => 3076 \"nieto\" => 2910 \"lopez\" => 2285 \"obrador\" => 2235 \"triunfo\" => 2000 \"trump\" => 1894 \"nacional\" => 1843 \"#mexico\" => 1496 \"electo\" => 1444 \"_ _url\" => 1387 \"@inemexico\" => 1372 \"pompeo\" => 1342 \"manuel\" => 1316 \"equipo\" => 1296 \"transicion\" => 1279 \"andres\" => 1179 \"seguridad\" => 1143 \"gabinete\" => 1130 \"palacio\" => 1127 \"➡\" => 1116 \"morena\" => 1056 \"estado\" => 1044 \"presidencial\" => 1036 \"encuentro\" => 1033 \"#transicion0\" => 1027 \"eleccion\" => 1023 \"va\" => 1004 \"virtual\" => 987 \"empresarios\" => 987 \"anos\" => 962 \"#envivo\" => 956 \"elecciones\" => 924 \"campana\" => 904 \"votos\" => 867 \"@ricardoanayac\" => 859 \"electoral\" => 844 \"video\" => 828 \"victoria\" => 825 \"_ y\" => 820 \"dijo\" => 792 \"durante\" => 772 \"hoy\" => 769 \"plan\" => 757 \"secretario\" => 747 \"proximo\" => 746 \"👉\" => 737 \"corrupcion\" => 735 \"_mx\" => 732 \"👇\" => 729 \"politica\" => 728 \"@accionnacional\" => 728 \"gobernadores\" => 728 \"mike\" => 711 \"propuesta\" => 708 \"epn\" => 695 \"partido\" => 694 \"pri\" => 693 \"enrique\" => 683 \"millones\" => 681 \"🇲\" => 672 \"🇽\" => 671 \"anaya\" => 669 \"aqui\" => 661 \"@m\" => 657 \"casa\" => 653 \"eu\" => 650 \"julio\" => 641 \"pan\" => 640 \"presidencia\" => 632 \"mil\" => 631 \"reune\" => 629 \"poder\" => 625 \"@pri\" => 625 \"nueva\" => 613 \"_ en\" => 609 \"apoyo\" => 609 \"_nacional\" => 605 \"mexicanos\" => 599 \"mayoria\" => 594 \"#enterate\" => 581 \"resultados\" => 578 \"mensaje\" => 555 \"reunira\" => 550 \"historia\" => 549 \"gano\" => 549 \"proceso\" => 548 \"mayor\" => 546 \"ebrard\" => 534 "
     ]
    }
   ],
   "source": [
    "function id2token(tok)\n",
    "    M = Dict{Int,String}()\n",
    "    for (k, v) in I.index.map\n",
    "        M[v] = decode(tok, k)\n",
    "    end\n",
    "    \n",
    "    M\n",
    "end\n",
    "\n",
    "\n",
    "open(\"listas-posteo-100.json\", \"w\") do f\n",
    "    P = partialsortperm(I.index.lists, 1:100, by=length, rev=true)\n",
    "    M = id2token(TOK)\n",
    "    \n",
    "    for i in P\n",
    "        plist = I.index.lists[i]\n",
    "        token = M[i]\n",
    "        list = first.(plist)\n",
    "        print(token => length(list), \" \")\n",
    "        println(f, JSON.json((token, list)))\n",
    "    end\n",
    "end\n",
    "\n",
    "#=I.index.lists\n",
    "I.index.map=#"
   ]
  }
 ],
 "metadata": {
  "hide_input": false,
  "kernelspec": {
   "display_name": "Julia 1.7.3",
   "language": "julia",
   "name": "julia-1.7"
  },
  "language_info": {
   "file_extension": ".jl",
   "mimetype": "application/julia",
   "name": "julia",
   "version": "1.7.3"
  },
  "latex_envs": {
   "LaTeX_envs_menu_present": true,
   "autoclose": false,
   "autocomplete": true,
   "bibliofile": "biblio.bib",
   "cite_by": "apalike",
   "current_citInitial": 1,
   "eqLabelWithNumbers": true,
   "eqNumInitial": 1,
   "hotkeys": {
    "equation": "Ctrl-E",
    "itemize": "Ctrl-I"
   },
   "labels_anchors": false,
   "latex_user_defs": false,
   "report_style_numbering": false,
   "user_envs_cfg": false
  },
  "toc": {
   "base_numbering": 1,
   "nav_menu": {},
   "number_sections": true,
   "sideBar": true,
   "skip_h1_title": false,
   "title_cell": "Table of Contents",
   "title_sidebar": "Contents",
   "toc_cell": false,
   "toc_position": {},
   "toc_section_display": true,
   "toc_window_display": false
  },
  "varInspector": {
   "cols": {
    "lenName": 16,
    "lenType": 16,
    "lenVar": 40
   },
   "kernels_config": {
    "python": {
     "delete_cmd_postfix": "",
     "delete_cmd_prefix": "del ",
     "library": "var_list.py",
     "varRefreshCmd": "print(var_dic_list())"
    },
    "r": {
     "delete_cmd_postfix": ") ",
     "delete_cmd_prefix": "rm(",
     "library": "var_list.r",
     "varRefreshCmd": "cat(var_dic_list()) "
    }
   },
   "types_to_exclude": [
    "module",
    "function",
    "builtin_function_or_method",
    "instance",
    "_Feature"
   ],
   "window_display": false
  }
 },
 "nbformat": 4,
 "nbformat_minor": 4
}
