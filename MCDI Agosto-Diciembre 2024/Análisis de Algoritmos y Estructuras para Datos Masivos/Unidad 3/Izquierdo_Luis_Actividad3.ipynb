{
 "cells": [
  {
   "cell_type": "markdown",
   "metadata": {},
   "source": [
    "# Unidad 3 - Actividad 1\n",
    "# Materia: **Análisis de Algoritmos y Estructuras para Datos Masivos**\n",
    "# Alumno: **Luis Fernando Izquierdo Berdugo**\n",
    "# Fecha: **28 de Agosto de 2024**\n",
    "\n",
    "**Objetivo**\n",
    "\n",
    "Analizar y comparar la eficiencia de distintos algoritmos de búsqueda en listas de posteo, enfocándose en el análisis gráfico y la interpretación de los experimentos realizados.\n",
    "\n",
    "**Instrucciones**\n",
    "1. **Preparación de Datos**\n",
    "\n",
    "- Utilice el archivo `listas-posteo-100.json`, que contiene las 100 listas de posteo más frecuentes en formato JSON. Trabaje solo con las listas, excluyendo los términos asociados.\n",
    "\n",
    "- Asegúrese de no realizar copias mientras se manipulan los arreglos. Si se utiliza el ndarray o array se puede controlar la organización de memoria de los arreglos, también se puede asegurar que se manipulan solo valores numéricos nativos y no objetos de Python.\n",
    "\n",
    "2. **Selección de Identificadores**\n",
    "\n",
    "- Seleccione aleatoriamente 1000 identificadores de documentos, con valores entre 1 y n (donde n=50000).\n",
    "\n",
    "3. **Experimentación y Medición**\n",
    "\n",
    "- Mida el tiempo promedio de búsqueda para los 1000 identificadores en todas las listas (considerando 100×1000 operaciones).\n",
    "- Determine la posición de inserción en cada búsqueda.\n",
    "- Evalúe los siguientes algoritmos:\n",
    "    - Búsqueda binaria acotada.\n",
    "    - Búsqueda secuencial B_0​.\n",
    "    - Búsqueda no acotada B_1.\n",
    "    - Búsqueda no acotada B_2​.\n",
    "    \n",
    "**Nota:** Repita las búsquedas varias veces y promedielos para obtener mediciones más robustas.\n",
    "\n",
    "4. **Análisis de Datos y Gráfica**\n",
    "\n",
    "- Elabore una única gráfica que muestre los tiempos de ejecución en el eje Y y los algoritmos evaluados en el eje X.\n",
    "- Realice un análisis detallado de esta gráfica, identificando patrones, diferencias y posibles explicaciones para el rendimiento de cada algoritmo.\n",
    "\n",
    "5. **Desarrollo Teórico**\n",
    "\n",
    "- Describa en pseudo-código la implementación de la búsqueda casi óptima *$B_k$*, explicando su lógica y funcionamiento"
   ]
  },
  {
   "cell_type": "markdown",
   "metadata": {},
   "source": [
    "## Inciso 1 - Preparación de Datos\n",
    "Lo primero será importar los módulos de Python a utilizar, en este caso serán `numpy`y `json`."
   ]
  },
  {
   "cell_type": "code",
   "execution_count": 289,
   "metadata": {},
   "outputs": [],
   "source": [
    "import json\n",
    "import numpy as np"
   ]
  },
  {
   "cell_type": "markdown",
   "metadata": {},
   "source": [
    "Debido a que el archivo no viene en el formato `json` común, se hizo un anális en el que se encontró que cada línea del archivo incluye la clave de la lista de posteo y los valores, por lo cual se desarrolló un código que analiza línea por línea para guardar los datos en un diccionario creado previamente llamado `valores`."
   ]
  },
  {
   "cell_type": "code",
   "execution_count": 290,
   "metadata": {},
   "outputs": [],
   "source": [
    "val = {}\n",
    "with open('/Users/izluis/Documents/Maestria/Análisis de Algoritmos y Estructuras para Datos Masivos/Unidad 3/Unidad03-busqueda/datos/listas-posteo-100.json') as file:\n",
    "  for line in file:\n",
    "    data = json.loads(line)\n",
    "    key, values = data\n",
    "    val[key] = np.array(values)"
   ]
  },
  {
   "cell_type": "markdown",
   "metadata": {},
   "source": [
    "## Inciso 2 - Selección de Identificadores\n",
    "\n",
    "Se ejecuta un código sencillo para seleccionar 1000 valores aleatorios entre 1 y 5000, los cuales no se pueden repetir."
   ]
  },
  {
   "cell_type": "code",
   "execution_count": 291,
   "metadata": {},
   "outputs": [],
   "source": [
    "rango = np.arange(1, 5000 + 1)\n",
    "ids = rango[np.random.choice(len(rango), size = 1000, replace=False)]"
   ]
  },
  {
   "cell_type": "markdown",
   "metadata": {},
   "source": [
    "## Inciso 3 - Experimentación y Medición\n",
    "\n",
    "Primero se crea una función que mida el tiempo de ejecución de los algoritmos (que estarán en diferentes funciones).\n",
    "Esta iterará entre los identificadores para buscar en cada una de las listas un identificador específico; antes de entrar a la función que hace cada una de las busquedas se guarda el tiempo de inicio con el módulo `time`de python.\n",
    "\n",
    "Al salir de la función de busqueda, guardará las posiciones de cada identificador encontrado o insertado con la busqueda y sacará el promedio del tiempo tomado en cada búsqueda. Esta función devolverá el promedio de segundos tomados con la función y las posiciones de los indicadores en las listas de posteo."
   ]
  },
  {
   "cell_type": "code",
   "execution_count": 292,
   "metadata": {},
   "outputs": [],
   "source": [
    "import time\n",
    "def times(function):\n",
    "    total = 0\n",
    "    positions = []\n",
    "    for id in ids:\n",
    "        start_time = time.process_time()\n",
    "        for list in val.values():\n",
    "            position = function(list, id)\n",
    "            positions.append(position)\n",
    "        final_time = time.process_time()\n",
    "        total = final_time - start_time\n",
    "    promedio = total / len(ids)*len(val)\n",
    "    return promedio, positions"
   ]
  },
  {
   "cell_type": "markdown",
   "metadata": {},
   "source": [
    "La primera función que se definió fue la `Busqueda Binaria Acotada`. En esta se toma el inicio y final de la lista, ya que se conoce y evaluará si la mitad de estos datos es igual al identificador que estamos buscando. Si no lo encuentra en primera instancia y el valor que se está evaluando es menor que el identificador, entonces el nuevo valor de inicio será una posición más adelante que el valor evaluado. En caso contrario (valor evaluado es mayor que el identificador), el nuevo valor de final será una posición anterior a la evaluada.\n",
    "\n",
    "Si encuentra el valor, entonces lo devuelve. Si no encuentra el valor, entonces devolverá el lugar de la lista en el que este debería ir (una posición más adelante del valor final)."
   ]
  },
  {
   "cell_type": "code",
   "execution_count": 293,
   "metadata": {},
   "outputs": [],
   "source": [
    "def bin_acot(lista, id):\n",
    "    start = 0\n",
    "    end = len(lista) -1\n",
    "    while start <= end:\n",
    "        middle = (start+end)//2\n",
    "        if lista[middle] == id:\n",
    "            return middle\n",
    "        elif lista[middle] < id:\n",
    "            start = middle+1\n",
    "        else:\n",
    "            end = middle - 1\n",
    "    return end + 1\n",
    "        "
   ]
  },
  {
   "cell_type": "markdown",
   "metadata": {},
   "source": [
    "Para la `Busqueda Secuencial` $B_0$ se evalúan los elementos de la lista que se ennumerará uno a uno; si el elemento es el que estamos buscando (el identificador), entonces se devuelve su posición i, si es mayor al identificdor, entonces se devuelve la posición actual (para su inserción). En el último caso se devolverá la longitud de la lista, ya que irá al final de esta."
   ]
  },
  {
   "cell_type": "code",
   "execution_count": 294,
   "metadata": {},
   "outputs": [],
   "source": [
    "def sec(lista, id):\n",
    "    for i, elemento in enumerate(lista):\n",
    "        if elemento == id:\n",
    "            return i\n",
    "        elif elemento > id:\n",
    "            return i\n",
    "    return len(lista)"
   ]
  },
  {
   "cell_type": "markdown",
   "metadata": {},
   "source": [
    "Para las funciones de `Busqueda Binomial No Acotada` $B_1$ y `Busqueda Binomial No Acotada` $B_2$ se creo otra función de la función binomial, con la diferencia de que esta acepta los parametros para el límite inferior `start`y superior `end`, con la finalidad de poder modificarlos."
   ]
  },
  {
   "cell_type": "code",
   "execution_count": 295,
   "metadata": {},
   "outputs": [],
   "source": [
    "def bin(lista, id, start, end):\n",
    "    start = start - 1\n",
    "    end = end -1\n",
    "    while start <= end:\n",
    "        middle = (start+end)//2\n",
    "        if lista[middle] == id:\n",
    "            return middle\n",
    "        elif lista[middle] < id:\n",
    "            start = middle+1\n",
    "        else:\n",
    "            end = middle - 1\n",
    "    return end + 1"
   ]
  },
  {
   "cell_type": "markdown",
   "metadata": {},
   "source": [
    "La funcion de la `Busqueda Binomial No Acotada` $B_1$ declara un índice `index` y las evaluaciones `m` que se han hecho. Se entrará a un ciclo while que evaluará:\n",
    "- Si las evaluaciones menos una son menores que la longitud de la lista donde se buscan los indicadores **y**\n",
    "- Si el valor `m-1` de la lista es menor que el identificador.\n",
    "En caso de que esto se cumpla, se añadirá uno al índice y las evaluaciones tomarán el valor de dos a la potencia del índice, restado uno (`(2**(index))-1`).\n",
    "\n",
    "El nuevo límite inferior del rango será el valor de dos a la potencia del índice restado uno (`2**(index-1)`). Si el valor de las evaluaciones es menor o igual a la longitud de la lista, el límite superior será este valor; en caso contrario el límite superior será la longitud de la lista.\n",
    "\n",
    "Finalmente se regresa el valor del índice encontrado."
   ]
  },
  {
   "cell_type": "code",
   "execution_count": 296,
   "metadata": {},
   "outputs": [],
   "source": [
    "def bin_unb(lista, id):\n",
    "    index = 1\n",
    "    m = 1\n",
    "    while (m-1) < len(lista) and lista[m-1] < id:\n",
    "        index = index + 1\n",
    "        m = (2**index) - 1\n",
    "    \n",
    "    start = (2**(index-1))\n",
    "    if m <= len(lista):\n",
    "        end = m\n",
    "    else:\n",
    "        end = len(lista)\n",
    "    indice = bin(lista, id, start, end)\n",
    "    return indice"
   ]
  },
  {
   "cell_type": "markdown",
   "metadata": {},
   "source": [
    "La funcion de la `Busqueda Binomial No Acotada` $B_2$ será una copia fiel de la función $B_1$, sin embargo, cambiará el valor de m durante el ciclo while y el valor del límite inferior posterior:\n",
    "- En vez de `m = (2**index) - 1` se tendrá ` m = (2**((2**index) - 1))-1`\n",
    "- En vez de `start = (2**(index-1))` se tendrá `start = 2**((2**(index-1))-1)`"
   ]
  },
  {
   "cell_type": "code",
   "execution_count": 297,
   "metadata": {},
   "outputs": [],
   "source": [
    "def bin_unb2(lista, id):\n",
    "    index = 1\n",
    "    m = 1\n",
    "    while (m-1) < len(lista) and lista[m-1] < id:\n",
    "        index = index + 1\n",
    "        m = (2**((2**index) - 1))-1\n",
    "    \n",
    "    start = 2**((2**(index-1))-1)\n",
    "    if m <= len(lista):\n",
    "        end = m\n",
    "    else:\n",
    "        end = len(lista)\n",
    "    indice = bin(lista, id, start, end)\n",
    "    return indice"
   ]
  },
  {
   "cell_type": "markdown",
   "metadata": {},
   "source": [
    "Se ejecutan todas las funciones de búsqueda en 5 ocasiones seguidas para sacar el promedio de tiempo que toman estas ejecuciones."
   ]
  },
  {
   "cell_type": "code",
   "execution_count": 298,
   "metadata": {},
   "outputs": [
    {
     "name": "stdout",
     "output_type": "stream",
     "text": [
      "Tiempo promedio para el algoritmo binario acotado 3.6039999999957215e-05\n"
     ]
    }
   ],
   "source": [
    "promedio_bin_1, pos_bin_1 = times(bin_acot)\n",
    "promedio_bin_2, pos_bin_2 = times(bin_acot)\n",
    "promedio_bin_3, pos_bin_3 = times(bin_acot)\n",
    "promedio_bin_4, pos_bin_4 = times(bin_acot)\n",
    "promedio_bin_5, pos_bin_5 = times(bin_acot)\n",
    "\n",
    "promedio_bin = (promedio_bin_1 + promedio_bin_2 + promedio_bin_3 + promedio_bin_4 + promedio_bin_5)/5\n",
    "print(f\"Tiempo promedio para el algoritmo binario acotado {promedio_bin}\")\n",
    "#print(pos_bin_1)\n"
   ]
  },
  {
   "cell_type": "code",
   "execution_count": 299,
   "metadata": {},
   "outputs": [
    {
     "name": "stdout",
     "output_type": "stream",
     "text": [
      "Tiempo promedio para el algoritmo de busqueda secuencial 0.00024335999999948397\n"
     ]
    }
   ],
   "source": [
    "promedio_sec_1, pos_sec_1 = times(sec)\n",
    "promedio_sec_2, pos_sec_2 = times(sec)\n",
    "promedio_sec_3, pos_sec_3 = times(sec)\n",
    "promedio_sec_4, pos_sec_4 = times(sec)\n",
    "promedio_sec_5, pos_sec_5 = times(sec)\n",
    "\n",
    "promedio_sec = (promedio_sec_1 + promedio_sec_2 + promedio_sec_3 + promedio_sec_4 + promedio_sec_5)/5\n",
    "print(f\"Tiempo promedio para el algoritmo de busqueda secuencial {promedio_sec}\")\n",
    "#print(pos_sec_1)"
   ]
  },
  {
   "cell_type": "code",
   "execution_count": 300,
   "metadata": {},
   "outputs": [
    {
     "name": "stdout",
     "output_type": "stream",
     "text": [
      "Tiempo promedio para el algoritmo binario no acotado 3.8579999999797105e-05\n"
     ]
    }
   ],
   "source": [
    "\n",
    "promedio_b1_1, pos_b1_1 = times(bin_unb)\n",
    "promedio_b1_2, pos_b1_2 = times(bin_unb)\n",
    "promedio_b1_3, pos_b1_3 = times(bin_unb)\n",
    "promedio_b1_4, pos_b1_4 = times(bin_unb)\n",
    "promedio_b1_5, pos_b1_5 = times(bin_unb)\n",
    "\n",
    "promedio_b1 = (promedio_b1_1 + promedio_b1_2 + promedio_b1_3 + promedio_b1_4 + promedio_b1_5)/5\n",
    "\n",
    "print(f\"Tiempo promedio para el algoritmo binario no acotado {promedio_b1}\")\n",
    "#print(pos_b1_1)"
   ]
  },
  {
   "cell_type": "code",
   "execution_count": 301,
   "metadata": {},
   "outputs": [
    {
     "name": "stdout",
     "output_type": "stream",
     "text": [
      "Tiempo promedio para el algoritmo binario no acotado B2 7.018000000016401e-05\n"
     ]
    }
   ],
   "source": [
    "promedio_b2_1, pos_b2_1 = times(bin_unb2)\n",
    "promedio_b2_2, pos_b2_2 = times(bin_unb2)\n",
    "promedio_b2_3, pos_b2_3 = times(bin_unb2)\n",
    "promedio_b2_4, pos_b2_4 = times(bin_unb2)\n",
    "promedio_b2_5, pos_b2_5 = times(bin_unb2)\n",
    "promedio_b2 = (promedio_b2_1 + promedio_b2_2 + promedio_b2_3 + promedio_b2_4 + promedio_b2_5)/5\n",
    "print(f\"Tiempo promedio para el algoritmo binario no acotado B2 {promedio_b2}\")\n",
    "#print(pos_b2_1)"
   ]
  },
  {
   "cell_type": "code",
   "execution_count": 302,
   "metadata": {},
   "outputs": [
    {
     "name": "stdout",
     "output_type": "stream",
     "text": [
      "Todos los índices son iguales\n"
     ]
    }
   ],
   "source": [
    "#Se evalúa que todos los resultados sean iguales:\n",
    "if pos_b1_1 == pos_b2_1 and pos_b2_1 == pos_sec_1 and pos_sec_1 == pos_bin_1:\n",
    "    print(\"Todos los índices son iguales\")"
   ]
  },
  {
   "cell_type": "code",
   "execution_count": 303,
   "metadata": {},
   "outputs": [
    {
     "data": {
      "image/png": "[encoded data removed]",
      "text/plain": [
       "<Figure size 640x480 with 1 Axes>"
      ]
     },
     "metadata": {},
     "output_type": "display_data"
    }
   ],
   "source": [
    "import matplotlib.pyplot as plt\n",
    "funciones = ['Binaria', 'Secuencial', 'Binaria B1','Binaria B2']\n",
    "promedios = [promedio_bin, promedio_sec, promedio_b1, promedio_b2]\n",
    "plt.bar(funciones, promedios)\n",
    "plt.title('Comparación de tiempos')\n",
    "plt.xlabel('Función')\n",
    "plt.ylabel('Tiempo')\n",
    "plt.show()"
   ]
  },
  {
   "cell_type": "markdown",
   "metadata": {},
   "source": [
    "En la gráfica generada para la comparación se puede observar que la diferencia entre las búsquedas de tipo Binario son bastante parecidas; a pesar de que en teoría las Binarias no acotadas deberían ir mejorando su tiempo, se puede observar que estas toman ligeramente más tiempo que la binaria acotada. Este comportamiento se puede deber a la cantidad de datos y los tiempos de ejecución tan pequeños que se presentan; es muy probable que los beneficios de estas iteraciones binarias no acotadas se observen de manera superior en conjuntos de datos muchísimo más grandes que los presentados en este análisis.\n",
    "\n",
    "Definitivamente se puede notar la diferencia entre un método binario y uno secuencial, siendo hasta 4 veces menor el primero; esto se debe a la poca lógica que se emplea al hacer la lógica secuencial, ya que simplemente evalúa dato por dato hasta encontrar el que busca o donde debería ir este."
   ]
  },
  {
   "cell_type": "markdown",
   "metadata": {},
   "source": [
    "## Inciso 5 - Desarrollo teórico"
   ]
  },
  {
   "cell_type": "markdown",
   "metadata": {},
   "source": [
    "Para el algorítmo de busqueda $B_k$ se deberá desarrollar de manera similar al algoritmo $B_2$. En este se reemplazó la búsqueda unaria del algoritmo $B_1$ por una binaria de la forma $F(2^{2^{i-1}-1} - 1)$.\n",
    "\n",
    "Se podría ir iterando de esto para seguir mejorando los tiempos de ejecución, para obtener el algoritmo $B_{k-1}$. Siendo el pseudo-código de esto el siguiente:\n",
    "\n",
    "`definición función_algoritmo_bk`\n",
    "\n",
    "`Parámetros de Entrada:`\n",
    "- `Lista de valores donde se buscará`\n",
    "- `Identificador a buscar en los valores`\n",
    "- `Valor de k`\n",
    "\n",
    "`índice inicial = 1`\n",
    "\n",
    "`evaluaciones = 1`\n",
    "\n",
    "    `para cada una de los valores del rango k:`\n",
    "\n",
    "        `mientras que el evaluaciones-1 < longitud de la lista **y** lista[evaluaciones-1] < identificador:`\n",
    "\n",
    "            `índice aumenta en uno`\n",
    "\n",
    "            `evaluaciones = (2**índice)-1`\n",
    "            \n",
    "            `si es la primera iteración:`\n",
    "\n",
    "                `inicio = 2**(índice-1)`\n",
    "\n",
    "            `si no es la primera iteración:`\n",
    "\n",
    "                `evaluaciones = (2**(evaluaciones))-1`\n",
    "\n",
    "                `inicio = 2**(inicio-1)`\n",
    "\n",
    "        `Si evaluaciones <= longitud de la lista:`\n",
    "\n",
    "            `final = evaluaciones`\n",
    "\n",
    "        `en cualquier otro caso:`\n",
    "\n",
    "            `final = longitud de la lista`\n",
    "            \n",
    "        `Índice devuelto = función binaria(lista, identificador, inicio, fin)`\n"
   ]
  },
  {
   "cell_type": "markdown",
   "metadata": {},
   "source": [
    "## Conclusiones\n",
    "\n",
    "Este experimento sirvió para demostrar los diferentes tiempos de ejecución que tienen los diferentes algoritmos de busqueda, concluyendo que:\n",
    "- **Busqueda Binaria Acotada:** es el método más rápido para las listas de posteo que se manejaron. Esto es gracias a la reducción del espacio de busqueda, ya que en cada iteración se reducía el espacio a la mitad.\n",
    "- **Busqueda Secuencial:** es el método menos eficaz (y por lo tanto más costoso) para las listas de posteo. A pesar de que en tamaños de listas pequeños pueda ser útil, conforme la lista va creciendo, su eficacia va disminuyendo de manera equivalente. Este método va uno por uno por todos los datos de la lista hasta encontrar el que se busca.\n",
    "- **Busqueda Binaria No Acotada $B_1$** y **$B_2$:** Junto con la busqueda acotada son los métodos más veloces, teniendo diferencias mínimas en el tiempo de procesamiento. El èxito de estos algoritmos depende de la efectividad al momento de definir el límite superior; es posible que se encuentren mejores resultados con estos métodos con cantidades de datos mucho más grandes que las manejadas en este experimento, sobretodo si se desconoce la cantidad de estos.\n",
    "\n",
    "Otras consideraciones que se pueden tener en este experimento para replicarse podrían ser las condiciones del mismo, ya que cosas como el hardware en el que se ejecutó, el sistema operativo, procesador y lenguaje de programación podrían influir en los resultados del experimento.\n",
    "\n",
    "Si se quisieran aplicar estos algoritmos a sistemas de gran escala se tendrían que tener en cuenta factores como el volumen de los datos, la frecuencia de inserciones y la distrbución de los datos; esto tendría el objetivo de elegir el mejor algoritmo de busqueda para cada sistema específico."
   ]
  }
 ],
 "metadata": {
  "kernelspec": {
   "display_name": "Python 3",
   "language": "python",
   "name": "python3"
  },
  "language_info": {
   "codemirror_mode": {
    "name": "ipython",
    "version": 3
   },
   "file_extension": ".py",
   "mimetype": "text/x-python",
   "name": "python",
   "nbconvert_exporter": "python",
   "pygments_lexer": "ipython3",
   "version": "3.12.1"
  }
 },
 "nbformat": 4,
 "nbformat_minor": 2
}
