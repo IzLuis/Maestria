{
 "cells": [
  {
   "cell_type": "markdown",
   "metadata": {},
   "source": [
    "# Tarea 2\n",
    "## Matemáticas para la Ciencia de Datos\n",
    "## Docente: **Briceyda B. Delgado**\n",
    "## Alumno: **Luis Fernando Izquierdo Berdugo**\n",
    "## Fecha: **26 de Agosto de 2024**\n",
    "### Instrucciones\n",
    "\n",
    "**Problema 1** (60 puntos)\\\n",
    "Considere el problema con valor inicial\n",
    "\n",
    "$r'(t) = r(t) + 2t − t^2$\\\n",
    "$r(0) = 1$\\\n",
    "$t \\in [0, T ]$\n",
    "\n",
    "1. Encuentre la solución analítica de la ecuación diferencial.\n",
    "2. Derive una fórmula iterativa usando el `método de Euler hacia adelante (forwards)`, siguiendo la notación del libro, cada iteración la denotamos por $y_n$ y suponemos que $y_0 = r(0) = 1$.\n",
    "3. Repita el inciso anterior, usando la notación $z_n$ para las iteraciones del `método de Euler hacia atrás (backwards)`, encuentre la fórumla explícita.\n",
    "\n",
    "**Problema 2** (40 puntos)\n",
    "\n",
    "4. Tomando $\\Delta t = \\frac{1}{10}$ calcule $y_1$, $y_2$, $y_3$ y $z_1$, $z_2$, $z_3$.\\\n",
    "Compare estos valores obtenidos de la solución analítica del inciso `(1)`, $r(\\Delta t)$, $r(2\\Delta t)$, $r(3\\Delta t)$ y calcule los errores relativos en cada caso.\n",
    "\n",
    "5. Escriba un programa en Python que calcule ambos métodos de Euler.\n",
    "6. Realice una gráfica comparativa entre las soluciones numéricas obtenidas por ambos métodos de Euler y la solución analítica obtenida en el inciso `(1)`."
   ]
  },
  {
   "cell_type": "markdown",
   "metadata": {},
   "source": [
    "## Inciso (a) - Solución Analítica\n",
    "Si tenemos la ecuación:\n",
    "\n",
    "$r'(t) = r(t) + 2t − t^2$\n",
    "\n",
    "se puede observar que la solución a tener en cuenta es el método de `Factor Integrante`, siendo la forma para este caso:\n",
    "\n",
    "$y' + p(x)y = q(x)$\n",
    "\n",
    "Si se reescribe la ecuación original, se obtiene:\n",
    "\n",
    "$r'(t) - r(t) = 2t - t^2$\n",
    "\n",
    "Siendo:\n",
    "\n",
    "$p(t) = -1$\\\n",
    "$q(t) = 2t - t^2$"
   ]
  },
  {
   "cell_type": "markdown",
   "metadata": {},
   "source": [
    "Para encontrar el factor integrante $\\mu (t)$ se calcula con:\n",
    "\n",
    "$\\mu (t) = e^{\\int{p(t)dt}}$\n",
    "\n",
    "$\\mu (t) = e^{\\int{-1dt}}$\n",
    "\n",
    "$\\mu (t) = e^{-t}$\n",
    "\n",
    "El siguiente paso será usar la fórmula de factor integrante para resolver la ecuación, siendo esta:\n",
    "\n",
    "$y\\mu = \\int{q\\mu dx}$\n",
    "\n",
    "$r(t)e^{-t} = \\int{(2t-t^2)e^{-t}dt}$\n",
    "\n",
    "Se resuelve el lado derecho por integración por partes y se obtiene:\n",
    "\n",
    "$r(t)e^{-t} = t^2e^{-t} + C$\n",
    "\n",
    "Simplificando:\n",
    "\n",
    "$r(t) = t^2 + Ce^t$"
   ]
  },
  {
   "cell_type": "markdown",
   "metadata": {},
   "source": [
    "Sabiendo que $r_0 = 1$:\n",
    "\n",
    "$1 = 0^2 + Ce^0$\n",
    "\n",
    "$C = 1$\n",
    "\n",
    "Entonces la solución analítica del problema será\n",
    "\n",
    "### $r(t) = t^2 + e^t$\n",
    "\n",
    "Evaluando con valores de 0 a 1 y saltos de 0.1\n",
    "\n",
    "| **$y_{n}$** | **Sustitución**     | **Resultado** |\n",
    "|-------------|---------------------|---------------|\n",
    "| $y_{0}$     |                     | 1             |\n",
    "| $y_{1}$     | $(0.1)^2 + e^{0.1}$ | $1.115170918$ |\n",
    "| $y_{2}$     | $(0.2)^2 + e^{0.2}$ | $1.261402758$ |\n",
    "| $y_{3}$     | $(0.3)^2 + e^{0.3}$ | $1.439858808$ |\n",
    "| $y_{4}$     | $(0.4)^2 + e^{0.4}$ | $1.651824698$ |\n",
    "| $y_{5}$     | $(0.5)^2 + e^{0.5}$ | $1.898721271$ |\n",
    "| $y_{6}$     | $(0.6)^2 + e^{0.6}$ |   $2.1821188$ |\n",
    "| $y_{7}$     | $(0.7)^2 + e^{0.7}$ | $2.503752707$ |\n",
    "| $y_{8}$     | $(0.8)^2 + e^{0.8}$ | $2.865540928$ |\n",
    "| $y_{9}$     | $(0.9)^2 + e^{0.9}$ | $3.269603111$ |\n",
    "| $y_{10}$    | $(1)^2 + e^{1}$     | $3.718281828$ |"
   ]
  },
  {
   "cell_type": "markdown",
   "metadata": {},
   "source": [
    "## Inciso (b) - Método de Euler hacia adelante\n",
    "Usando la fórmula del libro para el Método de Euler para adelante (o metodo implícito), se puede obtener:\n",
    "\n",
    "### $\\frac{y_{n+1}-y_n}{\\Delta t} = y_n + 2t -t^2$\n",
    "\n",
    "Despejando\n",
    "\n",
    "### $y_{n+1} = y_n + (y_n + 2t -t^2)\\Delta t$\n",
    "\n",
    "Con esta fórmula ya se puede iterar sabiendo que $y_0 = 1$"
   ]
  },
  {
   "cell_type": "markdown",
   "metadata": {},
   "source": [
    "Sabiendo que $\\Delta t = \\frac{1}{10}$ y asignando arbitrariamente $T = 1$, se usa la fórmula para calcular N\n",
    "\n",
    "### $N = \\frac{T}{h}$\n",
    "### $N = \\frac{1}{\\frac{1}{10}} = 10$\n",
    "\n",
    "Se evaluará 10 veces, de 0 a 1, con saltos de 0.1 en t\n",
    "\n",
    "| **$y_n$** | **Sustitución**                                     | **Resultado** |\n",
    "|-----------|-----------------------------------------------------|---------------|\n",
    "| $y_{0}$   |                                                     |           $1$ |\n",
    "| $y_{1}$   | $1 + (1 + 2(0) - (0)^2)0.1$                         |         $1.1$ |\n",
    "| $y_{2}$   | $1.1 + (1.1 + 2(0.1) - (0.1)^2)0.1$                 |       $1.229$ |\n",
    "| $y_{3}$   | $1.229 + (1.229 + 2(0.2) - (0.2)^2)0.1$             |      $1.3879$ |\n",
    "| $y_{4}$   | $1.3879 + (1.3879 + 2(0.3) - (0.3)^2)0.1$           |     $1.57769$ |\n",
    "| $y_{5}$   | $1.57769 + (1.57769 + 2(0.4) - (0.4)^2)0.1$         |    $1.799459$ |\n",
    "| $y_{6}$   | $1.799459 + (1.799459 + 2(0.5) - (0.5)^2)0.1$       |   $2.0544049$ |\n",
    "| $y_{7}$   | $2.0544049 + (2.0544049 + 2(0.6) - (0.6)^2)0.1$     |  $2.34384539$ |\n",
    "| $y_{8}$   | $2.34384539 + (2.34384539 + 2(0.7) - (0.7)^2)0.1$   | $2.669229929$ |\n",
    "| $y_{9}$   | $2.669229929 + (2.669229929 + 2(0.8) - (0.8)^2)0.1$ | $3.032152922$ |\n",
    "| $y_{10}$  | $3.032152922 + (3.032152922 + 2(0.9) - (0.9)^2)0.1$ | $3.434368214$ |\n"
   ]
  },
  {
   "cell_type": "markdown",
   "metadata": {},
   "source": [
    "## Inciso (c) - Método de Euler hacia atrás\n",
    "Usando la fórmula del libro para el Método de Euler para adelante (o metodo implícito), se obtiene:\n",
    "### $\\frac{z_{n+1}-z_n}{\\Delta t} = z_{n+1} + 2t - t^2$\n",
    "Lo cual se puede simplificar a\n",
    "\n",
    "$z_{n+1} - z_n = \\Delta tz_{n+1} + \\Delta t2t - \\Delta t t^2$\n",
    "\n",
    "$z_{n+1} = \\Delta tz_{n+1} + \\Delta t2t - \\Delta t t^2 + z_n$\n",
    "\n",
    "$z_{n+1} - \\Delta tz_{n+1} = \\Delta t2t - \\Delta t t^2 + z_n$\n",
    "\n",
    "$(1 - \\Delta t)z_{n+1} = \\Delta t2t - \\Delta t t^2 + z_n$\n",
    "\n",
    "### $z_{n+1} = \\frac{\\Delta t2t - \\Delta t t^2 + z_n}{1-\\Delta t}$\n",
    "\n",
    "Tomando en cuenta los datos previamente calculados ($\\Delta t = \\frac{1}{10}$, $N = 10$ y $T = 1$), se evalúa\n",
    "\n",
    "|**$z_{n}$**| **Sustitución**                                         |**Resultado**  |\n",
    "|----------|----------------------------------------------------------|---------------|\n",
    "| $z_{0}$  |                                                          |           $1$ |\n",
    "| $z_{1}$  | $\\frac{(0.1)(2*0.1) - (0.1) (0.1^2) + 1}{0.9}$           | $1.132222222$ |\n",
    "| $z_{2}$  | $\\frac{(0.1)(2*0.2) - (0.1) (0.2^2) + 1.132222222}{0.9}$ | $1.298024691$ |\n",
    "| $z_{3}$  | $\\frac{(0.1)(2*0.3) - (0.1) (0.3^2) + 1.298024691}{0.9}$ | $1.498916324$ |\n",
    "| $z_{4}$  | $\\frac{(0.1)(2*0.4) - (0.1) (0.4^2) + 1.498916324}{0.9}$ | $1.736573693$ |\n",
    "| $z_{5}$  | $\\frac{(0.1)(2*0.5) - (0.1) (0.5^2) + 1.736573693}{0.9}$ | $2.012859659$ |\n",
    "| $z_{6}$  | $\\frac{(0.1)(2*0.6) - (0.1) (0.6^2) + 2.012859659}{0.9}$ | $2.329844065$ |\n",
    "| $z_{7}$  | $\\frac{(0.1)(2*0.7) - (0.1) (0.7^2) + 2.329844065}{0.9}$ | $2.689826739$ |\n",
    "| $z_{8}$  | $\\frac{(0.1)(2*0.8) - (0.1) (0.8^2) + 2.689826739}{0.9}$ | $3.095363044$ |\n",
    "| $z_{9}$  | $\\frac{(0.1)(2*0.9) - (0.1) (0.9^2) + 3.095363044}{0.9}$ | $3.549292271$ |\n",
    "| $z_{10}$ | $\\frac{(0.1)(2*1) - (0.1) (1^2) + 3.549292271}{0.9}$     |  $4.05476919$ |"
   ]
  },
  {
   "cell_type": "markdown",
   "metadata": {},
   "source": [
    "## Inciso (d) - Comparación"
   ]
  },
  {
   "cell_type": "markdown",
   "metadata": {},
   "source": [
    "Con los datos calculados para la evaluación de las primeras 10 iteraciones, se hace la comparación entre los 3 métodos. En los cuales podemos observar que tienen valores bastante parecidos.\n",
    "\n",
    "| **$y_{n}$** | **Analítico** | **Euler hacia adelante** | **Euler hacia atrás** |\n",
    "|-------------|---------------|--------------------------|-----------------------|\n",
    "| $y_{0}$     | $1$           |                      $1$ |                   $1$ |\n",
    "| $y_{1}$     | $1.115170918$ |                    $1.1$ |         $1.132222222$ |\n",
    "| $y_{2}$     | $1.261402758$ |                  $1.229$ |         $1.298024691$ |\n",
    "| $y_{3}$     | $1.439858808$ |                 $1.3879$ |         $1.498916324$ |\n",
    "\n",
    "Se calcula el error relativo con la fórmula:\n",
    "### $Error Relativo = \\frac{Valor_{real}-Valor_{calculado}}{Valor_{real}}$\n",
    "\n",
    "En el caso de la solución analítica y Euler hacia adelante, se puede observar que Euler hacia adelante suele subestimar el valor de $y_n$, lo cual es característico del método.\n",
    "\n",
    "| **$y_{n}$** | **Analítico** | **Euler hacia adelante** | **Error relativo** |\n",
    "|-------------|---------------|--------------------------|--------------------|\n",
    "| $y_{1}$     | $1.115170918$ |                    $1.1$ | $0.013604119$      |\n",
    "| $y_{2}$     | $1.261402758$ |                  $1.229$ | $0.025687876$      |\n",
    "| $y_{3}$     | $1.439858808$ |                 $1.3879$ | $0.036086044$      |\n",
    "\n",
    "Para la comparación entre la solución analítica y Euler hacia atrás, se tiene una sobreestimación del valoy de $y_n$ po parte de Euler hacia atrás, lo cual también es característico del método, sin embargo, este suele dar resultados más estables que el método de Euler hacia adelante.\n",
    "\n",
    "| **$y_{n}$** | **Analítico** | **Euler hacia atrás** | **Error relativo** |\n",
    "|-------------|---------------|-----------------------|--------------------|\n",
    "| $y_{1}$     | $1.115170918$ |         $1.132222222$ | $-0.015290305$     |\n",
    "| $y_{2}$     | $1.261402758$ |         $1.298024691$ | $-0.029032704$     |\n",
    "| $y_{3}$     | $1.439858808$ |         $1.498916324$ | $-0.041016186$     |"
   ]
  },
  {
   "cell_type": "markdown",
   "metadata": {},
   "source": [
    "## Inciso (e) - Desarrollo en Python\n",
    "Para desarrollar el programa se utilizarán las librerías numpy y sympy, de igual manera se importará de una vez la librería matplotlib, que se utilizará en el `inciso (f)`."
   ]
  },
  {
   "cell_type": "code",
   "execution_count": 55,
   "metadata": {},
   "outputs": [],
   "source": [
    "import numpy as np\n",
    "import matplotlib.pyplot as plt\n",
    "import sympy as sp"
   ]
  },
  {
   "cell_type": "markdown",
   "metadata": {},
   "source": [
    "Lo primero será definir la ecuación diferencial en símbolos de sympy, con el objetivo de facilitar trabajar con estas variables.\n",
    "De iugal manera se definirá la ecuación"
   ]
  },
  {
   "cell_type": "code",
   "execution_count": 56,
   "metadata": {},
   "outputs": [],
   "source": [
    "t = sp.symbols('t')\n",
    "r = sp.Function('r')"
   ]
  },
  {
   "cell_type": "markdown",
   "metadata": {},
   "source": [
    "Se establecen los parámetros conocidos para el problema"
   ]
  },
  {
   "cell_type": "code",
   "execution_count": 57,
   "metadata": {},
   "outputs": [],
   "source": [
    "t0 = 0\n",
    "y0 = 1\n",
    "T = 1\n",
    "h = 0.1"
   ]
  },
  {
   "cell_type": "markdown",
   "metadata": {},
   "source": [
    "Se definirá la ecuación diferencial en forma numérica para poder utilizarla en el método de Euler hacia adelante."
   ]
  },
  {
   "cell_type": "code",
   "execution_count": 58,
   "metadata": {},
   "outputs": [],
   "source": [
    "def f(t, r):\n",
    "    return r + 2*t - t**2"
   ]
  },
  {
   "cell_type": "markdown",
   "metadata": {},
   "source": [
    "Lo siguiente será definir la función del método de euler hacia adelante.\n",
    "Esta función tomará los siguientes parámetros:\n",
    "- `f`es la función que representa la ecuación diferencial a resolver\n",
    "- `t0`es el valor inicial de la variable `t`\n",
    "- `y0` es el valor inicial de la variable `y`\n",
    "- `h`es el tamaño del salto o el incremento de `t` en cada iteración\n",
    "- `T` es el tiempo final hasta el cual se calculará la solución.\n",
    "Con estos parámetros, definimos:\n",
    "- `t`como un arreglo que contiene todos los valores de t, desde `t0` hasta `T`, con un incremento de `h`.\n",
    "- `y`es el arreglo donde se guardarán los valores calculados de $y_n$ en cada punto del tiempo.\n",
    "\n",
    "Lo primero es definir al valor conocido de `y0` en el elemento 0 del arreglo `y`.\n",
    "A continuación se hará una iteración sobre todos los elementos de `t`, donde se asignará el valor de la siguiente y, siguiendo la fórmula:\n",
    "\n",
    "$y_{n+1} = y_{n} + \\Delta t(f(t,r))$\n",
    "\n",
    "Finalmente, se regresarán los valores de `t`y `y`calculados."
   ]
  },
  {
   "cell_type": "code",
   "execution_count": 59,
   "metadata": {},
   "outputs": [],
   "source": [
    "def euler_forward(f, t0, y0, h, T):\n",
    "    t = np.arange(t0, T+h, h)\n",
    "    y = np.zeros(len(t))\n",
    "    y[0] = y0\n",
    "    for i in range(len(t)-1):\n",
    "        y[i+1] = y[i] + h*f(t[i], y[i])\n",
    "    return t, y"
   ]
  },
  {
   "cell_type": "markdown",
   "metadata": {},
   "source": [
    "Se evalúa la función"
   ]
  },
  {
   "cell_type": "code",
   "execution_count": 60,
   "metadata": {},
   "outputs": [
    {
     "name": "stdout",
     "output_type": "stream",
     "text": [
      "[1.         1.1        1.229      1.3879     1.57769    1.799459\n",
      " 2.0544049  2.34384539 2.66922993 3.03215292 3.43436821]\n"
     ]
    }
   ],
   "source": [
    "t_forward, r_forward = euler_forward(f, t0, y0, h, T)\n",
    "print(r_forward)"
   ]
  },
  {
   "cell_type": "markdown",
   "metadata": {},
   "source": [
    "Euler hacia atrás será muy similar a Euler hacia adelante, sin embargo se creará otra función auxiliar, la cual servirá para obtener el resultao final.\n",
    "Esta función solamente devolverá la fórmula $2t - t^2$.\n",
    "La otra diferencia en la función de Euler hacia atrás será que la fórmula para calcular los reultados será:\n",
    "\n",
    "### $y_{n+1} = y_{n} + \\frac{\\Delta t(f_{aux}))}{1-\\Delta t}$"
   ]
  },
  {
   "cell_type": "code",
   "execution_count": 61,
   "metadata": {},
   "outputs": [],
   "source": [
    "def f_aux(t):\n",
    "    return 2*t - t**2\n",
    "\n",
    "def euler_backward(f_aux, t0, y0, h, T):\n",
    "    t = np.arange(t0, T+h, h)\n",
    "    y = np.zeros(len(t))\n",
    "    y[0] = y0\n",
    "    for i in range(len(t)-1):\n",
    "        y[i+1] = (y[i] + h*f_aux(t[i+1]))/(1-h)\n",
    "    return t, y"
   ]
  },
  {
   "cell_type": "markdown",
   "metadata": {},
   "source": [
    "Se ejecuta la función"
   ]
  },
  {
   "cell_type": "code",
   "execution_count": 62,
   "metadata": {},
   "outputs": [
    {
     "name": "stdout",
     "output_type": "stream",
     "text": [
      "[1.         1.13222222 1.29802469 1.49891632 1.73657369 2.01285966\n",
      " 2.32984407 2.68982674 3.09536304 3.54929227 4.05476919]\n"
     ]
    }
   ],
   "source": [
    "t_backward, r_backward = euler_backward(f_aux, t0, y0, h, T)\n",
    "print(r_backward)"
   ]
  },
  {
   "cell_type": "markdown",
   "metadata": {},
   "source": [
    "Se aplica la solución analítica por medio de sympy.\n",
    "Primero se plantea como ecuación en la variable `eq`, luego se resuelve con la función `dsolve` y se simplifica con `simplify`, esto devuelve la expresión simbólica de la solución de la ecuación en la variable `r_t`.\n",
    "\n",
    "Se utiliza la función `linspace` de numpy para crear un arreglo con 10 valores que van desde `t0`hasta `T`, despues se hace un ciclo para cada valor `ti`, en el cual se sustituye la variable `t`de `r_t`por el valor numérico que está en `ti`, lo cual devuelve el resultado de la solución analítica.\n"
   ]
  },
  {
   "cell_type": "code",
   "execution_count": 63,
   "metadata": {},
   "outputs": [],
   "source": [
    "eq = sp.Eq(r(t).diff(t), r(t) + 2*t - t**2)\n",
    "sol = sp.dsolve(eq, ics={r(0): 1})\n",
    "r_t = sp.simplify(sol.rhs)\n",
    "t_analytical = np.linspace(t0, T, 10)\n",
    "r_analytical = np.array([r_t.subs(t, ti) for ti in t_analytical])"
   ]
  },
  {
   "cell_type": "markdown",
   "metadata": {},
   "source": [
    "## Inciso (f) - Gráficas"
   ]
  },
  {
   "cell_type": "markdown",
   "metadata": {},
   "source": [
    "Se utiliza el módulo matplotlib para generar una gráfica con las soluciones a los tres métodos de solución."
   ]
  },
  {
   "cell_type": "code",
   "execution_count": 64,
   "metadata": {},
   "outputs": [
    {
     "data": {
      "image/png": "[encoded data removed]",
      "text/plain": [
       "<Figure size 640x480 with 1 Axes>"
      ]
     },
     "metadata": {},
     "output_type": "display_data"
    }
   ],
   "source": [
    "\n",
    "# Graficamos las soluciones\n",
    "plt.plot(t_analytical, r_analytical,label='Analítica')\n",
    "plt.plot(t_forward, r_forward, label='Euler hacia adelante')\n",
    "plt.plot(t_backward, r_backward, label='Euler hacia atrás')\n",
    "plt.legend()\n",
    "plt.xlabel('t')\n",
    "plt.ylabel('r(t)')\n",
    "plt.title('Solución de la ecuación diferencial')\n",
    "plt.grid(True)\n",
    "plt.show()"
   ]
  },
  {
   "cell_type": "markdown",
   "metadata": {},
   "source": [
    "En la gráfica se puede observar que los 3 modelos se aproximan a la misma solución.\\\n",
    "Si se toma la solución analítica como la real, se corrobora lo cmentado anteriormente, que el método de `Euler hacia adelante` tiende a subestimar los valores de `r(t)`y el método de `Euler hacia atrás`suele sobreestimarlos.\n",
    "\n",
    "Sería interesante cambiar el tamaño del salto por uno más pequeño, para poder probar la teoría de que mientras menor el tamaño del salto, más precisos suelen ser los modelos de Euler."
   ]
  },
  {
   "cell_type": "markdown",
   "metadata": {},
   "source": [
    "## Bibliografía\n",
    "\n",
    "- Tveito et al. (n.d.) Elements of scientific computing. Springer Heidelberg Dordrecht London New York. https://doi.org/10.1007/978-3-642-11299-7\n",
    "\n",
    "- Google. (2024). Gemini (Aug 10 version) [Large language model]. https://gemini.google.com/app"
   ]
  }
 ],
 "metadata": {
  "kernelspec": {
   "display_name": "Python 3",
   "language": "python",
   "name": "python3"
  },
  "language_info": {
   "codemirror_mode": {
    "name": "ipython",
    "version": 3
   },
   "file_extension": ".py",
   "mimetype": "text/x-python",
   "name": "python",
   "nbconvert_exporter": "python",
   "pygments_lexer": "ipython3",
   "version": "3.12.1"
  }
 },
 "nbformat": 4,
 "nbformat_minor": 2
}
