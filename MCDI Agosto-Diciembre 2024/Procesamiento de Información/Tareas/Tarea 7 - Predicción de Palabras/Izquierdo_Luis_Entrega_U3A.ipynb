{
 "cells": [
  {
   "cell_type": "markdown",
   "metadata": {},
   "source": [
    "## 3A. Práctica: Predicción de Palabras\n",
    "### Nombre: **Luis Fernando Izquierdo Berdugo**\n",
    "### Materia: **Procesamiento de Información**\n",
    "### Fecha: **14 de Octubre de 2024**\n"
   ]
  },
  {
   "cell_type": "markdown",
   "metadata": {},
   "source": [
    "**Instrucciones**:\n",
    "\n",
    "Entregar un notebook con el siguiente código.\n",
    "\n",
    "1. Calcular los modelos de probabilidad MLE y MLE con suavizado de Laplace, para un modelo de bigramas. El corpus es el contenido del archivo \"europarl.es\"\n",
    "\n",
    "Para el preprocesamiento de datos:\n",
    "- Convertir a minúsculas\n",
    "- Borrar puntuación\n",
    "- Agregar marcadores de inicio y fin de oración (\\<s\\> … \\<e\\>)\n",
    "- Para facilitar el ejercicio, considerar cada línea como una oración, sin necesidad de encontrar las oraciones por cada párrafo\n",
    "\n",
    "**Nota**: no remover stopwords, ya que ayudan a formar las oraciones.\n",
    "\n",
    "\n",
    "2. Calcular si las siguientes oraciones son posibles, es decir, calcular las probabilidades de las siguientes oraciones, usando el modelo de MLE y MLE con suavizado de Laplace. Comparar las probabilidades.\n",
    "\n",
    "    1. \"\\<s> el parlamento debe enviar un mensaje \\<e>\"\n",
    "    2. \"\\<s> el parlamento debe enviar un consejo \\<e>\"\n",
    "    3. \"\\<s> el abismo entre pobres y ricos \\<e>\"\n",
    "    4. \"\\<s> el abismo entre ricos y pobres \\<e>\"\n",
    "    5. \"\\<s> el abismo de la cantera entre pobres y ricos \\<e>\"\n",
    "    6. \"\\<s> la comisión debe ser totalmente transparente \\<e>\"\n",
    "    7. \"\\<s> la comisión debe ser transparente \\<e>\"\n",
    "\n"
   ]
  },
  {
   "cell_type": "markdown",
   "metadata": {},
   "source": [
    "## Implementación\n",
    "\n",
    "Lo primero que se ejecutó fue la lectura y preprocesamiento del archivo. En la función `preprocess` se ejecutan los siguientes pasos:\n",
    "- Se convierte la línea a minúsculas\n",
    "- Con la librería `re` se elimina la puntuación\n",
    "- Se usa una `f-string` para cambiar a que la línea inicie con `<s>` y termine con `<e>`\n",
    "- Se regresa la línea\n",
    "\n",
    "Posterior a esto, se hace una función lambda para procesar todas las líneas del texto.\n"
   ]
  },
  {
   "cell_type": "code",
   "execution_count": 8,
   "metadata": {},
   "outputs": [],
   "source": [
    "import re\n",
    "\n",
    "\n",
    "# Paso 1: Leer el archivo\n",
    "with open(\"europarl.es\", \"r\", encoding=\"utf-8\") as file:\n",
    "    lines = file.readlines()\n",
    "\n",
    "# Paso 2: Preprocesar el texto\n",
    "def preprocess(line):\n",
    "    line = line.lower()\n",
    "    line = re.sub(r'[^\\w\\s]', '', line)  # Borrar puntuación\n",
    "    line = f\"<s> {line.strip()} <e>\"\n",
    "    return line\n",
    "\n",
    "preprocessed_lines = [preprocess(line) for line in lines]"
   ]
  },
  {
   "cell_type": "markdown",
   "metadata": {},
   "source": [
    "El siguiente paso es construir el modelo de bigramas. Se utilizó un contador para cada palabra individual (unigramas) y un diccionario de contadores para los bigramas.\n",
    "\n",
    "A continuación se itera sobre las líneas preprocesadas y se divide en palabras cada línea, lo cual actualiza el contador de unigramas para la línea actual. Con esto se itera sobre los índices de las palabras en la línea (a excepción del último índice).\n",
    "\n",
    "Finalmente se actualiza el contador de bigramas y `words[i]` es la primera palabra del bigrama, mientras `words[i + 1]` es la segunda palabra.\n",
    "\n",
    "Ejemplificado con la oración `<s> Hola soy Luis <e>`, \n",
    "\n",
    "tendríamos en el contador de unigramas `{\"<s>\": 1, \"Hola\": 1, \"soy\": 1, \"Luis\": 1, \"<e>\": 1}` \n",
    "\n",
    "y en el contador de bigramas se pasarían `{\"<s>\": {\"Hola\": 1}, \"Hola\": {\"soy\": 1}, \"soy\": {\"Luis\": 1}, \"Luis\": {\"<e>\": 1}}`\n",
    "\n",
    "Esto se irá repitiendo en cada línea del texto, lo cual construye los modelos de unigrama y bigrama necesarios para calcular las probabilidades."
   ]
  },
  {
   "cell_type": "code",
   "execution_count": 9,
   "metadata": {},
   "outputs": [],
   "source": [
    "\n",
    "from collections import defaultdict, Counter\n",
    "# Paso 3: Construir el modelo de bigramas\n",
    "unigram_counts = Counter()\n",
    "bigram_counts = defaultdict(Counter)\n",
    "\n",
    "for line in preprocessed_lines:\n",
    "    words = line.split()\n",
    "    unigram_counts.update(words)\n",
    "    for i in range(len(words) - 1):\n",
    "        bigram_counts[words[i]][words[i + 1]] += 1"
   ]
  },
  {
   "cell_type": "markdown",
   "metadata": {},
   "source": [
    "A continuación se genera el código para definir una función que calcule la probabilidad de un bigrama con el método \"Maximum Likelihood Estimation\" (MLE). La probabilidad MLE de un bigrama se calcula como la frecuencia del bigrama dividido por la frecuencia del unigrama que lo precede.\n",
    "\n",
    "En la función se revisa si la primera palabra `word1` está en los bigramas, así como revisa que la segunda palabra se encuentre dentro del bigrama de la primera palabra; en caso de que si lo encuentre se divide la frecuencia del bigrama `bigram_counts[word1][word2]` entre la frecuencia del unigrama de la palabra 1 `unigram_counts[word1]`, lo cual nos da la probabilidad MLE. \n",
    "\n",
    "Si el bigrama no existe, la función devuelve una probabilidad de 0."
   ]
  },
  {
   "cell_type": "code",
   "execution_count": 10,
   "metadata": {},
   "outputs": [],
   "source": [
    "# Paso 4: Calcular las probabilidades MLE\n",
    "def mle_probability(bigram_counts, unigram_counts, word1, word2):\n",
    "    if word1 in bigram_counts and word2 in bigram_counts[word1]:\n",
    "        return bigram_counts[word1][word2] / unigram_counts[word1]\n",
    "    else:\n",
    "        return 0"
   ]
  },
  {
   "cell_type": "markdown",
   "metadata": {},
   "source": [
    "Lo siguiente fue crear la función para el suavizado de Laplace. Esta es bastante similar a la probabilidad MLE, con la diferencia que al contador del bigrama se le añade 1 y al contador del unigrama se le añade el tamaño del vocabulario (que más adelante tomará valor como el conteo de unigramas)."
   ]
  },
  {
   "cell_type": "code",
   "execution_count": 11,
   "metadata": {},
   "outputs": [],
   "source": [
    "# Paso 5: Calcular las probabilidades MLE con suavizado de Laplace\n",
    "def laplace_probability(bigram_counts, unigram_counts, word1, word2, vocab_size):\n",
    "    return (bigram_counts[word1][word2] + 1) / (unigram_counts[word1] + vocab_size)"
   ]
  },
  {
   "cell_type": "markdown",
   "metadata": {},
   "source": [
    "Se crean las funciones para calcular las probabilidades de una oración tanto con MLE como con MLE con suavizado de Laplace. En estas funciones se divide la oración en palabras, se inicia la variable de probabilidad y se itera sobre los índices de las palabras en la oración, con esto se usan las funciones respectivas (MLE o MLE con Laplace) para obtener la probabilidad y se multiplican por la acumulada del bigrama actual, lo cual finalmente nos devolverá la probabilidad total de la oración."
   ]
  },
  {
   "cell_type": "code",
   "execution_count": 12,
   "metadata": {},
   "outputs": [],
   "source": [
    "# Función para calcular la probabilidad de una oración usando MLE\n",
    "def sentence_probability_mle(sentence, bigram_counts, unigram_counts):\n",
    "    words = sentence.split()\n",
    "    prob = 1.0\n",
    "    for i in range(len(words) - 1):\n",
    "        prob *= mle_probability(bigram_counts, unigram_counts, words[i], words[i + 1])\n",
    "    return prob\n",
    "\n",
    "# Función para calcular la probabilidad de una oración usando MLE con suavizado de Laplace\n",
    "def sentence_probability_laplace(sentence, bigram_counts, unigram_counts, vocab_size):\n",
    "    words = sentence.split()\n",
    "    prob = 1.0\n",
    "    for i in range(len(words) - 1):\n",
    "        prob *= laplace_probability(bigram_counts, unigram_counts, words[i], words[i + 1], vocab_size)\n",
    "    return prob"
   ]
  },
  {
   "cell_type": "markdown",
   "metadata": {},
   "source": [
    "Finalmente definimos las oraciones a buscar, obtenemos el tamaño del vocabulario y lanzamos las funciones para calcular las probabilidades de oraciones tanto en MLE como en MLE con suavizado de Laplace."
   ]
  },
  {
   "cell_type": "code",
   "execution_count": 14,
   "metadata": {},
   "outputs": [
    {
     "name": "stdout",
     "output_type": "stream",
     "text": [
      "Oración: '<s> el parlamento debe enviar un mensaje <e>'\n",
      "Probabilidad MLE: 4.452453175934305e-13\n",
      "Probabilidad MLE con suavizado de Laplace: 6.012934083279632e-21\n",
      "\n",
      "Oración: '<s> el parlamento debe enviar un consejo <e>'\n",
      "Probabilidad MLE: 3.3686200213034554e-13\n",
      "Probabilidad MLE con suavizado de Laplace: 9.396583560317146e-20\n",
      "\n",
      "Oración: '<s> el abismo entre pobres y ricos <e>'\n",
      "Probabilidad MLE: 3.820757157773409e-17\n",
      "Probabilidad MLE con suavizado de Laplace: 1.6797412983867322e-26\n",
      "\n",
      "Oración: '<s> el abismo entre ricos y pobres <e>'\n",
      "Probabilidad MLE: 8.677949590529031e-15\n",
      "Probabilidad MLE con suavizado de Laplace: 1.1658204487612676e-24\n",
      "\n",
      "Oración: '<s> el abismo de la cantera entre pobres y ricos <e>'\n",
      "Probabilidad MLE: 0.0\n",
      "Probabilidad MLE con suavizado de Laplace: 2.2193756868953378e-37\n",
      "\n",
      "Oración: '<s> la comisión debe ser totalmente transparente <e>'\n",
      "Probabilidad MLE: 3.609720553302905e-11\n",
      "Probabilidad MLE con suavizado de Laplace: 7.525729057212547e-19\n",
      "\n",
      "Oración: '<s> la comisión debe ser transparente <e>'\n",
      "Probabilidad MLE: 2.560495112476194e-09\n",
      "Probabilidad MLE con suavizado de Laplace: 4.141288972676337e-15\n",
      "\n"
     ]
    }
   ],
   "source": [
    "# Definir las oraciones\n",
    "sentences = [\n",
    "    \"<s> el parlamento debe enviar un mensaje <e>\",\n",
    "    \"<s> el parlamento debe enviar un consejo <e>\",\n",
    "    \"<s> el abismo entre pobres y ricos <e>\",\n",
    "    \"<s> el abismo entre ricos y pobres <e>\",\n",
    "    \"<s> el abismo de la cantera entre pobres y ricos <e>\",\n",
    "    \"<s> la comisión debe ser totalmente transparente <e>\",\n",
    "    \"<s> la comisión debe ser transparente <e>\"\n",
    "]\n",
    "\n",
    "# Calcular y comparar las probabilidades\n",
    "vocab_size = len(unigram_counts)\n",
    "for sentence in sentences:\n",
    "    mle_prob = sentence_probability_mle(sentence, bigram_counts, unigram_counts)\n",
    "    laplace_prob = sentence_probability_laplace(sentence, bigram_counts, unigram_counts, vocab_size)\n",
    "    print(f\"Oración: '{sentence}'\")\n",
    "    print(f\"Probabilidad MLE: {mle_prob}\")\n",
    "    print(f\"Probabilidad MLE con suavizado de Laplace: {laplace_prob}\\n\")"
   ]
  }
 ],
 "metadata": {
  "kernelspec": {
   "display_name": "Python 3",
   "language": "python",
   "name": "python3"
  },
  "language_info": {
   "codemirror_mode": {
    "name": "ipython",
    "version": 3
   },
   "file_extension": ".py",
   "mimetype": "text/x-python",
   "name": "python",
   "nbconvert_exporter": "python",
   "pygments_lexer": "ipython3",
   "version": "3.12.1"
  }
 },
 "nbformat": 4,
 "nbformat_minor": 2
}
