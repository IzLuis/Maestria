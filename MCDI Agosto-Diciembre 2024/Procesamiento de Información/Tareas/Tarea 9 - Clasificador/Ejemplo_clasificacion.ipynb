{
  "nbformat": 4,
  "nbformat_minor": 0,
  "metadata": {
    "colab": {
      "provenance": []
    },
    "kernelspec": {
      "name": "python3",
      "display_name": "Python 3"
    },
    "language_info": {
      "name": "python"
    }
  },
  "cells": [
    {
      "cell_type": "markdown",
      "source": [
        "# Ejemplo de clasificación\n",
        "\n",
        "En general, consta de los siguientes pasos:\n",
        "\n",
        "\n",
        "1.   Pre procesar los datos. Se leen los datos y aplican técnicas de estandarización, limpieza, etc.\n",
        "2.   Separar los datos. Se forman los conjuntos de entrenamiento, validación y prueba.\n",
        "3.   Se entrena el modelo. Se entrena hasta que estemos satisfechos con el desempeño.\n",
        "4.   Se evalúa el modelo. Se aplica una métrica a los resultados.\n",
        "\n"
      ],
      "metadata": {
        "id": "cQ3Iehgr84ho"
      }
    },
    {
      "cell_type": "code",
      "execution_count": null,
      "metadata": {
        "id": "yrmge3nGzsUV"
      },
      "outputs": [],
      "source": [
        "from sklearn.datasets import fetch_20newsgroups\n",
        "from sklearn.feature_extraction.text import CountVectorizer\n",
        "from sklearn.feature_extraction.text import TfidfVectorizer"
      ]
    },
    {
      "cell_type": "markdown",
      "source": [
        "El dataset tiene las siguientes categorías:\n",
        "```\n",
        "['alt.atheism',\n",
        " 'comp.graphics',\n",
        " 'comp.os.ms-windows.misc',\n",
        " 'comp.sys.ibm.pc.hardware',\n",
        " 'comp.sys.mac.hardware',\n",
        " 'comp.windows.x',\n",
        " 'misc.forsale',\n",
        " 'rec.autos',\n",
        " 'rec.motorcycles',\n",
        " 'rec.sport.baseball',\n",
        " 'rec.sport.hockey',\n",
        " 'sci.crypt',\n",
        " 'sci.electronics',\n",
        " 'sci.med',\n",
        " 'sci.space',\n",
        " 'soc.religion.christian',\n",
        " 'talk.politics.guns',\n",
        " 'talk.politics.mideast',\n",
        " 'talk.politics.misc',\n",
        " 'talk.religion.misc'\n",
        "]\n",
        " ```"
      ],
      "metadata": {
        "id": "Ymdn1fFK09lS"
      }
    },
    {
      "cell_type": "code",
      "source": [
        "categories = [\n",
        "    'comp.graphics',\n",
        "    'comp.os.ms-windows.misc',\n",
        "    'comp.sys.ibm.pc.hardware',\n",
        "    'comp.sys.mac.hardware',\n",
        "    'comp.windows.x',\n",
        "]\n",
        "remove = ('headers', 'footers', 'quotes')"
      ],
      "metadata": {
        "id": "mdNLuHJLz1pe"
      },
      "execution_count": null,
      "outputs": []
    },
    {
      "cell_type": "code",
      "source": [
        "train_data = fetch_20newsgroups(subset=\"train\", categories=categories, remove=remove)"
      ],
      "metadata": {
        "id": "qGaq9ej7z5D_"
      },
      "execution_count": null,
      "outputs": []
    },
    {
      "cell_type": "code",
      "source": [],
      "metadata": {
        "id": "1Oo_UwCXB99d"
      },
      "execution_count": null,
      "outputs": []
    },
    {
      "cell_type": "code",
      "source": [
        "train_data.keys()"
      ],
      "metadata": {
        "id": "Kp7Q8dsXRRLb",
        "colab": {
          "base_uri": "https://localhost:8080/"
        },
        "outputId": "f4fc2e83-33e9-4780-d53d-aa4a94e99089"
      },
      "execution_count": null,
      "outputs": [
        {
          "output_type": "execute_result",
          "data": {
            "text/plain": [
              "dict_keys(['data', 'filenames', 'target_names', 'target', 'DESCR'])"
            ]
          },
          "metadata": {},
          "execution_count": 4
        }
      ]
    },
    {
      "cell_type": "code",
      "source": [
        "len(train_data['data'])"
      ],
      "metadata": {
        "colab": {
          "base_uri": "https://localhost:8080/"
        },
        "id": "w1Lm9pEWBsl9",
        "outputId": "debe5a4b-3701-4c96-d2b2-a80644ffddc3"
      },
      "execution_count": null,
      "outputs": [
        {
          "output_type": "execute_result",
          "data": {
            "text/plain": [
              "2936"
            ]
          },
          "metadata": {},
          "execution_count": 5
        }
      ]
    },
    {
      "cell_type": "code",
      "source": [
        "print(train_data['data'][0])"
      ],
      "metadata": {
        "id": "cvqkX73iRd0B",
        "colab": {
          "base_uri": "https://localhost:8080/"
        },
        "outputId": "4dfc8876-25b1-46dd-befd-6bdf6d77b3d2"
      },
      "execution_count": null,
      "outputs": [
        {
          "output_type": "stream",
          "name": "stdout",
          "text": [
            "Hi!\n",
            "\n",
            "I remember reading (or hallucinating) that NCD's PC-Xremote functionality had \n",
            "been given, by NCD, to MIT for inclusion in X11R6.  Is this true?  If so,\n",
            "(set mode/cheap) can I just wait for X11R6 to get compressed serial line\n",
            "X server support?\n",
            "\n",
            "Thanks!\n"
          ]
        }
      ]
    },
    {
      "cell_type": "code",
      "source": [
        "print(train_data['target'][0], train_data['target_names'][0])"
      ],
      "metadata": {
        "colab": {
          "base_uri": "https://localhost:8080/"
        },
        "id": "L5e-QLhCB_ei",
        "outputId": "c8a79dc1-d88d-425e-9ff0-81f6f2a81f10"
      },
      "execution_count": null,
      "outputs": [
        {
          "output_type": "stream",
          "name": "stdout",
          "text": [
            "4 comp.graphics\n"
          ]
        }
      ]
    },
    {
      "cell_type": "code",
      "source": [
        "test_data = fetch_20newsgroups(subset=\"test\", categories=categories, remove=remove)\n",
        "len(test_data['data'])"
      ],
      "metadata": {
        "id": "7MCiKJtB1u7l",
        "colab": {
          "base_uri": "https://localhost:8080/"
        },
        "outputId": "f643f84f-a02c-4493-f538-015cdc699908"
      },
      "execution_count": null,
      "outputs": [
        {
          "output_type": "execute_result",
          "data": {
            "text/plain": [
              "1955"
            ]
          },
          "metadata": {},
          "execution_count": 9
        }
      ]
    },
    {
      "cell_type": "markdown",
      "source": [
        "Ponemos el conjunto de datos en variables para train y test"
      ],
      "metadata": {
        "id": "VPKBy9E9OyUo"
      }
    },
    {
      "cell_type": "code",
      "source": [
        "train = train_data['data']\n",
        "test = test_data['data']\n",
        "y_train = train_data['target']\n",
        "y_test = test_data['target']"
      ],
      "metadata": {
        "id": "E26LEzAn4Yil"
      },
      "execution_count": null,
      "outputs": []
    },
    {
      "cell_type": "markdown",
      "source": [
        "Creamos el conjunto de validación"
      ],
      "metadata": {
        "id": "klbyltbKPBK5"
      }
    },
    {
      "cell_type": "code",
      "source": [
        "from sklearn.model_selection import train_test_split"
      ],
      "metadata": {
        "id": "-kiHBRW93mo7"
      },
      "execution_count": null,
      "outputs": []
    },
    {
      "cell_type": "code",
      "source": [
        "train, val, y_train, y_val = train_test_split(train, y_train, test_size=0.2, random_state=42)"
      ],
      "metadata": {
        "id": "NP27tf2u3oqy"
      },
      "execution_count": null,
      "outputs": []
    },
    {
      "cell_type": "code",
      "source": [
        "print(len(train), len(val), len(test))"
      ],
      "metadata": {
        "id": "kdNG6B7ZRjPq",
        "colab": {
          "base_uri": "https://localhost:8080/"
        },
        "outputId": "fe0155c0-6591-485e-bb0f-bf4c48ebd5ea"
      },
      "execution_count": null,
      "outputs": [
        {
          "output_type": "stream",
          "name": "stdout",
          "text": [
            "2348 588 1955\n"
          ]
        }
      ]
    },
    {
      "cell_type": "markdown",
      "source": [
        "Pasar el texto a vectores"
      ],
      "metadata": {
        "id": "AC7fFUzHPSP5"
      }
    },
    {
      "cell_type": "code",
      "source": [
        "vectorizer = CountVectorizer(stop_words='english')\n",
        "vectorizer.fit(train)"
      ],
      "metadata": {
        "id": "9advLXFC2HRr",
        "colab": {
          "base_uri": "https://localhost:8080/",
          "height": 74
        },
        "outputId": "069a6559-7aa6-4a94-e225-1fc2dfea8629"
      },
      "execution_count": null,
      "outputs": [
        {
          "output_type": "execute_result",
          "data": {
            "text/plain": [
              "CountVectorizer(stop_words='english')"
            ],
            "text/html": [
              "<style>#sk-container-id-2 {color: black;background-color: white;}#sk-container-id-2 pre{padding: 0;}#sk-container-id-2 div.sk-toggleable {background-color: white;}#sk-container-id-2 label.sk-toggleable__label {cursor: pointer;display: block;width: 100%;margin-bottom: 0;padding: 0.3em;box-sizing: border-box;text-align: center;}#sk-container-id-2 label.sk-toggleable__label-arrow:before {content: \"▸\";float: left;margin-right: 0.25em;color: #696969;}#sk-container-id-2 label.sk-toggleable__label-arrow:hover:before {color: black;}#sk-container-id-2 div.sk-estimator:hover label.sk-toggleable__label-arrow:before {color: black;}#sk-container-id-2 div.sk-toggleable__content {max-height: 0;max-width: 0;overflow: hidden;text-align: left;background-color: #f0f8ff;}#sk-container-id-2 div.sk-toggleable__content pre {margin: 0.2em;color: black;border-radius: 0.25em;background-color: #f0f8ff;}#sk-container-id-2 input.sk-toggleable__control:checked~div.sk-toggleable__content {max-height: 200px;max-width: 100%;overflow: auto;}#sk-container-id-2 input.sk-toggleable__control:checked~label.sk-toggleable__label-arrow:before {content: \"▾\";}#sk-container-id-2 div.sk-estimator input.sk-toggleable__control:checked~label.sk-toggleable__label {background-color: #d4ebff;}#sk-container-id-2 div.sk-label input.sk-toggleable__control:checked~label.sk-toggleable__label {background-color: #d4ebff;}#sk-container-id-2 input.sk-hidden--visually {border: 0;clip: rect(1px 1px 1px 1px);clip: rect(1px, 1px, 1px, 1px);height: 1px;margin: -1px;overflow: hidden;padding: 0;position: absolute;width: 1px;}#sk-container-id-2 div.sk-estimator {font-family: monospace;background-color: #f0f8ff;border: 1px dotted black;border-radius: 0.25em;box-sizing: border-box;margin-bottom: 0.5em;}#sk-container-id-2 div.sk-estimator:hover {background-color: #d4ebff;}#sk-container-id-2 div.sk-parallel-item::after {content: \"\";width: 100%;border-bottom: 1px solid gray;flex-grow: 1;}#sk-container-id-2 div.sk-label:hover label.sk-toggleable__label {background-color: #d4ebff;}#sk-container-id-2 div.sk-serial::before {content: \"\";position: absolute;border-left: 1px solid gray;box-sizing: border-box;top: 0;bottom: 0;left: 50%;z-index: 0;}#sk-container-id-2 div.sk-serial {display: flex;flex-direction: column;align-items: center;background-color: white;padding-right: 0.2em;padding-left: 0.2em;position: relative;}#sk-container-id-2 div.sk-item {position: relative;z-index: 1;}#sk-container-id-2 div.sk-parallel {display: flex;align-items: stretch;justify-content: center;background-color: white;position: relative;}#sk-container-id-2 div.sk-item::before, #sk-container-id-2 div.sk-parallel-item::before {content: \"\";position: absolute;border-left: 1px solid gray;box-sizing: border-box;top: 0;bottom: 0;left: 50%;z-index: -1;}#sk-container-id-2 div.sk-parallel-item {display: flex;flex-direction: column;z-index: 1;position: relative;background-color: white;}#sk-container-id-2 div.sk-parallel-item:first-child::after {align-self: flex-end;width: 50%;}#sk-container-id-2 div.sk-parallel-item:last-child::after {align-self: flex-start;width: 50%;}#sk-container-id-2 div.sk-parallel-item:only-child::after {width: 0;}#sk-container-id-2 div.sk-dashed-wrapped {border: 1px dashed gray;margin: 0 0.4em 0.5em 0.4em;box-sizing: border-box;padding-bottom: 0.4em;background-color: white;}#sk-container-id-2 div.sk-label label {font-family: monospace;font-weight: bold;display: inline-block;line-height: 1.2em;}#sk-container-id-2 div.sk-label-container {text-align: center;}#sk-container-id-2 div.sk-container {/* jupyter's `normalize.less` sets `[hidden] { display: none; }` but bootstrap.min.css set `[hidden] { display: none !important; }` so we also need the `!important` here to be able to override the default hidden behavior on the sphinx rendered scikit-learn.org. See: https://github.com/scikit-learn/scikit-learn/issues/21755 */display: inline-block !important;position: relative;}#sk-container-id-2 div.sk-text-repr-fallback {display: none;}</style><div id=\"sk-container-id-2\" class=\"sk-top-container\"><div class=\"sk-text-repr-fallback\"><pre>CountVectorizer(stop_words=&#x27;english&#x27;)</pre><b>In a Jupyter environment, please rerun this cell to show the HTML representation or trust the notebook. <br />On GitHub, the HTML representation is unable to render, please try loading this page with nbviewer.org.</b></div><div class=\"sk-container\" hidden><div class=\"sk-item\"><div class=\"sk-estimator sk-toggleable\"><input class=\"sk-toggleable__control sk-hidden--visually\" id=\"sk-estimator-id-2\" type=\"checkbox\" checked><label for=\"sk-estimator-id-2\" class=\"sk-toggleable__label sk-toggleable__label-arrow\">CountVectorizer</label><div class=\"sk-toggleable__content\"><pre>CountVectorizer(stop_words=&#x27;english&#x27;)</pre></div></div></div></div></div>"
            ]
          },
          "metadata": {},
          "execution_count": 21
        }
      ]
    },
    {
      "cell_type": "code",
      "source": [
        "train_vec = vectorizer.transform(train)"
      ],
      "metadata": {
        "id": "PrO_3mHt5OiH"
      },
      "execution_count": null,
      "outputs": []
    },
    {
      "cell_type": "code",
      "source": [
        "train_vec.shape"
      ],
      "metadata": {
        "id": "wA2EF5Zd5UEg",
        "colab": {
          "base_uri": "https://localhost:8080/"
        },
        "outputId": "65a5466d-f76b-4dd4-c0e2-110242c9dfd2"
      },
      "execution_count": null,
      "outputs": [
        {
          "output_type": "execute_result",
          "data": {
            "text/plain": [
              "(2348, 44247)"
            ]
          },
          "metadata": {},
          "execution_count": 23
        }
      ]
    },
    {
      "cell_type": "code",
      "source": [
        "print(train[1])"
      ],
      "metadata": {
        "colab": {
          "base_uri": "https://localhost:8080/"
        },
        "id": "CNdpCKdyEy7j",
        "outputId": "bbeb5817-c928-48a4-8811-50607734252e"
      },
      "execution_count": null,
      "outputs": [
        {
          "output_type": "stream",
          "name": "stdout",
          "text": [
            "\n",
            "\n",
            "\n",
            "Another program which produces this effect is:\n",
            "- SpyGlass Transform 2.1 (while contouring a big 257*257 array).\n",
            "\n",
            "Thanks for any information about this problem,\n"
          ]
        }
      ]
    },
    {
      "cell_type": "code",
      "source": [
        "print(train_vec[1])"
      ],
      "metadata": {
        "id": "AyGJ2KEW5WoH",
        "colab": {
          "base_uri": "https://localhost:8080/"
        },
        "outputId": "0b866285-bc3e-495f-a344-35e79fc3beaf"
      },
      "execution_count": null,
      "outputs": [
        {
          "output_type": "stream",
          "name": "stdout",
          "text": [
            "  (0, 2245)\t2\n",
            "  (0, 10163)\t1\n",
            "  (0, 11287)\t1\n",
            "  (0, 13775)\t1\n",
            "  (0, 16484)\t1\n",
            "  (0, 21871)\t1\n",
            "  (0, 31829)\t1\n",
            "  (0, 31857)\t1\n",
            "  (0, 31874)\t1\n",
            "  (0, 36291)\t1\n",
            "  (0, 37807)\t1\n",
            "  (0, 38293)\t1\n"
          ]
        }
      ]
    },
    {
      "cell_type": "code",
      "source": [
        "for i, w in enumerate(vectorizer.vocabulary_):\n",
        "  print(w)\n",
        "  if i == 10:\n",
        "    break"
      ],
      "metadata": {
        "id": "ITr-MtIC5aSf",
        "colab": {
          "base_uri": "https://localhost:8080/"
        },
        "outputId": "b7d8eff9-c284-44c8-fdc2-6ba16df50c17"
      },
      "execution_count": null,
      "outputs": [
        {
          "output_type": "stream",
          "name": "stdout",
          "text": [
            "uptight\n",
            "computer\n",
            "literate\n",
            "people\n",
            "advantages\n",
            "act\n",
            "like\n",
            "mac\n",
            "ate\n",
            "cat\n",
            "program\n"
          ]
        }
      ]
    },
    {
      "cell_type": "code",
      "source": [
        "val_vec = vectorizer.transform(val)\n",
        "test_vec = vectorizer.transform(test)"
      ],
      "metadata": {
        "id": "G4Tlb0Gl7bXq"
      },
      "execution_count": null,
      "outputs": []
    },
    {
      "cell_type": "code",
      "source": [
        "val_vec.shape, test_vec.shape"
      ],
      "metadata": {
        "id": "th5oOQTk8zZa",
        "colab": {
          "base_uri": "https://localhost:8080/"
        },
        "outputId": "9ac09e27-3540-4a5e-dc1c-45528e657d2b"
      },
      "execution_count": null,
      "outputs": [
        {
          "output_type": "execute_result",
          "data": {
            "text/plain": [
              "((588, 44247), (1955, 44247))"
            ]
          },
          "metadata": {},
          "execution_count": 28
        }
      ]
    },
    {
      "cell_type": "markdown",
      "source": [
        "Aplicamos una SVM a los datos"
      ],
      "metadata": {
        "id": "9qa-6J6CPw5D"
      }
    },
    {
      "cell_type": "code",
      "source": [
        "from sklearn.svm import SVC\n",
        "from sklearn.metrics import accuracy_score"
      ],
      "metadata": {
        "id": "HKvYfY-P83GG"
      },
      "execution_count": null,
      "outputs": []
    },
    {
      "cell_type": "code",
      "source": [
        "model = SVC(C=1000, kernel='rbf')"
      ],
      "metadata": {
        "id": "MfSo9h_U9LMS"
      },
      "execution_count": null,
      "outputs": []
    },
    {
      "cell_type": "code",
      "source": [
        "model.fit(train_vec, y_train)"
      ],
      "metadata": {
        "id": "Ngh9sGvb9ink",
        "colab": {
          "base_uri": "https://localhost:8080/",
          "height": 74
        },
        "outputId": "cbe1ac62-0abb-4ed8-f36e-d7c3c2187f1f"
      },
      "execution_count": null,
      "outputs": [
        {
          "output_type": "execute_result",
          "data": {
            "text/plain": [
              "SVC(C=1000)"
            ],
            "text/html": [
              "<style>#sk-container-id-20 {color: black;background-color: white;}#sk-container-id-20 pre{padding: 0;}#sk-container-id-20 div.sk-toggleable {background-color: white;}#sk-container-id-20 label.sk-toggleable__label {cursor: pointer;display: block;width: 100%;margin-bottom: 0;padding: 0.3em;box-sizing: border-box;text-align: center;}#sk-container-id-20 label.sk-toggleable__label-arrow:before {content: \"▸\";float: left;margin-right: 0.25em;color: #696969;}#sk-container-id-20 label.sk-toggleable__label-arrow:hover:before {color: black;}#sk-container-id-20 div.sk-estimator:hover label.sk-toggleable__label-arrow:before {color: black;}#sk-container-id-20 div.sk-toggleable__content {max-height: 0;max-width: 0;overflow: hidden;text-align: left;background-color: #f0f8ff;}#sk-container-id-20 div.sk-toggleable__content pre {margin: 0.2em;color: black;border-radius: 0.25em;background-color: #f0f8ff;}#sk-container-id-20 input.sk-toggleable__control:checked~div.sk-toggleable__content {max-height: 200px;max-width: 100%;overflow: auto;}#sk-container-id-20 input.sk-toggleable__control:checked~label.sk-toggleable__label-arrow:before {content: \"▾\";}#sk-container-id-20 div.sk-estimator input.sk-toggleable__control:checked~label.sk-toggleable__label {background-color: #d4ebff;}#sk-container-id-20 div.sk-label input.sk-toggleable__control:checked~label.sk-toggleable__label {background-color: #d4ebff;}#sk-container-id-20 input.sk-hidden--visually {border: 0;clip: rect(1px 1px 1px 1px);clip: rect(1px, 1px, 1px, 1px);height: 1px;margin: -1px;overflow: hidden;padding: 0;position: absolute;width: 1px;}#sk-container-id-20 div.sk-estimator {font-family: monospace;background-color: #f0f8ff;border: 1px dotted black;border-radius: 0.25em;box-sizing: border-box;margin-bottom: 0.5em;}#sk-container-id-20 div.sk-estimator:hover {background-color: #d4ebff;}#sk-container-id-20 div.sk-parallel-item::after {content: \"\";width: 100%;border-bottom: 1px solid gray;flex-grow: 1;}#sk-container-id-20 div.sk-label:hover label.sk-toggleable__label {background-color: #d4ebff;}#sk-container-id-20 div.sk-serial::before {content: \"\";position: absolute;border-left: 1px solid gray;box-sizing: border-box;top: 0;bottom: 0;left: 50%;z-index: 0;}#sk-container-id-20 div.sk-serial {display: flex;flex-direction: column;align-items: center;background-color: white;padding-right: 0.2em;padding-left: 0.2em;position: relative;}#sk-container-id-20 div.sk-item {position: relative;z-index: 1;}#sk-container-id-20 div.sk-parallel {display: flex;align-items: stretch;justify-content: center;background-color: white;position: relative;}#sk-container-id-20 div.sk-item::before, #sk-container-id-20 div.sk-parallel-item::before {content: \"\";position: absolute;border-left: 1px solid gray;box-sizing: border-box;top: 0;bottom: 0;left: 50%;z-index: -1;}#sk-container-id-20 div.sk-parallel-item {display: flex;flex-direction: column;z-index: 1;position: relative;background-color: white;}#sk-container-id-20 div.sk-parallel-item:first-child::after {align-self: flex-end;width: 50%;}#sk-container-id-20 div.sk-parallel-item:last-child::after {align-self: flex-start;width: 50%;}#sk-container-id-20 div.sk-parallel-item:only-child::after {width: 0;}#sk-container-id-20 div.sk-dashed-wrapped {border: 1px dashed gray;margin: 0 0.4em 0.5em 0.4em;box-sizing: border-box;padding-bottom: 0.4em;background-color: white;}#sk-container-id-20 div.sk-label label {font-family: monospace;font-weight: bold;display: inline-block;line-height: 1.2em;}#sk-container-id-20 div.sk-label-container {text-align: center;}#sk-container-id-20 div.sk-container {/* jupyter's `normalize.less` sets `[hidden] { display: none; }` but bootstrap.min.css set `[hidden] { display: none !important; }` so we also need the `!important` here to be able to override the default hidden behavior on the sphinx rendered scikit-learn.org. See: https://github.com/scikit-learn/scikit-learn/issues/21755 */display: inline-block !important;position: relative;}#sk-container-id-20 div.sk-text-repr-fallback {display: none;}</style><div id=\"sk-container-id-20\" class=\"sk-top-container\"><div class=\"sk-text-repr-fallback\"><pre>SVC(C=1000)</pre><b>In a Jupyter environment, please rerun this cell to show the HTML representation or trust the notebook. <br />On GitHub, the HTML representation is unable to render, please try loading this page with nbviewer.org.</b></div><div class=\"sk-container\" hidden><div class=\"sk-item\"><div class=\"sk-estimator sk-toggleable\"><input class=\"sk-toggleable__control sk-hidden--visually\" id=\"sk-estimator-id-20\" type=\"checkbox\" checked><label for=\"sk-estimator-id-20\" class=\"sk-toggleable__label sk-toggleable__label-arrow\">SVC</label><div class=\"sk-toggleable__content\"><pre>SVC(C=1000)</pre></div></div></div></div></div>"
            ]
          },
          "metadata": {},
          "execution_count": 134
        }
      ]
    },
    {
      "cell_type": "code",
      "source": [
        "train_pred = model.predict(train_vec)"
      ],
      "metadata": {
        "id": "WlDY4w__9mWm"
      },
      "execution_count": null,
      "outputs": []
    },
    {
      "cell_type": "code",
      "source": [
        "train_pred[0:10], y_train[0:10]"
      ],
      "metadata": {
        "colab": {
          "base_uri": "https://localhost:8080/"
        },
        "id": "gBTX6oUeJzeR",
        "outputId": "6c10074d-a5cc-401c-9f72-091f450e0a74"
      },
      "execution_count": null,
      "outputs": [
        {
          "output_type": "execute_result",
          "data": {
            "text/plain": [
              "(array([3, 0, 3, 2, 2, 0, 2, 4, 2, 0]), array([1, 3, 3, 2, 2, 0, 2, 4, 2, 0]))"
            ]
          },
          "metadata": {},
          "execution_count": 136
        }
      ]
    },
    {
      "cell_type": "code",
      "source": [
        "print(\"Acc en train =\", accuracy_score(y_train, train_pred))"
      ],
      "metadata": {
        "id": "XT2hyfjv94Uv",
        "colab": {
          "base_uri": "https://localhost:8080/"
        },
        "outputId": "a7aa5713-8bb0-46da-eeb2-1c8375e11cf9"
      },
      "execution_count": null,
      "outputs": [
        {
          "output_type": "stream",
          "name": "stdout",
          "text": [
            "Acc en train = 0.8747870528109029\n"
          ]
        }
      ]
    },
    {
      "cell_type": "code",
      "source": [
        "val_pred = model.predict(val_vec)\n",
        "print(\"Acc en val =\", accuracy_score(y_val, val_pred))"
      ],
      "metadata": {
        "id": "RNE5X-cu9-Zn",
        "colab": {
          "base_uri": "https://localhost:8080/"
        },
        "outputId": "e944e715-8416-4582-f258-8febc1241c6f"
      },
      "execution_count": null,
      "outputs": [
        {
          "output_type": "stream",
          "name": "stdout",
          "text": [
            "Acc en val = 0.7125850340136054\n"
          ]
        }
      ]
    },
    {
      "cell_type": "code",
      "source": [
        "test_pred = model.predict(test_vec)\n",
        "print(\"Acc en test =\", accuracy_score(y_test, test_pred))"
      ],
      "metadata": {
        "id": "9386tvBn-Ywy",
        "colab": {
          "base_uri": "https://localhost:8080/"
        },
        "outputId": "46726481-6e84-4c78-e042-642565f681c6"
      },
      "execution_count": null,
      "outputs": [
        {
          "output_type": "stream",
          "name": "stdout",
          "text": [
            "Acc en test = 0.6562659846547314\n"
          ]
        }
      ]
    },
    {
      "cell_type": "code",
      "source": [],
      "metadata": {
        "id": "xnzr5X5u-irq"
      },
      "execution_count": null,
      "outputs": []
    }
  ]
}