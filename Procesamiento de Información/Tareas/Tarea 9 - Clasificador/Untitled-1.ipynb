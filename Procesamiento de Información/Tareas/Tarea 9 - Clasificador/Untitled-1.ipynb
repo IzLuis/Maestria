{
 "cells": [
  {
   "cell_type": "markdown",
   "metadata": {},
   "source": [
    "# Importar Librerías Necesarias\n",
    "Importar las librerías necesarias como pandas, numpy, matplotlib, seaborn, sklearn, y nltk."
   ]
  },
  {
   "cell_type": "code",
   "execution_count": 29,
   "metadata": {},
   "outputs": [
    {
     "name": "stderr",
     "output_type": "stream",
     "text": [
      "[nltk_data] Error loading stopwords: <urlopen error [SSL:\n",
      "[nltk_data]     CERTIFICATE_VERIFY_FAILED] certificate verify failed:\n",
      "[nltk_data]     unable to get local issuer certificate (_ssl.c:1000)>\n",
      "[nltk_data] Error loading punkt: <urlopen error [SSL:\n",
      "[nltk_data]     CERTIFICATE_VERIFY_FAILED] certificate verify failed:\n",
      "[nltk_data]     unable to get local issuer certificate (_ssl.c:1000)>\n",
      "[nltk_data] Error loading wordnet: <urlopen error [SSL:\n",
      "[nltk_data]     CERTIFICATE_VERIFY_FAILED] certificate verify failed:\n",
      "[nltk_data]     unable to get local issuer certificate (_ssl.c:1000)>\n"
     ]
    },
    {
     "data": {
      "text/plain": [
       "False"
      ]
     },
     "execution_count": 29,
     "metadata": {},
     "output_type": "execute_result"
    }
   ],
   "source": [
    "import pandas as pd\n",
    "import numpy as np\n",
    "import matplotlib.pyplot as plt\n",
    "import seaborn as sns\n",
    "from sklearn.model_selection import train_test_split\n",
    "from sklearn.feature_extraction.text import CountVectorizer, TfidfVectorizer\n",
    "from sklearn.linear_model import LogisticRegression\n",
    "from sklearn.svm import SVC\n",
    "from sklearn.naive_bayes import MultinomialNB\n",
    "from sklearn.ensemble import RandomForestClassifier\n",
    "from sklearn.metrics import accuracy_score\n",
    "import nltk\n",
    "from nltk.corpus import stopwords\n",
    "from nltk.tokenize import word_tokenize\n",
    "from nltk.stem import WordNetLemmatizer\n",
    "from io import StringIO\n",
    "\n",
    "# Descargar recursos necesarios de nltk\n",
    "nltk.download('stopwords')\n",
    "nltk.download('punkt')\n",
    "nltk.download('wordnet')"
   ]
  },
  {
   "cell_type": "markdown",
   "metadata": {},
   "source": [
    "# Leer Archivos de Datos\n",
    "Leer los archivos cellphones_train.json y cellphones_test.json y crear los conjuntos de entrenamiento y prueba."
   ]
  },
  {
   "cell_type": "code",
   "execution_count": 30,
   "metadata": {},
   "outputs": [
    {
     "name": "stdout",
     "output_type": "stream",
     "text": [
      "           categories                                id        klass  \\\n",
      "0  [ \"DEVICE\", \"OS\" ]  d0fb202ea47c3cad448ea4e5e31bd404  information   \n",
      "1        [ \"MOBILE\" ]  d76f590d27f8eb415696e945f16b7e1c      neutral   \n",
      "2            [ \"OS\" ]  e345247011f2e69ca73ee5493c35e599     positive   \n",
      "3            [ \"OS\" ]  550f607acddf50d8dd515a750b994820  information   \n",
      "4        [ \"MOBILE\" ]  29e388d45111200b6535f1367c501461      neutral   \n",
      "\n",
      "                                                text     type  \n",
      "0  RT @matukpuntocom: Xperia Play se quedará sin ...   Xperia  \n",
      "1  RT @AlbertoCiurana: Hay gente que se desconect...  Celular  \n",
      "2  @loneliest_star siiiiiiiiiiiiiiii!!! y ya podr...  Android  \n",
      "3  El otro día soné que desarrollaba Apps para An...  Android  \n",
      "4  Escuchandola con Aristegui, lleva amistad BUEN...  Celular  \n",
      "     categories                                id        klass  \\\n",
      "0  [ \"MOBILE\" ]  0b4783023036948eed8f9f1151b708d8  information   \n",
      "1  [ \"MOBILE\" ]  fee4741dac44bf014b29c51b8d624d82  information   \n",
      "2  [ \"MOBILE\" ]  8b2e285af81524ce44647a9286defe9d  information   \n",
      "3  [ \"MOBILE\" ]  26e0812bea0f10f5353f06ff94f9d270  information   \n",
      "4  [ \"MOBILE\" ]  80869ae712f24a387a212e315ebe97c2  information   \n",
      "\n",
      "                                                text      type  \n",
      "0  Ya se volvió a ir la luz, quinto o sexto apagó...   Celular  \n",
      "1  @clauditafigue todo bien hasta ahora! :) el nú...   Celular  \n",
      "2  Felicidades a los policías,y gracias por acept...  Teléfono  \n",
      "3  telcel murió o algo así o porque mi teléfono e...  Teléfono  \n",
      "4  @diego_alva8 ya no tengo celular hablamos por ...   Celular  \n",
      "Tamaño del conjunto de entrenamiento: (9155,)\n",
      "Tamaño del conjunto de validación: (2289,)\n",
      "Tamaño del conjunto de prueba: (4905,)\n"
     ]
    }
   ],
   "source": [
    "# Leer Archivos de Datos\n",
    "\n",
    "# Leer los archivos JSON línea por línea y concatenar en un DataFrame\n",
    "def read_json_lines(file_path):\n",
    "\tdata = []\n",
    "\twith open(file_path, 'r') as file:\n",
    "\t\tfor line in file:\n",
    "\t\t\tdata.append(pd.read_json(StringIO(line), lines=True))\n",
    "\treturn pd.concat(data, ignore_index=True)\n",
    "\n",
    "train_data = read_json_lines('cellphones_train.json')\n",
    "test_data = read_json_lines('cellphones_test.json')\n",
    "\n",
    "# Mostrar las primeras filas de los datos de entrenamiento y prueba\n",
    "print(train_data.head())\n",
    "print(test_data.head())\n",
    "\n",
    "# Crear conjuntos de entrenamiento y prueba\n",
    "X_train = train_data['text']\n",
    "y_train = train_data['klass']\n",
    "X_test = test_data['text']\n",
    "y_test = test_data['klass']\n",
    "\n",
    "X_train, X_val, y_train, y_val = train_test_split(X_train, y_train, test_size=0.2, random_state=1004)\n",
    "\n",
    "# Mostrar la forma de los conjuntos de datos\n",
    "print(f'Tamaño del conjunto de entrenamiento: {X_train.shape}')\n",
    "print(f'Tamaño del conjunto de validación: {X_val.shape}')\n",
    "print(f'Tamaño del conjunto de prueba: {X_test.shape}')"
   ]
  },
  {
   "cell_type": "markdown",
   "metadata": {},
   "source": [
    "# Preprocesar Texto\n",
    "Realizar preprocesamiento del texto, incluyendo la eliminación de stopwords, tokenización, y lematización."
   ]
  },
  {
   "cell_type": "code",
   "execution_count": 36,
   "metadata": {},
   "outputs": [
    {
     "data": {
      "text/plain": [
       "5269                           blackstar_sot mejor galaxy\n",
       "4941    rt androidunivers hoy galaxy s iii pon fin hoy...\n",
       "4754          palabrasquecausandolor extrañ dig ver celul\n",
       "528     rt guemoprom llevat xperi mini pro sk17 increi...\n",
       "7071                    donidus pues cre si sol andro n_n\n",
       "Name: text, dtype: object"
      ]
     },
     "execution_count": 36,
     "metadata": {},
     "output_type": "execute_result"
    }
   ],
   "source": [
    "import re\n",
    "\n",
    "# Preprocesar Texto\n",
    "\n",
    "# Definir función de preprocesamiento\n",
    "def preprocess_text(text):\n",
    "    # Convertir a minúsculas\n",
    "    text = text.lower()\n",
    "    # Eliminar caracteres especiales\n",
    "    text = re.sub(r'\\W', ' ', text)\n",
    "    # Tokenizar el texto\n",
    "    tokens = word_tokenize(text)\n",
    "    # Eliminar stopwords\n",
    "    tokens = [word for word in tokens if word not in stopwords.words('spanish')]\n",
    "    # Stemming de tokens\n",
    "    stemmer = nltk.SnowballStemmer('spanish')\n",
    "    tokens = [stemmer.stem(word) for word in tokens]\n",
    "    # Unir tokens en una sola cadena\n",
    "    return ' '.join(tokens)\n",
    "\n",
    "# Convertir todos los valores a cadenas\n",
    "X_train = X_train.astype(str)\n",
    "X_val = X_val.astype(str)\n",
    "X_test = X_test.astype(str)\n",
    "\n",
    "# Aplicar preprocesamiento a los conjuntos de entrenamiento y prueba\n",
    "X_train = X_train.apply(preprocess_text)\n",
    "X_val = X_val.apply(preprocess_text)\n",
    "X_test = X_test.apply(preprocess_text)\n",
    "\n",
    "# Mostrar las primeras filas del conjunto de entrenamiento preprocesado\n",
    "X_train.head()"
   ]
  },
  {
   "cell_type": "markdown",
   "metadata": {},
   "source": [
    "# Crear Gráficas de Palabras Comunes\n",
    "Crear gráficas que muestren las palabras más comunes para cada una de las etiquetas usando matplotlib y seaborn."
   ]
  },
  {
   "cell_type": "code",
   "execution_count": 39,
   "metadata": {},
   "outputs": [
    {
     "name": "stderr",
     "output_type": "stream",
     "text": [
      "/var/folders/v3/6n107fw10yb9ryc5t5mmqw5c0000gp/T/ipykernel_60281/2650592782.py:20: FutureWarning: \n",
      "\n",
      "Passing `palette` without assigning `hue` is deprecated and will be removed in v0.14.0. Assign the `y` variable to `hue` and set `legend=False` for the same effect.\n",
      "\n",
      "  sns.barplot(x=common_counts_df[label], y=common_words_df[label], palette='viridis')\n",
      "/var/folders/v3/6n107fw10yb9ryc5t5mmqw5c0000gp/T/ipykernel_60281/2650592782.py:20: FutureWarning: \n",
      "\n",
      "Passing `palette` without assigning `hue` is deprecated and will be removed in v0.14.0. Assign the `y` variable to `hue` and set `legend=False` for the same effect.\n",
      "\n",
      "  sns.barplot(x=common_counts_df[label], y=common_words_df[label], palette='viridis')\n",
      "/var/folders/v3/6n107fw10yb9ryc5t5mmqw5c0000gp/T/ipykernel_60281/2650592782.py:20: FutureWarning: \n",
      "\n",
      "Passing `palette` without assigning `hue` is deprecated and will be removed in v0.14.0. Assign the `y` variable to `hue` and set `legend=False` for the same effect.\n",
      "\n",
      "  sns.barplot(x=common_counts_df[label], y=common_words_df[label], palette='viridis')\n",
      "/var/folders/v3/6n107fw10yb9ryc5t5mmqw5c0000gp/T/ipykernel_60281/2650592782.py:20: FutureWarning: \n",
      "\n",
      "Passing `palette` without assigning `hue` is deprecated and will be removed in v0.14.0. Assign the `y` variable to `hue` and set `legend=False` for the same effect.\n",
      "\n",
      "  sns.barplot(x=common_counts_df[label], y=common_words_df[label], palette='viridis')\n"
     ]
    },
    {
     "data": {
      "image/png": "[encoded data removed]",
      "text/plain": [
       "<Figure size 1500x1000 with 4 Axes>"
      ]
     },
     "metadata": {},
     "output_type": "display_data"
    }
   ],
   "source": [
    "import collections\n",
    "\n",
    "# Crear un diccionario para almacenar las palabras más comunes por cada etiqueta\n",
    "common_words = {'information': collections.Counter(), 'positive': collections.Counter(), 'negative': collections.Counter(), 'neutral': collections.Counter()}\n",
    "\n",
    "# Contar las palabras más comunes para cada etiqueta\n",
    "for text, label in zip(X_train, y_train):\n",
    "    common_words[label].update(text.split())\n",
    "\n",
    "# Crear un DataFrame para facilitar la visualización\n",
    "common_words_df = pd.DataFrame({label: [word for word, _ in common_words[label].most_common(10)] for label in common_words})\n",
    "common_counts_df = pd.DataFrame({label: [count for _, count in common_words[label].most_common(10)] for label in common_words})\n",
    "\n",
    "# Configurar el tamaño de las figuras\n",
    "plt.figure(figsize=(15, 10))\n",
    "\n",
    "# Crear subplots para cada etiqueta\n",
    "for i, label in enumerate(common_words.keys(), 1):\n",
    "    plt.subplot(2, 2, i)\n",
    "    sns.barplot(x=common_counts_df[label], y=common_words_df[label], palette='viridis')\n",
    "    plt.title(f'Palabras más comunes en {label}')\n",
    "    plt.xlabel('Frecuencia')\n",
    "    plt.ylabel('Palabras')\n",
    "\n",
    "# Ajustar el layout\n",
    "plt.tight_layout()\n",
    "plt.show()"
   ]
  },
  {
   "cell_type": "markdown",
   "metadata": {},
   "source": [
    "# Vectorizar Texto\n",
    "Vectorizar el texto usando CountVectorizer y TF-IDF."
   ]
  },
  {
   "cell_type": "code",
   "execution_count": 40,
   "metadata": {},
   "outputs": [
    {
     "name": "stdout",
     "output_type": "stream",
     "text": [
      "Forma de X_train_count: (9155, 13084)\n",
      "Forma de X_val_count: (2289, 13084)\n",
      "Forma de X_test_count: (4905, 13084)\n",
      "Forma de X_train_tfidf: (9155, 13084)\n",
      "Forma de X_val_tfidf: (2289, 13084)\n",
      "Forma de X_test_tfidf: (4905, 13084)\n"
     ]
    }
   ],
   "source": [
    "# Vectorizar Texto\n",
    "\n",
    "# Vectorizar el texto usando CountVectorizer\n",
    "count_vectorizer = CountVectorizer()\n",
    "X_train_count = count_vectorizer.fit_transform(X_train)\n",
    "X_val_count = count_vectorizer.transform(X_val)\n",
    "X_test_count = count_vectorizer.transform(X_test)\n",
    "\n",
    "# Mostrar la forma de las matrices resultantes\n",
    "print(f'Forma de X_train_count: {X_train_count.shape}')\n",
    "print(f'Forma de X_val_count: {X_val_count.shape}')\n",
    "print(f'Forma de X_test_count: {X_test_count.shape}')\n",
    "\n",
    "# Vectorizar el texto usando TF-IDF\n",
    "tfidf_vectorizer = TfidfVectorizer()\n",
    "X_train_tfidf = tfidf_vectorizer.fit_transform(X_train)\n",
    "X_val_tfidf = tfidf_vectorizer.transform(X_val)\n",
    "X_test_tfidf = tfidf_vectorizer.transform(X_test)\n",
    "\n",
    "# Mostrar la forma de las matrices resultantes\n",
    "print(f'Forma de X_train_tfidf: {X_train_tfidf.shape}')\n",
    "print(f'Forma de X_val_tfidf: {X_val_tfidf.shape}')\n",
    "print(f'Forma de X_test_tfidf: {X_test_tfidf.shape}')"
   ]
  },
  {
   "cell_type": "markdown",
   "metadata": {},
   "source": [
    "# Entrenar Clasificador\n",
    "Entrenar varios clasificadores como Regresión Logística, SVM, Naive Bayes, y Random Forest para predecir la etiqueta del texto."
   ]
  },
  {
   "cell_type": "code",
   "execution_count": 41,
   "metadata": {},
   "outputs": [
    {
     "name": "stdout",
     "output_type": "stream",
     "text": [
      "Accuracy de Regresión Logística con CountVectorizer (Validación): 0.7483617300131061\n",
      "Accuracy de Regresión Logística con CountVectorizer (Prueba): 0.7429153924566768\n",
      "Accuracy de SVM con CountVectorizer (Validación): 0.7536041939711664\n",
      "Accuracy de SVM con CountVectorizer (Prueba): 0.7539245667686034\n",
      "Accuracy de Naive Bayes con CountVectorizer (Validación): 0.72870249017038\n",
      "Accuracy de Naive Bayes con CountVectorizer (Prueba): 0.7306829765545362\n",
      "Accuracy de Random Forest con CountVectorizer (Validación): 0.7505460899956313\n",
      "Accuracy de Random Forest con CountVectorizer (Prueba): 0.7524974515800203\n",
      "Accuracy de Regresión Logística con TF-IDF (Validación): 0.744429882044561\n",
      "Accuracy de Regresión Logística con TF-IDF (Prueba): 0.7408766564729867\n",
      "Accuracy de SVM con TF-IDF (Validación): 0.7496723460026212\n",
      "Accuracy de SVM con TF-IDF (Prueba): 0.7512742099898063\n",
      "Accuracy de Naive Bayes con TF-IDF (Validación): 0.6998689384010485\n",
      "Accuracy de Naive Bayes con TF-IDF (Prueba): 0.7047910295616717\n",
      "Accuracy de Random Forest con TF-IDF (Validación): 0.7505460899956313\n",
      "Accuracy de Random Forest con TF-IDF (Prueba): 0.7539245667686034\n"
     ]
    }
   ],
   "source": [
    "# Entrenar Clasificador\n",
    "\n",
    "# Definir una función para entrenar y evaluar un clasificador\n",
    "def train_and_evaluate(model, X_train, y_train, X_val, y_val, X_test, y_test):\n",
    "    model.fit(X_train, y_train)\n",
    "    y_val_pred = model.predict(X_val)\n",
    "    val_accuracy = accuracy_score(y_val, y_val_pred)\n",
    "    y_test_pred = model.predict(X_test)\n",
    "    test_accuracy = accuracy_score(y_test, y_test_pred)\n",
    "    return val_accuracy, test_accuracy\n",
    "\n",
    "# Inicializar los modelos\n",
    "logistic_regression = LogisticRegression(max_iter=1000)\n",
    "svm = SVC()\n",
    "naive_bayes = MultinomialNB()\n",
    "random_forest = RandomForestClassifier()\n",
    "\n",
    "# Entrenar y evaluar los modelos con CountVectorizer\n",
    "accuracy_lr_count_val, accuracy_lr_count_test = train_and_evaluate(logistic_regression, X_train_count, y_train, X_val_count, y_val, X_test_count, y_test)\n",
    "accuracy_svm_count_val, accuracy_svm_count_test = train_and_evaluate(svm, X_train_count, y_train, X_val_count, y_val, X_test_count, y_test)\n",
    "accuracy_nb_count_val, accuracy_nb_count_test = train_and_evaluate(naive_bayes, X_train_count, y_train, X_val_count, y_val, X_test_count, y_test)\n",
    "accuracy_rf_count_val, accuracy_rf_count_test = train_and_evaluate(random_forest, X_train_count, y_train, X_val_count, y_val, X_test_count, y_test)\n",
    "\n",
    "# Entrenar y evaluar los modelos con TF-IDF\n",
    "accuracy_lr_tfidf_val, accuracy_lr_tfidf_test = train_and_evaluate(logistic_regression, X_train_tfidf, y_train, X_val_tfidf, y_val, X_test_tfidf, y_test)\n",
    "accuracy_svm_tfidf_val, accuracy_svm_tfidf_test = train_and_evaluate(svm, X_train_tfidf, y_train, X_val_tfidf, y_val, X_test_tfidf, y_test)\n",
    "accuracy_nb_tfidf_val, accuracy_nb_tfidf_test = train_and_evaluate(naive_bayes, X_train_tfidf, y_train, X_val_tfidf, y_val, X_test_tfidf, y_test)\n",
    "accuracy_rf_tfidf_val, accuracy_rf_tfidf_test = train_and_evaluate(random_forest, X_train_tfidf, y_train, X_val_tfidf, y_val, X_test_tfidf, y_test)\n",
    "\n",
    "# Mostrar los resultados\n",
    "print(f'Accuracy de Regresión Logística con CountVectorizer (Validación): {accuracy_lr_count_val}')\n",
    "print(f'Accuracy de Regresión Logística con CountVectorizer (Prueba): {accuracy_lr_count_test}')\n",
    "print(f'Accuracy de SVM con CountVectorizer (Validación): {accuracy_svm_count_val}')\n",
    "print(f'Accuracy de SVM con CountVectorizer (Prueba): {accuracy_svm_count_test}')\n",
    "print(f'Accuracy de Naive Bayes con CountVectorizer (Validación): {accuracy_nb_count_val}')\n",
    "print(f'Accuracy de Naive Bayes con CountVectorizer (Prueba): {accuracy_nb_count_test}')\n",
    "print(f'Accuracy de Random Forest con CountVectorizer (Validación): {accuracy_rf_count_val}')\n",
    "print(f'Accuracy de Random Forest con CountVectorizer (Prueba): {accuracy_rf_count_test}')\n",
    "\n",
    "print(f'Accuracy de Regresión Logística con TF-IDF (Validación): {accuracy_lr_tfidf_val}')\n",
    "print(f'Accuracy de Regresión Logística con TF-IDF (Prueba): {accuracy_lr_tfidf_test}')\n",
    "print(f'Accuracy de SVM con TF-IDF (Validación): {accuracy_svm_tfidf_val}')\n",
    "print(f'Accuracy de SVM con TF-IDF (Prueba): {accuracy_svm_tfidf_test}')\n",
    "print(f'Accuracy de Naive Bayes con TF-IDF (Validación): {accuracy_nb_tfidf_val}')\n",
    "print(f'Accuracy de Naive Bayes con TF-IDF (Prueba): {accuracy_nb_tfidf_test}')\n",
    "print(f'Accuracy de Random Forest con TF-IDF (Validación): {accuracy_rf_tfidf_val}')\n",
    "print(f'Accuracy de Random Forest con TF-IDF (Prueba): {accuracy_rf_tfidf_test}')"
   ]
  },
  {
   "cell_type": "markdown",
   "metadata": {},
   "source": [
    "# Calcular Accuracy\n",
    "Calcular el accuracy de cada modelo en el conjunto de prueba."
   ]
  },
  {
   "cell_type": "markdown",
   "metadata": {},
   "source": [
    "# Documentación de Preprocesamiento y Modelos\n",
    "Incluir un texto que documente los diferentes tipos de preprocesamiento usados, el tipo de vectorizador, el modelo para clasificar y su accuracy."
   ]
  },
  {
   "cell_type": "code",
   "execution_count": 42,
   "metadata": {},
   "outputs": [
    {
     "data": {
      "text/markdown": [
       "\n",
       "### Preprocesamiento de Texto\n",
       "1. **Conversión a minúsculas**: Todos los caracteres del texto se convierten a minúsculas para asegurar la uniformidad.\n",
       "2. **Tokenización**: El texto se divide en palabras individuales (tokens).\n",
       "3. **Eliminación de stopwords**: Se eliminan palabras comunes que no aportan mucho significado (e.g., \"y\", \"el\", \"de\").\n",
       "4. **Lematización**: Se reducen las palabras a su forma base o lema (e.g., \"corriendo\" se convierte en \"correr\").\n",
       "\n",
       "### Vectorizadores\n",
       "1. **CountVectorizer**: Convierte el texto en una matriz de conteos de palabras.\n",
       "2. **TF-IDF (Term Frequency-Inverse Document Frequency)**: Convierte el texto en una matriz donde cada valor representa la importancia de una palabra en el documento y en el corpus.\n",
       "\n",
       "### Modelos de Clasificación y Accuracy\n",
       "1. **Regresión Logística**\n",
       "   - Accuracy con CountVectorizer: 0.7535168195718654\n",
       "   - Accuracy con TF-IDF: 0.7445463812436289\n",
       "2. **SVM (Support Vector Machine)**\n",
       "   - Accuracy con CountVectorizer: 0.7569826707441386\n",
       "   - Accuracy con TF-IDF: 0.7561671763506626\n",
       "3. **Naive Bayes**\n",
       "   - Accuracy con CountVectorizer: 0.7345565749235474\n",
       "   - Accuracy con TF-IDF: 0.7102956167176351\n",
       "4. **Random Forest**\n",
       "   - Accuracy con CountVectorizer: 0.7543323139653415\n",
       "   - Accuracy con TF-IDF: 0.7590214067278287\n"
      ],
      "text/plain": [
       "<IPython.core.display.Markdown object>"
      ]
     },
     "metadata": {},
     "output_type": "display_data"
    }
   ],
   "source": [
    "# Documentación de Preprocesamiento y Modelos\n",
    "\n",
    "# Documentar los diferentes tipos de preprocesamiento usados\n",
    "preprocessing_text = \"\"\"\n",
    "### Preprocesamiento de Texto\n",
    "1. **Conversión a minúsculas**: Todos los caracteres del texto se convierten a minúsculas para asegurar la uniformidad.\n",
    "2. **Tokenización**: El texto se divide en palabras individuales (tokens).\n",
    "3. **Eliminación de stopwords**: Se eliminan palabras comunes que no aportan mucho significado (e.g., \"y\", \"el\", \"de\").\n",
    "4. **Lematización**: Se reducen las palabras a su forma base o lema (e.g., \"corriendo\" se convierte en \"correr\").\n",
    "\"\"\"\n",
    "\n",
    "# Documentar los tipos de vectorizadores usados\n",
    "vectorizers_text = \"\"\"\n",
    "### Vectorizadores\n",
    "1. **CountVectorizer**: Convierte el texto en una matriz de conteos de palabras.\n",
    "2. **TF-IDF (Term Frequency-Inverse Document Frequency)**: Convierte el texto en una matriz donde cada valor representa la importancia de una palabra en el documento y en el corpus.\n",
    "\"\"\"\n",
    "\n",
    "# Documentar los modelos usados y sus accuracies\n",
    "models_text = f\"\"\"\n",
    "### Modelos de Clasificación y Accuracy\n",
    "1. **Regresión Logística**\n",
    "   - Accuracy con CountVectorizer: {accuracy_lr_count}\n",
    "   - Accuracy con TF-IDF: {accuracy_lr_tfidf}\n",
    "2. **SVM (Support Vector Machine)**\n",
    "   - Accuracy con CountVectorizer: {accuracy_svm_count}\n",
    "   - Accuracy con TF-IDF: {accuracy_svm_tfidf}\n",
    "3. **Naive Bayes**\n",
    "   - Accuracy con CountVectorizer: {accuracy_nb_count}\n",
    "   - Accuracy con TF-IDF: {accuracy_nb_tfidf}\n",
    "4. **Random Forest**\n",
    "   - Accuracy con CountVectorizer: {accuracy_rf_count}\n",
    "   - Accuracy con TF-IDF: {accuracy_rf_tfidf}\n",
    "\"\"\"\n",
    "\n",
    "# Combinar toda la documentación en una sola cadena\n",
    "documentation = preprocessing_text + vectorizers_text + models_text\n",
    "\n",
    "# Mostrar la documentación\n",
    "from IPython.display import Markdown, display\n",
    "display(Markdown(documentation))"
   ]
  }
 ],
 "metadata": {
  "kernelspec": {
   "display_name": "Python 3",
   "language": "python",
   "name": "python3"
  },
  "language_info": {
   "codemirror_mode": {
    "name": "ipython",
    "version": 3
   },
   "file_extension": ".py",
   "mimetype": "text/x-python",
   "name": "python",
   "nbconvert_exporter": "python",
   "pygments_lexer": "ipython3",
   "version": "3.12.1"
  }
 },
 "nbformat": 4,
 "nbformat_minor": 2
}
