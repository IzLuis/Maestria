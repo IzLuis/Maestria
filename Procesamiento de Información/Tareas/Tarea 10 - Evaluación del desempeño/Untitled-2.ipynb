{
 "cells": [
  {
   "cell_type": "markdown",
   "metadata": {},
   "source": [
    "# Importar Librerías Necesarias\n",
    "Importar las librerías necesarias como pandas, numpy, sklearn, y matplotlib."
   ]
  },
  {
   "cell_type": "code",
   "execution_count": 1,
   "metadata": {},
   "outputs": [],
   "source": [
    "# Importar Librerías Necesarias\n",
    "import pandas as pd\n",
    "import numpy as np\n",
    "from sklearn.model_selection import train_test_split\n",
    "from sklearn.feature_extraction.text import TfidfVectorizer\n",
    "from sklearn.naive_bayes import MultinomialNB\n",
    "from sklearn.svm import SVC\n",
    "from sklearn.metrics import f1_score, precision_score, recall_score, ConfusionMatrixDisplay\n",
    "import matplotlib.pyplot as plt"
   ]
  },
  {
   "cell_type": "markdown",
   "metadata": {},
   "source": [
    "# Cargar y Explorar los Datos\n",
    "Cargar los archivos emojis_train.csv y emojis_test.csv y explorar los datos."
   ]
  },
  {
   "cell_type": "code",
   "execution_count": 3,
   "metadata": {},
   "outputs": [
    {
     "name": "stdout",
     "output_type": "stream",
     "text": [
      "Primeras filas del conjunto de entrenamiento:\n",
      "                                                text klass\n",
      "0  _USR _USR _USR _USR La comparsa que los arrast...     ❤\n",
      "1  _USR Queen of the night Pero he llorado siempr...     ❤\n",
      "2  Extraño darles muchos abrazos y besos a mis ab...     😭\n",
      "3  Mi mamá si jala a fumar porro conmigo, pero no...     😭\n",
      "4  ¡Esperen! No me eliminen 🤗 Puedo explicarlo to...     ❤\n",
      "Primeras filas del conjunto de prueba:\n",
      "                                                text klass\n",
      "0  Ojalá encuentre a alguien que hable de mi y me...     🥺\n",
      "1  Reto que etiquetes a 10 mutuals que te caigan ...     ❤\n",
      "2  _USR A lo mejor en la pascua, a lo mejor en la...     🥺\n",
      "3  Ya me aburrí a madres! Empieza el ataque de an...     😊\n",
      "4  Pirámides de Tehotihuacan. Un gran recuerdo _E...     ❤\n",
      "\n",
      "Información del conjunto de entrenamiento:\n",
      "<class 'pandas.core.frame.DataFrame'>\n",
      "RangeIndex: 11774 entries, 0 to 11773\n",
      "Data columns (total 2 columns):\n",
      " #   Column  Non-Null Count  Dtype \n",
      "---  ------  --------------  ----- \n",
      " 0   text    11774 non-null  object\n",
      " 1   klass   11774 non-null  object\n",
      "dtypes: object(2)\n",
      "memory usage: 184.1+ KB\n",
      "None\n",
      "\n",
      "Información del conjunto de prueba:\n",
      "<class 'pandas.core.frame.DataFrame'>\n",
      "RangeIndex: 2283 entries, 0 to 2282\n",
      "Data columns (total 2 columns):\n",
      " #   Column  Non-Null Count  Dtype \n",
      "---  ------  --------------  ----- \n",
      " 0   text    2283 non-null   object\n",
      " 1   klass   2283 non-null   object\n",
      "dtypes: object(2)\n",
      "memory usage: 35.8+ KB\n",
      "None\n",
      "\n",
      "Descripción estadística del conjunto de entrenamiento:\n",
      "                                                     text  klass\n",
      "count                                               11774  11774\n",
      "unique                                              11574      4\n",
      "top     _USR Hello there my name is mariana please fol...      ❤\n",
      "freq                                                   30   4738\n",
      "\n",
      "Descripción estadística del conjunto de prueba:\n",
      "                                                     text klass\n",
      "count                                                2283  2283\n",
      "unique                                               2248     4\n",
      "top     _USR Hello there my name is mariana please fol...     ❤\n",
      "freq                                                   10   915\n",
      "\n",
      "Distribución de las clases en el conjunto de entrenamiento:\n",
      "klass\n",
      "❤    4738\n",
      "🥺    3654\n",
      "😭    2182\n",
      "😊    1200\n",
      "Name: count, dtype: int64\n",
      "\n",
      "Distribución de las clases en el conjunto de prueba:\n",
      "klass\n",
      "❤    915\n",
      "🥺    692\n",
      "😭    415\n",
      "😊    261\n",
      "Name: count, dtype: int64\n"
     ]
    }
   ],
   "source": [
    "# Cargar y Explorar los Datos\n",
    "\n",
    "# Cargar los archivos CSV\n",
    "train_data = pd.read_csv('emojis_train.csv')\n",
    "test_data = pd.read_csv('emojis_test.csv')\n",
    "\n",
    "# Mostrar las primeras filas del conjunto de entrenamiento\n",
    "print(\"Primeras filas del conjunto de entrenamiento:\")\n",
    "print(train_data.head())\n",
    "\n",
    "# Mostrar las primeras filas del conjunto de prueba\n",
    "print(\"Primeras filas del conjunto de prueba:\")\n",
    "print(test_data.head())\n",
    "\n",
    "# Información general del conjunto de entrenamiento\n",
    "print(\"\\nInformación del conjunto de entrenamiento:\")\n",
    "print(train_data.info())\n",
    "\n",
    "# Información general del conjunto de prueba\n",
    "print(\"\\nInformación del conjunto de prueba:\")\n",
    "print(test_data.info())\n",
    "\n",
    "# Descripción estadística del conjunto de entrenamiento\n",
    "print(\"\\nDescripción estadística del conjunto de entrenamiento:\")\n",
    "print(train_data.describe())\n",
    "\n",
    "# Descripción estadística del conjunto de prueba\n",
    "print(\"\\nDescripción estadística del conjunto de prueba:\")\n",
    "print(test_data.describe())\n",
    "\n",
    "# Distribución de las clases en el conjunto de entrenamiento\n",
    "print(\"\\nDistribución de las clases en el conjunto de entrenamiento:\")\n",
    "print(train_data['klass'].value_counts())\n",
    "\n",
    "# Distribución de las clases en el conjunto de prueba\n",
    "print(\"\\nDistribución de las clases en el conjunto de prueba:\")\n",
    "print(test_data['klass'].value_counts())"
   ]
  },
  {
   "cell_type": "markdown",
   "metadata": {},
   "source": [
    "# Preprocesamiento de Datos\n",
    "Limpiar y preprocesar los datos, incluyendo la eliminación de URLs y caracteres especiales."
   ]
  },
  {
   "cell_type": "code",
   "execution_count": 5,
   "metadata": {},
   "outputs": [
    {
     "name": "stdout",
     "output_type": "stream",
     "text": [
      "Primeras filas del conjunto de entrenamiento después de la limpieza:\n",
      "                                                text klass  \\\n",
      "0  _USR _USR _USR _USR La comparsa que los arrast...     ❤   \n",
      "1  _USR Queen of the night Pero he llorado siempr...     ❤   \n",
      "2  Extraño darles muchos abrazos y besos a mis ab...     😭   \n",
      "3  Mi mamá si jala a fumar porro conmigo, pero no...     😭   \n",
      "4  ¡Esperen! No me eliminen 🤗 Puedo explicarlo to...     ❤   \n",
      "\n",
      "                                        texto_limpio  \n",
      "0  usr usr usr usr la comparsa que los arrastra t...  \n",
      "1  usr queen of the night pero he llorado siempre...  \n",
      "2  extrao darles muchos abrazos y besos a mis abu...  \n",
      "3  mi mam si jala a fumar porro conmigo pero no t...  \n",
      "4  esperen no me eliminen  puedo explicarlo todo ...  \n",
      "Primeras filas del conjunto de prueba después de la limpieza:\n",
      "                                                text klass  \\\n",
      "0  Ojalá encuentre a alguien que hable de mi y me...     🥺   \n",
      "1  Reto que etiquetes a 10 mutuals que te caigan ...     ❤   \n",
      "2  _USR A lo mejor en la pascua, a lo mejor en la...     🥺   \n",
      "3  Ya me aburrí a madres! Empieza el ataque de an...     😊   \n",
      "4  Pirámides de Tehotihuacan. Un gran recuerdo _E...     ❤   \n",
      "\n",
      "                                        texto_limpio  \n",
      "0  ojal encuentre a alguien que hable de mi y me ...  \n",
      "1  reto que etiquetes a  mutuals que te caigan bi...  \n",
      "2  usr a lo mejor en la pascua a lo mejor en las ...  \n",
      "3  ya me aburr a madres empieza el ataque de ansi...  \n",
      "4  pirmides de tehotihuacan un gran recuerdo emo ...  \n"
     ]
    }
   ],
   "source": [
    "# Preprocesamiento de Datos\n",
    "\n",
    "import re\n",
    "\n",
    "# Función para limpiar el texto\n",
    "def limpiar_texto(texto):\n",
    "    # Eliminar URLs\n",
    "    texto = re.sub(r'_URL', '', texto)\n",
    "    # Eliminar caracteres especiales y números\n",
    "    texto = re.sub(r'[^a-zA-Z\\s]', '', texto)\n",
    "    # Convertir a minúsculas\n",
    "    texto = texto.lower()\n",
    "    return texto\n",
    "\n",
    "# Aplicar la función de limpieza al conjunto de entrenamiento y prueba\n",
    "train_data['texto_limpio'] = train_data['text'].apply(limpiar_texto)\n",
    "test_data['texto_limpio'] = test_data['text'].apply(limpiar_texto)\n",
    "\n",
    "# Mostrar las primeras filas del conjunto de entrenamiento después de la limpieza\n",
    "print(\"Primeras filas del conjunto de entrenamiento después de la limpieza:\")\n",
    "print(train_data.head())\n",
    "\n",
    "# Mostrar las primeras filas del conjunto de prueba después de la limpieza\n",
    "print(\"Primeras filas del conjunto de prueba después de la limpieza:\")\n",
    "print(test_data.head())"
   ]
  },
  {
   "cell_type": "markdown",
   "metadata": {},
   "source": [
    "# Convertir Textos a Vectores\n",
    "Utilizar técnicas como TF-IDF para convertir los textos a vectores numéricos."
   ]
  },
  {
   "cell_type": "code",
   "execution_count": 6,
   "metadata": {},
   "outputs": [
    {
     "name": "stdout",
     "output_type": "stream",
     "text": [
      "Forma de los datos de entrenamiento transformados: (11774, 24961)\n",
      "Forma de los datos de prueba transformados: (2283, 24961)\n"
     ]
    }
   ],
   "source": [
    "# Convertir Textos a Vectores\n",
    "\n",
    "# Inicializar el vectorizador TF-IDF\n",
    "vectorizer = TfidfVectorizer()\n",
    "\n",
    "# Ajustar y transformar los datos de entrenamiento\n",
    "X_train_tfidf = vectorizer.fit_transform(train_data['texto_limpio'])\n",
    "\n",
    "# Transformar los datos de prueba\n",
    "X_test_tfidf = vectorizer.transform(test_data['texto_limpio'])\n",
    "\n",
    "# Mostrar la forma de los datos transformados\n",
    "print(\"Forma de los datos de entrenamiento transformados:\", X_train_tfidf.shape)\n",
    "print(\"Forma de los datos de prueba transformados:\", X_test_tfidf.shape)"
   ]
  },
  {
   "cell_type": "markdown",
   "metadata": {},
   "source": [
    "# Dividir Datos en Entrenamiento y Validación\n",
    "Dividir los datos de entrenamiento en conjuntos de entrenamiento y validación usando train_test_split de sklearn."
   ]
  },
  {
   "cell_type": "code",
   "execution_count": 7,
   "metadata": {},
   "outputs": [
    {
     "name": "stdout",
     "output_type": "stream",
     "text": [
      "Forma de X_train: (9419, 24961)\n",
      "Forma de X_val: (2355, 24961)\n",
      "Forma de y_train: (9419,)\n",
      "Forma de y_val: (2355,)\n"
     ]
    }
   ],
   "source": [
    "# Dividir Datos en Entrenamiento y Validación\n",
    "\n",
    "# Definir las características (X) y la variable objetivo (y)\n",
    "X = X_train_tfidf\n",
    "y = train_data['klass']\n",
    "\n",
    "# Dividir los datos en conjuntos de entrenamiento y validación\n",
    "X_train, X_val, y_train, y_val = train_test_split(X, y, test_size=0.2, random_state=42)\n",
    "\n",
    "# Mostrar la forma de los conjuntos resultantes\n",
    "print(\"Forma de X_train:\", X_train.shape)\n",
    "print(\"Forma de X_val:\", X_val.shape)\n",
    "print(\"Forma de y_train:\", y_train.shape)\n",
    "print(\"Forma de y_val:\", y_val.shape)"
   ]
  },
  {
   "cell_type": "markdown",
   "metadata": {},
   "source": [
    "# Entrenar Modelos\n",
    "Entrenar varios modelos de clasificación como Naive Bayes, SVM y Random Forest."
   ]
  },
  {
   "cell_type": "code",
   "execution_count": 8,
   "metadata": {},
   "outputs": [
    {
     "name": "stdout",
     "output_type": "stream",
     "text": [
      "Evaluación del modelo Naive Bayes:\n",
      "F1 Score: 0.3135497391782981\n",
      "Precisión: 0.6760605753874531\n",
      "Recall: 0.36535033016308327\n"
     ]
    },
    {
     "name": "stderr",
     "output_type": "stream",
     "text": [
      "/Users/izluis/Library/Python/3.12/lib/python/site-packages/IPython/core/pylabtools.py:170: UserWarning: Glyph 129402 (\\N{FACE WITH PLEADING EYES}) missing from font(s) DejaVu Sans.\n",
      "  fig.canvas.print_figure(bytes_io, **kw)\n"
     ]
    },
    {
     "data": {
      "image/png": "[encoded data removed]",
      "text/plain": [
       "<Figure size 640x480 with 2 Axes>"
      ]
     },
     "metadata": {},
     "output_type": "display_data"
    },
    {
     "name": "stdout",
     "output_type": "stream",
     "text": [
      "Evaluación del modelo SVM:\n",
      "F1 Score: 0.34536216359134847\n",
      "Precisión: 0.6304397844764817\n",
      "Recall: 0.38057362500379066\n"
     ]
    },
    {
     "name": "stderr",
     "output_type": "stream",
     "text": [
      "/Users/izluis/Library/Python/3.12/lib/python/site-packages/IPython/core/pylabtools.py:170: UserWarning: Glyph 129402 (\\N{FACE WITH PLEADING EYES}) missing from font(s) DejaVu Sans.\n",
      "  fig.canvas.print_figure(bytes_io, **kw)\n"
     ]
    },
    {
     "data": {
      "image/png": "[encoded data removed]",
      "text/plain": [
       "<Figure size 640x480 with 2 Axes>"
      ]
     },
     "metadata": {},
     "output_type": "display_data"
    },
    {
     "name": "stdout",
     "output_type": "stream",
     "text": [
      "Evaluación del modelo Random Forest:\n",
      "F1 Score: 0.35892516150622067\n",
      "Precisión: 0.592151907049878\n",
      "Recall: 0.38732752019581973\n"
     ]
    },
    {
     "name": "stderr",
     "output_type": "stream",
     "text": [
      "/Users/izluis/Library/Python/3.12/lib/python/site-packages/IPython/core/pylabtools.py:170: UserWarning: Glyph 129402 (\\N{FACE WITH PLEADING EYES}) missing from font(s) DejaVu Sans.\n",
      "  fig.canvas.print_figure(bytes_io, **kw)\n"
     ]
    },
    {
     "data": {
      "image/png": "[encoded data removed]",
      "text/plain": [
       "<Figure size 640x480 with 2 Axes>"
      ]
     },
     "metadata": {},
     "output_type": "display_data"
    }
   ],
   "source": [
    "# Entrenar Modelos\n",
    "\n",
    "# Entrenar el modelo Naive Bayes\n",
    "nb_model = MultinomialNB()\n",
    "nb_model.fit(X_train, y_train)\n",
    "\n",
    "# Predecir en el conjunto de validación\n",
    "nb_val_pred = nb_model.predict(X_val)\n",
    "\n",
    "# Evaluar el modelo Naive Bayes\n",
    "nb_f1 = f1_score(y_val, nb_val_pred, average='macro')\n",
    "nb_precision = precision_score(y_val, nb_val_pred, average='macro')\n",
    "nb_recall = recall_score(y_val, nb_val_pred, average='macro')\n",
    "\n",
    "print(\"Evaluación del modelo Naive Bayes:\")\n",
    "print(\"F1 Score:\", nb_f1)\n",
    "print(\"Precisión:\", nb_precision)\n",
    "print(\"Recall:\", nb_recall)\n",
    "\n",
    "# Mostrar la matriz de confusión para Naive Bayes\n",
    "ConfusionMatrixDisplay.from_predictions(y_val, nb_val_pred)\n",
    "plt.title(\"Matriz de Confusión - Naive Bayes\")\n",
    "plt.show()\n",
    "\n",
    "# Entrenar el modelo SVM\n",
    "svm_model = SVC()\n",
    "svm_model.fit(X_train, y_train)\n",
    "\n",
    "# Predecir en el conjunto de validación\n",
    "svm_val_pred = svm_model.predict(X_val)\n",
    "\n",
    "# Evaluar el modelo SVM\n",
    "svm_f1 = f1_score(y_val, svm_val_pred, average='macro')\n",
    "svm_precision = precision_score(y_val, svm_val_pred, average='macro')\n",
    "svm_recall = recall_score(y_val, svm_val_pred, average='macro')\n",
    "\n",
    "print(\"Evaluación del modelo SVM:\")\n",
    "print(\"F1 Score:\", svm_f1)\n",
    "print(\"Precisión:\", svm_precision)\n",
    "print(\"Recall:\", svm_recall)\n",
    "\n",
    "# Mostrar la matriz de confusión para SVM\n",
    "ConfusionMatrixDisplay.from_predictions(y_val, svm_val_pred)\n",
    "plt.title(\"Matriz de Confusión - SVM\")\n",
    "plt.show()\n",
    "\n",
    "# Entrenar el modelo Random Forest\n",
    "from sklearn.ensemble import RandomForestClassifier\n",
    "\n",
    "rf_model = RandomForestClassifier()\n",
    "rf_model.fit(X_train, y_train)\n",
    "\n",
    "# Predecir en el conjunto de validación\n",
    "rf_val_pred = rf_model.predict(X_val)\n",
    "\n",
    "# Evaluar el modelo Random Forest\n",
    "rf_f1 = f1_score(y_val, rf_val_pred, average='macro')\n",
    "rf_precision = precision_score(y_val, rf_val_pred, average='macro')\n",
    "rf_recall = recall_score(y_val, rf_val_pred, average='macro')\n",
    "\n",
    "print(\"Evaluación del modelo Random Forest:\")\n",
    "print(\"F1 Score:\", rf_f1)\n",
    "print(\"Precisión:\", rf_precision)\n",
    "print(\"Recall:\", rf_recall)\n",
    "\n",
    "# Mostrar la matriz de confusión para Random Forest\n",
    "ConfusionMatrixDisplay.from_predictions(y_val, rf_val_pred)\n",
    "plt.title(\"Matriz de Confusión - Random Forest\")\n",
    "plt.show()"
   ]
  },
  {
   "cell_type": "markdown",
   "metadata": {},
   "source": [
    "# Evaluar Modelos\n",
    "Evaluar los modelos utilizando métricas como precisión, recall, F-score y mostrar la matriz de confusión."
   ]
  },
  {
   "cell_type": "code",
   "execution_count": null,
   "metadata": {},
   "outputs": [],
   "source": [
    "# Evaluar Modelos\n",
    "\n",
    "# Evaluar el modelo Naive Bayes en el conjunto de prueba\n",
    "nb_test_pred = nb_model.predict(X_test_tfidf)\n",
    "\n",
    "# Evaluar el modelo Naive Bayes\n",
    "nb_test_f1 = f1_score(test_data['klass'], nb_test_pred, average='macro')\n",
    "nb_test_precision = precision_score(test_data['klass'], nb_test_pred, average='macro')\n",
    "nb_test_recall = recall_score(test_data['klass'], nb_test_pred, average='macro')\n",
    "\n",
    "print(\"Evaluación del modelo Naive Bayes en el conjunto de prueba:\")\n",
    "print(\"F1 Score:\", nb_test_f1)\n",
    "print(\"Precisión:\", nb_test_precision)\n",
    "print(\"Recall:\", nb_test_recall)\n",
    "\n",
    "# Mostrar la matriz de confusión para Naive Bayes en el conjunto de prueba\n",
    "ConfusionMatrixDisplay.from_predictions(test_data['klass'], nb_test_pred)\n",
    "plt.title(\"Matriz de Confusión - Naive Bayes (Prueba)\")\n",
    "plt.show()\n",
    "\n",
    "# Evaluar el modelo SVM en el conjunto de prueba\n",
    "svm_test_pred = svm_model.predict(X_test_tfidf)\n",
    "\n",
    "# Evaluar el modelo SVM\n",
    "svm_test_f1 = f1_score(test_data['klass'], svm_test_pred, average='macro')\n",
    "svm_test_precision = precision_score(test_data['klass'], svm_test_pred, average='macro')\n",
    "svm_test_recall = recall_score(test_data['klass'], svm_test_pred, average='macro')\n",
    "\n",
    "print(\"Evaluación del modelo SVM en el conjunto de prueba:\")\n",
    "print(\"F1 Score:\", svm_test_f1)\n",
    "print(\"Precisión:\", svm_test_precision)\n",
    "print(\"Recall:\", svm_test_recall)\n",
    "\n",
    "# Mostrar la matriz de confusión para SVM en el conjunto de prueba\n",
    "ConfusionMatrixDisplay.from_predictions(test_data['klass'], svm_test_pred)\n",
    "plt.title(\"Matriz de Confusión - SVM (Prueba)\")\n",
    "plt.show()\n",
    "\n",
    "# Evaluar el modelo Random Forest en el conjunto de prueba\n",
    "rf_test_pred = rf_model.predict(X_test_tfidf)\n",
    "\n",
    "# Evaluar el modelo Random Forest\n",
    "rf_test_f1 = f1_score(test_data['klass'], rf_test_pred, average='macro')\n",
    "rf_test_precision = precision_score(test_data['klass'], rf_test_pred, average='macro')\n",
    "rf_test_recall = recall_score(test_data['klass'], rf_test_pred, average='macro')\n",
    "\n",
    "print(\"Evaluación del modelo Random Forest en el conjunto de prueba:\")\n",
    "print(\"F1 Score:\", rf_test_f1)\n",
    "print(\"Precisión:\", rf_test_precision)\n",
    "print(\"Recall:\", rf_test_recall)\n",
    "\n",
    "# Mostrar la matriz de confusión para Random Forest en el conjunto de prueba\n",
    "ConfusionMatrixDisplay.from_predictions(test_data['klass'], rf_test_pred)\n",
    "plt.title(\"Matriz de Confusión - Random Forest (Prueba)\")\n",
    "plt.show()"
   ]
  },
  {
   "cell_type": "markdown",
   "metadata": {},
   "source": [
    "# Predecir en el Conjunto de Prueba\n",
    "Utilizar el mejor modelo para predecir los emoticones en el conjunto de prueba."
   ]
  },
  {
   "cell_type": "code",
   "execution_count": null,
   "metadata": {},
   "outputs": [],
   "source": [
    "# Predecir en el Conjunto de Prueba\n",
    "\n",
    "# Utilizar el mejor modelo para predecir los emoticones en el conjunto de prueba\n",
    "# En este caso, asumimos que el mejor modelo es el modelo SVM basado en las evaluaciones anteriores\n",
    "\n",
    "# Predecir en el conjunto de prueba utilizando el modelo SVM\n",
    "svm_test_pred = svm_model.predict(X_test_tfidf)\n",
    "\n",
    "# Evaluar el modelo SVM en el conjunto de prueba\n",
    "svm_test_f1 = f1_score(test_data['klass'], svm_test_pred, average='macro')\n",
    "svm_test_precision = precision_score(test_data['klass'], svm_test_pred, average='macro')\n",
    "svm_test_recall = recall_score(test_data['klass'], svm_test_pred, average='macro')\n",
    "\n",
    "print(\"Evaluación del modelo SVM en el conjunto de prueba:\")\n",
    "print(\"F1 Score:\", svm_test_f1)\n",
    "print(\"Precisión:\", svm_test_precision)\n",
    "print(\"Recall:\", svm_test_recall)\n",
    "\n",
    "# Mostrar la matriz de confusión para SVM en el conjunto de prueba\n",
    "ConfusionMatrixDisplay.from_predictions(test_data['klass'], svm_test_pred)\n",
    "plt.title(\"Matriz de Confusión - SVM (Prueba)\")\n",
    "plt.show()"
   ]
  },
  {
   "cell_type": "markdown",
   "metadata": {},
   "source": [
    "# Generar Reporte\n",
    "Generar un reporte con la estructura: introducción, desarrollo y conclusiones, incluyendo el código de los modelos y la evaluación de los mejores 3 modelos."
   ]
  },
  {
   "cell_type": "code",
   "execution_count": null,
   "metadata": {},
   "outputs": [],
   "source": [
    "# Generar Reporte\n",
    "\n",
    "# Introducción\n",
    "print(\"Introducción:\")\n",
    "print(\"En este notebook, hemos desarrollado y evaluado varios modelos de aprendizaje automático para predecir el emoticón correspondiente a un texto dado. Utilizamos un conjunto de datos de entrenamiento y prueba, y aplicamos técnicas de preprocesamiento de texto y vectorización TF-IDF. Los modelos evaluados incluyen Naive Bayes, SVM y Random Forest.\")\n",
    "\n",
    "# Desarrollo\n",
    "print(\"\\nDesarrollo:\")\n",
    "print(\"1. Preprocesamiento de Datos: Limpieza de texto y eliminación de caracteres no deseados.\")\n",
    "print(\"2. Vectorización: Conversión de texto a vectores utilizando TF-IDF.\")\n",
    "print(\"3. Entrenamiento de Modelos: Entrenamiento de modelos Naive Bayes, SVM y Random Forest.\")\n",
    "print(\"4. Evaluación: Evaluación de los modelos utilizando métricas como F1 Score, Precisión y Recall.\")\n",
    "\n",
    "# Evaluación de los Modelos\n",
    "print(\"\\nEvaluación de los Modelos:\")\n",
    "\n",
    "# Evaluación del modelo Naive Bayes\n",
    "print(\"\\nModelo Naive Bayes:\")\n",
    "print(\"F1 Score:\", nb_test_f1)\n",
    "print(\"Precisión:\", nb_test_precision)\n",
    "print(\"Recall:\", nb_test_recall)\n",
    "ConfusionMatrixDisplay.from_predictions(test_data['klass'], nb_test_pred)\n",
    "plt.title(\"Matriz de Confusión - Naive Bayes (Prueba)\")\n",
    "plt.show()\n",
    "\n",
    "# Evaluación del modelo SVM\n",
    "print(\"\\nModelo SVM:\")\n",
    "print(\"F1 Score:\", svm_test_f1)\n",
    "print(\"Precisión:\", svm_test_precision)\n",
    "print(\"Recall:\", svm_test_recall)\n",
    "ConfusionMatrixDisplay.from_predictions(test_data['klass'], svm_test_pred)\n",
    "plt.title(\"Matriz de Confusión - SVM (Prueba)\")\n",
    "plt.show()\n",
    "\n",
    "# Evaluación del modelo Random Forest\n",
    "print(\"\\nModelo Random Forest:\")\n",
    "print(\"F1 Score:\", rf_test_f1)\n",
    "print(\"Precisión:\", rf_test_precision)\n",
    "print(\"Recall:\", rf_test_recall)\n",
    "ConfusionMatrixDisplay.from_predictions(test_data['klass'], rf_test_pred)\n",
    "plt.title(\"Matriz de Confusión - Random Forest (Prueba)\")\n",
    "plt.show()\n",
    "\n",
    "# Conclusiones\n",
    "print(\"\\nConclusiones:\")\n",
    "print(\"En este estudio, hemos comparado tres modelos de aprendizaje automático para la tarea de clasificación de emoticones en textos. El modelo SVM mostró el mejor rendimiento en términos de F1 Score, Precisión y Recall en el conjunto de prueba. Sin embargo, es importante considerar el tiempo de entrenamiento y la complejidad del modelo al seleccionar el modelo final para su implementación en un entorno de producción.\")"
   ]
  }
 ],
 "metadata": {
  "kernelspec": {
   "display_name": "Python 3",
   "language": "python",
   "name": "python3"
  },
  "language_info": {
   "codemirror_mode": {
    "name": "ipython",
    "version": 3
   },
   "file_extension": ".py",
   "mimetype": "text/x-python",
   "name": "python",
   "nbconvert_exporter": "python",
   "pygments_lexer": "ipython3",
   "version": "3.12.1"
  }
 },
 "nbformat": 4,
 "nbformat_minor": 2
}
