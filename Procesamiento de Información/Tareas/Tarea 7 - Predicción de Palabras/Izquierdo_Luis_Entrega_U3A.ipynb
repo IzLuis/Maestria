{
 "cells": [
  {
   "cell_type": "markdown",
   "metadata": {},
   "source": [
    "## 3A. Práctica: Predicción de Palabras\n",
    "### Nombre: **Luis Fernando Izquierdo Berdugo**\n",
    "### Materia: **Procesamiento de Información**\n",
    "### Fecha: **14 de Octubre de 2024**\n"
   ]
  },
  {
   "cell_type": "code",
   "execution_count": 5,
   "metadata": {},
   "outputs": [
    {
     "name": "stdout",
     "output_type": "stream",
     "text": [
      "Probabilidad MLE de 'el parlamento': 4.152182021633719%\n",
      "Probabilidad MLE con suavizado de Laplace de 'el parlamento': 0.024225969821960007\n"
     ]
    }
   ],
   "source": [
    "import re\n",
    "from collections import defaultdict, Counter\n",
    "\n",
    "# Paso 1: Leer el archivo\n",
    "with open(\"europarl.es\", \"r\", encoding=\"utf-8\") as file:\n",
    "    lines = file.readlines()\n",
    "\n",
    "# Paso 2: Preprocesar el texto\n",
    "def preprocess(line):\n",
    "    line = line.lower()\n",
    "    line = re.sub(r'[^\\w\\s]', '', line)  # Borrar puntuación\n",
    "    line = f\"<s> {line.strip()} <e>\"\n",
    "    return line\n",
    "\n",
    "preprocessed_lines = [preprocess(line) for line in lines]\n",
    "\n",
    "# Paso 3: Construir el modelo de bigramas\n",
    "unigram_counts = Counter()\n",
    "bigram_counts = defaultdict(Counter)\n",
    "\n",
    "for line in preprocessed_lines:\n",
    "    words = line.split()\n",
    "    unigram_counts.update(words)\n",
    "    for i in range(len(words) - 1):\n",
    "        bigram_counts[words[i]][words[i + 1]] += 1\n",
    "\n",
    "# Paso 4: Calcular las probabilidades MLE\n",
    "def mle_probability(bigram_counts, unigram_counts, word1, word2):\n",
    "    if word1 in bigram_counts and word2 in bigram_counts[word1]:\n",
    "        return bigram_counts[word1][word2] / unigram_counts[word1]\n",
    "    else:\n",
    "        return 0\n",
    "\n",
    "# Paso 5: Calcular las probabilidades MLE con suavizado de Laplace\n",
    "def laplace_probability(bigram_counts, unigram_counts, word1, word2, vocab_size):\n",
    "    return (bigram_counts[word1][word2] + 1) / (unigram_counts[word1] + vocab_size)\n",
    "\n",
    "# Ejemplo de uso\n",
    "vocab_size = len(unigram_counts)\n",
    "word1, word2 = \"el\", \"parlamento\"\n",
    "mle_prob = mle_probability(bigram_counts, unigram_counts, word1, word2)\n",
    "laplace_prob = laplace_probability(bigram_counts, unigram_counts, word1, word2, vocab_size)\n",
    "\n",
    "print(f\"Probabilidad MLE de '{word1} {word2}': {mle_prob*100}%\")\n",
    "print(f\"Probabilidad MLE con suavizado de Laplace de '{word1} {word2}': {laplace_prob}\")"
   ]
  },
  {
   "cell_type": "code",
   "execution_count": 3,
   "metadata": {},
   "outputs": [
    {
     "name": "stdout",
     "output_type": "stream",
     "text": [
      "<s> declaro reanudado el período de sesiones del parlamento europeo  interrumpido el viernes 17 de diciembre pasado  y reitero a sus señorías mi deseo de que hayan tenido unas buenas vacaciones <e>\n"
     ]
    }
   ],
   "source": [
    "print(preprocessed_lines[0])"
   ]
  },
  {
   "cell_type": "code",
   "execution_count": 12,
   "metadata": {},
   "outputs": [
    {
     "name": "stdout",
     "output_type": "stream",
     "text": [
      "Oración: '<s> el parlamento debe enviar un mensaje <e>'\n",
      "Probabilidad MLE: 4.452453175934305e-13\n",
      "Probabilidad MLE con suavizado de Laplace: 6.012934083279632e-21\n",
      "\n",
      "Oración: '<s> el parlamento debe enviar un consejo <e>'\n",
      "Probabilidad MLE: 3.3686200213034554e-13\n",
      "Probabilidad MLE con suavizado de Laplace: 9.396583560317146e-20\n",
      "\n",
      "Oración: '<s> el abismo entre pobres y ricos <e>'\n",
      "Probabilidad MLE: 3.820757157773409e-17\n",
      "Probabilidad MLE con suavizado de Laplace: 1.6797412983867322e-26\n",
      "\n",
      "Oración: '<s> el abismo entre ricos y pobres <e>'\n",
      "Probabilidad MLE: 8.677949590529031e-15\n",
      "Probabilidad MLE con suavizado de Laplace: 1.1658204487612676e-24\n",
      "\n",
      "Oración: '<s> el abismo de la cantera entre pobres y ricos <e>'\n",
      "Probabilidad MLE: 0.0\n",
      "Probabilidad MLE con suavizado de Laplace: 2.2193756868953378e-37\n",
      "\n",
      "Oración: '<s> la comisión debe ser totalmente transparente <e>'\n",
      "Probabilidad MLE: 3.609720553302905e-11\n",
      "Probabilidad MLE con suavizado de Laplace: 7.525729057212547e-19\n",
      "\n",
      "Oración: '<s> la comisión debe ser transparente <e>'\n",
      "Probabilidad MLE: 2.560495112476194e-09\n",
      "Probabilidad MLE con suavizado de Laplace: 4.141288972676337e-15\n",
      "\n"
     ]
    }
   ],
   "source": [
    "import re\n",
    "from collections import defaultdict, Counter\n",
    "\n",
    "# Paso 1: Leer el archivo\n",
    "with open(\"europarl.es\", \"r\", encoding=\"utf-8\") as file:\n",
    "    lines = file.readlines()\n",
    "\n",
    "# Paso 2: Preprocesar el texto\n",
    "def preprocess(line):\n",
    "    line = line.lower()\n",
    "    line = re.sub(r'[^\\w\\s]', '', line)  # Borrar puntuación\n",
    "    line = f\"<s> {line.strip()} <e>\"\n",
    "    return line\n",
    "\n",
    "preprocessed_lines = [preprocess(line) for line in lines]\n",
    "\n",
    "# Paso 3: Construir el modelo de bigramas\n",
    "unigram_counts = Counter()\n",
    "bigram_counts = defaultdict(Counter)\n",
    "\n",
    "for line in preprocessed_lines:\n",
    "    words = line.split()\n",
    "    unigram_counts.update(words)\n",
    "    for i in range(len(words) - 1):\n",
    "        bigram_counts[words[i]][words[i + 1]] += 1\n",
    "\n",
    "\n",
    "# Paso 4: Calcular las probabilidades MLE\n",
    "def mle_probability(bigram_counts, unigram_counts, word1, word2):\n",
    "    if word1 in bigram_counts and word2 in bigram_counts[word1]:\n",
    "        return bigram_counts[word1][word2] / unigram_counts[word1]\n",
    "    else:\n",
    "        return 0\n",
    "\n",
    "# Paso 5: Calcular las probabilidades MLE con suavizado de Laplace\n",
    "def laplace_probability(bigram_counts, unigram_counts, word1, word2, vocab_size):\n",
    "    return (bigram_counts[word1][word2] + 1) / (unigram_counts[word1] + vocab_size)\n",
    "\n",
    "# Función para calcular la probabilidad de una oración usando MLE\n",
    "def sentence_probability_mle(sentence, bigram_counts, unigram_counts):\n",
    "    words = sentence.split()\n",
    "    prob = 1.0\n",
    "    for i in range(len(words) - 1):\n",
    "        prob *= mle_probability(bigram_counts, unigram_counts, words[i], words[i + 1])\n",
    "    return prob\n",
    "\n",
    "# Función para calcular la probabilidad de una oración usando MLE con suavizado de Laplace\n",
    "def sentence_probability_laplace(sentence, bigram_counts, unigram_counts, vocab_size):\n",
    "    words = sentence.split()\n",
    "    prob = 1.0\n",
    "    for i in range(len(words) - 1):\n",
    "        prob *= laplace_probability(bigram_counts, unigram_counts, words[i], words[i + 1], vocab_size)\n",
    "    return prob\n",
    "\n",
    "# Definir las oraciones\n",
    "sentences = [\n",
    "    \"<s> el parlamento debe enviar un mensaje <e>\",\n",
    "    \"<s> el parlamento debe enviar un consejo <e>\",\n",
    "    \"<s> el abismo entre pobres y ricos <e>\",\n",
    "    \"<s> el abismo entre ricos y pobres <e>\",\n",
    "    \"<s> el abismo de la cantera entre pobres y ricos <e>\",\n",
    "    \"<s> la comisión debe ser totalmente transparente <e>\",\n",
    "    \"<s> la comisión debe ser transparente <e>\"\n",
    "]\n",
    "\n",
    "# Calcular y comparar las probabilidades\n",
    "vocab_size = len(unigram_counts)\n",
    "for sentence in sentences:\n",
    "    mle_prob = sentence_probability_mle(sentence, bigram_counts, unigram_counts)\n",
    "    laplace_prob = sentence_probability_laplace(sentence, bigram_counts, unigram_counts, vocab_size)\n",
    "    print(f\"Oración: '{sentence}'\")\n",
    "    print(f\"Probabilidad MLE: {mle_prob}\")\n",
    "    print(f\"Probabilidad MLE con suavizado de Laplace: {laplace_prob}\")\n",
    "    print()"
   ]
  }
 ],
 "metadata": {
  "kernelspec": {
   "display_name": "Python 3",
   "language": "python",
   "name": "python3"
  },
  "language_info": {
   "codemirror_mode": {
    "name": "ipython",
    "version": 3
   },
   "file_extension": ".py",
   "mimetype": "text/x-python",
   "name": "python",
   "nbconvert_exporter": "python",
   "pygments_lexer": "ipython3",
   "version": "3.12.1"
  }
 },
 "nbformat": 4,
 "nbformat_minor": 2
}
